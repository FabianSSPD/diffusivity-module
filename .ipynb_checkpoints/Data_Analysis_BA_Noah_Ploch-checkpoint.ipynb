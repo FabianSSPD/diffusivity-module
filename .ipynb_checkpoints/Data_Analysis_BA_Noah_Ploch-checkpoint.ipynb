{
 "cells": [
  {
   "cell_type": "markdown",
   "metadata": {
    "incorrectly_encoded_metadata": "toc-hr-collapsed=false"
   },
   "source": [
    "# Data Analysis - BA Noah Ploch"
   ]
  },
  {
   "cell_type": "code",
   "execution_count": 2,
   "metadata": {},
   "outputs": [],
   "source": [
    "### TODO\n",
    "#### implement abbruchbedingung\n",
    "#### PAUSE: Check for zick zack in Data: as R fluctuates heavily close to Tc, maybe we just measured R at  \n",
    "#### fit diffusivity at different fit ranges to see if huge diffrence, make as well all three values in plot to see if linearity or so and that it was just a fit error\n",
    "### IMPORTANT NOTE: first execute on of the Search file cells that use pyqt5. after obviuosly getting an error because no packages were imported, start executing from the top the important cells\n",
    "\n",
    "### IMPORTANT. to work with Tc curves from 0T and cooldown, sweep fitting has been deactivated and ranges in fit_cdf_over_range have been changed in T_Sweep class!"
   ]
  },
  {
   "cell_type": "markdown",
   "metadata": {},
   "source": [
    "### 1. import relevant libraries"
   ]
  },
  {
   "cell_type": "code",
   "execution_count": 2,
   "metadata": {},
   "outputs": [],
   "source": [
    "from PyQt5.QtWidgets import QFileDialog  \n",
    "import json as js\n",
    "import numpy as np\n",
    "import pandas as pd\n",
    "from pathlib import Path, PureWindowsPath\n",
    "from scipy import io\n",
    "from scipy.ndimage import gaussian_filter\n",
    "from scipy.optimize import curve_fit\n",
    "from scipy.stats import norm\n",
    "from scipy.special import erf\n",
    "from scipy.constants import elementary_charge, Boltzmann \n",
    "from math import pi\n",
    "from math import *\n",
    "import matplotlib as mpl\n",
    "import matplotlib.pyplot as plt\n",
    "import matplotlib.patches as pat\n",
    "import matplotlib.cm as cm\n",
    "import matplotlib.mlab as mlab\n",
    "from matplotlib import gridspec\n",
    "from matplotlib.backends.backend_pdf import PdfPages\n",
    "import decimal\n",
    "\n",
    "import os\n",
    "import timeit\n",
    "from bisect import bisect_left, bisect_right\n",
    "import re\n",
    "import itertools"
   ]
  },
  {
   "cell_type": "code",
   "execution_count": 3,
   "metadata": {},
   "outputs": [],
   "source": [
    "import warnings\n",
    "#warnings.filterwarnings(\"error\")\n",
    "warnings.filterwarnings(\"default\")"
   ]
  },
  {
   "cell_type": "markdown",
   "metadata": {},
   "source": [
    "## CODE"
   ]
  },
  {
   "cell_type": "markdown",
   "metadata": {},
   "source": [
    "#### T_Sweep"
   ]
  },
  {
   "cell_type": "code",
   "execution_count": 4,
   "metadata": {},
   "outputs": [],
   "source": [
    "# Definition of needed classes\n",
    "class Data_sweep():\n",
    "    \n",
    "    def __init__(self, raw_data, *calibration_data):\n",
    "        self._raw_data = raw_data # to take into account: raw data in columns, processed data in rows\n",
    "        try:\n",
    "            self.calibration_data = calibration_data[0]\n",
    "        except:\n",
    "            self.calibration_data = -1\n",
    "        self._raw_fit = []\n",
    "        self._sweep_raw = []\n",
    "        self.sweep_smooth = []\n",
    "        self.sweep_fit = []\n",
    "        self.n_moving_average_separate_sweeps= floor(len(self._raw_data)/42) # 42 was figured out as an appropriate value (the answer for everything)\n",
    "        self.x_array = np.arange(4,16,0.01)\n",
    "        self.T_meas_error_pp = 0.0125 # in percent, estimated interpolation error\n",
    "        self.T_meas_error_std = 0.02 # standard deviation of measurements at 4Kelvin\n",
    "        self.R_meas_error_pp = 0.017 # from maximal resistance value as reference for the relative error\n",
    "        \n",
    "class T_sweep(Data_sweep):\n",
    "    \n",
    "    def __init__(self, raw_data):\n",
    "        self.Tc = []\n",
    "        self.R20K = 0\n",
    "        self.FWHM = 0\n",
    "        Data_sweep.__init__(self, raw_data)\n",
    "        self.get_20K_resistance()\n",
    "        self.moving_average_reach = ceil(len(self._raw_data)/1000) # this ratio might be rethought\n",
    "        print(\"Len raw data: \", len(self._raw_data))\n",
    "        print(\"Moving average to separate sweeps: \", self.n_moving_average_separate_sweeps)\n",
    "        print(\"Moving average to smooth sweeps: \", self.moving_average_reach)\n",
    "        #self.import_data(raw_data, self.moving_average_reach)\n",
    "        self.fit_cdf_over_range_raw()\n",
    "        #self.fit_all_sweeps(self._sweep_raw)\n",
    "        \n",
    "        #self.get_FWHM()\n",
    "        \n",
    "    \n",
    "    def find_index_to_split_curves(self,smooth_T): # this function aims to split the raw data set into the sweeps done btw superconducting and normal conducting\n",
    "        T_gradient = np.diff(smooth_T) # numeric change from one datapoint to next one in temperature\n",
    "        # this command first evaluates whether the former differences are positive or negative and then differentiates again\n",
    "        # to get the turning points. To do so, np.where evaluates true where condition is fulfilled, and in python a difference is only false if it holds 0\n",
    "        # That means, only differences in different  direction hold True and are therefore used to split the raw data\n",
    "        split_indices = np.where(np.diff(np.signbit(T_gradient)))[0] + 1\n",
    "        if split_indices != []:\n",
    "            #print(split_indices)\n",
    "            diff_indices = np.diff(split_indices) # difference of the split indices used to determine if split is sensible\n",
    "            diff_indices = np.insert(diff_indices, 0, split_indices[0]) # insertion of a 0 at beginning to calculate first index difference as well (see np.diff doc)\n",
    "            #print(diff_indices)\n",
    "            # gives back the split index if it holds more that 500 data points to the former split index, otherwise returns 0\n",
    "            indices = np.where(diff_indices>500, split_indices, 0)\n",
    "            return indices[indices>0] # returns the useful split indices according to logic just above\n",
    "        else: return []\n",
    "        \n",
    "    def apply_moving_average(self, n_moving_average, sweep): # application of moving average with a rectangle slided over the data points with height 1/(data points over which one averages)\n",
    "        return np.convolve(np.ones((n_moving_average,), dtype=int)/n_moving_average, sweep, 'valid') \n",
    "        # pandas alternative calculation to moving average: df.mean.rolling\n",
    "    \n",
    "    def __create_sweeps(self, data):\n",
    "        smooth_T = self.apply_moving_average(self.n_moving_average_separate_sweeps, data[:,0]) # very smoothed T values\n",
    "        smooth_R = self.apply_moving_average(self.n_moving_average_separate_sweeps, data[:,1]) # think it is not used at moment...\n",
    "        T_extrema_indices = self.find_index_to_split_curves(smooth_T)\n",
    "        if T_extrema_indices == []:\n",
    "            self._sweep_raw.append(np.array([data[:, 0], data[:, 1]]))\n",
    "        else:\n",
    "            T_extrema_indices = np.append(T_extrema_indices, len(smooth_T)-1) # find_index_to_split_curves only gives back indices where to split, so final index has to be included as well to define last sweep\n",
    "            print(\"cut indices: \", T_extrema_indices)\n",
    "            old_i = 0\n",
    "            for i in T_extrema_indices:\n",
    "                # here happens the change from data organized in columns (x,y) to organized in row x and row y in np array\n",
    "                print(i)\n",
    "                self._sweep_raw.append(np.array([data[old_i:i, 0], data[old_i:i, 1]]))             \n",
    "                old_i = i\n",
    "            #print(self._sweep_raw)\n",
    "        \n",
    "    def import_data(self, data, moving_average_reach):\n",
    "        self._raw_data = data\n",
    "        self.__create_sweeps(self._raw_data)\n",
    "        for i in self._sweep_raw:\n",
    "            self.sweep_smooth.append(np.array([self.apply_moving_average(moving_average_reach, i[0,:]), self.apply_moving_average(moving_average_reach, i[1,:])]))\n",
    "\n",
    "    \n",
    "    def reload_data(self, moving_average_reach):\n",
    "        for i in self._sweep_raw:\n",
    "            self.sweep_smooth.append(np.array([self.apply_moving_average(moving_average_reach, i[0,:]), self.apply_moving_average(moving_average_reach, i[1,:])]))\n",
    "    \n",
    "#     def get_20K_resistance(self):\n",
    "#         transposed_raw_data = self._raw_data.transpose()\n",
    "#         #this cryptic line searches for the closest value to 20K from below (above) in the raw data. It sets all values above (below) 20 to 0, searches the index of the maximum (minimum) and looks it up in the Resistance array\n",
    "#         frombelow_20K = [transposed_raw_data[0,np.argmax(np.where(transposed_raw_data[0,:]<20.0,transposed_raw_data[0],0))], transposed_raw_data[1,np.argmax(np.where(transposed_raw_data[0,:]<20,transposed_raw_data[0],0))]]\n",
    "#         fromabove_20K = [transposed_raw_data[0,np.argmin(np.where(transposed_raw_data[0,:]>20.0,transposed_raw_data[0],np.inf))], transposed_raw_data[1,np.argmin(np.where(transposed_raw_data[0,:]>20,transposed_raw_data[0],np.inf))]]\n",
    "#         print(\"Nice values for R20: \", frombelow_20K, fromabove_20K)\n",
    "#         # linear interpolation with y = mx + t, frombelow(above)_20K[0] is x, frombelow(above)_20K[1] is y\n",
    "#         m = (fromabove_20K[1]-frombelow_20K[1])/(fromabove_20K[0]-frombelow_20K[0])\n",
    "#         t = fromabove_20K[1] - m*fromabove_20K[0]\n",
    "#         #print(\"m: and t: \", m, t)\n",
    "#         self.R20K = m*20 + t\n",
    "#         print(\"R20: \", self.R20K)\n",
    "        \n",
    "    def get_20K_resistance(self):\n",
    "        max_R_NC_0T = np.max(self._raw_data[:,1])# [np.argmax(self.B_values_dict[mag_field][:,1]), np.max(self.B_values_dict[mag_field][:,1])] # maximum resistance at 0 Tesla magentic field is our normal conducting resistance\n",
    "        self.R_NC_0T = max_R_NC_0T\n",
    "        print(self.R_NC_0T)\n",
    "    \n",
    "    def fit_cdf_over_range_raw(self): # function to fit from raw data\n",
    "        transposed_raw_data = self._raw_data.transpose() # raw data is given as  [[x,y],[x,y],...], but used is [[x,x,x,...], [y,y,y,...]], so transpose is needed\n",
    "        self._raw_fit = self.fit_cdf_over_range(transposed_raw_data)\n",
    "        #plt.plot(self._raw_fit[0][1][0], self._raw_fit[0][1][1], '.-')\n",
    "        self.get_Tc()\n",
    "        \n",
    "    def fit_all_sweeps(self, sweeps): # fits all sweeps recognized\n",
    "        to_be_removed = []\n",
    "        for j in sweeps:\n",
    "            #print(\"j: \", j)\n",
    "            fit = self.fit_cdf_over_range(j) \n",
    "            # test to check if the fit is in the range of 10%-90% of the resistance at 20 Kelvin \n",
    "            if fit != -1:                \n",
    "                self.sweep_fit.append(fit)\n",
    "            else:\n",
    "                print(f\"Warning! Sweep to be fitted out of 10%-90% range of the resistance at 20 Kelvin.\\nSweep with raw data with index {sweeps.index(j)} will be erased. Please check data set for irregularities.\")\n",
    "                to_be_removed.append(j)\n",
    "        if to_be_removed != []:\n",
    "            for i in to_be_removed:\n",
    "                #print(\"This sweep will be removed: \")\n",
    "                #print(i)\n",
    "                sweeps.remove(i)\n",
    "                \n",
    "                \n",
    "    def fit_cdf_over_range(self, xy_data): # function to fit one sweep in range 10% to 90% of the resistance at 20 Kelvin. \n",
    "#         upper_limit = np.max(xy_data[1,:])-0.01#0.95*self.R20K # 90% of 20K resistance\n",
    "#         lower_limit = np.min(xy_data[1,:])+0.01#0.05*self.R20K\n",
    "        upper_limit = 0.98*self.R_NC_0T # 90% of 20K resistance\n",
    "        lower_limit = 0*self.R_NC_0T+0.5\n",
    "        upper_limit_condition = 0.95*self.R_NC_0T # 90% of 20K resistance\n",
    "        lower_limit_condition = 0.05*self.R_NC_0T\n",
    "        #print(\"shape: \",np.asarray((xy_data[1,:]>lower_limit) & (xy_data[1,:]<upper_limit)).nonzero()[0])\n",
    "        if any(xy_data[1,:] < lower_limit_condition) and any(xy_data[1,:] > upper_limit_condition): # condition to ensure sweep contains data in range 10% to 90% of the resistance at 20 Kelvin. \n",
    "            T = xy_data[0,np.asarray((xy_data[1,:]>lower_limit) & (xy_data[1,:]<upper_limit) & (xy_data[0,:]<20)).nonzero()[0]] # slices Temperature array in terms of the resistance to the range of 10% to 90% of the resistance at 20 Kelvin. Additionally, checks for the temperatures to be lower than 20K. \n",
    "            R = xy_data[1,np.asarray((xy_data[1,:]>lower_limit) & (xy_data[1,:]<upper_limit) & (xy_data[0,:]<20)).nonzero()[0]] # slices Resistance array in terms of the resistance to the range of 10% to 90% of the resistance at 20 Kelvin. Additionally, checks for the temperatures to be lower than 20K.\n",
    "            #print(\"limits: \", upper_limit, lower_limit)\n",
    "#             print(\"T: \", T)\n",
    "#             print(\"R: \", R)\n",
    "            #print(R)\n",
    "            fit =  self.gauss_cdf_fit(T, R, self.x_array)\n",
    "            fit2 = self.richards_fit(T, R, self.x_array)\n",
    "            Tc = fit[0]['mu']\n",
    "            frombelow_T = T[np.argmax(np.where(T<Tc,T,0))]\n",
    "            fromabove_T = T[np.argmin(np.where(T>Tc,T,np.inf))]\n",
    "            error_minus_T = abs(Tc - (frombelow_T - self.T_meas_error_pp*frombelow_T - self.T_meas_error_std))\n",
    "            error_plus_T = abs(fromabove_T + self.T_meas_error_pp*fromabove_T + self.T_meas_error_std - Tc)\n",
    "            error_sym_T = self.T_meas_error_pp*xy_data[0,:] + self.T_meas_error_std\n",
    "            error_sym_R = self.R_meas_error_pp*xy_data[1,:]\n",
    "            fit.append([error_sym_T, error_sym_R, error_minus_T, error_plus_T])\n",
    "            #print(fit)\n",
    "            return {'gaussian':fit, 'richards':fit2}\n",
    "        else:\n",
    "            return -1\n",
    "        \n",
    "    def gauss_cdf_fit(self, T, R, x_data): # fits a gauss cumulative distribution function over given data\n",
    "        def Gauss_cdf(x, a, x0, sigma):\n",
    "            return a*norm.cdf(x,x0,sigma)\n",
    "        try:\n",
    "            mean = T[bisect_left(R, np.max(R)/2)]\n",
    "            sigma = T[bisect_left(R, 0.9*np.max(R))]-T[bisect_left(R, 0.1*np.max(R))]\n",
    "        except:\n",
    "            R_rev = R[::-1]\n",
    "            mean = T[bisect_left(R_rev, np.max(R_rev)/2)]\n",
    "            sigma = T[bisect_left(R_rev, 0.9*np.max(R_rev))]-T[bisect_left(R_rev, 0.1*np.max(R_rev))]\n",
    "        #sigma = T[bisect_left(R, 0.9*np.max(R))]-T[bisect_left(R, 0.1*np.max(R))]\n",
    "        if sigma < 0.01:\n",
    "            sigma = 0.1\n",
    "        #print(mean, sigma)\n",
    "        popt, pcov = curve_fit(Gauss_cdf, T, R, p0=[np.max(R),mean,sigma]) # Returns popt=optimal parameters, pcov=measure of goodness of the fit\n",
    "        #print(popt)\n",
    "        parameters = {\"scalar\":popt[0], \"mu\":popt[1], \"sigma\":popt[2], \"cov\":pcov} #  dict to find parameters better afterwards\n",
    "        #print(\"dict: \", parameters)\n",
    "        Rgauss_cdf = Gauss_cdf(x_data,*popt) # Gauss fit according to function above\n",
    "        #plt.plot(T, Rgauss_cdf)\n",
    "#         print(\"Worked! mean and sigma: \", mean, sigma, parameters)\n",
    "        return [parameters, [x_data, Rgauss_cdf]]\n",
    "#         except:\n",
    "#             print(\"Fail! mean and sigma: \", mean, sigma)\n",
    "#             return -1\n",
    "    \n",
    "    def richards_fit(self, T, R, x_data):\n",
    "#         def richards(t,a,b,c,k,q,m,nu):\n",
    "#             return a + (k-a)/np.float_power((c+q*np.exp(-b*(t-m))),1/nu)\n",
    "        def richards(t,b,m,nu):\n",
    "            return self.R_NC_0T/np.float_power((1+np.exp(-b*(t-m))),1/nu)\n",
    "        #a = 0 # lower asymptote\n",
    "        b = 1 # growth rate\n",
    "        #c = 1 # typically c = 1\n",
    "        #k = self.R_NC_0T  # related to upper asymptote (= upper asymptote if c  = 1)\n",
    "        #q = 1 # related to y(0)\n",
    "        m = 3 # shift on x-axis\n",
    "        nu = 0.01 # affects near which asymptote maximum growth occurs (nu is always > 0)\n",
    "        popt, pcov = curve_fit(richards, T, R, p0=[b,m,nu], maxfev=1700)\n",
    "        parameters = {\"param\":popt, \"cov\":pcov}\n",
    "        Rrich = richards(x_data, *popt)\n",
    "        return [parameters, [x_data, Rrich]]\n",
    "    \n",
    "    \n",
    "    def __linear_fit(self, T, R):\n",
    "        def linear(x, m, t):\n",
    "            return m*x + t\n",
    "        slope = (R[-2]-R[1])/(T[-2]-T[1])\n",
    "        y0_value = R[1]-slope*T[1]\n",
    "        popt, pcov = curve_fit(linear, T, R, p0=[slope, y0_value])\n",
    "        parameters = {\"slope\":popt[0], \"y0_value\":popt[1], \"cov\":pcov}\n",
    "        Rlinear = linear(T, *popt)\n",
    "        #plt.plot(T, Rlinear)\n",
    "        return [parameters, [T, Rlinear]]\n",
    "        \n",
    "    \n",
    "    def get_Tc(self): # gets the Tc according to the data given. Tc corresponds to the mu value of the fitted data either calculates Tc over mean of sweeps of out of raw data\n",
    "        if self._raw_fit == []:\n",
    "            self.fit_cdf_over_range_raw()\n",
    "#         if self.sweep_fit == []:\n",
    "#             try:\n",
    "#                 self.fit_all_sweeps(self._sweep_raw)\n",
    "#             except:\n",
    "#                 raise ValueError('Raw sweeps were erased. Please initiate class instance again.')\n",
    "#         Tc_Values = np.array([self.sweep_fit[i][0]['mu'] for i in range(len(self.sweep_fit))]) #  if self.sweep_fit[i][0]['mu'] > 0 and self.sweep_fit[i][0]['mu'] < 20]\n",
    "        #self.Tc = [np.mean(Tc_Values), np.std(Tc_Values), Tc_Values]\n",
    "        #print(self._raw_fit[0][0]['mu'], self._raw_fit[2][2], self._raw_fit[2][3])\n",
    "#         try:\n",
    "#             self.Tc = [self._raw_fit[0]['mu'], self._raw_fit[2][2], self._raw_fit[2][3]]\n",
    "#         except:\n",
    "#             print('no fit found')\n",
    "        gauss_Tc = self._raw_fit['gaussian'][0]['mu']\n",
    "\n",
    "        b = self._raw_fit['richards'][0]['param'][0]\n",
    "        c = 1\n",
    "        #q = self.B_values_dict_fit[key]['richards'][0]['param'][1]\n",
    "        m = self._raw_fit['richards'][0]['param'][1]\n",
    "        nu = self._raw_fit['richards'][0]['param'][2]\n",
    "        richards_Tp = (np.log((1/nu-2)/c)/b+m)\n",
    "        richards_Hp = m - 1/b*( np.log(np.float_power(2*(self.R_NC_0T-a)/self.R_NC_0T,nu)-c) )\n",
    "        self.Tc={'gaussian': gauss_Tc, 'richards': [richards_Hp, richards_Tp]}\n",
    "        #print(\"Mean Tc: \", self.Tc[0])\n",
    "        #print(\"Std: \", self.Tc[1])\n",
    "        #print(\"Tc_values: \\n\", self.Tc[2])\n",
    "            \n",
    "\n",
    "    def get_FWHM(self): # gets the FWHM out of data given. for gaussian cdf fit, this can be calculated from the sigma value as commented below. Calculates either out of the mean of the sweeps or the raw data\n",
    "        if self._raw_fit == []:\n",
    "            self.fit_cdf_over_range_raw()\n",
    "        if self.sweep_fit == []:\n",
    "            try:\n",
    "                self.fit_all_sweeps(self._sweep_raw)\n",
    "            except:\n",
    "                raise ValueError('Raw sweeps were erased. Please initiate class instance again.')\n",
    "        # sigma = self._raw_fit[0]['sigma'] # calculation of FWHM out of original raw fit\n",
    "        # calculation of FWHM out of mean of sigma values of all sweeps\n",
    "        sigma_values = np.array([self.sweep_fit[i][0]['sigma'] for i in range(len(self.sweep_fit))]) #  if self.sweep_fit[i][0]['sigma'] > 0 and self.sweep_fit[i][0]['sigma'] < 2.355\n",
    "        sigma = np.mean(sigma_values)\n",
    "        self.FWHM = [2*sqrt(2*np.log(2))*sigma, sigma_values] # calculation of FWHM of a gaussian: fwhm = 2*sqrt(2*ln(2))*sigma ~= 2,355*sigma\n",
    "        #print(\"Mean FWHM: \", self.FWHM[0])\n",
    "        #print(\"sigma_values: \\n\", self.FWHM[1])\n",
    "        \n",
    "        \n",
    "    def map_calibration(self, raw_data, calibration_data):\n",
    "        T_R_calibrated = []\n",
    "        T_T_calibrated = []\n",
    "        #if len(raw_data) > 2:\n",
    "        #    trans_raw_data = raw_data.transpose()\n",
    "        \n",
    "        # just for testing\n",
    "        #raw_data[:,1] = [i-1 for i in raw_data[:,1]]\n",
    "        #print(\"calib\", calibration_data[:,1])\n",
    "        #print(\"\\n\")\n",
    "        #print(\"raw\",raw_data)\n",
    "        if len(raw_data) == 2:\n",
    "            raw_data = raw_data.transpose()\n",
    "        if len(calibration_data) == 2:\n",
    "            calibration_data = calibration_data.transpose()\n",
    "        #this cryptic line searches for the closest value to the searched R from below (above) in the raw data. It sets all values above (below) searched R to 0, searches the index of the maximum (minimum) and looks it up in the Calibration Resistance array\n",
    "        for i in raw_data:\n",
    "            #if any(calibration_data[:,1]>i[1]) and any(calibration_data[:,1]<i[1]):\n",
    "            frombelow_T_R = [calibration_data[np.argmax(np.where(calibration_data[:,1]<i[1],calibration_data[:,1],0)), 0], calibration_data[np.argmax(np.where(calibration_data[:,1]<i[1],calibration_data[:,1],0)), 1]]\n",
    "            fromabove_T_R = [calibration_data[np.argmin(np.where(calibration_data[:,1]>i[1],calibration_data[:,1],np.inf)), 0], calibration_data[np.argmin(np.where(calibration_data[:,1]>i[1],calibration_data[:,1],np.inf)), 1]]\n",
    "            # linear interpolation with y = mx + t, frombelow(above)_R[0] is x, frombelow(above)_R[1] is y\n",
    "            m = (fromabove_T_R[1]-frombelow_T_R[1])/(fromabove_T_R[0]-frombelow_T_R[0])\n",
    "            t = fromabove_T_R[1] - m*fromabove_T_R[0]\n",
    "            # Calculation of calibrated T through inverting linear approximation to get T value\n",
    "            T_T_calibrated.append([i[0], (i[1]-t)/m])\n",
    "            T_R_calibrated.append([(i[1]-t)/m, i[1]])\n",
    "            #\n",
    "            #print(\"Nice values for calib: \", frombelow_T_R, fromabove_T_R, m*T_average+t)\n",
    "            #else: \n",
    "                #print(f\"Warning: There is no calibration data available for {str(i[1])}Ω. Please choose other calibration data.\")\n",
    "                #return -1\n",
    "                #pass\n",
    "\n",
    "        T_T_calibrated_array = np.asarray(T_T_calibrated)\n",
    "        T_R_calibrated_array = np.asarray(T_R_calibrated)\n",
    "        #print(T_R_calibrated_array)\n",
    "        print(\"m: and t: \", m, t)\n",
    "        print(\"len cal, cal_T, raw, cal_origin: \", len(T_R_calibrated), len(T_T_calibrated), len(raw_data), len(calibration_data))\n",
    "        return [T_R_calibrated_array, T_T_calibrated_array, raw_data, calibration_data]\n",
    "        #print(\"R20: \", self.RR)\n",
    "\n",
    "def apply_moving_average(n_moving_average, sweep): # application of moving average with a rectangle slided over the data points with height 1/(data points over which one averages)\n",
    "    dataframe = pd.DataFrame(sweep)\n",
    "    dataframe = dataframe.rolling(n_moving_average, center=True, min_periods=n_moving_average).mean()\n",
    "    smoothened_data = dataframe.to_numpy().ravel()\n",
    "    smoothened_data = smoothened_data[np.logical_not(np.isnan(smoothened_data))] # take care to remove nan's due to diode fitting issues before, these function is supposed to only remove the values where the moving average window surpasses the array\n",
    "    return smoothened_data\n",
    "\n",
    "def apply_mov_av_convolve(n_moving_average, sweep):\n",
    "    return np.convolve(np.ones((n_moving_average,), dtype=int)/n_moving_average, sweep, 'valid') \n",
    "    # pandas alternative calculation to moving average: df.mean.rolling\n",
    "############################################################################################################################\n",
    "############################################################################################################################\n",
    "############################################################################################################################"
   ]
  },
  {
   "cell_type": "markdown",
   "metadata": {},
   "source": [
    "#### B_Sweep"
   ]
  },
  {
   "cell_type": "code",
   "execution_count": 136,
   "metadata": {
    "lines_to_next_cell": 2
   },
   "outputs": [],
   "source": [
    "class B_sweep(Data_sweep):\n",
    "    \n",
    "    def __init__(self, raw_data, TR_fitting=\"r_t_sweeps\", fit_area=\"full\", *calibration_data):\n",
    "        Data_sweep.__init__(self, raw_data, *calibration_data)\n",
    "        \n",
    "        self.B_field_meas_error_pp = 0.02 # variation of 1% in voltage monitor results in variation of 1% in Bfield \n",
    "        self.B_field_meas_error_round = 0.001 # tbreviewed, in Tesla, measurement error + rounding error\n",
    "        \n",
    "        self.Temp_at_timestamp = []\n",
    "        self.calibrated_Temp_at_timestamp = []\n",
    "        self.V_at_timestamp = [] # timestamp is first and last element of each t-array\n",
    "        self.time_sweeps = [] \n",
    "        self.B_sweeps = []\n",
    "        self.R_sweeps = []\n",
    "        \n",
    "        self.TBR_array = []\n",
    "        self.T_array = []\n",
    "        self.x_array = np.arange(0,18,0.01)\n",
    "        \n",
    "        self.B_values_dict = {}\n",
    "        self.B_values_dict_fit = {}\n",
    "        self.R_NC_0T = 0\n",
    "        self.T_R_NC = 0\n",
    "        self.Bc2 = []\n",
    "        self.Bc2_fit = []\n",
    "        self.D = 0\n",
    "        self.Tc = {}\n",
    "        self.fit_area = fit_area\n",
    "        self.fit_fail = []\n",
    "        self.fit_limit = 6\n",
    "        self.b_start_rich = -1\n",
    "        \n",
    "        self.B_sweeps_split = []\n",
    "        self.B_sweeps_fit = []\n",
    "        \n",
    "        \n",
    "        self.organise_B_sweeps()\n",
    "        self.filter_B_sweeps()\n",
    "        self.get_NC_resistance()\n",
    "        \n",
    "#         self.fit_all_sweeps(self.B_values_dict)\n",
    "#         if TR_fitting==\"r_t_sweeps\":\n",
    "#              self.get_Bc2()\n",
    "#         elif TR_fitting==\"r_b_sweeps\": self.get_Bc2_from_B_sweeps()\n",
    "#         else: print(\"Error: select valid fitting method, check class instance!\")\n",
    "#         self.get_Diffusivity()\n",
    "\n",
    "        #self.B_values_dict_fit[0.00] = self.fit_cdf_over_range(self.B_values_dict[0.00])\n",
    "        print(\"Len raw data: \", len(self._raw_data))\n",
    "        \n",
    "    def search_data(self): #search in the data structure for the different datas\n",
    "        self.Temp_at_timestamp = [i[0:4] for i in self._raw_data]\n",
    "        self.V_at_timestamp = [i[4:8] for i in self._raw_data]\n",
    "        self.time_sweeps = [i[8] for i in self._raw_data]\n",
    "        self.B_sweeps = [i[9] for i in self._raw_data]\n",
    "        self.R_sweeps = [i[10] for i in self._raw_data]\n",
    "        \n",
    "    \n",
    "    def round_to_base(self, x, prec=3, base=.005):\n",
    "          return np.round(base * np.round(x/base),prec)\n",
    "    \n",
    "    \n",
    "    def filter_B_sweeps(self):\n",
    "        self.TBR_array[1] = np.round(self.TBR_array[1], 2)\n",
    "        #self.TBR_array[1] = self.round_to_base(self.TBR_array[1], base=.003)\n",
    "        self.TBR_array = self.TBR_array.transpose()\n",
    "# uses argsort to order array according to B field with field values growing, then splits and saves to dict to finally sort the temperatures upwards\n",
    "#         self.TBR_array = self.TBR_array[self.TBR_array[:,1].argsort()]\n",
    "#         split_indices = np.diff(self.TBR_array[:,1])\n",
    "#         index_bef = 0\n",
    "#         for i in range(len(split_indices)):\n",
    "#             if split_indices[i] > 0.0:\n",
    "#                 self.B_values_dict[self.TBR_array[i,1]] = np.array([self.TBR_array[index_bef:i+1,0], self.TBR_array[index_bef:i+1,2]])\n",
    "#                 index_bef=i+1\n",
    "#         self.B_values_dict[self.TBR_array[i,1]] = np.array([self.TBR_array[index_bef:,0], self.TBR_array[index_bef:,2]])\n",
    "#         for key, value in self.B_values_dict.items():\n",
    "#             self.B_values_dict[key] = value.transpose()[value[0].argsort()]      \n",
    "# directly saves B field values into dict as keys. Saves the corresponding T and R values using the key to access the dictionary\n",
    "        for i in range(len(self.TBR_array)):\n",
    "            try:\n",
    "                self.B_values_dict[self.TBR_array[i,1]].append([self.TBR_array[i,0], self.TBR_array[i,2]])\n",
    "            except:\n",
    "                self.B_values_dict[self.TBR_array[i,1]] = [[self.TBR_array[i,0], self.TBR_array[i,2]]]\n",
    "# converts list in keys to arrays        \n",
    "        for key in self.B_values_dict:\n",
    "            self.B_values_dict[key] = np.asarray(self.B_values_dict[key])\n",
    "        #print(self.B_values_dict)\n",
    "        \n",
    "        \n",
    "    def organise_B_sweeps(self):\n",
    "        self.search_data()\n",
    "        #self.calibrate_temperature_stamps()\n",
    "        self.map_time_temperature()\n",
    "        self.TBR_array = np.array([np.concatenate(self.T_array).ravel(), np.concatenate(self.B_sweeps).ravel(), np.concatenate(self.R_sweeps).ravel()]) # np.concatenate(self.time_sweeps).ravel() creates one contiguous matrix with all values unsorted \n",
    "       #print(self.TBR_array[1])\n",
    "    \n",
    "    \n",
    "    def calibrate_temperature_stamps(self):\n",
    "        if self.Temp_at_timestamp==[]:\n",
    "            self.search_data()\n",
    "        else: pass\n",
    "        calibrated_temperatures = []\n",
    "        for i in self.Temp_at_timestamp:\n",
    "            frombelow_index_pre = bisect_left(self.calibration_data[:,0], i[0])\n",
    "            #print(frombelow_index_pre)\n",
    "            #print(\"i, temperatures found: \", i[0], self.calibration_data[frombelow_index_pre-1], self.calibration_data[frombelow_index_pre])\n",
    "            frombelow_index_post = bisect_left(self.calibration_data[:,0], i[1])\n",
    "            calibrated_temperatures.append([self.linear_interpolation(self.calibration_data[frombelow_index_pre-1], self.calibration_data[frombelow_index_pre], [i[0]]), self.linear_interpolation(self.calibration_data[frombelow_index_post-1], self.calibration_data[frombelow_index_post], [i[1]])])\n",
    "        #print(calibrated_temperatures)\n",
    "        self.calibrated_Temp_at_timestamp = [[calibrated_temperatures[i][0][0], calibrated_temperatures[i][1][0], self.Temp_at_timestamp[i][2], self.Temp_at_timestamp[i][3]] for i in range(len(self._raw_data))]\n",
    "        #print(self.calibrated_Temp_at_timestamp)\n",
    "    \n",
    "    def map_time_temperature(self): # Maps time to temperature, as we assume a linear dependence between time and temperature in our setup \n",
    "        for i,j in zip(self.time_sweeps, self.Temp_at_timestamp):\n",
    "            T1 = [i[0], j[2]] # Temperature of diode: j[0], j[1] Temperature of sample: j[2], j[3]\n",
    "            T2 = [i[-1], j[3]]\n",
    "            self.T_array.append(self.linear_interpolation(T1, T2, i))\n",
    "            \n",
    "            #self.T_array.append(np.asarray(i)) ## ACHTUNGGG, nur für einen Test, sonst auskommentieren\n",
    "            #print(T1,T2)\n",
    "        #plt.plot(self.T_array, 'o')\n",
    "    \n",
    "    def linear_interpolation(self, xy1, xy2, data): # takes two x,y pairs and some x data. calculates parameters of a linear function returns corresponding f(x) for the given data\n",
    "        slope = (xy2[1]-xy1[1])/(xy2[0]-xy1[0])\n",
    "        y0_value = xy1[1]-slope*xy1[0]\n",
    "        #print(slope, y0_value)\n",
    "        return np.array([slope*i + y0_value for i in data])\n",
    "    \n",
    "    \n",
    "    def __create_sweeps(self, data): # separates magnetic sweeps into rampup and rampdown to fit gaussian cdf afterwards\n",
    "        #smooth_T = self.apply_moving_average(self.n_moving_average_separate_sweeps, data[:,0]) # very smoothed T values\n",
    "        #smooth_R = self.apply_moving_average(self.n_moving_average_separate_sweeps, data[:,1]) # think it is not used at moment...\n",
    "        #print(data)\n",
    "        T_extrema_indices = self.find_index_to_split_curves(data[:,0])\n",
    "        T_extrema_indices = np.append(T_extrema_indices, len(data[:,0])-1) # find_index_to_split_curves only gives back indices where to split, so final index has to be included as well to define last sweep\n",
    "        #print(\"cut indices: \",T_extrema_indices)\n",
    "        old_i = 0\n",
    "        sweeps = []\n",
    "        for i in T_extrema_indices:\n",
    "            # here happens the change from data organised in columns (x,y) to organised in row x and row y in np array\n",
    "            sweeps.append(np.array([data[old_i:i, 0], data[old_i:i, 1]]))\n",
    "            old_i = i\n",
    "        #print(\"sweeps: \", sweeps)\n",
    "        return sweeps\n",
    "        #print(self._sweep_raw)\n",
    "        \n",
    "        \n",
    "    def find_index_to_split_curves(self,data): # this function aims to split the raw data set into the sweeps done btw superconducting and normal conducting\n",
    "        T_gradient = np.diff(data) # numeric change from one datapoint to next one in temperature\n",
    "        # this command first evaluates whether the former differences are positive or negative and then differentiates again\n",
    "        # to get the turning points. To do so, np.where evaluates true where condition is fulfilled, and in python a difference is only false if it holds 0\n",
    "        # That means, only differences in different  direction hold True and are therefore used to split the raw data\n",
    "        split_indices = np.where(np.diff(np.signbit(T_gradient)))[0] + 1\n",
    "        #print(split_indices)\n",
    "        #diff_indices = np.diff(split_indices) # difference of the split indices used to determine if split is sensible concerning the length, look at next lines\n",
    "        #diff_indices = np.insert(diff_indices, 0, split_indices[0]) # insertion of a 0 at beginning to calculate first index difference as well (see np.diff doc)\n",
    "        #print(diff_indices)\n",
    "        # gives back the split index if it holds more that 500 data points to the former split index, otherwise returns 0\n",
    "        #indices = np.where(diff_indices>500, split_indices, 0)\n",
    "        return split_indices # returns the useful split indices according to logic just above\n",
    "        \n",
    "    \n",
    "    def get_NC_resistance(self): # NC for normal conducting at 0 Tesla applied magnetic field\n",
    "        if self.B_values_dict == {}:\n",
    "            self.organise_B_sweeps()\n",
    "            self.filter_B_sweeps()\n",
    "        mag_field = 0.00\n",
    "        #max_R_NC_0T = np.max(self.B_values_dict[mag_field][:,1])# [np.argmax(self.B_values_dict[mag_field][:,1]), np.max(self.B_values_dict[mag_field][:,1])] # maximum resistance at 0 Tesla magentic field is our normal conducting resistance\n",
    "        max_R_NC_0T = np.max(self.TBR_array[:,2])\n",
    "        if max_R_NC_0T < 450:\n",
    "            self.R_NC_0T = max_R_NC_0T\n",
    "            self.T_R_NC = self.TBR_array[np.argmax(self.TBR_array[:,2]), 0]\n",
    "        else:\n",
    "            self.R_NC_0T = np.max(self.B_values_dict[mag_field][:,1])\n",
    "            self.T_R_NC = self.B_values_dict[mag_field][np.argmax(self.B_values_dict[mag_field][:,1]), 0]\n",
    "        print([self.T_R_NC, self.R_NC_0T])\n",
    "\n",
    "\n",
    "    def fit_Tc_sweep(self, rt_data):\n",
    "        #print(np.max(rt_data[:,1]))\n",
    "        #print(rt_data)\n",
    "        fitting = self.fit_cdf_over_range(rt_data, np.max(rt_data[:,1]))\n",
    "        return fitting\n",
    "    \n",
    "    def fit_all_sweeps(self, sweeps_dict): # fits all sweeps recognized\n",
    "        to_be_removed = []\n",
    "        fail=[]\n",
    "        for key in sorted(list(sweeps_dict.keys()), reverse=False):\n",
    "            #print(\"j: \", j)\n",
    "            try:\n",
    "                #print(\"Happy: \", key)\n",
    "                fit = self.fit_cdf_over_range(sweeps_dict[key])\n",
    "            except:\n",
    "                fail.append(key)\n",
    "                fit=-1\n",
    "                #print('for key it did not work:', key)\n",
    "            # test to check if the fit is in the range of 10%-90% of the resistance at 20 Kelvin \n",
    "            if fit != -1:                \n",
    "                self.B_values_dict_fit[key] = fit\n",
    "            else:\n",
    "                #print(f\"Warning! Sweep to be fitted out of 10%-90% range of the normal conducting resistance.\\nSweep at {key} Tesla will not be considered.\")\n",
    "                to_be_removed.append(key)\n",
    "        #print(to_be_removed)\n",
    "        self.fit_fail = fail\n",
    "        \n",
    "    def fit_cdf_over_range(self, xy_data, R_NC=-1): # function to fit one sweep in range 10% to 90% of the resistance at 20 Kelvin. \n",
    "       #print('entered fitdcf')\n",
    "        if R_NC == -1:\n",
    "            R_NC=self.R_NC_0T\n",
    "        if self.fit_area == 'full':\n",
    "            upper_limit = 1*R_NC # 90% of 20K resistance\n",
    "            lower_limit = -1*R_NC\n",
    "        elif self.fit_area == 'reduced':\n",
    "            upper_limit = 0.9*R_NC # 90% of 20K resistance\n",
    "            lower_limit = 1\n",
    "        else:\n",
    "            raise ValueError('Wrong selector for fitting range')\n",
    "        upper_limit_condition = 0.8*R_NC\n",
    "        lower_limit_condition = 0.2*R_NC\n",
    "        #print(\"limits: \", upper_limit_condition, lower_limit_condition)\n",
    "        #print(\"shape: \",np.asarray((xy_data[1,:]>lower_limit) & (xy_data[1,:]<upper_limit)).nonzero()[0])\n",
    "        #print(xy_data)\n",
    "        if any(xy_data[:,1] < lower_limit_condition) and any(xy_data[:,1] > upper_limit_condition) and len(xy_data[:,1])>3: # condition to ensure sweep contains data in range 10% to 90% of the resistance at 20 Kelvin. \n",
    "            if self.fit_area == 'full':\n",
    "                selector = np.asarray((xy_data[:,1]>lower_limit) & (xy_data[:,1]<upper_limit) & (xy_data[:,0]<20)).nonzero()[0]\n",
    "                X = xy_data[selector,0] # slices Temperature array in terms of the resistance to the range of 10% to 90% of the resistance at 20 Kelvin. Additionally, checks for the temperatures to be lower than 20K. \n",
    "                Y = xy_data[selector,1] # slices Resistance array in terms of the resistance to the range of 10% to 90% of the resistance at 20 Kelvin. Additionally, checks for the temperatures to be lower than 20K.\n",
    "            elif self.fit_area == 'reduced':\n",
    "                X=[]\n",
    "                Y=[]\n",
    "                #print('in reduced')\n",
    "                lower_idx = bisect_left(xy_data[:,1], lower_limit)-self.fit_limit\n",
    "                upper_idx = bisect_left(xy_data[:,1], upper_limit)+self.fit_limit\n",
    "                if lower_idx < 0:\n",
    "                    lower_idx = 0\n",
    "                if upper_idx > np.size(xy_data[:,1])-1:\n",
    "                    upper_idx = np.size(xy_data[:,1])-1\n",
    "                X=xy_data[lower_idx:upper_idx,0]\n",
    "                Y=xy_data[lower_idx:upper_idx,1]\n",
    "            #print(\"X: \", X)\n",
    "            #print(\"Y: \", Y)\n",
    "            #print(xy_data[:,1])\n",
    "            #print(R)\n",
    "            x_array = np.arange(X[0], X[-1], 1e-3)\n",
    "            fit =  self.gauss_cdf_fit(X, Y, x_array)\n",
    "            fit2 = self.richards_fit(X,Y, x_array, R_NC) \n",
    "            error_sym_T = self.T_meas_error_pp*xy_data[:,0] + self.T_meas_error_std\n",
    "            error_sym_R = self.R_meas_error_pp*xy_data[:,1]\n",
    "            #fit.append([error_sym_T, error_sym_R])\n",
    "            return {'gaussian':fit, 'richards':fit2, 'errorTR': np.array([error_sym_T, error_sym_R]).transpose()}\n",
    "        else:\n",
    "            return -1\n",
    "\n",
    "    \n",
    "    def gauss_cdf_fit(self, T, R, x_data): # fits a gauss cumulative distribution function over given data\n",
    "        def Gauss_cdf(x, a, x0, sigma):\n",
    "            return a*norm.cdf(x,x0,sigma)\n",
    "        try:\n",
    "            mean = T[bisect_left(R, np.max(R)/2)]\n",
    "            sigma = T[bisect_left(R, 0.9*np.max(R))]-T[bisect_left(R, 0.1*np.max(R))]\n",
    "        except:\n",
    "            R_rev = R[::-1]\n",
    "            mean = T[bisect_left(R_rev, np.max(R_rev)/2)]\n",
    "            sigma = T[bisect_left(R_rev, 0.9*np.max(R_rev))]-T[bisect_left(R_rev, 0.1*np.max(R_rev))]\n",
    "        #sigma = T[bisect_left(R, 0.9*np.max(R))]-T[bisect_left(R, 0.1*np.max(R))]\n",
    "        if sigma < 0.01:\n",
    "            sigma = 0.1\n",
    "        popt, pcov = curve_fit(Gauss_cdf, T, R, p0=[np.max(R),mean,sigma]) # Returns popt=optimal parameters, pcov=measure of goodness of the fit\n",
    "        #print(popt)\n",
    "        parameters = {\"scalar\":popt[0], \"mu\":popt[1], \"sigma\":popt[2], \"cov\":pcov} #  dict to find parameters better afterwards\n",
    "        #print(\"dict: \", parameters)\n",
    "        Rgauss_cdf = Gauss_cdf(x_data,*popt) # Gauss fit according to function above\n",
    "        #plt.plot(T, Rgauss_cdf)\n",
    "#         print(\"Worked! mean and sigma: \", mean, sigma, parameters)\n",
    "        return [parameters, [x_data, Rgauss_cdf]]\n",
    "#         except:\n",
    "#             print(\"Fail! mean and sigma: \", mean, sigma)\n",
    "#             return -1\n",
    "    \n",
    "    \n",
    "    def richards_fit(self, T, R, x_data, R_NC=-1):\n",
    "#         def richards(t,a,b,c,k,q,m,nu):\n",
    "#             return a + (k-a)/np.float_power((c+q*np.exp(-b*(t-m))),1/nu)\n",
    "        if R_NC == -1:\n",
    "            R_NC=self.R_NC_0T\n",
    "        a = 0\n",
    "        #k = R_NC\n",
    "        c = 1\n",
    "        q = 1\n",
    "        if self.B_values_dict_fit != {} and all(abs(self.B_values_dict_fit[list(self.B_values_dict_fit.keys())[-1]]['richards'][0]['param'][0:3]) < 15):\n",
    "            b = self.B_values_dict_fit[list(self.B_values_dict_fit.keys())[-1]]['richards'][0]['param'][0]\n",
    "            m = self.B_values_dict_fit[list(self.B_values_dict_fit.keys())[-1]]['richards'][0]['param'][1]\n",
    "            nu = self.B_values_dict_fit[list(self.B_values_dict_fit.keys())[-1]]['richards'][0]['param'][2]\n",
    "            k = self.B_values_dict_fit[list(self.B_values_dict_fit.keys())[-1]]['richards'][0]['param'][3]\n",
    "           # print([b,m,nu])\n",
    "        else:\n",
    "            k= np.max(R)\n",
    "            nu = 1 # affects near which asymptote maximum growth occurs (nu is always > 0)\n",
    "            m = a + (k-a)/np.float_power((c+1),(1/nu)) #m = 3 # shift on x-axis\n",
    "            t_2 = T[bisect_left(R, np.max(R)/2)]\n",
    "            b = self.b_start_rich\n",
    "            if b == -1:\n",
    "                b = 1/(m-t_2) * ( np.log( np.float_power((2*(k-a)/k),nu)-c )+np.log(q) )#b=1 growth rate 50 #\n",
    "                self.b_start_rich = b\n",
    "           # print('Fit broke')\n",
    "        def richards(t,b,m,nu,k):\n",
    "            return a + (k-a)/np.float_power((c+q*np.exp(-b*(t-m))),1/nu)\n",
    "        #a = 0 # lower asymptote\n",
    "        #c = 1 # typically c = 1\n",
    "        #k = R_NC  # related to upper asymptote (= upper asymptote if c  = 1)\n",
    "        #q = 1 # related to y(0)\n",
    "        popt, pcov = curve_fit(richards, T, R, p0=[b,m,nu,k], maxfev=2500, bounds=([-np.inf, -np.inf, -np.inf, 0.8*np.max(R)],[np.inf, np.inf, np.inf, 1.2*np.max(R)]))\n",
    "        parameters = {\"param\":popt, \"cov\":pcov}\n",
    "        Rrich = richards(x_data, *popt)\n",
    "        return [parameters, [x_data, Rrich]]\n",
    " \n",
    "\n",
    "#     def richards_fit(self, T, R, x_data, R_NC=-1):\n",
    "#     #         def richards(t,a,b,c,k,q,m,nu):\n",
    "#     #             return a + (k-a)/np.float_power((c+q*np.exp(-b*(t-m))),1/nu)\n",
    "#         if R_NC == -1:\n",
    "#             R_NC=self.R_NC_0T\n",
    "#         a = 0\n",
    "#         k = R_NC\n",
    "#         #k=np.mean(R[R>0.95*np.max(R)])\n",
    "#         c = 1\n",
    "#         q = 1\n",
    "#         if self.B_values_dict_fit != {} and all(abs(self.B_values_dict_fit[list(self.B_values_dict_fit.keys())[-1]]['richards'][0]['param'][0:3]) < 15):\n",
    "#             b = self.B_values_dict_fit[list(self.B_values_dict_fit.keys())[-1]]['richards'][0]['param'][0]\n",
    "#             m = self.B_values_dict_fit[list(self.B_values_dict_fit.keys())[-1]]['richards'][0]['param'][1]\n",
    "#             nu = self.B_values_dict_fit[list(self.B_values_dict_fit.keys())[-1]]['richards'][0]['param'][2]\n",
    "#            # print([b,m,nu])\n",
    "#         else:\n",
    "#             nu = 1 # affects near which asymptote maximum growth occurs (nu is always > 0)\n",
    "#             m = a + (k-a)/np.float_power((c+1),(1/nu)) #m = 3 # shift on x-axis\n",
    "#             t_2 = T[bisect_left(R, np.max(R)/2)]\n",
    "#             b =  1/(m-t_2) * ( np.log( np.float_power((2*(k-a)/k),nu)-c )+np.log(q) )#b=1 growth rate\n",
    "#            # print('Fit broke')\n",
    "#         def richards(t,b,m,nu):\n",
    "#             return a + (k-a)/np.float_power((c+q*np.exp(-b*(t-m))),1/nu)\n",
    "#         #a = 0 # lower asymptote\n",
    "#         #c = 1 # typically c = 1\n",
    "#         #k = R_NC  # related to upper asymptote (= upper asymptote if c  = 1)\n",
    "#         #q = 1 # related to y(0)\n",
    "#         popt, pcov = curve_fit(richards, T, R, p0=[b,m,nu], maxfev=2500, )\n",
    "#         parameters = {\"param\":popt, \"cov\":pcov}\n",
    "#         Rrich = richards(x_data, *popt)\n",
    "#         return [parameters, [x_data, Rrich]]\n",
    "    \n",
    "    \n",
    "    def linear_fit(self, x, y):\n",
    "        def linear(x, m, t):\n",
    "            return m*x + t\n",
    "        slope = (y[-1]-y[0])/(x[-1]-x[0])\n",
    "        y0_value = y[1]-slope*x[1]\n",
    "        popt, pcov = curve_fit(linear, x, y, p0=[slope, y0_value])\n",
    "        parameters = {\"slope\":popt[0], \"y0_value\":popt[1], \"cov\":pcov}\n",
    "        x_dat = np.arange(np.min(x), np.max(x), 1e-4)\n",
    "        Rlinear = linear(x_dat, *popt)\n",
    "        #plt.plot(T, Rlinear)\n",
    "        return [parameters, [x_dat, Rlinear]]\n",
    "        \n",
    "#     def calculate_b_field_error(self):\n",
    "#         for i in self.B_sweeps:\n",
    "#             reference = self.linear_interpolation\n",
    "    \n",
    "    def get_Bc2(self, fit ='richards'): # gets the Tc according to the data given. Tc corresponds to the mu value of the fitted data either calculates Tc over mean of sweeps of out of raw data\n",
    "#         if self._raw_fit == []:\n",
    "#             self.fit_cdf_over_range_raw()\n",
    "        if self.B_values_dict_fit == {}:\n",
    "            try:\n",
    "                self.fit_all_sweeps(self.B_values_dict)\n",
    "            except:\n",
    "                raise ValueError('Raw sweeps were erased. Please initiate class instance again.')\n",
    "        self.get_Tc()\n",
    "        for key in self.B_values_dict_fit:\n",
    "            if fit=='gaussian':\n",
    "                Bc2_T_Value = self.Tc[key]['gaussian']\n",
    "            elif fit=='richards':\n",
    "                Bc2_T_Value = self.Tc[key]['richardsHp']\n",
    "            else:\n",
    "                raise ValueError('No fitting function for critical Temperature defined in get_Bc2!')\n",
    "            upper_error = 0.9*self.R_NC_0T\n",
    "            lower_error = 0.1*self.R_NC_0T\n",
    "#             Calculating Error boundaries acoording to Rmax boundaries for err- and err+ of calculated critical temperature at a certain B-field T_Bc2\n",
    "#             frombelow_T_Bc2 = self.B_values_dict[key][np.argmax(np.where(self.B_values_dict[key][:,1]<lower_error,self.B_values_dict[key][:,1],0)), 0]\n",
    "#             fromabove_T_Bc2 = self.B_values_dict[key][np.argmin(np.where(self.B_values_dict[key][:,1]>upper_error,self.B_values_dict[key][:,1],np.inf)), 0]\n",
    "#             frombelow_R = self.B_values_dict[key][np.argmax(np.where(self.B_values_dict[key][:,1]<lower_error,self.B_values_dict[key][:,1],0)), 1]\n",
    "#             fromabove_R = self.B_values_dict[key][np.argmin(np.where(self.B_values_dict[key][:,1]>upper_error,self.B_values_dict[key][:,1],np.inf)), 1]\n",
    "\n",
    "#           Calculating Error according to first value below Bc2_T_Value and first value above Bc2_T_Value \n",
    "#           as err- and err+ of calculated critical temperature at a certain B-field T_Bc2\n",
    "            frombelow_T_Bc2 = self.B_values_dict[key][np.argmax(np.where(self.B_values_dict[key][:,0]<Bc2_T_Value,self.B_values_dict[key][:,0],0)), 0]\n",
    "            fromabove_T_Bc2 = self.B_values_dict[key][np.argmin(np.where(self.B_values_dict[key][:,0]>Bc2_T_Value,self.B_values_dict[key][:,0],np.inf)), 0]\n",
    "            #frombelow_R = self.B_values_dict[key][np.argmax(np.where(self.B_values_dict[key][:,0]<Bc2_T_Value,self.B_values_dict[key][:,0],0)), 1]\n",
    "            #fromabove_R = self.B_values_dict[key][np.argmin(np.where(self.B_values_dict[key][:,0]>Bc2_T_Value,self.B_values_dict[key][:,0],np.inf)), 1]\n",
    "#             frombelow_Bc2 = [self.B_values_dict[key][np.argmax(np.where(self.B_values_dict[key][:,0]<Bc2_Value,self.B_values_dict[key][:,0],0)), 0], self.B_values_dict[key][np.argmax(np.where(self.B_values_dict[key][:,0]<Bc2_Value,self.B_values_dict[key][:,0],0)), 1]]\n",
    "#             fromabove_Bc2 = [self.B_values_dict[key][np.argmin(np.where(self.B_values_dict[key][:,0]>Bc2_Value,self.B_values_dict[key][:,0],np.inf)), 0], self.B_values_dict[key][np.argmin(np.where(self.B_values_dict[key][:,0]>Bc2_Value,self.B_values_dict[key][:,0],np.inf)), 1]]\n",
    "            #print(Bc2_T_Value, frombelow_T_Bc2, fromabove_T_Bc2)\n",
    "            #print(frombelow_R, fromabove_R)\n",
    "            #print(self.B_values_dict[key])\n",
    "            error_minus_T = abs(Bc2_T_Value - (frombelow_T_Bc2 - self.T_meas_error_pp*frombelow_T_Bc2 - self.T_meas_error_std))\n",
    "            error_plus_T = abs(fromabove_T_Bc2 + self.T_meas_error_pp*fromabove_T_Bc2 + self.T_meas_error_std - Bc2_T_Value)\n",
    "            error_minus_B = abs(self.B_field_meas_error_pp*key + self.B_field_meas_error_round)\n",
    "            error_plus_B = abs(self.B_field_meas_error_pp*key + self.B_field_meas_error_round)\n",
    "            self.Bc2.append([Bc2_T_Value, key, error_minus_T, error_plus_T, error_minus_B, error_plus_B])\n",
    "#         print(\"Before array\", self.Bc2)\n",
    "        self.Bc2 = np.asarray(self.Bc2)\n",
    "#         print(\"after array\", self.Bc2)\n",
    "\n",
    "        \n",
    "    def get_Bc2_from_B_sweeps(self): # attention: use either get_Bc2 or get_Bc2_from_B_sweeps, not both at the same time!\n",
    "        #print(len(self.B_sweeps))\n",
    "        index_B_sweep=0\n",
    "        for i, j, k in zip(self.B_sweeps, self.R_sweeps, self.T_array):\n",
    "            #print(self.T_array)\n",
    "            sweep_BR = self.__create_sweeps(np.array([i,j]).transpose())\n",
    "            sweep_BT = self.__create_sweeps(np.array([i,k]).transpose())\n",
    "            #print(sweep_BR, sweep_BT)\n",
    "            sweep_fit = [self.fit_cdf_over_range(s.transpose()) for s in sweep_BR]\n",
    "            #Bc2_sweep = []\n",
    "            for a, b, c in zip(sweep_fit, sweep_BR, sweep_BT): # iterating over the gaussian-fitted B_sweeps and the raw sweeps of R against B and T against B\n",
    "                if a != -1:\n",
    "                    Bc2_value = a[0]['mu'] # this is Bc2 for a concrete sweep having enough data points to ensure a gaussian cdf fit is possible\n",
    "                    # As we have Bc2, we need the corresponding temperature. sweep_BR gives the hysteresis curve used for gaussian fitting, but T is still missing.\n",
    "                    # There is a mapping of B against time which is logged, and T is linearly dependent of time in our setup. Therefore, B can be mapped to temperature.\n",
    "                    # The result from the thoughts above: having the Bc2 from array a, we search for the upper and lower B value which is closest to Bc2 in array b (B_sweep).\n",
    "                    # These are our x values for the linear interpolation to get the T out of Bc2(T). The y values must be temperature values. We get them looking for the\n",
    "                    # indices of the closest B values to Bc2. Proof of concept: As the field is ramped up linearly over time\n",
    "                    # and therefore over temperature, we can plot B and T into one graph and invert the axis searching for the corresponding T of a B value.\n",
    "                    frombelow_Bc2_T = [b[0, np.argmax(np.where(b[0,:]<Bc2_value,b[0,:],0))], c[1, np.argmax(np.where(b[0,:]<Bc2_value,b[0,:],0))]]\n",
    "                    fromabove_Bc2_T = [b[0, np.argmin(np.where(b[0,:]>Bc2_value,b[0,:],np.inf))], c[1, np.argmin(np.where(b[0,:]>Bc2_value,b[0,:],np.inf))]]\n",
    "                    #print(\"Values: \", Bc2_value, frombelow_Bc2_T, fromabove_Bc2_T)\n",
    "                    print(\"index: \", index_B_sweep-1)\n",
    "                    Bc2_T_Value = self.linear_interpolation(frombelow_Bc2_T, fromabove_Bc2_T, [Bc2_value]) # linear interpolation in the T-B space between closest values to calculated Bc2\n",
    "                    self.Bc2.append([Bc2_T_Value, Bc2_value, index_B_sweep]) # index needed to verify which sweeps are used to make a gaussian fit.\n",
    "                    self.B_sweeps_split.append([a, b])\n",
    "                else:\n",
    "                    #print(\"-1\")\n",
    "                    pass\n",
    "                    #Bc2_sweep.append([-1, -1])   \n",
    "            index_B_sweep=index_B_sweep+1\n",
    "            \n",
    "        self.Bc2 = np.asarray(self.Bc2)\n",
    "        #print(self.Bc2)\n",
    "        \n",
    "        \n",
    "    def find_nearest_idx(self, array, value):\n",
    "        array = np.asarray(array)\n",
    "        idx = (np.abs(array - value)).argmin()\n",
    "        return idx\n",
    "    \n",
    "    \n",
    "    def get_Diffusivity(self):\n",
    "        #print(self.Bc2[:,0], self.Bc2[:,1])\n",
    "        p,V = np.polyfit(self.Bc2[:,0], self.Bc2[:,1], 1, cov=True) # self.Bc2[:,0] is T, self.Bc2[:,1] is Bc2(T)\n",
    "        dB_dT = p[0]\n",
    "        D_std = np.sqrt(np.diag(V))[0]\n",
    "        self.Bc2_fit = [p, [self.Bc2[:,0], np.polyval(p, self.Bc2[:,0])]]\n",
    "        #print(dB_dT, D_std)\n",
    "        delta_D = abs(4*Boltzmann/(pi*elementary_charge*(dB_dT**2))*D_std)\n",
    "#         error_list = [abs(i[1]-self.Bc2_fit[1][1][self.find_nearest_idx(self.Bc2_fit[1][0], i[0])]) for i in self.Bc2]\n",
    "#         error_list = np.array(error_list)\n",
    "        #print(np.asarray([self.Bc2[:,1], self.Bc2_fit[1][1][::-1], np.array(error_list)]))\n",
    "        #self.D= -4*Boltzmann/(pi*elementary_charge*dB_dT)\n",
    "        self.D = [-4*Boltzmann/(pi*elementary_charge*dB_dT)*1e4, delta_D*1e4] # Formula for Diffuyivity calculation\n",
    "            \n",
    "    \n",
    "    def get_Tc(self, fit_Tc_val={}):\n",
    "        if fit_Tc_val=={}:\n",
    "            for key in self.B_values_dict_fit:\n",
    "                gauss_Tc = self.B_values_dict_fit[key]['gaussian'][0]['mu']\n",
    "\n",
    "                a=0\n",
    "                b = self.B_values_dict_fit[key]['richards'][0]['param'][0]\n",
    "                c = 1\n",
    "                q = 1\n",
    "                m = self.B_values_dict_fit[key]['richards'][0]['param'][1]\n",
    "                nu = self.B_values_dict_fit[key]['richards'][0]['param'][2]\n",
    "                k = self.B_values_dict_fit[key]['richards'][0]['param'][3]\n",
    "                richards_Tc = (np.log((1/nu-2)/c)/b+m)\n",
    "                richardsHp =  m - 1/b*( np.log(np.float_power(2*(k-a)/k,nu)-c) + np.log(q) )\n",
    "                self.Tc[key]={'gaussian': gauss_Tc, 'richardsTp': richards_Tc, 'richardsHp': richardsHp}\n",
    "        else:\n",
    "            gauss_Tc = fit_Tc_val['gaussian'][0]['mu']\n",
    "            \n",
    "            a = 0\n",
    "            b = fit_Tc_val['richards'][0]['param'][0]\n",
    "            c = 1\n",
    "            q = 1\n",
    "            m = fit_Tc_val['richards'][0]['param'][1]\n",
    "            nu = fit_Tc_val['richards'][0]['param'][2]\n",
    "            k = fit_Tc_val['richards'][0]['param'][3]\n",
    "            richards_Tc = (np.log((1/nu-2)/c)/b+m) \n",
    "            richardsHp = m - 1/b*( np.log(np.float_power(2*(k-a)/k,nu)-c) + np.log(q) )\n",
    "            return {'gaussian': gauss_Tc, 'richardsTp': richards_Tc, 'richardsHp': richardsHp}\n",
    "#     def get_FWHM(self): # gets the FWHM out of data given. for gaussian cdf fit, this can be calculated from the sigma value as commented below. Calculates either out of the mean of the sweeps or the raw data\n",
    "#         if self._raw_fit == []:\n",
    "#             self.fit_cdf_over_range_raw()\n",
    "#         if self.sweep_fit == []:\n",
    "#             try:\n",
    "#                 self.fit_all_sweeps(self._sweep_raw)\n",
    "#             except:\n",
    "#                 raise ValueError('Raw sweeps were erased. Please initiate class instance again.')\n",
    "#         # sigma = self._raw_fit[0]['sigma'] # calculation of FWHM out of original raw fit\n",
    "#         # calculation of FWHM out of mean of sigma values of all sweeps\n",
    "#         sigma_values = np.array([self.sweep_fit[i][0]['sigma'] for i in range(len(self.sweep_fit))]) #  if self.sweep_fit[i][0]['sigma'] > 0 and self.sweep_fit[i][0]['sigma'] < 2.355\n",
    "#         sigma = np.mean(sigma_values)\n",
    "#         self.FWHM = [2*sqrt(2*np.log(2))*sigma, sigma_values] # calculation of FWHM of a gaussian: fwhm = 2*sqrt(2*ln(2))*sigma ~= 2,355*sigma\n",
    "#         #print(\"Mean FWHM: \", self.FWHM[0])\n",
    "#         #print(\"sigma_values: \\n\", self.FWHM[1])"
   ]
  },
  {
   "cell_type": "markdown",
   "metadata": {
    "incorrectly_encoded_metadata": "toc-hr-collapsed=false"
   },
   "source": [
    "## Plotting setup"
   ]
  },
  {
   "cell_type": "markdown",
   "metadata": {},
   "source": [
    "### Thesis style"
   ]
  },
  {
   "cell_type": "code",
   "execution_count": 12,
   "metadata": {},
   "outputs": [
    {
     "name": "stderr",
     "output_type": "stream",
     "text": [
      "C:\\Users\\Noah.Ploch\\Program\\Anaconda\\lib\\_collections_abc.py:841: MatplotlibDeprecationWarning: \n",
      "The text.latex.unicode rcparam was deprecated in Matplotlib 3.0 and will be removed in 3.2.\n",
      "  self[key] = other[key]\n"
     ]
    }
   ],
   "source": [
    "def figsize(scale):\n",
    "    fig_width_pt = 432.487                     # Get this from LaTeX using \\showthe\\textwidth\n",
    "    inches_per_pt = 1.0/72.27                       # Convert pt to inch\n",
    "    golden_mean = (np.sqrt(5.0)-1.0)/2.0            # Aesthetic ratio\n",
    "    # one plot\n",
    "    fig_width = fig_width_pt*inches_per_pt*scale    # width in inches\n",
    "    fig_height = fig_width*golden_mean              # height in inches\n",
    "    #fig_height = fig_width*golden_mean*1.3\n",
    "    \n",
    "    # splitted plots\n",
    "    #fig_width = fig_width_pt*inches_per_pt*0.4    # width in inches\n",
    "    #fig_height = fig_width*0.9 \n",
    "    fig_size = [fig_width,fig_height]\n",
    "    return fig_size\n",
    "\n",
    "# Use Latex Sans-Serif font and set other plot properties\n",
    "params = {\n",
    "    'text.usetex': True,\n",
    "    #'text.usetex': False,\n",
    "    'text.latex.unicode': True,\n",
    "    'figure.figsize': figsize(0.8), # default figsize\n",
    "    'axes.labelsize': 11, # LaTeX default is 10pt font. 11\n",
    "    'axes.titlesize': 11,\n",
    "    'font.size': 11,\n",
    "    'legend.fontsize': 9, # Make the legend/label fonts a little smaller 9\n",
    "    'xtick.labelsize': 9,\n",
    "    'ytick.labelsize': 9,\n",
    "    'text.latex.preamble': [\n",
    "        r'\\usepackage{siunitx}',   # i need upright \\micro symbols, but you need...\n",
    "        r'\\sisetup{detect-all}',   # ...this to force siunitx to actually use your fonts\n",
    "        r'\\usepackage[version=4]{mhchem}',   # i need upright \\micro symbols, but you need...\n",
    "#        r'\\usepackage{helvet}',   # if you want to use helvetica\n",
    "#        r'\\usepackage[helvet]{sfmath}' # if you want to use helvetica\n",
    "        r'\\usepackage{lmodern}',\n",
    "        r'\\renewcommand*\\familydefault{\\sfdefault}' # Only if the base font of the document is to be sans serif\n",
    "        r'\\usepackage{sfmath}'\n",
    "        r'\\newcommand{\\dif}{\\mathop{}\\!\\mathrm{d}}' # differential d\n",
    "        ]\n",
    "    ,\n",
    "    'axes.linewidth': 1.0,\n",
    "    #'lines.linewidth': 1.0,\n",
    "    #'lines.markersize': 5.0,\n",
    "    #'lines.markeredgewidth': 0.1,\n",
    "    #'xtick.major.width': 1.0,\n",
    "    #'ytick.major.width': 1.0,\n",
    "    #'xtick.minor.width': 0.8,\n",
    "    #'ytick.minor.width': 0.8,\n",
    "    }\n",
    "mpl.rcParams.update(params)\n",
    "\n",
    "format_B_legend = '{:1.0f}'\n",
    "format_B2_legend = '{:1.1f}'\n",
    "format_D_legend = '{:1.3f}'\n",
    "format_T_legend = '{:1.2f}'\n",
    "\n",
    "# Use Latex Sans-Serif font\n",
    "#plt.rcParams['text.latex.preamble'] = [\n",
    "#       r'\\usepackage{siunitx}',   # i need upright \\micro symbols, but you need...\n",
    "#       r'\\sisetup{detect-all}',   # ...this to force siunitx to actually use your fonts\n",
    "#       r'\\usepackage{helvet}',    # set the normal font here\n",
    "#       r'\\usepackage{sansmath}',  # load up the sansmath so that math -> helvet\n",
    "#       r'\\sansmath'               # <- tricky! -- gotta actually tell tex to use!\n",
    "#]\n",
    "#plt.rc('text', usetex=True)\n",
    "# Use non-Latex Sans-Serif font\n",
    "#params = {'text.usetex': False, 'mathtext.fontset': 'stixsans'}\n",
    "#plt.rcParams.update(params)"
   ]
  },
  {
   "cell_type": "markdown",
   "metadata": {},
   "source": [
    "### Poster style"
   ]
  },
  {
   "cell_type": "code",
   "execution_count": 30,
   "metadata": {},
   "outputs": [],
   "source": [
    "# def figsize(scale):\n",
    "#     fig_width_pt = 420.38953                       # Get this from LaTeX using \\showthe\\textwidth\n",
    "#     inches_per_pt = 1.0/72.27                       # Convert pt to inch\n",
    "#     golden_mean = 0.8 #(np.sqrt(5.0)-1.0)/2.0            # Aesthetic ratio\n",
    "#     fig_width = fig_width_pt*inches_per_pt*scale    # width in inches\n",
    "#     fig_height = fig_width*golden_mean              # height in inches\n",
    "#     fig_size = [fig_width,fig_height]\n",
    "#     return fig_size\n",
    "\n",
    "# # Use Latex Sans-Serif font and set other plot properties\n",
    "# params = {\n",
    "#     'text.usetex': True,\n",
    "#     'text.latex.unicode': True,\n",
    "#     'figure.figsize': figsize(0.8), # default figsize\n",
    "#     'axes.labelsize': 15, # LaTeX default is 10pt font. 11\n",
    "#     'font.size': 15, #11\n",
    "#     'legend.fontsize': 13, # Make the legend/label fonts a little smaller 9\n",
    "#     'xtick.labelsize': 13, #9\n",
    "#     'ytick.labelsize': 13, #9\n",
    "#     'text.latex.preamble': [\n",
    "#         r'\\usepackage{siunitx}',   # i need upright \\micro symbols, but you need...\n",
    "#         r'\\sisetup{detect-all}',   # ...this to force siunitx to actually use your fonts\n",
    "#         r'\\usepackage{mhchem}',   # i need upright \\micro symbols, but you need...\n",
    "# #        r'\\usepackage{helvet}',   # if you want to use helvetica\n",
    "# #        r'\\usepackage[helvet]{sfmath}' # if you want to use helvetica\n",
    "#         r'\\usepackage{lmodern}',\n",
    "#         r'\\renewcommand*\\familydefault{\\sfdefault}' # Only if the base font of the document is to be sans serif\n",
    "#         r'\\usepackage{sfmath}'\n",
    "#         r'\\newcommand{\\dif}{\\mathop{}\\!\\mathrm{d}}' # differential d\n",
    "#         ]\n",
    "#     ,\n",
    "#     'axes.linewidth': 1.5,\n",
    "#     #'lines.linewidth': 1.0,\n",
    "#     #'lines.markersize': 5.0,\n",
    "#     #'lines.markeredgewidth': 0.1,\n",
    "#     #'xtick.major.width': 1.0,\n",
    "#     #'ytick.major.width': 1.0,\n",
    "#     #'xtick.minor.width': 0.8,\n",
    "#     #'ytick.minor.width': 0.8,\n",
    "#     }\n",
    "# mpl.rcParams.update(params)\n",
    "\n",
    "# format_B_legend = '{:1.0f}'\n",
    "\n",
    "# # Use Latex Sans-Serif font\n",
    "# #plt.rcParams['text.latex.preamble'] = [\n",
    "# #       r'\\usepackage{siunitx}',   # i need upright \\micro symbols, but you need...\n",
    "# #       r'\\sisetup{detect-all}',   # ...this to force siunitx to actually use your fonts\n",
    "# #       r'\\usepackage{helvet}',    # set the normal font here\n",
    "# #       r'\\usepackage{sansmath}',  # load up the sansmath so that math -> helvet\n",
    "# #       r'\\sansmath'               # <- tricky! -- gotta actually tell tex to use!\n",
    "# #]\n",
    "# #plt.rc('text', usetex=True)\n",
    "# # Use non-Latex Sans-Serif font\n",
    "# #params = {'text.usetex': False, 'mathtext.fontset': 'stixsans'}\n",
    "# #plt.rcParams.update(params)"
   ]
  },
  {
   "cell_type": "markdown",
   "metadata": {},
   "source": [
    "### Testing style"
   ]
  },
  {
   "cell_type": "code",
   "execution_count": 31,
   "metadata": {},
   "outputs": [],
   "source": [
    "# def figsize(scale):\n",
    "#     fig_width_pt = 420.38953                       # Get this from LaTeX using \\showthe\\textwidth\n",
    "#     inches_per_pt = 1.0/72.27                       # Convert pt to inch\n",
    "#     golden_mean = (np.sqrt(5.0)-1.0)/2.0            # Aesthetic ratio\n",
    "#     fig_width = fig_width_pt*inches_per_pt*scale    # width in inches\n",
    "#     fig_height = fig_width*golden_mean              # height in inches\n",
    "#     fig_size = [fig_width,fig_height]\n",
    "#     return fig_size\n",
    "\n",
    "# # Use Latex Sans-Serif font and set other plot properties\n",
    "# params = {\n",
    "#     'text.usetex': True,\n",
    "#     'text.latex.unicode': True,\n",
    "#     'figure.figsize': figsize(0.8), # default figsize\n",
    "#     'axes.labelsize': 11, # LaTeX default is 10pt font. 11\n",
    "#     'font.size': 11,\n",
    "#     'legend.fontsize': 9, # Make the legend/label fonts a little smaller 9\n",
    "#     'xtick.labelsize': 9,\n",
    "#     'ytick.labelsize': 9,\n",
    "#     'text.latex.preamble': [\n",
    "#         r'\\usepackage{siunitx}',   # i need upright \\micro symbols, but you need...\n",
    "#         r'\\sisetup{detect-all}',   # ...this to force siunitx to actually use your fonts\n",
    "#         r'\\usepackage{mhchem}',   # i need upright \\micro symbols, but you need...\n",
    "# #        r'\\usepackage{helvet}',   # if you want to use helvetica\n",
    "# #        r'\\usepackage[helvet]{sfmath}' # if you want to use helvetica\n",
    "#         r'\\usepackage{lmodern}',\n",
    "#         r'\\renewcommand*\\familydefault{\\sfdefault}' # Only if the base font of the document is to be sans serif\n",
    "#         r'\\usepackage{sfmath}'\n",
    "#         r'\\newcommand{\\dif}{\\mathop{}\\!\\mathrm{d}}' # differential d\n",
    "#         ]\n",
    "#     ,\n",
    "#     'axes.linewidth': 1.0,\n",
    "#     #'lines.linewidth': 1.0,\n",
    "#     #'lines.markersize': 5.0,\n",
    "#     #'lines.markeredgewidth': 0.1,\n",
    "#     #'xtick.major.width': 1.0,\n",
    "#     #'ytick.major.width': 1.0,\n",
    "#     #'xtick.minor.width': 0.8,\n",
    "#     #'ytick.minor.width': 0.8,\n",
    "#     }\n",
    "# mpl.rcParams.update(params)\n",
    "\n",
    "# format_B_legend = '{:1.2f}'\n",
    "# format_D_legend = '{:1.3f}'\n",
    "\n",
    "# # Use Latex Sans-Serif font\n",
    "# #plt.rcParams['text.latex.preamble'] = [\n",
    "# #       r'\\usepackage{siunitx}',   # i need upright \\micro symbols, but you need...\n",
    "# #       r'\\sisetup{detect-all}',   # ...this to force siunitx to actually use your fonts\n",
    "# #       r'\\usepackage{helvet}',    # set the normal font here\n",
    "# #       r'\\usepackage{sansmath}',  # load up the sansmath so that math -> helvet\n",
    "# #       r'\\sansmath'               # <- tricky! -- gotta actually tell tex to use!\n",
    "# #]\n",
    "# #plt.rc('text', usetex=True)\n",
    "# # Use non-Latex Sans-Serif font\n",
    "# #params = {'text.usetex': False, 'mathtext.fontset': 'stixsans'}\n",
    "# #plt.rcParams.update(params)"
   ]
  },
  {
   "cell_type": "markdown",
   "metadata": {},
   "source": [
    "## File search"
   ]
  },
  {
   "cell_type": "markdown",
   "metadata": {},
   "source": [
    "#### Search file"
   ]
  },
  {
   "cell_type": "code",
   "execution_count": 169,
   "metadata": {},
   "outputs": [
    {
     "name": "stdout",
     "output_type": "stream",
     "text": [
      "//file/e24/Projects/FinleyLab/_IQPGroup/_SSPDs/Data/Diffusivity/Data_measured/Diffusivity sweeps/200217_191218A_diffusweep_1Tsweeps.mat\n"
     ]
    }
   ],
   "source": [
    "%gui qt5\n",
    "default_path = '\\\\\\\\file\\\\e24\\\\Projects\\\\FinleyLab\\\\_IQPGroup\\\\_SSPDs\\\\Data\\\\Diffusivity'\n",
    "filename = PureWindowsPath(default_path)\n",
    "default_path = Path(filename)\n",
    "filename_probe = QFileDialog.getOpenFileName(None, 'Import file', str(default_path),\"Text/MAT files (*.csv *.dat *.txt *.mat)\")\n",
    "print(filename_probe[0])\n",
    "file_to_import = Path(filename_probe[0])\n",
    "#filename_to_import = Path('testdata.dat')"
   ]
  },
  {
   "cell_type": "markdown",
   "metadata": {},
   "source": [
    "### Search calibration file"
   ]
  },
  {
   "cell_type": "code",
   "execution_count": 14,
   "metadata": {},
   "outputs": [
    {
     "name": "stdout",
     "output_type": "stream",
     "text": [
      "//file/e24/Projects/FinleyLab/_IQPGroup/_SSPDs/Data/Diffusivity/Data_measured/Tdiode-Tsample correlation/200210_191210A_film_vs_temp_diode_calibration.txt\n"
     ]
    }
   ],
   "source": [
    "%gui qt5\n",
    "default_path = '\\\\\\\\file\\\\e24\\\\Projects\\\\FinleyLab\\\\_IQPGroup\\\\_SSPDs\\\\Data\\\\Diffusivity'\n",
    "filename = PureWindowsPath(default_path)\n",
    "default_path = Path(filename)\n",
    "filename = QFileDialog.getOpenFileName(None, 'Import calibration file', str(default_path),\"Text files (*.csv *.dat *.txt *.mat)\")\n",
    "print(filename[0])\n",
    "calibfile_to_import = Path(filename[0])"
   ]
  },
  {
   "cell_type": "markdown",
   "metadata": {},
   "source": [
    "## Import file"
   ]
  },
  {
   "cell_type": "markdown",
   "metadata": {},
   "source": [
    "#### import mat file"
   ]
  },
  {
   "cell_type": "code",
   "execution_count": 170,
   "metadata": {},
   "outputs": [],
   "source": [
    "#import diff\n",
    "data = io.loadmat(file_to_import, squeeze_me=True)\n",
    "try:\n",
    "    data = data['data'] # data['data'] # .mat files are read by scipy as a dictionary, the key named after the variable that was saved in matlab into the .mat file contains the relevant data\n",
    "except:\n",
    "    data = data['data_old']"
   ]
  },
  {
   "cell_type": "markdown",
   "metadata": {
    "incorrectly_encoded_metadata": "toc-hr-collapsed=false"
   },
   "source": [
    "## Calculations"
   ]
  },
  {
   "cell_type": "markdown",
   "metadata": {},
   "source": [
    "#### Fit R against T sweeps"
   ]
  },
  {
   "cell_type": "code",
   "execution_count": 362,
   "metadata": {
    "lines_to_next_cell": 2
   },
   "outputs": [
    {
     "name": "stdout",
     "output_type": "stream",
     "text": [
      "106.65993945509588\n",
      "Len raw data:  17\n"
     ]
    },
    {
     "name": "stderr",
     "output_type": "stream",
     "text": [
      "C:\\Users\\Noah.Ploch\\Program\\Anaconda\\lib\\site-packages\\ipykernel_launcher.py:299: RuntimeWarning: overflow encountered in float_power\n",
      "C:\\Users\\Noah.Ploch\\Program\\Anaconda\\lib\\site-packages\\ipykernel_launcher.py:299: RuntimeWarning: divide by zero encountered in true_divide\n",
      "C:\\Users\\Noah.Ploch\\Program\\Anaconda\\lib\\site-packages\\ipykernel_launcher.py:299: RuntimeWarning: overflow encountered in true_divide\n",
      "C:\\Users\\Noah.Ploch\\Program\\Anaconda\\lib\\site-packages\\ipywidgets\\widgets\\widget.py:412: DeprecationWarning: Passing unrecoginized arguments to super(Canvas).__init__().\n",
      "__init__() missing 1 required positional argument: 'figure'\n",
      "This is deprecated in traitlets 4.2.This error will be raised in a future release of traitlets.\n",
      "  super(Widget, self).__init__(**kwargs)\n",
      "C:\\Users\\Noah.Ploch\\Program\\Anaconda\\lib\\site-packages\\ipywidgets\\widgets\\widget.py:412: DeprecationWarning: Passing unrecoginized arguments to super(Toolbar).__init__().\n",
      "__init__() missing 1 required positional argument: 'canvas'\n",
      "This is deprecated in traitlets 4.2.This error will be raised in a future release of traitlets.\n",
      "  super(Widget, self).__init__(**kwargs)\n"
     ]
    },
    {
     "data": {
      "application/vnd.jupyter.widget-view+json": {
       "model_id": "",
       "version_major": 2,
       "version_minor": 0
      },
      "text/plain": [
       "Canvas(toolbar=Toolbar(toolitems=[('Home', 'Reset original view', 'home', 'home'), ('Back', 'Back to previous …"
      ]
     },
     "metadata": {},
     "output_type": "display_data"
    },
    {
     "name": "stdout",
     "output_type": "stream",
     "text": [
      "[Tc     B     error_T-  error_T+    error_B-   error_B+]\n"
     ]
    }
   ],
   "source": [
    "%matplotlib widget\n",
    "#RT_special = B_sweep(data, 'r_t_sweeps')\n",
    "marker = itertools.cycle(('x', '1', '2', '3','4')) \n",
    "\n",
    "# plot PDF\n",
    "# \n",
    "pdfname = 'C:\\\\Users\\\\Noah.Ploch\\\\OneDrive - Walter Schottky Institut\\\\Plots\\\\Fitting_Auswertung\\\\'\\\n",
    "            'Paramter_playing\\\\RvsT_richards_full_fit_area_fail_200215_after2dayheliumenv.pdf'\n",
    "pdf = PdfPages(pdfname)\n",
    "\n",
    "R_T_fitting=B_sweep(data, 'r_t_sweeps')\n",
    "R_T_fitting.fit_all_sweeps(R_T_fitting.B_values_dict)\n",
    "R_T_fitting.get_Bc2()\n",
    "R_T_fitting.get_Diffusivity()\n",
    "#print(plt.rcParams['axes.prop_cycle'].by_key()['color'])\n",
    "fig = plt.figure()\n",
    "ax=fig.add_subplot(111)\n",
    "i = 0;\n",
    "#print(plt.rcParams['axes.prop_cycle'].by_key()['color'][i])\n",
    "print('[Tc     B     error_T-  error_T+    error_B-   error_B+]')\n",
    "for key in R_T_fitting.B_values_dict:\n",
    "    #if key in [0.2, 1.1, 1.65, 2.33, 3.15, 3.65, 3.75, 3.85, 3.85]: #< 0.1 and key>0:\n",
    "    if key in np.round(np.arange(0.0,0.01,0.01),2).tolist():# %1==0:#in [2.26, 2.27, 2.28, 2.29, 2.30, 2.31, 2.32, 2.33, 3.03]:\n",
    "        color = plt.rcParams['axes.prop_cycle'].by_key()['color'][i]\n",
    "        #ax.plot(R_T_fitting.B_values_dict[key][:,0], R_T_fitting.B_values_dict[key][:,1], 'x', label=f'raw {abs(key)}T', cmap='Paired')\n",
    "        #ax.plot(R_T_fitting.B_values_dict[key][:,0], R_T_fitting.B_values_dict[key][:,1], 'x', label=f'raw {abs(key)}T',color=color)\n",
    "        #ax.plot(R_T_fitting.B_values_dict_fit[key][1][0], R_T_fitting.B_values_dict_fit[key][1][1], '-', label=f'fit {abs(key)}T',color=color)\n",
    "        #print(r'$B = \\SI{'+str(abs(key))+r'}{\\tesla}$')\n",
    "        ax.plot(R_T_fitting.B_values_dict[key][:,0], R_T_fitting.B_values_dict[key][:,1], '.-', label=r'$B = \\SI{'+format_D_legend.format(abs(key))+r'}{\\tesla}$',color=color) #str(floor(abs(key)))\n",
    "\n",
    "            #        ax.plot(R_T_fitting.B_values_dict[key][:,0], R_T_fitting.B_values_dict[key][:,1],linestyle='',marker=next(marker), label=r'$B = \\SI{'+str(key)+r'}{\\tesla}$',color=color) #str(floor(abs(key)))\n",
    "        #ax.plot(R_T_fitting.B_values_dict[key][:,0], R_T_fitting.B_values_dict[key][:,1], linestyle='', marker=next(marker), label=r'$B = \\SI{'+format_D_legend.format(abs(key))+r'}{\\tesla}$', color=color) #str(floor(abs(key)))\n",
    "\n",
    "#         ax.errorbar(R_T_fitting.B_values_dict[key][:,0], R_T_fitting.B_values_dict[key][:,1], yerr=R_T_fitting.B_values_dict_fit[key][2][1],\\\n",
    "#                     xerr=R_T_fitting.B_values_dict_fit[key][2][0], fmt=next(marker), color=color, ecolor=color) \n",
    "#         ax.plot(R_T_fitting.B_values_dict_fit[key][1][0], R_T_fitting.B_values_dict_fit[key][1][1], '-', color=color)\n",
    "        \n",
    "        #print(R_T_fitting.Bc2[R_T_fitting.Bc2[:,1]==key])\n",
    "#         print(f\"{key}: scalar    mu     sigma\")\n",
    "#         print(np.sqrt(np.diag(R_T_fitting.B_values_dict_fit[key][0]['cov'])))\n",
    "        i = i+1;\n",
    "#plt.xlabel(r'Temperature (K)')\n",
    "#plt.ylabel(r'Resistance (Ohm)')\n",
    "plt.xlabel(r'Temperature / K')\n",
    "plt.ylabel(r'Resistance / $\\si{\\ohm}$')\n",
    "#plt.title(r\"R against T at different B-Fields\")\n",
    "ax.tick_params(direction='in', bottom=True, top=True, left=True, right=True)\n",
    "legend = ax.legend(markerscale=1, loc='best', handlelength=2.5, labelspacing=0.5, frameon=False, columnspacing=1)\n",
    "\n",
    "\n",
    "# plot widget\n",
    "# fig.canvas.layout.width = '7in'\n",
    "# fig.canvas.layout.height= '6in'\n",
    "\n",
    "# plot PDF\n",
    "plt.tight_layout()\n",
    "pdf.savefig(bbox_inches='tight')\n",
    "pdf.close()"
   ]
  },
  {
   "cell_type": "markdown",
   "metadata": {},
   "source": [
    "#### Diffusivity plots"
   ]
  },
  {
   "cell_type": "code",
   "execution_count": 403,
   "metadata": {},
   "outputs": [
    {
     "name": "stderr",
     "output_type": "stream",
     "text": [
      "C:\\Users\\Noah.Ploch\\Program\\Anaconda\\lib\\site-packages\\ipywidgets\\widgets\\widget.py:412: DeprecationWarning: Passing unrecoginized arguments to super(Canvas).__init__().\n",
      "__init__() missing 1 required positional argument: 'figure'\n",
      "This is deprecated in traitlets 4.2.This error will be raised in a future release of traitlets.\n",
      "  super(Widget, self).__init__(**kwargs)\n",
      "C:\\Users\\Noah.Ploch\\Program\\Anaconda\\lib\\site-packages\\ipywidgets\\widgets\\widget.py:412: DeprecationWarning: Passing unrecoginized arguments to super(Toolbar).__init__().\n",
      "__init__() missing 1 required positional argument: 'canvas'\n",
      "This is deprecated in traitlets 4.2.This error will be raised in a future release of traitlets.\n",
      "  super(Widget, self).__init__(**kwargs)\n"
     ]
    },
    {
     "data": {
      "application/vnd.jupyter.widget-view+json": {
       "model_id": "",
       "version_major": 2,
       "version_minor": 0
      },
      "text/plain": [
       "Canvas(toolbar=Toolbar(toolitems=[('Home', 'Reset original view', 'home', 'home'), ('Back', 'Back to previous …"
      ]
     },
     "metadata": {},
     "output_type": "display_data"
    },
    {
     "name": "stdout",
     "output_type": "stream",
     "text": [
      "151.7798535723302\n",
      "Len raw data:  14\n",
      "Diffusivity RT, Error:  0.6330664043501343 0.0560334053367878\n"
     ]
    }
   ],
   "source": [
    "%matplotlib widget\n",
    "\n",
    "# plot pdf\n",
    "# pdfname = '6nm400Celsius_D.pdf'\n",
    "# pdf = PdfPages(pdfname)\n",
    "\n",
    "fig=plt.figure()\n",
    "ax=fig.add_subplot(111)\n",
    "R_T_fitting=B_sweep(data, 'r_t_sweeps')\n",
    "R_T_fitting.fit_all_sweeps(R_T_fitting.B_values_dict)\n",
    "R_T_fitting.get_Bc2()\n",
    "R_T_fitting.get_Diffusivity()\n",
    "#special_fit = R_T_fitting.linear_fit(R_T_fitting.Bc2[20:-3,0], R_T_fitting.Bc2[20:-3,1])\n",
    "ax.plot(R_T_fitting.Bc2[:,0], R_T_fitting.Bc2[:,1], '.', label=\"Raw data\")\n",
    "ax.fill_between(R_T_fitting.Bc2[:,0], R_T_fitting.Bc2[:,1]-R_T_fitting.Bc2[:,4], R_T_fitting.Bc2[:,1]+R_T_fitting.Bc2[:,5], \n",
    "                    alpha=0.5, edgecolor='#CC4F1B', facecolor='#FF9848',\n",
    "                    linewidth=0.2)\n",
    "lower_error_T = R_T_fitting.Bc2[:,0]-R_T_fitting.Bc2[:,2]\n",
    "upper_error_T = R_T_fitting.Bc2[:,0]+R_T_fitting.Bc2[:,3]\n",
    "ax.plot(lower_error_T, R_T_fitting.Bc2[:,1], '-', label = 'T-error minus')\n",
    "\n",
    "#print([lower_error_T, upper_error_T])\n",
    "# ax.fill(np.append(lower_error_T, upper_error_T[::-1]), np.append(R_T_fitting.Bc2[:,1], R_T_fitting.Bc2[::-1,1]),\n",
    "#                     alpha=0.2, edgecolor='#1B2ACC', facecolor='#089FFF',\n",
    "#                     linewidth=0.2)\n",
    "ax.plot(R_T_fitting.Bc2_fit[1][0], R_T_fitting.Bc2_fit[1][1], '-', label=\"Linear fit\")\n",
    "#ax.plot(R_B_fitting.Bc2[:,0], R_B_fitting.Bc2[:,1], '.', label=\"RB DP\")\n",
    "#ax.plot(R_B_fitting.Bc2_fit[1][0], R_B_fitting.Bc2_fit[1][1], '-', label=\"RB fit\")\n",
    "#ax.plot(special_fit[1][0], special_fit[1][1], '-', label=\"RT special fit\")\n",
    "#RT_special.Bc2 = R_T_fitting.Bc2[0:50,:]\n",
    "#RT_special.get_Diffusivity()\n",
    "#ax.text(0.5,0.2,r'$D = \\SI{'+str(np.round(R_T_fitting.D, 3))+r'}{cm^2/s}$', bbox=dict(fc='white', ec=\"black\", lw=1), ha='right', va='top', transform=ax.transAxes)\n",
    "ax.text(0.5,0.2,r'$D = \\SI{'+str(np.round(R_T_fitting.D[0], 3))+r'}{cm^2/s}$', ha='right', va='top', transform=ax.transAxes)\n",
    "print(\"Diffusivity RT, Error: \", R_T_fitting.D[0], R_T_fitting.D[1])\n",
    "#ax.legend()\n",
    "#plt.title(\"Critical magnetic field against temperature (6nm, 400°C)\")\n",
    "plt.ylabel(r\"$B_{c2}$ / $\\si{\\tesla}$\")\n",
    "plt.xlabel(r\"Temperature / $\\si{\\kelvin}$\")\n",
    "\n",
    "# plot widget\n",
    "# fig.canvas.layout.width = '7in'\n",
    "# fig.canvas.layout.height= '6in'\n",
    "\n",
    "# plot PDF\n",
    "# plt.tight_layout()\n",
    "# pdf.savefig(bbox_inches='tight')\n",
    "# pdf.close()"
   ]
  },
  {
   "cell_type": "markdown",
   "metadata": {},
   "source": [
    "## Save data"
   ]
  },
  {
   "cell_type": "markdown",
   "metadata": {},
   "source": [
    "### Prepare saving"
   ]
  },
  {
   "cell_type": "code",
   "execution_count": 171,
   "metadata": {},
   "outputs": [
    {
     "name": "stdout",
     "output_type": "stream",
     "text": [
      "200217_191218A_1Tsweeps_4nm_100C_105ArN\n"
     ]
    }
   ],
   "source": [
    "path_Bc2vsT = '\\\\\\\\file\\\\e24\\\\Projects\\\\FinleyLab\\\\_IQPGroup\\\\_SSPDs\\\\Data\\\\Diffusivity\\\\Data_evaluated\\\\Bc2_vs_T'\n",
    "\n",
    "path_0T = '\\\\\\\\file\\\\e24\\\\Projects\\\\FinleyLab\\\\_IQPGroup\\\\_SSPDs\\\\Data\\\\Diffusivity\\\\Data_evaluated\\\\Tc_sweeps\\\\from_0T_sweeps'\n",
    "#path_0T = path_0T + '\\\\test_sweep_comparison_magnetic_field_influence'\n",
    "\n",
    "path_RvsT = '\\\\\\\\file\\\\e24\\\\Projects\\\\FinleyLab\\\\_IQPGroup\\\\_SSPDs\\\\Data\\\\Diffusivity\\\\Data_evaluated\\\\R_vs_T'\n",
    "\n",
    "path_Dvsparam = '\\\\\\\\file\\\\e24\\\\Projects\\\\FinleyLab\\\\_IQPGroup\\\\_SSPDs\\\\Data\\\\Diffusivity\\\\Data_evaluated\\\\Diffusivity_vs_parameters'\n",
    "\n",
    "thickness = '4nm'\n",
    "temperature = '100C'\n",
    "ratio = '105ArN'\n",
    "\n",
    "date_sample = re.search(r'\\d{6}_\\d{6}\\w_', filename_probe[0])[0]\n",
    "try:\n",
    "    sample_postfix = re.search(r'_diffusweep_\\w*', filename_probe[0])[0]\n",
    "    sample_postfix = sample_postfix[12:] \n",
    "except:\n",
    "    sample_postfix = ''\n",
    "date_sample = date_sample + sample_postfix\n",
    "sample_param = '_' + thickness + '_' + temperature + '_' + ratio\n",
    "print(date_sample+sample_param)\n",
    "name_RvsT_0T = path_0T + '\\\\' + date_sample + 'RvsT0T' + sample_param + '.txt'\n",
    "name_RvsT_1T = path_0T + '\\\\' + date_sample + 'RvsT1T' + sample_param + '.txt'\n",
    "name_RvsT_2T = path_0T + '\\\\' + date_sample + 'RvsT2T' + sample_param + '.txt'\n",
    "name_RvsT_3T = path_0T + '\\\\' + date_sample + 'RvsT3T' + sample_param + '.txt'\n",
    "name_Bc2vsT = path_Bc2vsT + '\\\\' + date_sample + 'Bc2vsT' + sample_param + '.txt'\n",
    "\n",
    "pdfname_RvsT = path_RvsT + '\\\\' + date_sample + 'RvsT' + sample_param\n",
    "pdfname_Bc2vsT = path_Bc2vsT + '\\\\' + 'plots' + '\\\\' + date_sample + 'Bc2vsT' + sample_param "
   ]
  },
  {
   "cell_type": "markdown",
   "metadata": {},
   "source": [
    "### Save 0T and Bc2 vs T"
   ]
  },
  {
   "cell_type": "code",
   "execution_count": 172,
   "metadata": {
    "lines_to_next_cell": 2
   },
   "outputs": [
    {
     "name": "stdout",
     "output_type": "stream",
     "text": [
      "[9.658774832251801, 429.4310998735777]\n",
      "Len raw data:  34\n"
     ]
    },
    {
     "name": "stderr",
     "output_type": "stream",
     "text": [
      "C:\\Users\\Noah.Ploch\\Program\\Anaconda\\lib\\site-packages\\ipykernel_launcher.py:307: RuntimeWarning: overflow encountered in float_power\n"
     ]
    }
   ],
   "source": [
    "R_T_fitting=B_sweep(data, 'r_t_sweeps')\n",
    "R_T_fitting.fit_all_sweeps(R_T_fitting.B_values_dict)\n",
    "R_T_fitting.get_Bc2()\n",
    "R_T_fitting.get_Diffusivity()\n",
    "# data Tc curve\n",
    "Tc_dict = {'raw_T': R_T_fitting.B_values_dict[0.00][:,0], 'raw_R': R_T_fitting.B_values_dict[0.00][:,1]}\n",
    "#Tc_dict = {'raw_T': np.append(R_T_fitting.B_values_dict[0.0][:,0], [[np.nan]*(len(R_T_fitting.B_values_dict_fit[0.0][1][0])-len(R_T_fitting.B_values_dict[0.0][:,0]))]), 'raw_R': np.append(R_T_fitting.B_values_dict[0.0][:,1], [[np.nan]*(len(R_T_fitting.B_values_dict_fit[0.0][1][1])-len(R_T_fitting.B_values_dict[0.0][:,0]))]), 'fit_T': R_T_fitting.B_values_dict_fit[0.0][1][0], 'fit_R': R_T_fitting.B_values_dict_fit[0.0][1][1]}\n",
    "df = pd.DataFrame(Tc_dict) # create pandas dataframe\n",
    "#print(path + '\\\\' + file_name_Tc + 'Tc_data.txt')\n",
    "df.to_csv(Path(name_RvsT_0T), sep='\\t') # save dataframe\n",
    "\n",
    "# data Diffusivity curve\n",
    "Diffu_dict = {'raw_T': R_T_fitting.Bc2[:,0], 'raw_B': R_T_fitting.Bc2[:,1]} # change Tc, only raw data\n",
    "df = pd.DataFrame(Diffu_dict)\n",
    "df.to_csv(Path(name_Bc2vsT), sep='\\t')\n",
    "\n",
    "#np.savetxt(path_Tc, Diffu_dict, delimiter='\\t')\n",
    "\n",
    "# special save of several magnetic field RvsT\n",
    "# list1 = [[0.00, name_RvsT_0T], [1.00, name_RvsT_1T], [2.00, name_RvsT_2T], [3.00, name_RvsT_3T]]\n",
    "# for i in list1:\n",
    "#     Tc_dict = {'raw_T': R_T_fitting.B_values_dict[i[0]][:,0], 'raw_R': R_T_fitting.B_values_dict[i[0]][:,1]}\n",
    "#     #Tc_dict = {'raw_T': np.append(R_T_fitting.B_values_dict[0.0][:,0], [[np.nan]*(len(R_T_fitting.B_values_dict_fit[0.0][1][0])-len(R_T_fitting.B_values_dict[0.0][:,0]))]), 'raw_R': np.append(R_T_fitting.B_values_dict[0.0][:,1], [[np.nan]*(len(R_T_fitting.B_values_dict_fit[0.0][1][1])-len(R_T_fitting.B_values_dict[0.0][:,0]))]), 'fit_T': R_T_fitting.B_values_dict_fit[0.0][1][0], 'fit_R': R_T_fitting.B_values_dict_fit[0.0][1][1]}\n",
    "#     df = pd.DataFrame(Tc_dict) # create pandas dataframe\n",
    "#     #print(path + '\\\\' + file_name_Tc + 'Tc_data.txt')\n",
    "#     df.to_csv(Path(i[1]), sep='\\t') # save dataframe\n",
    "\n",
    "\n",
    "\n",
    "# to create folders: os.makedirs, to ckeck whether folder exists: something with os...exists\n",
    "\n",
    "#ax.plot(R_T_fitting.Bc2[:,0], R_T_fitting.Bc2[:,1], 'x', label=\"Raw data\")\n",
    "#ax.plot(R_T_fitting.Bc2_fit[1][0], R_T_fitting.Bc2_fit[1][1], '-', label=\"Linear fit\")\n"
   ]
  },
  {
   "cell_type": "code",
   "execution_count": 29,
   "metadata": {},
   "outputs": [
    {
     "name": "stdout",
     "output_type": "stream",
     "text": [
      "58.930373360242186\n",
      "Len raw data:  60\n"
     ]
    },
    {
     "name": "stderr",
     "output_type": "stream",
     "text": [
      "C:\\Users\\Noah.Ploch\\Program\\Anaconda\\lib\\site-packages\\ipykernel_launcher.py:302: RuntimeWarning: overflow encountered in float_power\n",
      "C:\\Users\\Noah.Ploch\\Program\\Anaconda\\lib\\site-packages\\ipykernel_launcher.py:302: RuntimeWarning: divide by zero encountered in true_divide\n",
      "C:\\Users\\Noah.Ploch\\Program\\Anaconda\\lib\\site-packages\\ipykernel_launcher.py:302: RuntimeWarning: overflow encountered in true_divide\n"
     ]
    }
   ],
   "source": [
    "# R_T_fitting=B_sweep(data, 'r_t_sweeps')\n",
    "# R_T_fitting.fit_all_sweeps(R_T_fitting.B_values_dict)\n",
    "# R_T_fitting.get_Bc2()\n",
    "# R_T_fitting.get_Diffusivity()\n",
    "# name_Bc2vsT_spec = 'C:\\\\Users\\\\Noah.Ploch\\\\OneDrive - Walter Schottky Institut\\\\Plots\\\\'\\\n",
    "#             'use\\\\Bc2vsT_200116_1T.dat'\n",
    "# # data Diffusivity curve\n",
    "# Diffu_dict = {'raw_T': R_T_fitting.Bc2[:,0], 'raw_B': R_T_fitting.Bc2[:,1], 'fit_T':R_T_fitting.Bc2_fit[1][0], 'fit_R':R_T_fitting.Bc2_fit[1][1]} # change Tc, only raw data\n",
    "# df = pd.DataFrame(Diffu_dict)\n",
    "# df.to_csv(Path(name_Bc2vsT_spec), sep='\\t')"
   ]
  },
  {
   "cell_type": "code",
   "execution_count": 35,
   "metadata": {},
   "outputs": [
    {
     "name": "stdout",
     "output_type": "stream",
     "text": [
      "58.930373360242186\n",
      "Len raw data:  60\n"
     ]
    },
    {
     "name": "stderr",
     "output_type": "stream",
     "text": [
      "C:\\Users\\Noah.Ploch\\Program\\Anaconda\\lib\\site-packages\\ipykernel_launcher.py:302: RuntimeWarning: overflow encountered in float_power\n",
      "C:\\Users\\Noah.Ploch\\Program\\Anaconda\\lib\\site-packages\\ipykernel_launcher.py:302: RuntimeWarning: divide by zero encountered in true_divide\n",
      "C:\\Users\\Noah.Ploch\\Program\\Anaconda\\lib\\site-packages\\ipykernel_launcher.py:302: RuntimeWarning: overflow encountered in true_divide\n"
     ]
    }
   ],
   "source": [
    "# R_T_fitting=B_sweep(data, 'r_t_sweeps')\n",
    "# R_T_fitting.fit_all_sweeps(R_T_fitting.B_values_dict)\n",
    "# R_T_fitting.get_Bc2()\n",
    "# R_T_fitting.get_Diffusivity()\n",
    "# name_RvsT_spec = 'C:\\\\Users\\\\Noah.Ploch\\\\OneDrive - Walter Schottky Institut\\\\Plots\\\\'\\\n",
    "#             'use\\\\RvsT_200116_1T_'\n",
    "# Dict_RvsT = {}\n",
    "# fitting_function = 'richards'\n",
    "# for key in R_T_fitting.B_values_dict:\n",
    "#     #if key in [0.2, 1.1, 1.65, 2.33, 3.15, 3.65, 3.75, 3.85, 3.85]: #< 0.1 and key>0:\n",
    "#     if key in np.round(np.arange(0.0,1.0,0.2),2).tolist():# %1==0:#in [2.26, 2.27, 2.28, 2.29, 2.30, 2.31, 2.32, 2.33, 3.03]:\n",
    "#         #color = plt.rcParams['axes.prop_cycle'].by_key()['color'][i]\n",
    "#         #ax.plot(R_T_fitting.B_values_dict[key][:,0], R_T_fitting.B_values_dict[key][:,1], 'x', label=f'raw {abs(key)}T', cmap='Paired')\n",
    "#         #ax.plot(R_T_fitting.B_values_dict[key][:,0], R_T_fitting.B_values_dict[key][:,1], 'x', label=f'raw {abs(key)}T',color=color)\n",
    "#         #ax.plot(R_T_fitting.B_values_dict_fit[key][1][0], R_T_fitting.B_values_dict_fit[key][1][1], '-', label=f'fit {abs(key)}T',color=color)\n",
    "#         #print(r'$B = \\SI{'+str(abs(key))+r'}{\\tesla}$')\n",
    "#         Dict_RvsT = {}\n",
    "#         Dict_RvsT[str(abs(key))+'T_rawT'] = np.concatenate((R_T_fitting.B_values_dict[key][:,0], -1*np.ones(len(R_T_fitting.B_values_dict_fit[key][fitting_function][1][0])-len(R_T_fitting.B_values_dict[key][:,0])) ))\n",
    "#         Dict_RvsT[str(abs(key))+'T_rawR'] = np.concatenate((R_T_fitting.B_values_dict[key][:,1], -1*np.ones(len(R_T_fitting.B_values_dict_fit[key][fitting_function][1][0])-len(R_T_fitting.B_values_dict[key][:,0])) ))\n",
    "#         Dict_RvsT[str(abs(key))+'T_fitT'] = R_T_fitting.B_values_dict_fit[key][fitting_function][1][0]\n",
    "#         Dict_RvsT[str(abs(key))+'T_fitR'] = R_T_fitting.B_values_dict_fit[key][fitting_function][1][1]\n",
    "#         #print(len(Dict_RvsT[str(abs(key))+'T_rawT']), len(Dict_RvsT[str(abs(key))+'T_rawR']), len(Dict_RvsT[str(abs(key))+'T_fitT']), len(Dict_RvsT[str(abs(key))+'T_fitR']))\n",
    "#         df = pd.DataFrame(Dict_RvsT)\n",
    "#         df.to_csv(Path(name_RvsT_spec+str(abs(key))+'T.dat'), sep='\\t')"
   ]
  },
  {
   "cell_type": "markdown",
   "metadata": {},
   "source": [
    "### Save plots"
   ]
  },
  {
   "cell_type": "markdown",
   "metadata": {},
   "source": [
    "#### R vs T"
   ]
  },
  {
   "cell_type": "code",
   "execution_count": 174,
   "metadata": {
    "lines_to_next_cell": 2
   },
   "outputs": [
    {
     "name": "stdout",
     "output_type": "stream",
     "text": [
      "[9.658774832251801, 429.4310998735777]\n",
      "Len raw data:  34\n"
     ]
    },
    {
     "name": "stderr",
     "output_type": "stream",
     "text": [
      "C:\\Users\\Noah.Ploch\\Program\\Anaconda\\lib\\site-packages\\ipykernel_launcher.py:307: RuntimeWarning: overflow encountered in float_power\n",
      "C:\\Users\\Noah.Ploch\\Program\\Anaconda\\lib\\site-packages\\ipywidgets\\widgets\\widget.py:412: DeprecationWarning: Passing unrecoginized arguments to super(Canvas).__init__().\n",
      "__init__() missing 1 required positional argument: 'figure'\n",
      "This is deprecated in traitlets 4.2.This error will be raised in a future release of traitlets.\n",
      "  super(Widget, self).__init__(**kwargs)\n",
      "C:\\Users\\Noah.Ploch\\Program\\Anaconda\\lib\\site-packages\\ipywidgets\\widgets\\widget.py:412: DeprecationWarning: Passing unrecoginized arguments to super(Toolbar).__init__().\n",
      "__init__() missing 1 required positional argument: 'canvas'\n",
      "This is deprecated in traitlets 4.2.This error will be raised in a future release of traitlets.\n",
      "  super(Widget, self).__init__(**kwargs)\n"
     ]
    },
    {
     "data": {
      "application/vnd.jupyter.widget-view+json": {
       "model_id": "",
       "version_major": 2,
       "version_minor": 0
      },
      "text/plain": [
       "Canvas(toolbar=Toolbar(toolitems=[('Home', 'Reset original view', 'home', 'home'), ('Back', 'Back to previous …"
      ]
     },
     "metadata": {},
     "output_type": "display_data"
    },
    {
     "name": "stdout",
     "output_type": "stream",
     "text": [
      "[]\n"
     ]
    }
   ],
   "source": [
    "#%matplotlib widget\n",
    "#RT_special = B_sweep(data, 'r_t_sweeps')\n",
    "marker = itertools.cycle(('x', '1', '2', '3','4')) \n",
    "markersize = ['5', '6', '6', '6', '6']\n",
    "markersize = ['4', '5', '5', '5', '5', '5']\n",
    "\n",
    "# plot PDF\n",
    "pdfname = pdfname_RvsT +'.pdf'\n",
    "pdf = PdfPages(pdfname)\n",
    "\n",
    "R_T_fitting=B_sweep(data, 'r_t_sweeps')\n",
    "R_T_fitting.fit_area = 'full'\n",
    "R_T_fitting.fit_limit = 3\n",
    "R_T_fitting.fit_all_sweeps(R_T_fitting.B_values_dict)\n",
    "R_T_fitting.get_Bc2()\n",
    "#R_T_fitting.get_Diffusivity()\n",
    "#print(plt.rcParams['axes.prop_cycle'].by_key()['color'])\n",
    "fig = plt.figure()\n",
    "ax=fig.add_subplot(111)\n",
    "i = 0;\n",
    "#print(plt.rcParams['axes.prop_cycle'].by_key()['color'][i])\n",
    "\n",
    "# Error tubes\n",
    "fitting_function = 'richards'\n",
    "print(R_T_fitting.fit_fail)\n",
    "for key in R_T_fitting.B_values_dict_fit:\n",
    "    if key in [0.0, 0.2, 0.4, 0.6, 0.8, 1.0]:#[0, 1.0, 2.0, 3.0, 4.0]:#np.round(np.arange(0,1.0,0.2),2).tolist():#\n",
    "        color = plt.rcParams['axes.prop_cycle'].by_key()['color'][i]\n",
    "        #print(r'$B = \\SI{'+str(abs(key))+r'}{\\tesla}$')\n",
    "#        ax.plot(R_T_fitting.B_values_dict[key][:,0], R_T_fitting.B_values_dict[key][:,1],linestyle='',marker=next(marker), label=r'$B = \\SI{'+str(key)+r'}{\\tesla}$',color=color) #str(floor(abs(key)))\n",
    "#         slice fit array so that it ends and starts with the raw data points\n",
    "        \n",
    "        #slice_fit_T = R_T_fitting.B_values_dict_fit[key][fitting_function][1][0][(R_T_fitting.B_values_dict_fit[key][fitting_function][1][0] <= np.max(R_T_fitting.B_values_dict[key][:,0])) & (R_T_fitting.B_values_dict_fit[key][fitting_function][1][0] >= np.min(R_T_fitting.B_values_dict[key][:,0]))]\n",
    "        #slice_fit_R = R_T_fitting.B_values_dict_fit[key][fitting_function][1][1][(R_T_fitting.B_values_dict_fit[key][fitting_function][1][0] <= np.max(R_T_fitting.B_values_dict[key][:,0])) & (R_T_fitting.B_values_dict_fit[key][fitting_function][1][0] >= np.min(R_T_fitting.B_values_dict[key][:,0]))]\n",
    "        \n",
    "#         color = plt.rcParams['axes.prop_cycle'].by_key()['color'][3]\n",
    "#         a=34;b=38\n",
    "#         c=59;d=63\n",
    "#         rtx= R_T_fitting.B_values_dict[key][:,0]\n",
    "#         rty= R_T_fitting.B_values_dict[key][:,1]\n",
    "#         rtx= np.concatenate([rtx[34:38], rtx[59:63], rtx[79:83]])\n",
    "#         rty= np.concatenate([rty[34:38], rty[59:63], rty[79:83]])\n",
    "#         ax.plot(rtx, rty, '3', markersize=markersize[3], label=r'$B = \\SI{'+format_B_legend.format(abs(key))+r'}{\\tesla}$',color=color) #str(floor(abs(key)))\n",
    "# nur B\n",
    "#         ax.plot(R_T_fitting.B_values_dict[key][:,0], R_T_fitting.B_values_dict[key][:,1], '3', markersize=markersize[3], label=r'$B = \\SI{'+format_B_legend.format(abs(key))+r'}{\\tesla}$',color=color) #str(floor(abs(key)))\n",
    "# Tbc2 und B\n",
    "#         ax.plot(R_T_fitting.B_values_dict[key][:,0], R_T_fitting.B_values_dict[key][:,1], next(marker), markersize=markersize[i], color=color, \n",
    "#         label=r'$B = \\SI{'+format_B2_legend.format(abs(key))+r'}{\\tesla}$'+r', $T_{B_\\text{c2}}=\\SI{'+format_D_legend.format(np.round(R_T_fitting.Tc[key]['richardsHp'],3)) + r'}{\\kelvin}$') # label=r'$B = \\SI{'+format_B_legend.format(key)+r'}{\\tesla}$'        \n",
    "# Präsentation BA\n",
    "        ax.plot(R_T_fitting.B_values_dict[key][:,0], R_T_fitting.B_values_dict[key][:,1], next(marker), markersize=markersize[i], color=color, \n",
    "        label=r'$\\SI{'+format_B2_legend.format(abs(key))+r'}{\\tesla}$'+r', $T_\\text{c}=\\SI{'+format_T_legend.format(np.round(R_T_fitting.Tc[key]['richardsHp'],3)) + r'}{\\kelvin}$') # label=r'$B = \\SI{'+format_B_legend.format(key)+r'}{\\tesla}$'        \n",
    "\n",
    "    \n",
    "#         ax.errorbar(R_T_fitting.B_values_dict[key][:,0], R_T_fitting.B_values_dict[key][:,1], yerr=R_T_fitting.B_values_dict_fit[key][2][1],\\\n",
    "#                     xerr=R_T_fitting.B_values_dict_fit[key][2][0], fmt=next(marker), elinewidth=0.1, capsize=0.5, capthick=0.1, color=color, ecolor=color) \n",
    "        # Error tubes\n",
    "#         ax.fill_between(R_T_fitting.B_values_dict[key][:,0], R_T_fitting.B_values_dict[key][:,1]-R_T_fitting.B_values_dict_fit[key]['errorTR'][:,1],\n",
    "#                     R_T_fitting.B_values_dict[key][:,1]+R_T_fitting.B_values_dict_fit[key]['errorTR'][:,1],\n",
    "#                     alpha=0.6, facecolor=color,\n",
    "#                     linewidth=0.0, label=r'Error in $R$')\n",
    "#         lower_error_T = R_T_fitting.B_values_dict[key][:,0]-R_T_fitting.B_values_dict_fit[key]['errorTR'][:,0]\n",
    "#         upper_error_T = R_T_fitting.B_values_dict[key][:,0]+R_T_fitting.B_values_dict_fit[key]['errorTR'][:,0]\n",
    "#         ax.fill(np.append(lower_error_T, upper_error_T[::-1]), np.append(R_T_fitting.B_values_dict[key][:,1], R_T_fitting.B_values_dict[key][::-1,1]),\n",
    "#                     alpha=0.2, facecolor=color,\n",
    "#                     linewidth=0.0, label=r'Error in $T$')\n",
    "\n",
    "#         Error rectangles\n",
    "        xy = (R_T_fitting.B_values_dict[key][0,0]-R_T_fitting.B_values_dict_fit[key]['errorTR'][0,0], R_T_fitting.B_values_dict[key][0,1]-R_T_fitting.B_values_dict_fit[key]['errorTR'][0,1])\n",
    "        width = 2*R_T_fitting.B_values_dict_fit[key]['errorTR'][0,0]\n",
    "        height = 2*R_T_fitting.B_values_dict_fit[key]['errorTR'][0,1]\n",
    "        ax.add_patch(pat.Rectangle(xy, width, height, alpha=0.1, label = r'Error in ($T$,$R$)', linewidth=0.0, facecolor=color))\n",
    "        for j, k in zip(R_T_fitting.B_values_dict[key][1:,:], R_T_fitting.B_values_dict_fit[key]['errorTR'][1:,:]):\n",
    "            xy = (j[0]-k[0], j[1]-k[1])\n",
    "            width = 2*k[0]\n",
    "            height = 2*k[1]\n",
    "            ax.add_patch(pat.Rectangle(xy, width, height, alpha=0.1, linewidth=0.0, facecolor=color))\n",
    "        \n",
    "       # ax.plot(slice_fit_T, slice_fit_R, '-', color=color, label=r'$B = \\SI{'+format_B_legend.format(key)+r'}{\\tesla}$', linewidth = 0.7)\n",
    "        ax.plot(R_T_fitting.B_values_dict_fit[key][fitting_function][1][0], R_T_fitting.B_values_dict_fit[key][fitting_function][1][1], '-', color=color, linewidth = 0.9, alpha=0.9)\n",
    "        i = i+1;\n",
    "\n",
    "#plt.xlabel(r'Temperature (K)')\n",
    "#plt.ylabel(r'Resistance (Ohm)')\n",
    "plt.xlabel(r'Temperature / $\\si{\\kelvin}$')\n",
    "plt.ylabel(r'Resistance / $\\si{\\ohm}$')\n",
    "# plt.xlim(3.7,16.3)\n",
    "# plt.ylim(-3,63)\n",
    "handles, labels = plt.gca().get_legend_handles_labels()\n",
    "order = [0,1,2,3,4,5]\n",
    "order = [0,1,2,3,4]\n",
    "ax.tick_params(direction='in', bottom=True, top=True, left=True, right=True)\n",
    "legend = ax.legend([handles[idx] for idx in order],[labels[idx] for idx in order], handletextpad=0.1, markerscale=1, loc='best', handlelength=2.5, labelspacing=0.5, frameon=False, columnspacing=0.5)\n",
    "# legend = ax.legend(handletextpad=0.1, markerscale=1, loc='best', handlelength=2.5, labelspacing=0.5, frameon=False, columnspacing=0.5)\n",
    "\n",
    "#legend.get_frame().set_linewidth(0.0)\n",
    "\n",
    "#plot PDF\n",
    "plt.tight_layout()\n",
    "pdf.savefig(bbox_inches='tight')\n",
    "pdf.close()"
   ]
  },
  {
   "cell_type": "markdown",
   "metadata": {},
   "source": [
    "#### Diffusivity: Bc2 vs T"
   ]
  },
  {
   "cell_type": "code",
   "execution_count": 294,
   "metadata": {
    "lines_to_next_cell": 2
   },
   "outputs": [
    {
     "name": "stdout",
     "output_type": "stream",
     "text": [
      "108.71432179843396\n",
      "Len raw data:  29\n"
     ]
    },
    {
     "name": "stderr",
     "output_type": "stream",
     "text": [
      "C:\\Users\\Noah.Ploch\\Program\\Anaconda\\lib\\site-packages\\ipykernel_launcher.py:299: RuntimeWarning: overflow encountered in float_power\n",
      "C:\\Users\\Noah.Ploch\\Program\\Anaconda\\lib\\site-packages\\ipykernel_launcher.py:299: RuntimeWarning: divide by zero encountered in true_divide\n",
      "C:\\Users\\Noah.Ploch\\Program\\Anaconda\\lib\\site-packages\\ipykernel_launcher.py:299: RuntimeWarning: overflow encountered in true_divide\n",
      "C:\\Users\\Noah.Ploch\\Program\\Anaconda\\lib\\site-packages\\ipykernel_launcher.py:473: RuntimeWarning: invalid value encountered in log\n",
      "C:\\Users\\Noah.Ploch\\Program\\Anaconda\\lib\\site-packages\\ipywidgets\\widgets\\widget.py:412: DeprecationWarning: Passing unrecoginized arguments to super(Canvas).__init__().\n",
      "__init__() missing 1 required positional argument: 'figure'\n",
      "This is deprecated in traitlets 4.2.This error will be raised in a future release of traitlets.\n",
      "  super(Widget, self).__init__(**kwargs)\n",
      "C:\\Users\\Noah.Ploch\\Program\\Anaconda\\lib\\site-packages\\ipywidgets\\widgets\\widget.py:412: DeprecationWarning: Passing unrecoginized arguments to super(Toolbar).__init__().\n",
      "__init__() missing 1 required positional argument: 'canvas'\n",
      "This is deprecated in traitlets 4.2.This error will be raised in a future release of traitlets.\n",
      "  super(Widget, self).__init__(**kwargs)\n"
     ]
    },
    {
     "data": {
      "application/vnd.jupyter.widget-view+json": {
       "model_id": "",
       "version_major": 2,
       "version_minor": 0
      },
      "text/plain": [
       "Canvas(toolbar=Toolbar(toolitems=[('Home', 'Reset original view', 'home', 'home'), ('Back', 'Back to previous …"
      ]
     },
     "metadata": {},
     "output_type": "display_data"
    },
    {
     "data": {
      "text/plain": [
       "Text(0.5, 0, 'Temperature (K)')"
      ]
     },
     "execution_count": 294,
     "metadata": {},
     "output_type": "execute_result"
    }
   ],
   "source": [
    "%matplotlib widget\n",
    "R_T_fitting = B_sweep(data, 'r_t_sweeps')\n",
    "R_T_fitting.fit_area = 'full'\n",
    "R_T_fitting.fit_limit = 3\n",
    "R_T_fitting.fit_all_sweeps(R_T_fitting.B_values_dict)\n",
    "R_T_fitting.get_Bc2()\n",
    "R_T_fitting.get_Diffusivity()\n",
    "fig=plt.figure()\n",
    "ax=fig.add_subplot(111)\n",
    "ax.plot(R_T_fitting.Bc2[:,0], R_T_fitting.Bc2[:,1], 'x', label=\"Raw data\")\n",
    "#ax.plot(R_T_fitting.Bc2_fit[1][0], R_T_fitting.Bc2_fit[1][1], '-', label=\"Linear fit\")\n",
    "#ax.text(0.5,0.2,r'$D = \\SI{'+str(np.round(R_T_fitting.D, 3))+r'}{cm^2/s}$', ha='right', va='top', transform=ax.transAxes)\n",
    "plt.ylabel(\"Magnetic field (T)\")\n",
    "plt.xlabel(\"Temperature (K)\")\n",
    "# plot widget\n",
    "# fig.canvas.layout.width = '7in'\n",
    "# fig.canvas.layout.height= '6in'"
   ]
  },
  {
   "cell_type": "code",
   "execution_count": 175,
   "metadata": {},
   "outputs": [
    {
     "name": "stdout",
     "output_type": "stream",
     "text": [
      "[9.658774832251801, 429.4310998735777]\n",
      "Len raw data:  34\n"
     ]
    },
    {
     "name": "stderr",
     "output_type": "stream",
     "text": [
      "C:\\Users\\Noah.Ploch\\Program\\Anaconda\\lib\\site-packages\\ipykernel_launcher.py:307: RuntimeWarning: overflow encountered in float_power\n",
      "C:\\Users\\Noah.Ploch\\Program\\Anaconda\\lib\\site-packages\\ipywidgets\\widgets\\widget.py:412: DeprecationWarning: Passing unrecoginized arguments to super(Canvas).__init__().\n",
      "__init__() missing 1 required positional argument: 'figure'\n",
      "This is deprecated in traitlets 4.2.This error will be raised in a future release of traitlets.\n",
      "  super(Widget, self).__init__(**kwargs)\n",
      "C:\\Users\\Noah.Ploch\\Program\\Anaconda\\lib\\site-packages\\ipywidgets\\widgets\\widget.py:412: DeprecationWarning: Passing unrecoginized arguments to super(Toolbar).__init__().\n",
      "__init__() missing 1 required positional argument: 'canvas'\n",
      "This is deprecated in traitlets 4.2.This error will be raised in a future release of traitlets.\n",
      "  super(Widget, self).__init__(**kwargs)\n"
     ]
    },
    {
     "data": {
      "application/vnd.jupyter.widget-view+json": {
       "model_id": "",
       "version_major": 2,
       "version_minor": 0
      },
      "text/plain": [
       "Canvas(toolbar=Toolbar(toolitems=[('Home', 'Reset original view', 'home', 'home'), ('Back', 'Back to previous …"
      ]
     },
     "metadata": {},
     "output_type": "display_data"
    },
    {
     "name": "stdout",
     "output_type": "stream",
     "text": [
      "slope    Y-AchsenAbschnitt\n",
      "Diffusivity D, STD:  [0.38321451512264854, 0.003539244516859729]\n"
     ]
    }
   ],
   "source": [
    "%matplotlib widget\n",
    "\n",
    "test_fitting = B_sweep(data, 'r_t_sweeps')\n",
    "test_fitting.fit_area = 'full'\n",
    "test_fitting.fit_limit = 3\n",
    "test_fitting.fit_all_sweeps(test_fitting.B_values_dict)\n",
    "test_fitting.get_Bc2()\n",
    "test_fitting.get_Diffusivity()\n",
    "original_Bc2 = test_fitting.Bc2\n",
    "slice_indices = []#[[100,-1]]\n",
    "\n",
    "\n",
    "# plot pdf\n",
    "pdfname = pdfname_Bc2vsT +  '.pdf' #'_bin3mT' + '_bin10mT' +\n",
    "pdf = PdfPages(pdfname)\n",
    "\n",
    "fig=plt.figure()\n",
    "ax=fig.add_subplot(111)\n",
    "\n",
    "# Error tubes\n",
    "ax.fill_between(test_fitting.Bc2[:,0], test_fitting.Bc2[:,1]-test_fitting.Bc2[:,4], test_fitting.Bc2[:,1]+test_fitting.Bc2[:,5], \n",
    "                    alpha=0.3, edgecolor='gray', facecolor='purple', #alpha=0.6 facecolor='gray'\n",
    "                    linewidth=0.0, label=r'Error in $B_\\text{c2}$', zorder=4)\n",
    "lower_error_T = test_fitting.Bc2[:,0]-test_fitting.Bc2[:,2]\n",
    "upper_error_T = test_fitting.Bc2[:,0]+test_fitting.Bc2[:,3]\n",
    "# ax.plot(lower_error_T, test_fitting.Bc2[:,1], 's', ms=1.0, mew=0)#, label = 'Error- in $T_{B_\\text{c2}}$'\n",
    "# ax.plot(upper_error_T, test_fitting.Bc2[:,1], 's', ms=1.0, mew=0)#, label = 'Error+ in $T_{B_\\text{c2}}$'\n",
    "# ax.plot(lower_error_T, test_fitting.Bc2[:,1], '-', linewidth=1.5, color='gray', label = r'Error in $T_{B_\\text{c2}}$')#, label = 'Error- in $T_{B_\\text{c2}}$'\n",
    "# ax.plot(upper_error_T, test_fitting.Bc2[:,1], '-', color='gray', linewidth=1.5)#, label = 'Error+ in $T_{B_\\text{c2}}$'\n",
    "#print([lower_error_T, upper_error_T])\n",
    "\n",
    "ax.fill(np.append(lower_error_T, upper_error_T[::-1]), np.append(test_fitting.Bc2[:,1], test_fitting.Bc2[::-1,1]),\n",
    "                    alpha=0.3, edgecolor='gray', facecolor='gray', #alpha=0.3 facecolor='gray'\n",
    "                    linewidth=0.0, label=r'Error in $T_{B_\\text{c2}}$', zorder=1)\n",
    "# Fits\n",
    "test_fitting.get_Diffusivity()\n",
    "#ax.plot(test_fitting.Bc2_fit[1][0], test_fitting.Bc2_fit[1][1], '-', label=r'$D = \\SI{'+ format_D_legend.format(np.round(test_fitting.D[0], 3)) + r'}{cm^2/s} \\SI{\\pm' + format_D_legend.format(np.round(test_fitting.D[1], 3)) + r'}{cm^2/s}$')    \n",
    "alpha_val=1.0\n",
    "ax.plot(test_fitting.Bc2_fit[1][0], test_fitting.Bc2_fit[1][1], linewidth=0.8, linestyle=(0, (5, 10)), alpha=alpha_val, zorder=3, label=r'$D = \\SI[multi-part-units=single]{'+ format_D_legend.format(np.round(test_fitting.D[0], 3)) + r'\\pm' + format_D_legend.format(np.round(test_fitting.D[1], 3)) + r'}{cm^2/s}$')    \n",
    "print(f\"slope    Y-AchsenAbschnitt\")\n",
    "#print(np.sqrt(np.diag(test_fitting.Bc2_fit[0]['cov'])))\n",
    "j=2\n",
    "for i in slice_indices:\n",
    "    color = plt.rcParams['axes.prop_cycle'].by_key()['color'][j]\n",
    "    test_fitting.Bc2 = original_Bc2[i[0]:i[1]]\n",
    "    test_fitting.get_Diffusivity()\n",
    "    ax.plot(test_fitting.Bc2_fit[1][0], test_fitting.Bc2_fit[1][1], linewidth=0.8, linestyle='dashed', alpha=alpha_val, zorder=3, color=color, label=r'$D = \\SI[multi-part-units=single]{'+ format_D_legend.format(np.round(test_fitting.D[0], 3)) + r'\\pm' + format_D_legend.format(np.round(test_fitting.D[1], 3)) + r'}{cm^2/s}$')    \n",
    "    j+=1\n",
    "    #print(np.sqrt(np.diag(test_fitting.Bc2_fit[0]['cov'])))\n",
    "    #test_fitting.Bc2 = original_Bc2\n",
    "#ax.text(0.8,1.0-i/4,r'$D = \\SI{'+str(np.round(R_T_fitting.D, 3))+r'}{cm^2/s}$', ha='right', va='top', transform=ax.transAxes)\n",
    "#ax.text(0.5,0.2,r'$D = \\SI{'+str(np.round(R_T_fitting.D, 3))+r'}{cm^2/s}$', bbox=dict(fc='white', ec=\"black\", lw=1), ha='right', va='top', transform=ax.transAxes)\n",
    "test_fitting.Bc2 = original_Bc2\n",
    "ax.plot(test_fitting.Bc2[:,0], test_fitting.Bc2[:,1], 's', label=r'$T_{B_\\text{c2}}-B_\\text{c2}$ pairs', color='orange', ms=2.2, mew=0, zorder=2)\n",
    "print(\"Diffusivity D, STD: \", test_fitting.D)\n",
    "plt.xlabel(r'Temperature / $\\si{\\kelvin}$')\n",
    "plt.ylabel(r'$B_{c2}$ / $\\si{\\tesla}$')\n",
    "handles, labels = plt.gca().get_legend_handles_labels()\n",
    "if slice_indices == []:\n",
    "    order = [1,2,3,0]\n",
    "else:\n",
    "    order = [0,3,4,1,2]\n",
    "    order = [2,3,4,0,1]\n",
    "ax.tick_params(direction='in', bottom=True, top=True, left=True, right=True)\n",
    "legend = ax.legend([handles[idx] for idx in order],[labels[idx] for idx in order], handletextpad=0.6, markerscale=3, loc='best', handlelength=2.5, labelspacing=0.5, frameon=False, columnspacing=1)\n",
    "legend.get_frame().set_linewidth(0.0)\n",
    "\n",
    "\n",
    "# plot PDF\n",
    "plt.tight_layout()\n",
    "pdf.savefig(bbox_inches='tight')\n",
    "pdf.close()"
   ]
  },
  {
   "cell_type": "markdown",
   "metadata": {},
   "source": [
    "#### Diffusivity over parameters plot"
   ]
  },
  {
   "cell_type": "markdown",
   "metadata": {},
   "source": [
    "##### search export file"
   ]
  },
  {
   "cell_type": "code",
   "execution_count": 88,
   "metadata": {},
   "outputs": [
    {
     "name": "stdout",
     "output_type": "stream",
     "text": [
      "//file/e24/Projects/FinleyLab/_IQPGroup/_SSPDs/Data/Diffusivity/Data_evaluated/Diff_export_rich_BA_pres.txt\n"
     ]
    }
   ],
   "source": [
    "%gui qt5\n",
    "default_path = '\\\\\\\\file\\\\e24\\\\Projects\\\\FinleyLab\\\\_IQPGroup\\\\_SSPDs\\\\Data\\\\Diffusivity\\\\Data_evaluated'\n",
    "filename_diff_export = PureWindowsPath(default_path)\n",
    "default_path = Path(filename_diff_export)\n",
    "filename_diff_export = QFileDialog.getOpenFileName(None, 'Import file', str(default_path),\"Text files (*.csv *.dat *.txt)\")\n",
    "print(filename_diff_export[0])\n",
    "file_to_import_diff_export = Path(filename_diff_export[0])\n",
    "#filename_to_import = Path('testdata.dat')"
   ]
  },
  {
   "cell_type": "markdown",
   "metadata": {},
   "source": [
    "##### import txt table in pandas"
   ]
  },
  {
   "cell_type": "code",
   "execution_count": 89,
   "metadata": {},
   "outputs": [],
   "source": [
    "# import Tc data\n",
    "full_data = pd.read_csv(file_to_import_diff_export, sep='\\t', usecols = ['Date', 'Name', 'Substrate', 'Thickness (nm)', 'Ts (°C)', 'ArN2 Ratio', 'D_used', 'thick_error', 'std_error'], decimal=',')\n",
    "#full_data = pd.read_csv(file_to_import_diff_export, sep='\\t', usecols = ['Date', 'Name', 'Substrate', 'Thickness (nm)', 'Ts (°C)', 'ArN2 Ratio', 'D_used', 'std_error'], decimal=',')\n",
    "data_diff_export = full_data\n",
    "# for item in data_diff_export['Postfix'].iteritems():\n",
    "#     if np.isnan(item[1]):\n",
    "#         item=-1\n",
    "# print(data_diff_export)\n",
    "data_diff_export = data_diff_export.dropna()\n",
    "# for i in ['Thickness (nm)', 'Ts (°C)', 'ArN2 Ratio', 'D_used']:\n",
    "#     pd.to_numeric(data_diff_export[i])\n",
    "data_diff_export = data_diff_export.reset_index(drop=True)\n",
    "\n",
    "\n",
    "## convert data into handable dictionaries\n",
    "diff_play = data_diff_export[['Thickness (nm)', 'ArN2 Ratio', 'Ts (°C)', 'D_used', 'thick_error', 'std_error']].to_numpy()\n",
    "#diff_play = data_diff_export[['Thickness (nm)', 'ArN2 Ratio', 'Ts (°C)', 'D_used', 'std_error']].to_numpy()\n",
    "\n",
    "# print(diff_play)\n",
    "# print(len(diff_play))\n",
    "d_dict = {}  # dict structure: {thickness: [ratio, sputter temperature Ts, Diffusivity value]}\n",
    "ratio_dict = {} # dict structure: {ratio: [thickness, sputter temperature Ts, Diffusivity value]}\n",
    "Ts_dict = {} # dict structure: {sputter temperature Ts: [thickness, ratio, Diffusivity value]}\n",
    "\n",
    "for i in range(len(diff_play)):\n",
    "    try:\n",
    "        d_dict[np.around(diff_play[i,0], decimals=1)].append([diff_play[i,1], diff_play[i,2], diff_play[i,3], diff_play[i,4]])\n",
    "    except:\n",
    "        d_dict[np.around(diff_play[i,0], decimals=1)] = [[diff_play[i,1], diff_play[i,2], diff_play[i,3], diff_play[i,4]]]\n",
    "for key in d_dict:\n",
    "            d_dict[key] = np.asarray(d_dict[key])\n",
    "           \n",
    "for i in range(len(diff_play)):\n",
    "    try:\n",
    "        ratio_dict[np.around(diff_play[i,1], decimals=3)].append([diff_play[i,0], diff_play[i,2], diff_play[i,3], diff_play[i,4]])\n",
    "    except:\n",
    "        ratio_dict[np.around(diff_play[i,1], decimals=3)] = [[diff_play[i,0], diff_play[i,2], diff_play[i,3], diff_play[i,4]]]\n",
    "for key in ratio_dict:\n",
    "            ratio_dict[key] = np.asarray(ratio_dict[key])\n",
    "        \n",
    "for i in range(len(diff_play)):\n",
    "    try:\n",
    "        Ts_dict[np.around(diff_play[i,2], decimals=0)].append([diff_play[i,0], diff_play[i,1], diff_play[i,3], diff_play[i,4], diff_play[i,5]])\n",
    "    except:\n",
    "        Ts_dict[np.around(diff_play[i,2], decimals=0)] = [[diff_play[i,0], diff_play[i,1], diff_play[i,3], diff_play[i,4], diff_play[i,5]]]\n",
    "for key in Ts_dict:\n",
    "            Ts_dict[key] = np.asarray(Ts_dict[key])\n",
    "#print(d_dict)\n",
    "# print(ratio_dict)\n",
    "# print(Ts_dict)\n",
    "\n",
    "\n",
    "\n",
    "# # get rid of nans\n",
    "# temp_data_diff_export = []\n",
    "# for i in data_diff_export:\n",
    "#     if np.isnan(np.sum(i))==False:\n",
    "#         temp_data_diff_export.append(i)\n",
    "#         #print(i)\n",
    "#     else: pass\n",
    "# data_diff_export = np.array(temp_data_diff_export)\n",
    "# else: data_diff_export = np.loadtxt(file_to_import_diff_export)\n",
    "    \n",
    "# print(data_diff_export.tolist())"
   ]
  },
  {
   "cell_type": "markdown",
   "metadata": {},
   "source": [
    "##### Plotting"
   ]
  },
  {
   "cell_type": "code",
   "execution_count": 91,
   "metadata": {
    "lines_to_next_cell": 2
   },
   "outputs": [
    {
     "name": "stdout",
     "output_type": "stream",
     "text": [
      "\\\\file\\e24\\Projects\\FinleyLab\\_IQPGroup\\_SSPDs\\Data\\Diffusivity\\Data_evaluated\\Diffusivity_vs_parameters\\diffusivity_vs_d_pres.pdf\n"
     ]
    },
    {
     "name": "stderr",
     "output_type": "stream",
     "text": [
      "<>:67: DeprecationWarning: invalid escape sequence \\p\n",
      "<>:51: DeprecationWarning: invalid escape sequence \\p\n",
      "<>:44: DeprecationWarning: invalid escape sequence \\p\n",
      "<>:67: DeprecationWarning: invalid escape sequence \\p\n",
      "<>:51: DeprecationWarning: invalid escape sequence \\p\n",
      "<>:44: DeprecationWarning: invalid escape sequence \\p\n",
      "<>:67: DeprecationWarning: invalid escape sequence \\p\n",
      "<>:51: DeprecationWarning: invalid escape sequence \\p\n",
      "<>:44: DeprecationWarning: invalid escape sequence \\p\n",
      "<ipython-input-91-7b043b8e41f0>:67: DeprecationWarning: invalid escape sequence \\p\n",
      "  plt.title(r'$\\ce{N2}/\\ce{Ar} = \\SI{' + str(filter_ratio*100) + '}{\\percent}$')\n",
      "<ipython-input-91-7b043b8e41f0>:51: DeprecationWarning: invalid escape sequence \\p\n",
      "  fmt='.', elinewidth=0.6, capsize=1.5, capthick=0.6, label=r'$\\ce{Ar}/\\ce{N2} = \\SI{'+ str(key*100)+'}{\\percent}$')\n",
      "<ipython-input-91-7b043b8e41f0>:44: DeprecationWarning: invalid escape sequence \\p\n",
      "  plt.title(r'$\\ce{N2}/\\ce{Ar} = \\SI{' + str(filter_ratio*100) + '}{\\percent}$')\n",
      "C:\\Users\\Noah.Ploch\\Program\\Anaconda\\lib\\site-packages\\ipywidgets\\widgets\\widget.py:412: DeprecationWarning: Passing unrecoginized arguments to super(Canvas).__init__().\n",
      "__init__() missing 1 required positional argument: 'figure'\n",
      "This is deprecated in traitlets 4.2.This error will be raised in a future release of traitlets.\n",
      "  super(Widget, self).__init__(**kwargs)\n",
      "C:\\Users\\Noah.Ploch\\Program\\Anaconda\\lib\\site-packages\\ipywidgets\\widgets\\widget.py:412: DeprecationWarning: Passing unrecoginized arguments to super(Toolbar).__init__().\n",
      "__init__() missing 1 required positional argument: 'canvas'\n",
      "This is deprecated in traitlets 4.2.This error will be raised in a future release of traitlets.\n",
      "  super(Widget, self).__init__(**kwargs)\n"
     ]
    },
    {
     "data": {
      "application/vnd.jupyter.widget-view+json": {
       "model_id": "",
       "version_major": 2,
       "version_minor": 0
      },
      "text/plain": [
       "Canvas(toolbar=Toolbar(toolitems=[('Home', 'Reset original view', 'home', 'home'), ('Back', 'Back to previous …"
      ]
     },
     "metadata": {},
     "output_type": "display_data"
    }
   ],
   "source": [
    "%matplotlib widget\n",
    "\n",
    "plot_type_Dvsparam = 'diffusivity_vs_d_pres'\n",
    "pdfname_Dvsparam = path_Dvsparam + '\\\\' + plot_type_Dvsparam + '.pdf'\n",
    "print(pdfname_Dvsparam)\n",
    "pdfname = pdfname_Dvsparam\n",
    "pdf = PdfPages(pdfname)\n",
    "\n",
    "fig = plt.figure()\n",
    "ax  = fig.add_subplot(111)\n",
    "\n",
    " # d_dict dict structure: {thickness: [ratio, sputter temperature Ts, Diffusivity value]}\n",
    " # ratio_dict dict structure: {ratio: [thickness, sputter temperature Ts, Diffusivity value]}\n",
    " # Ts_dict dict structure: {sputter temperature Ts: [thickness, ratio, Diffusivity value]}\n",
    "\n",
    "choice = 3 # 1: legend: thickness, x-axis: ratio or temperature,  temperature or ratio fix\n",
    "           # 2: legend: ratio, x-axis: thickness or temperature, temperature or thickness fix\n",
    "           # 3: legend: sputter temperature Ts, x-axis: thickness or ratio, thickness or ratio\n",
    "    \n",
    "filter_d = 6\n",
    "filter_ratio = 0.105\n",
    "filter_temp = 100\n",
    "    \n",
    "# ax.errorbar(value[value[:,0]==filter_ratio, 1], value[value[:,0]==filter_ratio, 2], yerr=value[value[:,0]==filter_ratio, 3],\\\n",
    "#         fmt='o', elinewidth=0.5, capsize=0.5, capthick=0.2, color=color, ecolor=color) \n",
    "data_filter = data_diff_export[data_diff_export['Name'].isin(['200215_A', '200117_A', '200206_A'])]\n",
    "data_filtered = data_filter[['Thickness (nm)', 'ArN2 Ratio', 'Ts (°C)', 'D_used', 'std_error']].to_numpy()\n",
    "#print(data_filtered)\n",
    "\n",
    "if choice == 1:\n",
    "    # legend: thickness, x-axis: ratio or temperature,  ratio or temperature fix\n",
    "    for key, value in sorted(d_dict.items()):\n",
    "        #plt.plot(value[value[:,1]==filter_temp, 0], value[value[:,1]==filter_temp, 2],'o', label=r'\\SI{'+str(key)+r'}{\\nm}') # x: ratio. Ts fix #, $\\ce{Ar}/\\ce{N2} = \\SI{9.5}{\\percent}$')\n",
    "        #ax.errorbar(value[value[:,1]==filter_temp, 0], value[value[:,1]==filter_temp, 2], yerr=value[value[:,1]==filter_temp, 3],\\\n",
    "        #    fmt='.', elinewidth=0.6, capsize=1.5, capthick=0.6, label=r'\\SI{'+str(key)+r'}{\\nm}') \n",
    "        #plt.title(r'$T_s = \\SI{'+str(int(filter_temp))+r'}{\\celsius}$')\n",
    "        #plt.xlabel(r'$\\ce{Ar}/\\ce{N2}$ ratio')\n",
    "    \n",
    "#         plt.plot(value[value[:,0]==filter_ratio, 1], value[value[:,0]==filter_ratio, 2],'o', label=r'\\SI{'+str(key)+r'}{\\nm}') # x: Ts, ratio fix #, $\\ce{Ar}/\\ce{N2} = \\SI{9.5}{\\percent}$')\n",
    "        ax.plot(data_filtered[data_filtered[:,1]==filter_ratio, 2], data_filtered[data_filtered[:,1]==filter_ratio, 3], \\\n",
    "                'x', color='black', ms=3, zorder=2)\n",
    "        ax.errorbar(value[value[:,0]==filter_ratio, 1], value[value[:,0]==filter_ratio, 2], yerr=value[value[:,0]==filter_ratio, 3],\\\n",
    "            fmt='o', elinewidth=0.6, capsize=1.5, capthick=0.6, label=r'\\SI{'+str(key)+r'}{\\nm}', ms=3, zorder=1) \n",
    "        plt.title(r'$\\ce{N2}/\\ce{Ar} = \\SI{' + str(filter_ratio*100) + '}{\\percent}$')\n",
    "        plt.xlabel(r'$T_\\text{sputter} /  \\si{\\celsius}$')\n",
    "elif choice == 2:\n",
    "    # legend: ratio, x-axis: thickness or temperature, thickness or temperature fix\n",
    "    for key, value in sorted(ratio_dict.items()):\n",
    "        #plt.plot(value[value[:,1]==filter_temp, 0], value[value[:,1]==filter_temp, 2],'o', label=r'$\\ce{Ar}/\\ce{N2} = \\SI{'+ str(key*100)+'}{\\percent}$') # x: thickness, Ts fix#, $\\ce{Ar}/\\ce{N2} = \\SI{9.5}{\\percent}$')\n",
    "        ax.errorbar(value[value[:,1]==filter_temp, 0], value[value[:,1]==filter_temp, 2], yerr=value[value[:,1]==filter_temp, 3],\\\n",
    "            fmt='.', elinewidth=0.6, capsize=1.5, capthick=0.6, label=r'$\\ce{Ar}/\\ce{N2} = \\SI{'+ str(key*100)+'}{\\percent}$') \n",
    "        plt.title(r'$T_s = \\SI{'+str(int(filter_temp))+r'}{\\celsius}$')\n",
    "        plt.xlabel(r'Thickness / \\si{\\nm}')\n",
    "\n",
    "        #plt.plot(value[values[:,0]==filter_d, 1], value[values[:,0]==filter_d, 2],'o', label=r'$\\ce{Ar}/\\ce{N2} = \\SI{'+ str(key*100)'}{\\percent}$') # x: Ts. thickness fix #, $\\ce{Ar}/\\ce{N2} = \\SI{9.5}{\\percent}$')\n",
    "        #ax.errorbar(value[value[:,0]==filter_d, 1], value[value[:,0]==filter_d, 2], yerr=value[value[:,0]==filter_d, 3],\\\n",
    "        #    fmt='.', elinewidth=0.6, capsize=1.5, capthick=0.6, label=r'$\\ce{Ar}/\\ce{N2} = \\SI{'+ str(key*100)'}{\\percent}$') \n",
    "        #plt.title(r'Thickness = \\SI{'+str(filter_d)+r'}{\\nm}')\n",
    "        #plt.xlabel(r'$T_\\text{sputter} /  \\si{\\celsius}$')\n",
    "        \n",
    "elif choice == 3:\n",
    "    # legend: sputter temperature Ts, x-axis: thickness or ratio, ratio or thickness fix\n",
    "    for key, value in sorted(Ts_dict.items()):\n",
    "#         plt.plot(value[value[:,1]==filter_ratio, 0], value[value[:,1]==filter_ratio, 2],'o', label=r'\\SI{'+str(int(key))+r'}{\\celsius}') # x: thickness, ratio fix #, $\\ce{Ar}/\\ce{N2} = \\SI{9.5}{\\percent}$')\n",
    "        ax.errorbar(value[value[:,1]==filter_ratio, 0], value[value[:,1]==filter_ratio, 2], yerr = value[value[:,1]==filter_ratio, 4], xerr=value[value[:,1]==filter_ratio, 3],\\\n",
    "            fmt='.', elinewidth=0.6, capsize=1.5, capthick=0.6, label=r'\\SI{'+str(int(key))+r'}{\\celsius}')         \n",
    "        plt.title(r'$\\ce{N2}/\\ce{Ar} = \\SI{' + str(filter_ratio*100) + '}{\\percent}$')\n",
    "        plt.xlabel(r'Thickness / \\si{\\nm}')\n",
    "        \n",
    "#         plt.plot(value[value[:,0]==filter_d, 1], value[value[:,0]==filter_d, 2],'o', label=r'\\SI{'+str(int(key))+r'}{\\celsius}') # x: ratio, thickness fix #, $\\ce{Ar}/\\ce{N2} = \\SI{9.5}{\\percent}$')\n",
    "#         ax.errorbar(value[value[:,0]==filter_d, 1], value[value[:,0]==filter_d, 2], yerr=value[value[:,0]==filter_d, 3],\\\n",
    "#            fmt='o', elinewidth=0.6, capsize=1.5, capthick=0.6, label=r'\\SI{'+str(int(key))+r'}{\\celsius}', ms=3, zorder=1) \n",
    "#         ax.plot(data_filtered[data_filtered[:,0]==filter_d, 1], data_filtered[data_filtered[:,0]==filter_d, 3], \\\n",
    "#                 'x', color='black', ms=3, zorder=2)\n",
    "#         plt.title(r'Thickness = \\SI{'+str(filter_d)+r'}{\\nm}')\n",
    "#         plt.xlabel(r'$\\ce{Ar}/\\ce{N2}$ ratio') \n",
    "#plt.plot(thickness,diffusivity,'o-')#,label=r'$T_\\text{sputter} = \\SI{100}{\\celsius}$, \\ce{Ar}/\\ce{N2} = \\SI{10.5}{\\percent}')\n",
    "ax.tick_params(direction='in', bottom=True, top=True, left=True, right=True)\n",
    "legend = ax.legend(loc='best',handletextpad=0.1, handlelength=2.5, labelspacing=0.5, frameon=False, columnspacing=1)\n",
    "\n",
    "plt.ylabel(r'Diffusivity / \\si{\\cm^2}/\\si{\\s}')\n",
    "\n",
    "#plt.minorticks_on()\n",
    "\n",
    "#save pdf\n",
    "plt.tight_layout()\n",
    "pdf.savefig(bbox_inches='tight')\n",
    "pdf.close()"
   ]
  },
  {
   "cell_type": "markdown",
   "metadata": {},
   "source": [
    "## Testing"
   ]
  },
  {
   "cell_type": "code",
   "execution_count": 101,
   "metadata": {},
   "outputs": [
    {
     "name": "stdout",
     "output_type": "stream",
     "text": [
      "7019.296561877934\n",
      "Len raw data:  17\n"
     ]
    },
    {
     "name": "stderr",
     "output_type": "stream",
     "text": [
      "C:\\Users\\Noah.Ploch\\Program\\Anaconda\\lib\\site-packages\\ipywidgets\\widgets\\widget.py:412: DeprecationWarning: Passing unrecoginized arguments to super(Canvas).__init__().\n",
      "__init__() missing 1 required positional argument: 'figure'\n",
      "This is deprecated in traitlets 4.2.This error will be raised in a future release of traitlets.\n",
      "  super(Widget, self).__init__(**kwargs)\n",
      "C:\\Users\\Noah.Ploch\\Program\\Anaconda\\lib\\site-packages\\ipywidgets\\widgets\\widget.py:412: DeprecationWarning: Passing unrecoginized arguments to super(Toolbar).__init__().\n",
      "__init__() missing 1 required positional argument: 'canvas'\n",
      "This is deprecated in traitlets 4.2.This error will be raised in a future release of traitlets.\n",
      "  super(Widget, self).__init__(**kwargs)\n"
     ]
    },
    {
     "data": {
      "application/vnd.jupyter.widget-view+json": {
       "model_id": "",
       "version_major": 2,
       "version_minor": 0
      },
      "text/plain": [
       "Canvas(toolbar=Toolbar(toolitems=[('Home', 'Reset original view', 'home', 'home'), ('Back', 'Back to previous …"
      ]
     },
     "metadata": {},
     "output_type": "display_data"
    },
    {
     "data": {
      "text/plain": [
       "(6.575, 6.582)"
      ]
     },
     "execution_count": 101,
     "metadata": {},
     "output_type": "execute_result"
    }
   ],
   "source": [
    "%matplotlib widget\n",
    "\n",
    "\n",
    "#b.get_Bc2()\n",
    "#b.get_Diffusivity()\n",
    "\n",
    "#print(b.B_values_dict_fit)\n",
    "\n",
    "# to_be_removed = []\n",
    "# for key in b.B_values_dict:\n",
    "#     #print(\"j: \", j)\n",
    "#     if key>0.0:\n",
    "# #         try:\n",
    "#         fit = b.fit_cdf_over_range(b.B_values_dict[key]) \n",
    "#         #print(key)\n",
    "#         # test to check if the fit is in the range of 10%-90% of the resistance at 20 Kelvin \n",
    "#         if fit != -1:                \n",
    "#             b.B_values_dict_fit[key] = fit\n",
    "#         else:\n",
    "#             #print(f\"Warning! Sweep to be fitted out of 10%-90% range of the normal conducting resistance.\\nSweep at {key} Tesla will not be considered.\")\n",
    "#             to_be_removed.append(key)\n",
    "#         except: \n",
    "#             pass\n",
    "#             print('T: ', np.isnan(np.sum(b.B_values_dict[key][:,0])))\n",
    "#             print('R: ', np.isnan(np.sum(b.B_values_dict[key][:,1])))    \n",
    "\n",
    "# b.fit_all_sweeps(self.B_values_dict)\n",
    "# if TR_fitting==\"r_t_sweeps\":\n",
    "#     self.get_Bc2()\n",
    "# elif TR_fitting==\"r_b_sweeps\": self.get_Bc2_from_B_sweeps()\n",
    "# else: print(\"Error: select valid fitting method, check class instance!\")\n",
    "# self.get_Diffusivity()\n",
    "\n",
    "#print(data)\n",
    "#print(len(b.Bc2))\n",
    "# temp_dict = {}\n",
    "# for key in b.B_values_dict:\n",
    "#     if key > 0.1 and key <4.0:\n",
    "#         temp_dict[key] = b.B_values_dict[key]\n",
    "# b.B_values_dict = temp_dict\n",
    "# #print(b.B_values_dict_fit)\n",
    "# b.fit_all_sweeps(b.B_values_dict)\n",
    "# #print(b.B_values_dict_fit)\n",
    "# b.get_Bc2()\n",
    "# b.get_Diffusivity()\n",
    "\n",
    "#print(b.B_values_dict)\n",
    "#print(b.B_values_dict_fit)\n",
    "\n",
    "#print(len(b.TBR_array[0]))\n",
    "#print(b.T_array)\n",
    "# temperature against time: linearized and timestamps\n",
    "#plt.plot(np.concatenate(b.time_sweeps).ravel(), b.T_array, 'x', label='linear fit 191219')\n",
    "# time = np.array([])\n",
    "# temperature = np.array([])\n",
    "# for i,j in zip(b.time_sweeps, b.Temp_at_timestamp):\n",
    "#             time = np.append(time, i[0])\n",
    "#             temperature = np.append(temperature, j[0])#\n",
    "# plt.plot(time, temperature, '.')\n",
    "\n",
    "# resistance against time plot\n",
    "\n",
    "#plt.plot(np.concatenate(b.time_sweeps).ravel(), b.TBR_array[:,2], '.')\n",
    "#plt.plot(b.TBR_array[:,1], b.TBR_array[:,2], '.')\n",
    "\n",
    "# fit = {}\n",
    "\n",
    "# for key in b.B_values_dict:\n",
    "#     if key >0.04:\n",
    "#         fit[key] = b.fit_cdf_over_range(b.B_values_dict[key])\n",
    "# params = []\n",
    "# for key in b.B_values_dict_fit:\n",
    "#     params.append(b.B_values_dict_fit[key][0]['param'])\n",
    "# params = np.asarray(params)\n",
    "#print(params)\n",
    "# print('mean = ', np.mean(params, axis=0, dtype=np.float64))\n",
    "# print('std = ', np.std(params, axis=0, dtype=np.float64))\n",
    "\n",
    "\n",
    "\n",
    "\n",
    "# b=B_sweep(data) # \"r_b_sweeps\" \"r_t_sweeps\"\n",
    "# b.fit_area = 'full'\n",
    "# b.fit_limit = 3\n",
    "# b.fit_all_sweeps(b.B_values_dict)\n",
    "# #print(b.B_values_dict_fit)\n",
    "# b.get_Tc()\n",
    "# #pdfname = '\\\\\\\\file\\\\e24\\\\Projects\\\\FinleyLab\\\\_IQPGroup\\\\_SSPDs\\\\Data\\\\Diffusivity\\\\richards_testing_200121A.pdf'\n",
    "# #pdfname = 'C:\\\\Users\\\\Noah.Ploch\\\\OneDrive - Walter Schottky Institut\\\\Plots\\\\Fitting_Auswertung\\\\Paramter_playing\\\\richards_testing_reduced_fit_area_200113_pm15_lowB.pdf'\n",
    "# #pdfname = 'C:\\\\Users\\\\Noah.Ploch\\\\OneDrive - Walter Schottky Institut\\\\Plots\\\\Fitting_Auswertung\\\\'\\\n",
    "# #            'Paramter_playing\\\\RvsT_richards_testing_full_fit_area_200206_kfree_bounds_bin005.pdf'\n",
    "# pdfname = 'C:\\\\Users\\\\Noah.Ploch\\\\OneDrive - Walter Schottky Institut\\\\Plots\\\\'\\\n",
    "#             'use\\\\RvsT_200113_comparison_r_g.pdf'\n",
    "# pdf = PdfPages(pdfname)\n",
    "# fig=plt.figure()\n",
    "# ax=fig.add_subplot(111)\n",
    "# # # plots fits of T-R Sweeps depending on B\n",
    "# i=0\n",
    "# Tc_fgsjfdhg=[]\n",
    "# for key in b.B_values_dict_fit:\n",
    "#     if key in [0, 1.0, 2.0, 3.0, 4.0]:#np.round(np.arange(0,1.0,0.2),2).tolist():#np.round(np.arange(0,0.6,0.02),2).tolist():#[0,0.3,0.6,0.9,1.0]:#[1.2, 1.25, 1.3, 1.35, 1.4, 1.45, 1.5]: np.round(np.arange(1.45,1.54,0.01),2).tolist()\n",
    "#         color = plt.rcParams['axes.prop_cycle'].by_key()['color'][i]\n",
    "#         #ax.plot(b.B_values_dict[key][:,0], b.B_values_dict[key][:,1], 'x', label=r'raw '+ format_D_legend.format(key))\n",
    "#         #ax.plot(b.B_values_dict[key][:,0], b.B_values_dict[key][:,1], 'x', label=r'raw '+ format_D_legend.format(abs(key))+r'T, g:'+format_D_legend.format(np.round(b.Tc[key]['gaussian'],3))+r', rHp:'+format_D_legend.format(np.round(b.Tc[key]['richardsHp'],3)), color=color)\n",
    "#         ax.plot(b.B_values_dict[key][:,0], b.B_values_dict[key][:,1], 'x', label=r'$B=\\SI{'+ format_B_legend.format(abs(key))+r'}{\\tesla}$', color=color)\n",
    "#         #ax.plot(fit[key][1][0], fit[key][1][1], '-', label=f'fit {key}T')\n",
    "#        # print(key)\n",
    "#        #print(b.B_values_dict_fit[key]['gaussian'][1][1])\n",
    "#         ax.plot(b.B_values_dict_fit[key]['gaussian'][1][0], b.B_values_dict_fit[key]['gaussian'][1][1], '--', color=color)\n",
    "#         ax.plot(b.B_values_dict_fit[key]['richards'][1][0], b.B_values_dict_fit[key]['richards'][1][1], '-', color=color, alpha=0.4)\n",
    "#         i+=1\n",
    "#     Tc_fgsjfdhg.append([np.round(b.Tc[key]['gaussian'],3), np.round(b.Tc[key]['richardsTp'],3), b.B_values_dict_fit[key]['richards'][0]['param'][0], b.B_values_dict_fit[key]['richards'][0]['param'][1], b.B_values_dict_fit[key]['richards'][0]['param'][2]])\n",
    "#     fit_params_here = b.B_values_dict_fit[key]['richards'][0]['param']\n",
    "#     #Tc_fgsjfdhg.append([fit_params_here[0], fit_params_here[1], fit_params_here[2], fit_params_here[3]])\n",
    "# print(b.fit_fail)\n",
    "# #ax.plot(b.B_values_dict_fit[0.41][1][0], b.B_values_dict_fit[0.41][1][1], '-', label=f'fit {0.41}T')\n",
    "# ax.tick_params(direction='in', bottom=True, top=True, left=True, right=True)\n",
    "# legend = ax.legend(loc='upper left',handletextpad=0.1, handlelength=2.5, labelspacing=0.5, frameon=False, columnspacing=1)\n",
    "# plt.xlabel(r'Temperature / \\si{\\kelvin}')\n",
    "# plt.ylabel(r'Resistance / \\si{\\ohm}')\n",
    "# plt.xlim(6.5,13)\n",
    "# #plt.xlim(7.5,11)\n",
    "# plt.tight_layout()\n",
    "# pdf.savefig(bbox_inches='tight')\n",
    "# pdf.close()\n",
    "\n",
    "\n",
    "\n",
    "b=B_sweep(data) # \"r_b_sweeps\" \"r_t_sweeps\"\n",
    "b.fit_area = 'full'\n",
    "b.fit_limit = 3\n",
    "#b.fit_all_sweeps(b.B_values_dict)\n",
    "#print(b.B_values_dict_fit)\n",
    "b.get_Tc()\n",
    "#print(len(b.Temp_at_timestamp[0]))\n",
    "#print(len(b.R_sweeps[0]))\n",
    "xq = np.concatenate(np.asarray(b.time_sweeps)).ravel()\n",
    "yq = np.concatenate(np.asarray(b.R_sweeps)).ravel()\n",
    "plt.plot(b.B_values_dict[4.0][:,1],b.B_values_dict[4.0][:,0])\n",
    "\n",
    "plt.xlim(2350-2.9197/2,2350+2.9197/2)\n",
    "plt.ylim(6.575,6.582)\n",
    "\n",
    "\n",
    "# fig=plt.figure()\n",
    "# ax=fig.add_subplot(111)\n",
    "# # # plots fits of T-R Sweeps depending on B\n",
    "# for key in b.B_values_dict_fit:\n",
    "#     #if key % 0.01 == 0: \n",
    "#     ax.plot(b.B_values_dict[key][:,0], b.B_values_dict[key][:,1], 'x', label=f'raw {key}T')\n",
    "#     #ax.plot(fit[key][1][0], fit[key][1][1], '-', label=f'fit {key}T')\n",
    "#     ax.plot(b.B_values_dict_fit[key][1][0], b.B_values_dict_fit[key][1][1], '-', label=f'fit {key}T')\n",
    "# plt.legend()\n",
    "\n",
    "\n",
    "\n",
    "\n",
    "# fig=plt.figure()\n",
    "# ax=fig.add_subplot(111)\n",
    "\n",
    "# #special_fit = R_T_fitting.linear_fit(R_T_fitting.Bc2[0:50,0], R_T_fitting.Bc2[0:50,1])\n",
    "# ax.plot(b.Bc2[:,0], b.Bc2[:,1], 'x', label=\"Raw data\")\n",
    "# ax.plot(b.Bc2_fit[1][0], b.Bc2_fit[1][1], '-', label=\"Linear fit\")\n",
    "# #ax.plot(R_B_fitting.Bc2[:,0], R_B_fitting.Bc2[:,1], '.', label=\"RB DP\")\n",
    "# #ax.plot(R_B_fitting.Bc2_fit[1][0], R_B_fitting.Bc2_fit[1][1], '-', label=\"RB fit\")\n",
    "# #ax.plot(special_fit[1][0], special_fit[1][1], '-', label=\"RT special fit\")\n",
    "# #RT_special.Bc2 = R_T_fitting.Bc2[0:50,:]\n",
    "# #RT_special.get_Diffusivity()\n",
    "# #ax.text(0.5,0.2,r'$D = \\SI{'+str(np.round(R_T_fitting.D, 3))+r'}{cm^2/s}$', bbox=dict(fc='white', ec=\"black\", lw=1), ha='right', va='top', transform=ax.transAxes)\n",
    "# ax.text(0.5,0.2,r'$D = \\SI{'+str(np.round(b.D, 3))+r'}{cm^2/s}$', ha='right', va='top', transform=ax.transAxes)\n",
    "# print(\"Diffusivity RT, RB: \", b.D)\n",
    "# #ax.legend()\n",
    "# #plt.title(\"Critical magnetic field against temperature (6nm, 400°C)\")\n",
    "# plt.ylabel(\"Magnetic field (T)\")\n",
    "# plt.xlabel(\"Temperature (K)\")\n",
    "\n",
    "# # plot widget\n",
    "# fig.canvas.layout.width = '7in'\n",
    "# fig.canvas.layout.height= '6in'\n",
    "\n",
    "\n",
    "\n",
    "# # plots B-T Sweeps and Diffusivity\n",
    "# ax.plot(b.Bc2[:,0], b.Bc2[:,1], 'x', label=\"B-T Relation\")\n",
    "# ax.plot(b.Bc2_fit[1][0], b.Bc2_fit[1][1], '-', label=\"B-T Relation fit\")\n",
    "# print(\"Diffusivity: \", b.D)\n",
    "\n",
    "# fig=plt.figure()\n",
    "# #plots B-R sweeps\n",
    "# ax=fig.add_subplot(111)\n",
    "# # ax.plot(b.B_sweeps[0], b.R_sweeps[0], '.-', label='3')\n",
    "# # ax.plot(b.B_sweeps[1], b.R_sweeps[1], '.-', label=\"4\")\n",
    "# # ax.plot(b.B_sweeps[5], b.R_sweeps[5], 'x-', label='5')\n",
    "# # ax.plot(b.B_sweeps[6], b.R_sweeps[6], '*-', label=\"6\")\n",
    "# ax.plot(b.time_sweeps[0], b.B_sweeps[0], '.-', label='3')\n",
    "# ax.plot(b.time_sweeps[1], b.B_sweeps[1], '.-', label=\"4\")\n",
    "# plt.xlabel('Temperature (K)')\n",
    "# plt.ylabel('Magnetic field (T)')\n",
    "# ax.legend()\n",
    "\n",
    "# fig=plt.figure()\n",
    "# fig.canvas.layout.width = '10in'\n",
    "# fig.canvas.layout.height= '6in'\n",
    "\n",
    "# # plots T-R sweeps at different B values\n",
    "# for key, value in b.B_values_dict.items():\n",
    "#            if key % 1.0 == 0:\n",
    "#                plt.plot(value[:,0], value[:,1], '.-', label='B= ' + str(key))\n",
    "# plt.xlabel('Temperature (K)')\n",
    "# plt.ylabel('Resistance (Ω)')\n",
    "# plt.title(\"Measurement Sample 200117A\")\n",
    "# plt.legend()\n",
    "\n",
    "# fig.canvas.layout.width = '10in'\n",
    "# fig.canvas.layout.height= '6in'\n",
    "\n",
    "\n",
    "\n",
    "# plt.plot(before[0], before[1], 'o', label='linear fit 200117')\n",
    "# print(data_calib)\n",
    "# plt.plot(data_calib[:,0]-950, data_calib[:,1], 'o', label='data')\n",
    "# plt.legend()\n",
    "# save=np.array([np.concatenate(b.time_sweeps).ravel().transpose(), b.T_array.transpose(), before[0].transpose(), before[1].transpose()]) #, data_calib[:,0].transpose(), data_calib[:,1].transpose()])\n",
    "# print(save)\n",
    "# np.savez('linear_comparison', save, allow_pickle=True)\n",
    "# plt.xlabel('B')\n",
    "# plt.ylabel('Resistance')\n",
    "# pd.DataFrame(save, columns=['191219_x', '191219_y', '200117_x', '191219_x', 'calib_x', 'calib_y'])\n",
    "# print(b.Temp_at_timestamp)\n",
    "# print(b.time_sweeps)\n",
    "# print([len(i) for i in b.time_sweeps])\n",
    "# print(len(b.time_sweeps))\n",
    "# b.time_sweeps\n",
    "# b.B_sweeps\n",
    "# b.R_sweeps"
   ]
  },
  {
   "cell_type": "code",
   "execution_count": 57,
   "metadata": {
    "lines_to_next_cell": 2
   },
   "outputs": [
    {
     "name": "stdout",
     "output_type": "stream",
     "text": [
      "403\n"
     ]
    },
    {
     "name": "stderr",
     "output_type": "stream",
     "text": [
      "C:\\Users\\Noah.Ploch\\Program\\Anaconda\\lib\\site-packages\\ipywidgets\\widgets\\widget.py:412: DeprecationWarning: Passing unrecoginized arguments to super(Canvas).__init__().\n",
      "__init__() missing 1 required positional argument: 'figure'\n",
      "This is deprecated in traitlets 4.2.This error will be raised in a future release of traitlets.\n",
      "  super(Widget, self).__init__(**kwargs)\n",
      "C:\\Users\\Noah.Ploch\\Program\\Anaconda\\lib\\site-packages\\ipywidgets\\widgets\\widget.py:412: DeprecationWarning: Passing unrecoginized arguments to super(Toolbar).__init__().\n",
      "__init__() missing 1 required positional argument: 'canvas'\n",
      "This is deprecated in traitlets 4.2.This error will be raised in a future release of traitlets.\n",
      "  super(Widget, self).__init__(**kwargs)\n"
     ]
    },
    {
     "data": {
      "application/vnd.jupyter.widget-view+json": {
       "model_id": "",
       "version_major": 2,
       "version_minor": 0
      },
      "text/plain": [
       "Canvas(toolbar=Toolbar(toolitems=[('Home', 'Reset original view', 'home', 'home'), ('Back', 'Back to previous …"
      ]
     },
     "metadata": {},
     "output_type": "display_data"
    }
   ],
   "source": [
    "%matplotlib widget\n",
    "#pdfname = '\\\\\\\\file\\\\e24\\\\Projects\\\\FinleyLab\\\\_IQPGroup\\\\_SSPDs\\\\Data\\\\Diffusivity\\\\richards_parameter.pdf'\n",
    "pdfname = 'C:\\\\Users\\\\Noah.Ploch\\\\OneDrive - Walter Schottky Institut\\\\Plots\\\\Fitting_Auswertung\\\\Paramter_playing\\\\richards_parameter_200117_reduced_kfix_nu1.pdf'\n",
    "pdf = PdfPages(pdfname)\n",
    "TCBN=np.asarray(Tc_fgsjfdhg)\n",
    "print(len(Tc_fgsjfdhg))\n",
    "# print(\"b: \", np.mean(TCBN[:,2]), np.std(TCBN[:,2]))\n",
    "# print(\"m: \", np.mean(TCBN[:,3]), np.std(TCBN[:,3]))\n",
    "# print(\"nu: \", np.mean(TCBN[:,4]), np.std(TCBN[:,4]))\n",
    "\n",
    "fig=plt.figure()\n",
    "# plt.plot(TCBN[:,0], label=r\"Gauss\")\n",
    "# plt.plot(TCBN[:,1], label=r\"Richa\")\n",
    "\n",
    "# PAramter without k fitting and Tc's first\n",
    "# plt.plot(np.arange(0,len(TCBN[:,2])/100-0.005, 0.01),TCBN[:,2], label=r\"b\")\n",
    "# plt.plot(np.arange(0,len(TCBN[:,2])/100-0.005, 0.01), TCBN[:,3], label=r\"m\")\n",
    "# plt.plot(np.arange(0,len(TCBN[:,2])/100-0.005, 0.01), TCBN[:,4], label=r\"nu\")\n",
    "\n",
    "# parameter with k fitting and no Tc's \n",
    "# plt.plot(np.arange(0,len(TCBN[:,2])/100-0.005, 0.01),TCBN[:,0], label=r\"b\")\n",
    "# plt.plot(np.arange(0,len(TCBN[:,2])/100-0.005, 0.01), TCBN[:,1], label=r\"m\")\n",
    "# plt.plot(np.arange(0,len(TCBN[:,2])/100-0.005, 0.01), TCBN[:,2], label=r\"nu\")\n",
    "plt.plot(np.arange(0,len(TCBN[:,2])/100-0.005, 0.01), TCBN[:,3], label=r\"k\")\n",
    "plt.xlabel(r'B / \\si{\\tesla}')\n",
    "plt.ylabel(r'Parameter value')\n",
    "#print(TCBN[100:200,:])\n",
    "#print(TCBN[:,2])\n",
    "plt.legend()\n",
    "plt.tight_layout()\n",
    "pdf.savefig(bbox_inches='tight')\n",
    "pdf.close()\n"
   ]
  },
  {
   "cell_type": "code",
   "execution_count": 143,
   "metadata": {},
   "outputs": [
    {
     "name": "stdout",
     "output_type": "stream",
     "text": [
      "25.334342669694674\n",
      "Len raw data:  48\n"
     ]
    },
    {
     "name": "stderr",
     "output_type": "stream",
     "text": [
      "C:\\Users\\Noah.Ploch\\Program\\Anaconda\\lib\\site-packages\\ipykernel_launcher.py:299: RuntimeWarning: overflow encountered in float_power\n",
      "C:\\Users\\Noah.Ploch\\Program\\Anaconda\\lib\\site-packages\\ipykernel_launcher.py:299: RuntimeWarning: divide by zero encountered in true_divide\n"
     ]
    },
    {
     "name": "stdout",
     "output_type": "stream",
     "text": [
      "[]\n"
     ]
    },
    {
     "name": "stderr",
     "output_type": "stream",
     "text": [
      "C:\\Users\\Noah.Ploch\\Program\\Anaconda\\lib\\site-packages\\ipykernel_launcher.py:473: RuntimeWarning: invalid value encountered in log\n",
      "C:\\Users\\Noah.Ploch\\Program\\Anaconda\\lib\\site-packages\\ipywidgets\\widgets\\widget.py:412: DeprecationWarning: Passing unrecoginized arguments to super(Canvas).__init__().\n",
      "__init__() missing 1 required positional argument: 'figure'\n",
      "This is deprecated in traitlets 4.2.This error will be raised in a future release of traitlets.\n",
      "  super(Widget, self).__init__(**kwargs)\n",
      "C:\\Users\\Noah.Ploch\\Program\\Anaconda\\lib\\site-packages\\ipywidgets\\widgets\\widget.py:412: DeprecationWarning: Passing unrecoginized arguments to super(Toolbar).__init__().\n",
      "__init__() missing 1 required positional argument: 'canvas'\n",
      "This is deprecated in traitlets 4.2.This error will be raised in a future release of traitlets.\n",
      "  super(Widget, self).__init__(**kwargs)\n"
     ]
    },
    {
     "data": {
      "application/vnd.jupyter.widget-view+json": {
       "model_id": "",
       "version_major": 2,
       "version_minor": 0
      },
      "text/plain": [
       "Canvas(toolbar=Toolbar(toolitems=[('Home', 'Reset original view', 'home', 'home'), ('Back', 'Back to previous …"
      ]
     },
     "metadata": {},
     "output_type": "display_data"
    },
    {
     "name": "stderr",
     "output_type": "stream",
     "text": [
      "C:\\Users\\Noah.Ploch\\Program\\Anaconda\\lib\\site-packages\\ipykernel_launcher.py:473: RuntimeWarning: invalid value encountered in log\n",
      "C:\\Users\\Noah.Ploch\\Program\\Anaconda\\lib\\site-packages\\ipykernel_launcher.py:299: RuntimeWarning: overflow encountered in float_power\n",
      "C:\\Users\\Noah.Ploch\\Program\\Anaconda\\lib\\site-packages\\ipykernel_launcher.py:299: RuntimeWarning: divide by zero encountered in true_divide\n",
      "C:\\Users\\Noah.Ploch\\Program\\Anaconda\\lib\\site-packages\\scipy\\optimize\\minpack.py:795: OptimizeWarning: Covariance of the parameters could not be estimated\n",
      "  category=OptimizeWarning)\n"
     ]
    },
    {
     "name": "stdout",
     "output_type": "stream",
     "text": [
      "[]\n"
     ]
    }
   ],
   "source": [
    "%matplotlib widget\n",
    "b=B_sweep(data) # \"r_b_sweeps\" \"r_t_sweeps\"\n",
    "#print(b.B_values_dict_fit)\n",
    "b.fit_limit = 6\n",
    "b.fit_all_sweeps(b.B_values_dict)\n",
    "#print(b.B_values_dict)\n",
    "print(b.fit_fail)\n",
    "b.get_Tc()\n",
    "b.get_Bc2('gaussian')\n",
    "#pdfname = '\\\\\\\\file\\\\e24\\\\Projects\\\\FinleyLab\\\\_IQPGroup\\\\_SSPDs\\\\Data\\\\Diffusivity\\\\gauss_richards_diff_comparison_200116_1T.pdf'\n",
    "pdfname = 'C:\\\\Users\\\\Noah.Ploch\\\\OneDrive - Walter Schottky Institut\\\\Plots\\\\Fitting_Auswertung\\\\Paramter_playing\\\\richards_testing__Bc2_200206_k_free_bounds_bin005.pdf'\n",
    "pdf = PdfPages(pdfname)\n",
    "fig=plt.figure()\n",
    "ax=fig.add_subplot(111)\n",
    "ax.plot(b.Bc2[:,0], b.Bc2[:,1], 's', label=r'$T-B_\\text{c2}$ full area pairs gauss', ms=1.5, mew=0)\n",
    "b.Bc2=[]\n",
    "b.get_Bc2()\n",
    "ax.plot(b.Bc2[:,0], b.Bc2[:,1], 's', label=r'$T-B_\\text{c2}$ full area pairs richards', ms=1.5, mew=0)\n",
    "\n",
    "b.fit_fail=[]\n",
    "b.fit_area = 'reduced'\n",
    "b.B_values_dict_fit = {}\n",
    "b.fit_all_sweeps(b.B_values_dict)\n",
    "print(b.fit_fail)\n",
    "b.get_Tc()\n",
    "b.Bc2=[]\n",
    "b.get_Bc2('gaussian')\n",
    "ax.plot(b.Bc2[:,0], b.Bc2[:,1], 's', label=r'$T-B_\\text{c2}$ reduced pairs gauss', ms=1.5, mew=0)\n",
    "b.Bc2=[]\n",
    "b.get_Bc2()\n",
    "ax.plot(b.Bc2[:,0], b.Bc2[:,1], 's', label=r'$T-B_\\text{c2}$ reduced pairs richards', ms=1.5, mew=0)\n",
    "\n",
    "plt.xlabel(r'Temperature / $\\si{\\kelvin}$')\n",
    "plt.ylabel(r'$B_{c2}$ / $\\si{\\tesla}$')\n",
    "ax.tick_params(direction='in', bottom=True, top=True, left=True, right=True)\n",
    "legend = ax.legend(loc='best', handletextpad=0.1, handlelength=2.5, labelspacing=0.5, frameon=False, columnspacing=1)\n",
    "plt.tight_layout()\n",
    "pdf.savefig(bbox_inches='tight')\n",
    "pdf.close()"
   ]
  },
  {
   "cell_type": "markdown",
   "metadata": {},
   "source": [
    "#### check all measurements for fit fails"
   ]
  },
  {
   "cell_type": "code",
   "execution_count": 176,
   "metadata": {},
   "outputs": [],
   "source": [
    "%gui qt5\n",
    "default_path = '\\\\\\\\file\\\\e24\\\\Projects\\\\FinleyLab\\\\_IQPGroup\\\\_SSPDs\\\\Data\\\\Diffusivity\\\\Data_measured'\n",
    "filename2 = PureWindowsPath(default_path)\n",
    "default_path = Path(filename2)\n",
    "filename2 = QFileDialog.getOpenFileNames(None, 'Import file', str(default_path),\"MAT files (*.mat)\")\n",
    "filename2 = filename2[0]\n",
    "#print(filename)\n",
    "quick_data_2 = []\n",
    "for i in filename2:\n",
    "    #print(i)\n",
    "    data_2 = io.loadmat(i, squeeze_me=True)\n",
    "    try:\n",
    "        data_2 = data_2['data'] # data['data'] # .mat files are read by scipy as a dictionary, the key named after the variable that was saved in matlab into the .mat file contains the relevant data\n",
    "    except:\n",
    "        data_2 = data_2['data_old']\n",
    "    #data = data.transpose()\n",
    "    quick_data_2.append(data_2)"
   ]
  },
  {
   "cell_type": "code",
   "execution_count": 11,
   "metadata": {
    "collapsed": true,
    "jupyter": {
     "outputs_hidden": true
    }
   },
   "outputs": [
    {
     "name": "stdout",
     "output_type": "stream",
     "text": [
      "189.3154837080071\n",
      "Len raw data:  12\n"
     ]
    },
    {
     "name": "stderr",
     "output_type": "stream",
     "text": [
      "C:\\Users\\Noah.Ploch\\Program\\Anaconda\\lib\\site-packages\\ipykernel_launcher.py:299: RuntimeWarning: divide by zero encountered in true_divide\n",
      "C:\\Users\\Noah.Ploch\\Program\\Anaconda\\lib\\site-packages\\ipykernel_launcher.py:299: RuntimeWarning: overflow encountered in float_power\n",
      "C:\\Users\\Noah.Ploch\\Program\\Anaconda\\lib\\site-packages\\scipy\\optimize\\minpack.py:795: OptimizeWarning: Covariance of the parameters could not be estimated\n",
      "  category=OptimizeWarning)\n",
      "C:\\Users\\Noah.Ploch\\Program\\Anaconda\\lib\\site-packages\\ipykernel_launcher.py:299: RuntimeWarning: overflow encountered in true_divide\n"
     ]
    },
    {
     "name": "stdout",
     "output_type": "stream",
     "text": [
      "182.52083859560497\n",
      "Len raw data:  18\n",
      "168.87935386168598\n",
      "Len raw data:  18\n",
      "107.49243188698286\n",
      "Len raw data:  16\n",
      "66.75082049987377\n",
      "Len raw data:  18\n",
      "25.194150277357537\n",
      "Len raw data:  19\n"
     ]
    },
    {
     "name": "stderr",
     "output_type": "stream",
     "text": [
      "C:\\Users\\Noah.Ploch\\Program\\Anaconda\\lib\\site-packages\\scipy\\optimize\\_lsq\\common.py:236: RuntimeWarning: overflow encountered in double_scalars\n",
      "  ratio = actual_reduction / predicted_reduction\n"
     ]
    },
    {
     "name": "stdout",
     "output_type": "stream",
     "text": [
      "436.20733249051835\n",
      "Len raw data:  10\n"
     ]
    },
    {
     "name": "stderr",
     "output_type": "stream",
     "text": [
      "C:\\Users\\Noah.Ploch\\Program\\Anaconda\\lib\\site-packages\\ipykernel_launcher.py:220: RuntimeWarning: invalid value encountered in less\n"
     ]
    },
    {
     "name": "stdout",
     "output_type": "stream",
     "text": [
      "429.4310998735777\n",
      "Len raw data:  34\n",
      "133.70332996972755\n",
      "Len raw data:  11\n",
      "140.49962149886449\n",
      "Len raw data:  12\n",
      "148.34637717748043\n",
      "Len raw data:  22\n",
      "365.7489264965901\n",
      "Len raw data:  9\n",
      "106.65993945509588\n",
      "Len raw data:  17\n",
      "139.1523713420787\n",
      "Len raw data:  11\n",
      "109.265337036102\n",
      "Len raw data:  14\n",
      "79.7979797979798\n",
      "Len raw data:  12\n",
      "91.36799596163554\n",
      "Len raw data:  8\n",
      "156.68435683598688\n",
      "Len raw data:  5\n",
      "219.25701288855194\n",
      "Len raw data:  20\n",
      "138.44988639232517\n",
      "Len raw data:  17\n",
      "152.7033855482567\n",
      "Len raw data:  14\n",
      "155.06072874493927\n",
      "Len raw data:  13\n",
      "140.64483371414065\n",
      "Len raw data:  27\n",
      "155.02150265621046\n",
      "Len raw data:  16\n",
      "59.63673057517659\n",
      "Len raw data:  20\n",
      "58.930373360242186\n",
      "Len raw data:  60\n",
      "68.04644119131753\n",
      "Len raw data:  17\n",
      "23.119636547198386\n",
      "Len raw data:  37\n",
      "22.805247225025226\n",
      "Len raw data:  56\n",
      "25.832492431886983\n",
      "Len raw data:  18\n",
      "25.334342669694674\n",
      "Len raw data:  48\n",
      "4.4366019662213265\n",
      "Len raw data:  14\n",
      "120.78708375378407\n",
      "Len raw data:  14\n",
      "108.71432179843396\n",
      "Len raw data:  29\n",
      "['200207_191210A_', '200211_191209A_', '200211_191219A_', '200212_200109A_', '200212_200110A_', '200214_200113A_', '200217_191218A_', '200217_191218A_1Tsweeps', '200217_200207A_', '200218_200211A_', '200218_200213A_', '200219_200121A_', '200219_200218A_', '200225_200212A_', '200225_200224A_', '200226_200114A_', '200226_200220A_', '200227_200212A_', '200227_200214A_', '200228_200210A_', '200228_200215A_', '200302_200215A_after2dayHeliumEnvironment', '200302_200215A_BuildOutandInDirectlyafterAfter2dayHeliumEnvironment', '200302_200215A_DirectlyafterAfter2dayHeliumEnvironment', '200303_200116A_', '200303_200116A_1TSweep', '200303_200221A_', '200304_200117A_', '200304_200117A_1TSweep', '200305_200206A_', '200305_200206A_1TSweep', '200306_200306A_100nm', '200309_200309A_', '200312_200302A_1Tsweep_DT670currentWhenRead'] [[], [], [], [], [], [], [], [], [], [], [], [], [], [1.076, 1.08, 1.084, 1.088, 1.092, 1.1, 1.104, 1.108, 1.116, 1.12, 1.124, 1.128, 1.136, 1.14, 1.144, 1.148, 1.152, 1.156, 1.16, 1.164, 1.168, 1.172, 1.176, 1.18, 1.184, 1.192, 1.196, 1.2, 1.208, 1.212, 1.216, 1.22, 1.228, 1.232, 1.236, 1.24, 1.244, 1.252, 1.256, 1.26, 1.268, 1.272, 1.276, 1.284, 1.288, 1.292, 1.296, 1.304, 1.308, 1.312, 1.32, 1.324, 1.328, 1.332, 1.336, 1.34, 1.348, 1.352, 1.356, 1.36, 1.368, 1.372, 1.376, 1.384, 1.388, 1.392, 1.396, 1.404, 1.408, 1.412, 1.416, 1.42, 1.428, 1.432, 1.436, 1.44, 1.444, 1.452, 1.456, 1.46, 1.468, 1.472, 1.476, 1.484, 1.488, 1.492, 1.5, 1.504, 1.508, 1.512, 1.524, 1.528, 1.564, 1.692, 1.768, 2.372, 2.38, 2.452, 2.456, 2.46, 2.464, 2.468, 2.472, 2.476, 2.48, 2.484, 2.488, 2.492, 2.496, 2.5, 2.504, 2.508, 2.512, 2.516, 2.52, 2.524, 2.528, 2.532, 2.536, 2.54, 2.544, 2.548, 2.552, 2.556, 2.56, 2.564, 2.568, 2.572, 2.576, 2.58, 2.584, 2.588, 2.592, 2.596, 2.6, 2.604, 2.608, 2.612, 2.616, 2.62, 2.624, 2.628, 2.632, 2.636, 2.64, 2.644, 2.648, 2.652, 2.656, 2.66, 2.664, 2.668, 2.672, 2.676, 2.68, 2.684, 2.688, 2.692, 2.696, 2.7, 2.704, 2.708, 2.712, 2.716, 2.72, 2.724, 2.728, 2.732, 2.736, 2.74, 2.744, 2.748, 2.752, 2.756, 2.76, 2.764, 2.768, 2.772, 2.776, 2.78, 2.784, 2.788, 2.792, 2.796, 2.8, 2.804, 2.808, 2.812, 2.816, 2.82, 2.824, 2.828, 2.832, 2.836, 2.84, 2.844, 2.848, 2.852, 2.856, 2.86, 2.864, 2.868, 2.872, 2.876, 2.88, 2.884, 2.888, 2.892, 2.896, 2.9, 2.904, 2.908, 2.912, 2.916, 2.92, 2.924, 2.928, 2.932, 2.936, 2.94, 2.948, 2.952, 2.956, 2.96, 2.968, 2.972, 2.976, 2.98, 2.984, 2.992, 2.996, 3.0, 3.004, 3.012, 3.016, 3.02, 3.024, 3.032, 3.036, 3.04, 3.044, 3.048, 3.052, 3.06, 3.064, 3.068, 3.076, 3.08, 3.084, 3.088, 3.092, 3.096, 3.1, 3.104, 3.112, 3.116, 3.12, 3.124, 3.132, 3.14, 3.144, 3.148, 3.152, 3.16, 3.164, 3.168, 3.172, 3.18, 3.188, 3.192, 3.196, 3.2, 3.208, 3.212, 3.216, 3.22, 3.228, 3.232, 3.236, 3.244, 3.248, 3.252, 3.256, 3.26, 3.268, 3.272, 3.276, 3.284, 3.288, 3.292, 3.296, 3.3, 3.308, 3.312, 3.316, 3.32, 3.324, 3.332, 3.336, 3.34, 3.348, 3.352, 3.356, 3.36, 3.368, 3.372, 3.376, 3.384, 3.388, 3.392, 3.4, 3.404, 3.408, 3.412, 3.416, 3.42, 3.428, 3.432, 3.436, 3.44, 3.444, 3.448, 3.452, 3.456, 3.46, 3.464, 3.468, 3.472, 3.476, 3.484, 3.488, 3.492, 3.496, 3.5, 3.512, 3.98], [], [], [0.004, 4.028], [], [], [], [], [], [], [], [], [], [], [], [], [], [], [], [], []] [[], [], [], [], [], [], [], [], [], [], [], [], [], [2.452, 2.456, 2.46, 2.464, 2.468, 2.472, 2.476, 2.48, 2.484, 2.488, 2.492, 2.496, 2.5, 2.504, 2.508, 2.512, 2.516, 2.52, 2.524, 2.528, 2.532, 2.536, 2.54, 2.544, 2.548, 2.552, 2.556, 2.56, 2.564, 2.568, 2.572, 2.576, 2.58, 2.584, 2.588, 2.592, 2.596, 2.6, 2.604, 2.608, 2.612, 2.616, 2.62, 2.624, 2.628, 2.632, 2.636, 2.64, 2.644, 2.648, 2.652, 2.656, 2.66, 2.664, 2.668, 2.672, 2.676, 2.68, 2.684, 2.688, 2.692, 2.696, 2.7, 2.704, 2.708, 2.712, 2.716, 2.72, 2.724, 2.728, 2.732, 2.736, 2.74, 2.744, 2.748, 2.752, 2.756, 2.76, 2.764, 2.768, 2.772, 2.776, 2.78, 2.784, 2.788, 2.792, 2.796, 2.8, 2.804, 2.808, 2.812, 2.816, 2.82, 2.824, 2.828, 2.832, 2.836, 2.84, 2.844, 2.848, 2.852, 2.856, 2.86, 2.864, 2.868, 2.872, 2.876, 2.88, 2.884, 2.888, 2.892, 2.896, 2.9, 2.904, 2.908, 2.92, 2.94, 2.944, 2.96, 2.968, 2.976, 2.996, 3.0, 3.02, 3.064, 3.068, 3.076, 3.08, 3.084, 3.088, 3.112, 3.12, 3.136, 3.164, 3.168, 3.176, 3.18, 3.192, 3.208, 3.232, 3.248, 3.252, 3.268, 3.276, 3.28, 3.288, 3.312, 3.316, 3.324], [], [], [0.004, 0.024], [], [], [], [], [], [], [], [], [], [], [], [], [], [], [], [], []]\n"
     ]
    }
   ],
   "source": [
    "%matplotlib widget\n",
    "filename_meas = 'C:\\\\Users\\\\Noah.Ploch\\\\OneDrive - Walter Schottky Institut\\\\Plots\\\\Fitting_Auswertung\\\\'\\\n",
    "            'Paramter_playing\\\\meas_R20K.csv'\n",
    "\n",
    "fails_reduced=[]\n",
    "fails_full = []\n",
    "date_sample = []\n",
    "for i,j in zip(quick_data_2, filename2):\n",
    "    b=B_sweep(i) # \"r_b_sweeps\" \"r_t_sweeps\"\n",
    "    b.fit_limit = 8\n",
    "    #print(b.B_values_dict_fit)\n",
    "    b.fit_area = 'full'\n",
    "    b.fit_all_sweeps(b.B_values_dict)\n",
    "    #print(b.fit_fail)\n",
    "    fails_full.append(b.fit_fail)\n",
    "    b.fit_area = 'reduced'\n",
    "    b.B_values_dict_fit = {}\n",
    "    b.fit_fail = []\n",
    "    b.fit_all_sweeps(b.B_values_dict)\n",
    "    #print(b.fit_fail)\n",
    "    fails_reduced.append(b.fit_fail)\n",
    "    try:\n",
    "        sample_postfix_2 = re.search(r'_diffusweep_\\w*', j)[0]\n",
    "        sample_postfix_2 = sample_postfix_2[12:]\n",
    "    except:\n",
    "        sample_postfix_2 = ''\n",
    "    date_sample_j = re.search(r'\\d{6}_\\d{6}\\w_', j)[0] + sample_postfix_2\n",
    "    date_sample.append(date_sample_j)\n",
    "print(date_sample,fails_reduced, fails_full)\n",
    "meas_dict = {'Sample_meas': date_sample, 'Fail_full': fails_full, 'Fails_reduced':fails_reduced} # change Tc, only raw data\n",
    "df = pd.DataFrame(meas_dict)\n",
    "df.to_csv(Path(filename_meas), sep='\\t')"
   ]
  },
  {
   "cell_type": "markdown",
   "metadata": {},
   "source": [
    "#### get resistance at 20K or close"
   ]
  },
  {
   "cell_type": "code",
   "execution_count": 178,
   "metadata": {},
   "outputs": [
    {
     "name": "stdout",
     "output_type": "stream",
     "text": [
      "[11.472751253849752, 189.3154837080071]\n",
      "Len raw data:  12\n",
      "[15.279440424801159, 182.52083859560497]\n",
      "Len raw data:  18\n",
      "[14.770350411228495, 168.87935386168598]\n",
      "Len raw data:  18\n",
      "[15.127680304359846, 107.49243188698286]\n",
      "Len raw data:  16\n",
      "[14.778626850363477, 66.75082049987377]\n",
      "Len raw data:  18\n",
      "[17.23720021807462, 25.194150277357537]\n",
      "Len raw data:  19\n",
      "[nan, 436.20733249051835]\n",
      "Len raw data:  10\n",
      "[9.658774832251801, 429.4310998735777]\n",
      "Len raw data:  34\n",
      "[10.341553546131658, 133.70332996972755]\n",
      "Len raw data:  11\n",
      "[12.81236456872455, 140.49962149886449]\n",
      "Len raw data:  12\n",
      "[16.991106425223016, 148.34637717748043]\n",
      "Len raw data:  22\n",
      "[9.613658032283432, 365.7489264965901]\n",
      "Len raw data:  9\n",
      "[14.444897148161521, 106.65993945509588]\n",
      "Len raw data:  17\n",
      "[7.391810129460011, 139.1523713420787]\n",
      "Len raw data:  11\n",
      "[10.862652224235413, 109.265337036102]\n",
      "Len raw data:  14\n",
      "[11.975959358873444, 79.7979797979798]\n",
      "Len raw data:  12\n",
      "[10.67128071169541, 91.36799596163554]\n",
      "Len raw data:  8\n",
      "[10.765825689429604, 156.68435683598688]\n",
      "Len raw data:  5\n",
      "[14.236487928056313, 219.25701288855194]\n",
      "Len raw data:  20\n",
      "[13.525086845801047, 138.44988639232517]\n",
      "Len raw data:  17\n",
      "[12.579841016897145, 152.7033855482567]\n",
      "Len raw data:  14\n",
      "[13.593155858017289, 155.06072874493927]\n",
      "Len raw data:  13\n",
      "[13.368812057560968, 140.64483371414065]\n",
      "Len raw data:  27\n",
      "[13.269711181877932, 155.02150265621046]\n",
      "Len raw data:  16\n",
      "[15.187537031447842, 59.63673057517659]\n",
      "Len raw data:  20\n",
      "[13.611705865618145, 58.930373360242186]\n",
      "Len raw data:  60\n",
      "[13.493956040357117, 68.04644119131753]\n",
      "Len raw data:  17\n",
      "[15.653274046581819, 23.119636547198386]\n",
      "Len raw data:  37\n",
      "[13.180599134795003, 22.805247225025226]\n",
      "Len raw data:  56\n",
      "[12.810682941499227, 25.832492431886983]\n",
      "Len raw data:  18\n",
      "[11.656330542740097, 25.334342669694674]\n",
      "Len raw data:  48\n",
      "[14.44356846601801, 4.4366019662213265]\n",
      "Len raw data:  14\n",
      "[12.342357370555057, 120.78708375378407]\n",
      "Len raw data:  14\n",
      "[11.33796191391001, 108.71432179843396]\n",
      "Len raw data:  29\n"
     ]
    }
   ],
   "source": [
    "%matplotlib widget\n",
    "filename_meas = 'C:\\\\Users\\\\Noah.Ploch\\\\OneDrive - Walter Schottky Institut\\\\Documents_Noah_OD\\\\Working_student\\\\Post_evaluation_diffusivity_until0420\\\\'\\\n",
    "            'meas_R20K.csv'\n",
    "\n",
    "temp_R_max=[]\n",
    "R_max = []\n",
    "date_sample = []\n",
    "for i,j in zip(quick_data_2, filename2):\n",
    "    b=B_sweep(i) # \"r_b_sweeps\" \"r_t_sweeps\n",
    "    temp_R_max.append(b.T_R_NC)\n",
    "    R_max.append(b.R_NC_0T)\n",
    "    try:\n",
    "        sample_postfix_2 = re.search(r'_diffusweep_\\w*', j)[0]\n",
    "        sample_postfix_2 = sample_postfix_2[12:]\n",
    "    except:\n",
    "        sample_postfix_2 = ''\n",
    "    date_sample_j = re.search(r'\\d{6}_\\d{6}\\w_', j)[0] + sample_postfix_2\n",
    "    date_sample.append(date_sample_j)\n",
    "#print(date_sample,fails_reduced, fails_full)\n",
    "meas_dict = {'Sample_meas': date_sample, 'T_R_max': temp_R_max, 'R_max':R_max} # change Tc, only raw data\n",
    "df = pd.DataFrame(meas_dict)\n",
    "df.to_csv(Path(filename_meas), sep='\\t', decimal=',')"
   ]
  },
  {
   "cell_type": "markdown",
   "metadata": {},
   "source": [
    "#### Plot all BC2 vsT"
   ]
  },
  {
   "cell_type": "code",
   "execution_count": 149,
   "metadata": {},
   "outputs": [],
   "source": [
    "%matplotlib inline\n",
    "filename_meas = 'C:\\\\Users\\\\Noah.Ploch\\\\OneDrive - Walter Schottky Institut\\\\Plots\\\\Fitting_Auswertung\\\\Paramter_playing\\\\All_Bc2_bin005\\\\'\n",
    "\n",
    "for i,j in zip(quick_data_2, filename2):\n",
    "    try:\n",
    "        sample_postfix_2 = re.search(r'_diffusweep_\\w*', j)[0]\n",
    "        sample_postfix_2 = sample_postfix_2[12:]\n",
    "    except:\n",
    "        sample_postfix_2 = ''\n",
    "    date_sample_j = re.search(r'\\d{6}_\\d{6}\\w_', j)[0] + sample_postfix_2 + 'Bc2.pdf'\n",
    "    pdfname = filename_meas + date_sample_j\n",
    "    pdf = PdfPages(pdfname)\n",
    "    fig=plt.figure()\n",
    "    ax=fig.add_subplot(111)\n",
    "    b=B_sweep(i) # \"r_b_sweeps\" \"r_t_sweeps\"\n",
    "    b.fit_limit = 8\n",
    "    #print(b.B_values_dict_fit)\n",
    "    b.fit_area = 'full'\n",
    "    b.fit_all_sweeps(b.B_values_dict)\n",
    "    b.get_Tc()\n",
    "    b.Bc2=[]\n",
    "    b.get_Bc2('gaussian')\n",
    "    ax.plot(b.Bc2[:,0], b.Bc2[:,1], 's', label=r'$T-B_\\text{c2}$ full pairs gauss', ms=1.5, mew=0)\n",
    "    b.Bc2=[]\n",
    "    b.get_Bc2()\n",
    "    ax.plot(b.Bc2[:,0], b.Bc2[:,1], 's', label=r'$T-B_\\text{c2}$ full pairs richards', ms=1.5, mew=0)\n",
    "    \n",
    "    b.fit_area = 'reduced'\n",
    "    b.B_values_dict_fit = {}\n",
    "    b.fit_fail = []\n",
    "    b.fit_all_sweeps(b.B_values_dict)\n",
    "    b.get_Tc()\n",
    "    b.Bc2=[]\n",
    "    b.get_Bc2('gaussian')\n",
    "    ax.plot(b.Bc2[:,0], b.Bc2[:,1], 's', label=r'$T-B_\\text{c2}$ reduced pairs gauss', ms=1.5, mew=0)\n",
    "    b.Bc2=[]\n",
    "    b.get_Bc2()\n",
    "    ax.plot(b.Bc2[:,0], b.Bc2[:,1], 's', label=r'$T-B_\\text{c2}$ reduced pairs richards', ms=1.5, mew=0)\n",
    "\n",
    "    plt.xlabel(r'Temperature / $\\si{\\kelvin}$')\n",
    "    plt.ylabel(r'$B_{c2}$ / $\\si{\\tesla}$')\n",
    "    ax.tick_params(direction='in', bottom=True, top=True, left=True, right=True)\n",
    "    legend = ax.legend(handletextpad=0.1, loc='best', handlelength=2.5, labelspacing=0.5, frameon=False, columnspacing=1)\n",
    "    plt.tight_layout()\n",
    "    pdf.savefig(bbox_inches='tight')\n",
    "    pdf.close()"
   ]
  },
  {
   "cell_type": "markdown",
   "metadata": {},
   "source": [
    "### Plot all RVST"
   ]
  },
  {
   "cell_type": "code",
   "execution_count": 155,
   "metadata": {},
   "outputs": [
    {
     "name": "stdout",
     "output_type": "stream",
     "text": [
      "155.06072874493927\n",
      "Len raw data:  13\n"
     ]
    },
    {
     "name": "stderr",
     "output_type": "stream",
     "text": [
      "C:\\Users\\Noah.Ploch\\Program\\Anaconda\\lib\\site-packages\\ipykernel_launcher.py:299: RuntimeWarning: divide by zero encountered in true_divide\n",
      "C:\\Users\\Noah.Ploch\\Program\\Anaconda\\lib\\site-packages\\ipykernel_launcher.py:299: RuntimeWarning: overflow encountered in float_power\n",
      "C:\\Users\\Noah.Ploch\\Program\\Anaconda\\lib\\site-packages\\ipykernel_launcher.py:299: RuntimeWarning: overflow encountered in true_divide\n"
     ]
    },
    {
     "name": "stdout",
     "output_type": "stream",
     "text": [
      "[]\n",
      "22.805247225025226\n",
      "Len raw data:  56\n"
     ]
    },
    {
     "name": "stderr",
     "output_type": "stream",
     "text": [
      "C:\\Users\\Noah.Ploch\\Program\\Anaconda\\lib\\site-packages\\ipykernel_launcher.py:473: RuntimeWarning: invalid value encountered in log\n"
     ]
    },
    {
     "name": "stdout",
     "output_type": "stream",
     "text": [
      "[]\n",
      "108.71432179843396\n",
      "Len raw data:  29\n",
      "[]\n"
     ]
    },
    {
     "data": {
      "image/png": "[encoded data removed]",
      "text/plain": [
       "<Figure size 432x288 with 1 Axes>"
      ]
     },
     "metadata": {
      "needs_background": "light"
     },
     "output_type": "display_data"
    },
    {
     "data": {
      "image/png": "[encoded data removed]",
      "text/plain": [
       "<Figure size 432x288 with 1 Axes>"
      ]
     },
     "metadata": {
      "needs_background": "light"
     },
     "output_type": "display_data"
    },
    {
     "data": {
      "image/png": "[encoded data removed]",
      "text/plain": [
       "<Figure size 432x288 with 1 Axes>"
      ]
     },
     "metadata": {
      "needs_background": "light"
     },
     "output_type": "display_data"
    }
   ],
   "source": [
    "%matplotlib inline\n",
    "filename_meas = 'C:\\\\Users\\\\Noah.Ploch\\\\OneDrive - Walter Schottky Institut\\\\Plots\\\\Fitting_Auswertung\\\\'\\\n",
    "                'Paramter_playing\\\\All_RvsT_bin005\\\\'\n",
    "\n",
    "for i,j in zip(quick_data_2, filename2):\n",
    "    try:\n",
    "        sample_postfix_2 = re.search(r'_diffusweep_\\w*', j)[0]\n",
    "        sample_postfix_2 = sample_postfix_2[12:]\n",
    "    except:\n",
    "        sample_postfix_2 = ''\n",
    "    date_sample_j = re.search(r'\\d{6}_\\d{6}\\w_', j)[0] + sample_postfix_2 + 'RvsT.pdf'\n",
    "    pdfname = filename_meas + date_sample_j\n",
    "    pdf = PdfPages(pdfname)\n",
    "    b=B_sweep(i) # \"r_b_sweeps\" \"r_t_sweeps\"\n",
    "    b.fit_area = 'full'\n",
    "    b.fit_limit = 3\n",
    "    b.fit_all_sweeps(b.B_values_dict)\n",
    "    #print(b.B_values_dict_fit)\n",
    "    b.get_Tc()\n",
    "    fig=plt.figure()\n",
    "    ax=fig.add_subplot(111)\n",
    "    # # plots fits of T-R Sweeps depending on B\n",
    "    i=0\n",
    "    for key in b.B_values_dict_fit:\n",
    "        if key in np.round(np.arange(0,1.0,0.2),2).tolist():#np.round(np.arange(0,0.8,0.1),2).tolist():#[0, 1.0, 2.0, 3.0, 4.0]:#[0,0.3,0.6,0.9,1.0]:#[1.2, 1.25, 1.3, 1.35, 1.4, 1.45, 1.5]: np.round(np.arange(1.45,1.54,0.01),2).tolist()\n",
    "            color = plt.rcParams['axes.prop_cycle'].by_key()['color'][i]\n",
    "            #ax.plot(b.B_values_dict[key][:,0], b.B_values_dict[key][:,1], 'x', label=r'raw '+ format_D_legend.format(key))\n",
    "            ax.plot(b.B_values_dict[key][:,0], b.B_values_dict[key][:,1], 'x', label=r'raw '+ format_D_legend.format(abs(key))+r'T, g:'+format_D_legend.format(np.round(b.Tc[key]['gaussian'],3))+r', rHp:'+format_D_legend.format(np.round(b.Tc[key]['richardsHp'],3)), color=color)\n",
    "            ax.plot(b.B_values_dict_fit[key]['gaussian'][1][0], b.B_values_dict_fit[key]['gaussian'][1][1], '--', color=color)\n",
    "            ax.plot(b.B_values_dict_fit[key]['richards'][1][0], b.B_values_dict_fit[key]['richards'][1][1], '-', color=color, alpha=0.4)\n",
    "            i+=1\n",
    "    print(b.fit_fail)\n",
    "    x_lim=b.B_values_dict_fit[key]['richards'][1][0]\n",
    "    y_lim=b.B_values_dict_fit[key]['richards'][1][1] \n",
    "    #ax.plot(b.B_values_dict_fit[0.41][1][0], b.B_values_dict_fit[0.41][1][1], '-', label=f'fit {0.41}T')\n",
    "    ax.tick_params(direction='in', bottom=True, top=True, left=True, right=True)\n",
    "    legend = ax.legend(handletextpad=0.1, loc='best', handlelength=2.5, labelspacing=0.5, frameon=False, columnspacing=1)\n",
    "    plt.xlabel(r'Temperature / \\si{\\kelvin}')\n",
    "    plt.ylabel(r'Resistance / \\si{\\ohm}')\n",
    "    plt.xlim(x_lim[bisect_left(y_lim,1)]-0.1, x_lim[bisect_left(y_lim, 0.99*np.max(y_lim))]+0.6)\n",
    "    #plt.xlim(7.5,11)\n",
    "    plt.tight_layout()\n",
    "    pdf.savefig(bbox_inches='tight')\n",
    "    pdf.close()"
   ]
  },
  {
   "cell_type": "markdown",
   "metadata": {},
   "source": [
    "## import calib file"
   ]
  },
  {
   "cell_type": "code",
   "execution_count": 207,
   "metadata": {},
   "outputs": [],
   "source": [
    "data_calib = np.loadtxt(calibfile_to_import, usecols=(0,1,2), skiprows=1)\n",
    "#print(np.isnan(np.sum(data_calib))) \n",
    "data_calib = np.array([np.delete(data_calib[:,0], np.argwhere(np.isnan(data_calib[:,1]))), np.delete(data_calib[:,1], np.argwhere(np.isnan(data_calib[:,1]))), np.delete(data_calib[:,2], np.argwhere(np.isnan(data_calib[:,1])))]).transpose()\n",
    "data_calib = np.array([np.delete(data_calib[:,0], np.argwhere(np.isnan(data_calib[:,2]))), np.delete(data_calib[:,1], np.argwhere(np.isnan(data_calib[:,2]))), np.delete(data_calib[:,2], np.argwhere(np.isnan(data_calib[:,2])))]).transpose()\n",
    "\n",
    "# calibration_file = '\\\\\\\\file\\\\e24\\\\Projects\\\\FinleyLab\\\\_IQPGroup\\\\_SSPDs\\\\Data\\\\Diffusivity\\\\Raw data\\\\Calibration\\\\calibration_diodes\\\\200210_191210A_calibration_data_n_moving_average_7.txt' #200210_191210A_film_vs_temp.txt\n",
    "# data_calibration = np.loadtxt(calibfile_to_import, usecols=(0,1,2), skiprows=1)\n",
    "# data_calibration = data_calibration[data_calibration[:,0]>500, :] # select values later than 500s (from then on curve is more or less smooth) and delete time column\n",
    "# #print(data_calibration)\n",
    "# # get rid of nans\n",
    "# temp_data_calib = []\n",
    "# for i in data_calibration:\n",
    "#     if np.isnan(np.sum(i))==False:\n",
    "#         temp_data_calib.append(i)\n",
    "#     else: pass\n",
    "# data_calibration = np.array(temp_data_calib)\n",
    "# #print(data_calibration)\n",
    "\n",
    "# load filtered and smoothed calibration data\n",
    "#data_calibration = np.loadtxt(calibration_file, usecols=(0,1))\n",
    "\n",
    "\n",
    "#print(type(data_calibration))\n",
    "#print(np.isnan(np.sum(data_calibration)))\n",
    "#print(len(data_calib[:,0]), len(data_calib[:,1]))\n",
    "#print(data_calib)\n",
    "#data = np.loadtxt(filename_to_import)\n",
    "#calibfile_to_import = Path('//file/e24/Projects/FinleyLab/_IQPGroup/_SSPDs/Data/Tc summary/Raw Data/Calibration_191206/Calibration_191030A_191211_fast_coupled.dat')\n",
    "#data_calib=np.loadtxt(calibfile_to_import)\n",
    "#print(data_calib[:,1].tolist())\n",
    "#print(data)"
   ]
  },
  {
   "cell_type": "markdown",
   "metadata": {},
   "source": [
    "### smooth and anaylse calibration data"
   ]
  },
  {
   "cell_type": "code",
   "execution_count": null,
   "metadata": {},
   "outputs": [],
   "source": [
    "%matplotlib widget\n",
    "#%matplotlib inline\n",
    "#print(data_calibration)\n",
    "a = apply_moving_average(15, data_calibration[:,1])\n",
    "T_d = apply_moving_average(7, data_calibration[:,1])\n",
    "T_s = apply_moving_average(7, data_calibration[:,2])\n",
    "calib_data = np.array([T_d, T_s]).transpose()\n",
    "#path_calib = '\\\\\\\\file\\\\e24\\\\Projects\\\\FinleyLab\\\\_IQPGroup\\\\_SSPDs\\\\Data\\\\Diffusivity\\\\Raw data\\\\Calibration\\\\calibration_diodes\\\\200210_191210A_calibration_data_n_moving_average_7.txt'\n",
    "#np.savetxt(path_calib, calib_data, delimiter='\\t')\n",
    "\n",
    "#print(a)\n",
    "list1=[]\n",
    "for i in np.arange(100,250):\n",
    "    sum1=0\n",
    "    for j in np.arange(-34, 35):\n",
    "        sum1=sum1+data_calibration[i+j,1]\n",
    "    value=sum1/len(np.arange(-34,35))\n",
    "    list1.append([i,value])\n",
    "list1=np.asarray(list1)\n",
    "b=apply_moving_average(18, data_calibration[:,1])\n",
    "c=apply_moving_average(75, data_calibration[:,1])\n",
    "c_1 = apply_mov_av_convolve(75, data_calibration[:,1])\n",
    "fig=plt.figure()\n",
    "ax= fig.add_subplot(111)\n",
    "#print(list1)\n",
    "print(any(np.diff(a)<0))\n",
    "print(any(np.diff(b)<0))\n",
    "print(any(np.diff(c)<0))\n",
    "ax.plot(data_calibration[:,1], '.-', label='raw')\n",
    "# #ax.plot(a, '.-', label='over 5')\n",
    "# #ax.plot(b, '.-', label='over 10')\n",
    "# ax.plot(c, 'x-', label='over 75')\n",
    "# ax.plot(c_1, '.-', label='over 75_old')\n",
    "# ax.plot(list1[:,0], list1[:,1], '*-', label=\"manual\")\n",
    "plt.xlabel('index')\n",
    "plt.ylabel('TEMP')\n",
    "plt.legend()\n",
    "\n",
    "\n",
    "#fig.canvas.layout.width = '10in'\n",
    "#fig.canvas.layout.height= '6in'"
   ]
  },
  {
   "cell_type": "markdown",
   "metadata": {},
   "source": [
    "## Error in linear temperature interpolation"
   ]
  },
  {
   "cell_type": "code",
   "execution_count": 208,
   "metadata": {
    "lines_to_next_cell": 2
   },
   "outputs": [
    {
     "name": "stderr",
     "output_type": "stream",
     "text": [
      "<>:6: DeprecationWarning: invalid escape sequence \\D\n",
      "<>:6: DeprecationWarning: invalid escape sequence \\D\n",
      "<>:6: DeprecationWarning: invalid escape sequence \\D\n",
      "<ipython-input-208-c4fec56853a6>:6: DeprecationWarning: invalid escape sequence \\D\n",
      "  pdfname = 'C:\\\\Users\\\\Noah.Ploch\\\\OneDrive - Walter Schottky Institut\\Documents_Noah_OD\\\\BA\\\\Schreiben\\\\Thesis_BA_Noah_Ploch\\\\Thesis\\\\figures\\\\Appendix_Error\\\\temperature_error_interpolation_calibdata200210.pdf'\n"
     ]
    },
    {
     "name": "stdout",
     "output_type": "stream",
     "text": [
      "59.404942007060015\n",
      "Len raw data:  20\n",
      "Sample rate:  1.8440080223599848\n",
      "Start Index for 300s waiting time:  554\n"
     ]
    },
    {
     "name": "stderr",
     "output_type": "stream",
     "text": [
      "C:\\Users\\Noah.Ploch\\Program\\Anaconda\\lib\\site-packages\\ipywidgets\\widgets\\widget.py:412: DeprecationWarning: Passing unrecoginized arguments to super(Canvas).__init__().\n",
      "__init__() missing 1 required positional argument: 'figure'\n",
      "This is deprecated in traitlets 4.2.This error will be raised in a future release of traitlets.\n",
      "  super(Widget, self).__init__(**kwargs)\n",
      "C:\\Users\\Noah.Ploch\\Program\\Anaconda\\lib\\site-packages\\ipywidgets\\widgets\\widget.py:412: DeprecationWarning: Passing unrecoginized arguments to super(Toolbar).__init__().\n",
      "__init__() missing 1 required positional argument: 'canvas'\n",
      "This is deprecated in traitlets 4.2.This error will be raised in a future release of traitlets.\n",
      "  super(Widget, self).__init__(**kwargs)\n"
     ]
    },
    {
     "data": {
      "application/vnd.jupyter.widget-view+json": {
       "model_id": "cb69a67495264aaf89a7b0a2fe9be6c9",
       "version_major": 2,
       "version_minor": 0
      },
      "text/plain": [
       "Canvas(toolbar=Toolbar(toolitems=[('Home', 'Reset original view', 'home', 'home'), ('Back', 'Back to previous …"
      ]
     },
     "metadata": {},
     "output_type": "display_data"
    }
   ],
   "source": [
    "# to fix: btw 8600 and 9900 there are no error calculations...\n",
    "%matplotlib widget\n",
    "#before = [np.concatenate(b.time_sweeps).ravel(), b.T_array]\n",
    "#Check for linear error\n",
    "# plot PDF\n",
    "pdfname = 'C:\\\\Users\\\\Noah.Ploch\\\\OneDrive - Walter Schottky Institut\\Documents_Noah_OD\\\\BA\\\\Schreiben\\\\Thesis_BA_Noah_Ploch\\\\Thesis\\\\figures\\\\Appendix_Error\\\\temperature_error_interpolation_calibdata200210.pdf'\n",
    "pdf = PdfPages(pdfname)\n",
    "\n",
    "b=B_sweep(data, 'r_t_sweeps') # \"r_b_sweeps\" \"r_t_sweeps\"\n",
    "\n",
    "data_calib = np.array([data_calib[:,0], data_calib[:,2]]).transpose()\n",
    "window=550\n",
    "#print(data_calib)\n",
    "#print(np.mean(np.diff(data_calib[:,0])))\n",
    "sample_rate=1/np.mean(np.diff(data_calib[:,0]))\n",
    "j=0\n",
    "indices_lost = []\n",
    "linearization = []\n",
    "max_error_list = np.array([])\n",
    "max_error_pp = []\n",
    "idx_start = ceil(300*sample_rate)\n",
    "idx_end = len(data_calib[:,0])\n",
    "print('Sample rate: ', sample_rate)\n",
    "print('Start Index for 300s waiting time: ', idx_start)\n",
    "for i in np.arange(idx_start,idx_start+len(data_calib[idx_start:idx_end,0])):\n",
    "    try: \n",
    "        j=i+ceil(sample_rate*window)\n",
    "        #print(j)\n",
    "        #print(data_calib[i, :2])\n",
    "        #print(data_calib[j, :2])\n",
    "        fit = b.linear_interpolation(data_calib[i,:2], data_calib[j,:2], data_calib[i:j,0])\n",
    "        error = fit-data_calib[i:j,1]\n",
    "        error_p = abs(error)/data_calib[i:j,1]\n",
    "        max_error = np.max(abs(error)) # max absolute error\n",
    "        max_error_p = np.max(error_p)\n",
    "        max_error_list = np.append(max_error_list, max_error)\n",
    "        max_error_pp.append([data_calib[i,0], max_error_p])\n",
    "        linearization.append([data_calib[i:j,1], fit, error, error_p, max_error, max_error_p])\n",
    "    except:\n",
    "        indices_lost.append(i)\n",
    "max_error_pp = np.asarray(max_error_pp)\n",
    "        \n",
    "# b=B_sweep(data, 'r_t_sweeps') # \"r_b_sweeps\" \"r_t_sweeps\"\n",
    "# #print(len(b.TBR_array[0]))\n",
    "# #print(b.T_array)\n",
    "# # temperature against time: linearized and timestamps\n",
    "\n",
    "# time = np.array([])\n",
    "# temperature = np.array([])\n",
    "# for i,j in zip(b.time_sweeps, b.Temp_at_timestamp):\n",
    "#             time = np.append(time, i[0])\n",
    "#             temperature = np.append(temperature, j[0])\n",
    "\n",
    "        \n",
    "\n",
    "#print(indices_lost)\n",
    "# fig=plt.figure()\n",
    "# ax=fig.add_subplot(111)\n",
    "# # plot singular error calculations -> search for max error fit\n",
    "# ax.plot(np.arange(idx_start,idx_start+len(data_calib[idx_start:idx_end,0])-len(indices_lost)), max_error_pp, '.-', label='relative error')\n",
    "# #ax.plot(linearization[34][0], '.-', label='data')\n",
    "# #ax.plot(linearization[34][1], '.-', label='fit')\n",
    "# #ax.plot(linearization[1][2], '.-', label='absolute error')\n",
    "# #ax.plot(linearization[34][3], '.-', label='relative error')\n",
    "# plt.xlabel('Index')\n",
    "# plt.ylabel('Temperature')\n",
    "# plt.title(\"Relative error (10.02.2020)\")\n",
    "# ax.legend()    \n",
    "color = plt.rcParams['axes.prop_cycle'].by_key()['color']\n",
    "fig, (ax0, ax1) = plt.subplots(nrows=2, sharex=True)\n",
    "#gs = gridspec.GridSpec(2, 1, height_ratios=[1, 1]) \n",
    "#ax0 = plt.subplot(gs[0])\n",
    "ax0.plot(data_calib[:,0], data_calib[:,1], color=color[0], linestyle='-')\n",
    "#ax1 = plt.subplot(gs[1], sharex=ax0)\n",
    "ax1.plot(max_error_pp[:,0], max_error_pp[:,1], '-', color = color[0])\n",
    "#plt.setp(ax0.get_xticklabels(), visible=False)\n",
    "#yticks = ax1.yaxis.get_major_ticks()\n",
    "#yticks[-1].label1.set_visible(False)\n",
    "ax1.set_xlabel(r'Time / \\si{\\second}')\n",
    "ax0.set_ylabel(r'Temperature / \\si{\\kelvin}')\n",
    "ax1.set_ylabel(r'Relative error / \\si{\\percent}')\n",
    "fig.subplots_adjust(hspace=0)\n",
    "# plot raw data and max_errors\n",
    "#ax.plot(data_calib[:,1], '.-', label='Temperature of bare-chip diode')\n",
    "#ax.plot(data_calib[:,2], '.-', label='Temperature of sample diode')\n",
    "#ax.plot(np.arange(idx_start,idx_start+len(data_calib[idx_start:idx_end,0])-len(indices_lost)),max_error_list, '.-', label='absolute error')\n",
    "\n",
    "\n",
    "\n",
    "#ax.plot(b.B_sweeps[5], b.R_sweeps[5], '.-', label='data')\n",
    "\n",
    "#plt.title(\"Self-Heating (10.02.2020)\")\n",
    "# legend = ax.legend(loc='best', handlelength=2.5)\n",
    "# legend.get_frame().set_linewidth(0.0)   \n",
    "\n",
    "# plot widget\n",
    "# fig.canvas.layout.width = '7in'\n",
    "# fig.canvas.layout.height= '6in'\n",
    "\n",
    "#plot PDF\n",
    "plt.tight_layout()\n",
    "pdf.savefig(bbox_inches='tight')\n",
    "pdf.close()"
   ]
  },
  {
   "cell_type": "markdown",
   "metadata": {
    "incorrectly_encoded_metadata": "toc-hr-collapsed=false"
   },
   "source": [
    "## B error determination"
   ]
  },
  {
   "cell_type": "markdown",
   "metadata": {},
   "source": [
    "In this section we calculate the error that is assigned to the measurements of the magnetic field. When sweeping the magnet from 0T to 4.1T or 1.1T, we can take the lowest value (0T) and the highest value of these sweeps and compare them to the measured magnetic field (via the `output current monitor` of the Lakeshore625 and a Keithley2000 reading this voltage that is proportional to the current/magnetic field)."
   ]
  },
  {
   "cell_type": "code",
   "execution_count": 93,
   "metadata": {
    "lines_to_end_of_cell_marker": 2
   },
   "outputs": [
    {
     "name": "stdout",
     "output_type": "stream",
     "text": [
      "168.0464411913175\n",
      "-0.000154213225338 4.1125402056\n",
      "-0.000105581519058 4.11264224838\n",
      "-8.80422145032e-05 4.11223405914\n",
      "-9.6413245716e-05 4.112336110979999\n",
      "-0.000117540135594 4.112846343\n",
      "-3.0242234881200003e-05 4.112846343\n",
      "-0.00015301736422799998 4.11202996452\n",
      "-6.332774047979999e-05 4.112744300219999\n",
      "-7.8475321365e-05 4.11264224838\n",
      "-9.3224281548e-05 4.1125402056\n",
      "-8.24615268468e-05 4.112438153759999\n",
      "-0.000124316684904 4.112846343\n",
      "-8.32587679794e-05 4.11264224838\n",
      "-7.1698772055e-05 4.112438153759999\n",
      "-9.00353172894e-05 4.112744300219999\n",
      "-0.000128302890114 4.1125402056\n",
      "-9.282566147999999e-05 4.11264224838\n",
      "-3.53463742386e-06 4.1119279217399995\n",
      "delta_minB = 1.542e-04, delta_maxB = 1.285e-02\n",
      "delta_minB/minB = inf, delta_maxB/maxB = 3.133e-03\n"
     ]
    },
    {
     "name": "stderr",
     "output_type": "stream",
     "text": [
      "/home/stefan/anaconda3/lib/python3.7/site-packages/ipykernel_launcher.py:14: RuntimeWarning: divide by zero encountered in double_scalars\n",
      "  \n"
     ]
    }
   ],
   "source": [
    "minB = 0.0\n",
    "maxB = 4.1\n",
    "delta_minB = 0.0\n",
    "delta_maxB = 0.0\n",
    "\n",
    "B_sweeps = B_sweep(data);\n",
    "for this_sweep in B_sweeps.B_sweeps:\n",
    "    sorted_sweep = np.sort(this_sweep)\n",
    "    print(sorted_sweep[0],sorted_sweep[-1])\n",
    "    delta_minB = max(delta_minB,abs(sorted_sweep[0]-minB))\n",
    "    if abs((sorted_sweep[-1]-maxB)/maxB) < 0.1:\n",
    "        delta_maxB = max(delta_maxB,abs(sorted_sweep[-1]-maxB))\n",
    "print('delta_minB = %.3e, delta_maxB = %.3e'%(delta_minB,delta_maxB))\n",
    "print('delta_minB/minB = %.3e, delta_maxB/maxB = %.3e'%(delta_minB/minB,delta_maxB/maxB))"
   ]
  },
  {
   "cell_type": "markdown",
   "metadata": {},
   "source": [
    "When reading the magnetic field with the `output current monitor` of the Lakeshore625 we obtain for different `B_max` and `B_min` values (also shown at the front display in high precision) the following readings by the Matlab measurement script (accounting for errors of the output current monitor and the Keithley measuring the voltage)\n",
    "\n",
    "|B_max |B_min | delta_minB | delta_maxB | delta_minB/minB | delta_maxB/maxB | evaluated file                     |\n",
    "|------|------|------------|------------|-----------------|-----------------|------------------------------------|\n",
    "|4.1T  |0.0T  | 1.287e-04  | 1.268e-02  | inf             | 3.093e-03       | 200309_200309A_diffusweep          |\n",
    "|4.1T  |0.0T  | 1.430e-04  | 7.590e-02  | inf             | 1.851e-02       | 200228_200215A_diffusweep          |\n",
    "|4.1T  |0.0T  | 1.805e-04  | 1.275e-02  | inf             | 3.110e-03       | 200219_200121A_diffusweep          |\n",
    "|4.1T  |0.0T  | 1.578e-04  | 1.277e-02  | inf             | 3.114e-03       | 200217_200207A_diffusweep          |\n",
    "|4.1T  |0.0T  | 1.542e-04  | 1.285e-02  | inf             | 3.133e-03       | 200211_191219A_diffusweep          |\n",
    "|1.1T  |0.0T  | 1.801e-04  | 3.565e-03  | inf             | 3.241e-03       | 200305_200206A_diffusweep_1TSweep  |\n",
    "|1.1T  |0.0T  | 1.698e-04  | 3.614e-03  | inf             | 3.285e-03       | 200217_191218A_diffusweep_1Tsweeps |\n",
    "\n",
    "This means, we should be on the safe side by choosing the error of the magnetic field to be `2% of B + 1mT` (upper bound for the relavtive error + upper bound for the absolute error given for 0T for all the above analyzed measurements)."
   ]
  },
  {
   "cell_type": "markdown",
   "metadata": {},
   "source": [
    "## Temperature Calibration - Calculations"
   ]
  },
  {
   "cell_type": "code",
   "execution_count": null,
   "metadata": {
    "lines_to_end_of_cell_marker": 2
   },
   "outputs": [],
   "source": [
    "%matplotlib widget\n",
    "b=B_sweep(data, 'r_t_sweeps', data_calibration) # \"r_b_sweeps\" \"r_t_sweeps\"\n",
    "a = b.calibrated_Temp_at_timestamp\n",
    "a= np.array([a])\n",
    "print(a)\n",
    "#print(b._raw_data[0])\n",
    "error = abs(a[0][:,2]-a[0][:,0])\n",
    "#print(error)\n",
    "error_rel=error/a[0][:,2]\n",
    "fig=plt.figure()\n",
    "ax=fig.add_subplot(111)\n",
    "ax.plot(error_rel, '.-', label = 'relative error (T_sample-T-calculated)/T_sample')\n",
    "plt.xlabel('Index of temperature stamp')\n",
    "plt.ylabel('Relative error in %')\n",
    "ax.legend()\n",
    "#print(len(b.TBR_array[0]))\n",
    "#print(b.T_array)\n",
    "# temperature against time: linearized and timestamps\n",
    "\n",
    "\n",
    "\n",
    "\n",
    "\n",
    "# time = np.array([])\n",
    "# temperature_d = np.array([])\n",
    "# temperature_s = np.array([])\n",
    "# for i,j in zip(b.time_sweeps, b.Temp_at_timestamp):\n",
    "#             time = np.append(time, i[0])\n",
    "#             temperature_d = np.append(temperature_d, j[0])\n",
    "#             temperature_s = np.append(temperature_s, j[2])\n",
    "\n",
    "# #print(indices_lost)\n",
    "# fig=plt.figure()\n",
    "# ax=fig.add_subplot(111)\n",
    "# # plot singular error calculations -> search for max error fit\n",
    "# ax.plot(np.arange(idx_start,idx_start+len(data_calib[idx_start:idx_end,0])-len(indices_lost)), max_error_pp, '.-', label='relative error')\n",
    "# #ax.plot(linearization[34][0], '.-', label='data')\n",
    "# #ax.plot(linearization[34][1], '.-', label='fit')\n",
    "# #ax.plot(linearization[1][2], '.-', label='absolute error')\n",
    "# #ax.plot(linearization[34][3], '.-', label='relative error')\n",
    "# plt.xlabel('Index')\n",
    "# plt.ylabel('Temperature')\n",
    "# plt.title(\"Relative error (10.02.2020)\")\n",
    "# ax.legend()    \n",
    "\n",
    "# fig=plt.figure()\n",
    "# ax=fig.add_subplot(111)\n",
    "# # plot raw data and max_errors\n",
    "# ax.plot(data_calib[:,0], data_calib[:,1], '.-', label='Temperature of bare-chip diode')\n",
    "# ax.plot(data_calib[:,0], data_calib[:,2], '.-', label='Temperature of sample diode')\n",
    "# #plt.plot(np.concatenate(b.time_sweeps).ravel(), np.concatenate(b.T_array).ravel(), '-', label='linear fit 191219A')\n",
    "# #plt.plot(time, temperature_d, '.-', label=\"Temperature stamps diode\")\n",
    "# #plt.plot(time, temperature_s, '.-', label=\"Temperature stamps sample\")\n",
    "# #ax.plot(np.arange(idx_start,idx_start+len(data_calib[idx_start:idx_end,0])-len(indices_lost)),max_error_list, '.-', label='absolute error')\n",
    "# #ax.plot(np.arange(idx_start,idx_start+len(data_calib[idx_start:idx_end,0])-len(indices_lost)), max_error_pp, '.-', label='relative error')\n",
    "# plt.xlabel('Index')\n",
    "# plt.ylabel('Temperature')\n",
    "# plt.title(\"Self-Heating (10.02.2020)\")\n",
    "# ax.legend()   \n",
    "\n",
    "# df = pd.DataFrame({'t[s]': time, 'TS_diode[K]': temperature_d, 'TS_sample[K]': temperature_s})\n",
    "# path = '\\\\\\\\file\\\\e24\\\\Projects\\\\FinleyLab\\\\_IQPGroup\\\\_SSPDs\\\\Data\\\\Diffusivity_or_Electron_Diffusion_Constant\\\\Raw data\\\\Calibration\\\\Curves_Timestamps\\\\'\n",
    "# name = '200110A_Temperature_stamps.csv'\n",
    "# df.to_csv(path+name, sep=\"\\t\", header = ['t[s]', 'TS_diode[K]', 'TS_sample[K]'])\n",
    "# print(df)"
   ]
  },
  {
   "cell_type": "markdown",
   "metadata": {},
   "source": [
    "## Fit R against B sweeps"
   ]
  },
  {
   "cell_type": "code",
   "execution_count": 171,
   "metadata": {},
   "outputs": [
    {
     "name": "stdout",
     "output_type": "stream",
     "text": [
      "59.404942007060015\n",
      "Len raw data:  20\n"
     ]
    },
    {
     "ename": "IndexError",
     "evalue": "index 1270 is out of bounds for axis 0 with size 1270",
     "output_type": "error",
     "traceback": [
      "\u001b[1;31m---------------------------------------------------------------------------\u001b[0m",
      "\u001b[1;31mIndexError\u001b[0m                                Traceback (most recent call last)",
      "\u001b[1;32m<ipython-input-171-d8e32db9b304>\u001b[0m in \u001b[0;36m<module>\u001b[1;34m\u001b[0m\n\u001b[0;32m      1\u001b[0m \u001b[0mR_B_fitting\u001b[0m\u001b[1;33m=\u001b[0m\u001b[0mB_sweep\u001b[0m\u001b[1;33m(\u001b[0m\u001b[0mdata\u001b[0m\u001b[1;33m,\u001b[0m \u001b[1;34m'r_b_sweeps'\u001b[0m\u001b[1;33m)\u001b[0m\u001b[1;33m\u001b[0m\u001b[1;33m\u001b[0m\u001b[0m\n\u001b[0;32m      2\u001b[0m \u001b[0mR_B_fitting\u001b[0m\u001b[1;33m.\u001b[0m\u001b[0mfit_all_sweeps\u001b[0m\u001b[1;33m(\u001b[0m\u001b[0mR_B_fitting\u001b[0m\u001b[1;33m.\u001b[0m\u001b[0mB_values_dict\u001b[0m\u001b[1;33m)\u001b[0m\u001b[1;33m\u001b[0m\u001b[1;33m\u001b[0m\u001b[0m\n\u001b[1;32m----> 3\u001b[1;33m \u001b[0mR_B_fitting\u001b[0m\u001b[1;33m.\u001b[0m\u001b[0mget_Bc2_from_B_sweeps\u001b[0m\u001b[1;33m(\u001b[0m\u001b[1;33m)\u001b[0m\u001b[1;33m\u001b[0m\u001b[1;33m\u001b[0m\u001b[0m\n\u001b[0m\u001b[0;32m      4\u001b[0m \u001b[0mR_B_fitting\u001b[0m\u001b[1;33m.\u001b[0m\u001b[0mget_Diffusivity\u001b[0m\u001b[1;33m(\u001b[0m\u001b[1;33m)\u001b[0m\u001b[1;33m\u001b[0m\u001b[1;33m\u001b[0m\u001b[0m\n\u001b[0;32m      5\u001b[0m \u001b[1;33m\u001b[0m\u001b[0m\n",
      "\u001b[1;32m<ipython-input-153-4d1b7524aa3a>\u001b[0m in \u001b[0;36mget_Bc2_from_B_sweeps\u001b[1;34m(self)\u001b[0m\n\u001b[0;32m    264\u001b[0m             \u001b[0msweep_BT\u001b[0m \u001b[1;33m=\u001b[0m \u001b[0mself\u001b[0m\u001b[1;33m.\u001b[0m\u001b[0m__create_sweeps\u001b[0m\u001b[1;33m(\u001b[0m\u001b[0mnp\u001b[0m\u001b[1;33m.\u001b[0m\u001b[0marray\u001b[0m\u001b[1;33m(\u001b[0m\u001b[1;33m[\u001b[0m\u001b[0mi\u001b[0m\u001b[1;33m,\u001b[0m\u001b[0mk\u001b[0m\u001b[1;33m]\u001b[0m\u001b[1;33m)\u001b[0m\u001b[1;33m.\u001b[0m\u001b[0mtranspose\u001b[0m\u001b[1;33m(\u001b[0m\u001b[1;33m)\u001b[0m\u001b[1;33m)\u001b[0m\u001b[1;33m\u001b[0m\u001b[1;33m\u001b[0m\u001b[0m\n\u001b[0;32m    265\u001b[0m             \u001b[1;31m#print(sweep_BR, sweep_BT)\u001b[0m\u001b[1;33m\u001b[0m\u001b[1;33m\u001b[0m\u001b[1;33m\u001b[0m\u001b[0m\n\u001b[1;32m--> 266\u001b[1;33m             \u001b[0msweep_fit\u001b[0m \u001b[1;33m=\u001b[0m \u001b[1;33m[\u001b[0m\u001b[0mself\u001b[0m\u001b[1;33m.\u001b[0m\u001b[0mfit_cdf_over_range\u001b[0m\u001b[1;33m(\u001b[0m\u001b[0ms\u001b[0m\u001b[1;33m.\u001b[0m\u001b[0mtranspose\u001b[0m\u001b[1;33m(\u001b[0m\u001b[1;33m)\u001b[0m\u001b[1;33m)\u001b[0m \u001b[1;32mfor\u001b[0m \u001b[0ms\u001b[0m \u001b[1;32min\u001b[0m \u001b[0msweep_BR\u001b[0m\u001b[1;33m]\u001b[0m\u001b[1;33m\u001b[0m\u001b[1;33m\u001b[0m\u001b[0m\n\u001b[0m\u001b[0;32m    267\u001b[0m             \u001b[1;31m#Bc2_sweep = []\u001b[0m\u001b[1;33m\u001b[0m\u001b[1;33m\u001b[0m\u001b[1;33m\u001b[0m\u001b[0m\n\u001b[0;32m    268\u001b[0m             \u001b[1;32mfor\u001b[0m \u001b[0ma\u001b[0m\u001b[1;33m,\u001b[0m \u001b[0mb\u001b[0m\u001b[1;33m,\u001b[0m \u001b[0mc\u001b[0m \u001b[1;32min\u001b[0m \u001b[0mzip\u001b[0m\u001b[1;33m(\u001b[0m\u001b[0msweep_fit\u001b[0m\u001b[1;33m,\u001b[0m \u001b[0msweep_BR\u001b[0m\u001b[1;33m,\u001b[0m \u001b[0msweep_BT\u001b[0m\u001b[1;33m)\u001b[0m\u001b[1;33m:\u001b[0m \u001b[1;31m# iterating over the gaussian-fitted B_sweeps and the raw sweeps of R against B and T against B\u001b[0m\u001b[1;33m\u001b[0m\u001b[1;33m\u001b[0m\u001b[0m\n",
      "\u001b[1;32m<ipython-input-153-4d1b7524aa3a>\u001b[0m in \u001b[0;36m<listcomp>\u001b[1;34m(.0)\u001b[0m\n\u001b[0;32m    264\u001b[0m             \u001b[0msweep_BT\u001b[0m \u001b[1;33m=\u001b[0m \u001b[0mself\u001b[0m\u001b[1;33m.\u001b[0m\u001b[0m__create_sweeps\u001b[0m\u001b[1;33m(\u001b[0m\u001b[0mnp\u001b[0m\u001b[1;33m.\u001b[0m\u001b[0marray\u001b[0m\u001b[1;33m(\u001b[0m\u001b[1;33m[\u001b[0m\u001b[0mi\u001b[0m\u001b[1;33m,\u001b[0m\u001b[0mk\u001b[0m\u001b[1;33m]\u001b[0m\u001b[1;33m)\u001b[0m\u001b[1;33m.\u001b[0m\u001b[0mtranspose\u001b[0m\u001b[1;33m(\u001b[0m\u001b[1;33m)\u001b[0m\u001b[1;33m)\u001b[0m\u001b[1;33m\u001b[0m\u001b[1;33m\u001b[0m\u001b[0m\n\u001b[0;32m    265\u001b[0m             \u001b[1;31m#print(sweep_BR, sweep_BT)\u001b[0m\u001b[1;33m\u001b[0m\u001b[1;33m\u001b[0m\u001b[1;33m\u001b[0m\u001b[0m\n\u001b[1;32m--> 266\u001b[1;33m             \u001b[0msweep_fit\u001b[0m \u001b[1;33m=\u001b[0m \u001b[1;33m[\u001b[0m\u001b[0mself\u001b[0m\u001b[1;33m.\u001b[0m\u001b[0mfit_cdf_over_range\u001b[0m\u001b[1;33m(\u001b[0m\u001b[0ms\u001b[0m\u001b[1;33m.\u001b[0m\u001b[0mtranspose\u001b[0m\u001b[1;33m(\u001b[0m\u001b[1;33m)\u001b[0m\u001b[1;33m)\u001b[0m \u001b[1;32mfor\u001b[0m \u001b[0ms\u001b[0m \u001b[1;32min\u001b[0m \u001b[0msweep_BR\u001b[0m\u001b[1;33m]\u001b[0m\u001b[1;33m\u001b[0m\u001b[1;33m\u001b[0m\u001b[0m\n\u001b[0m\u001b[0;32m    267\u001b[0m             \u001b[1;31m#Bc2_sweep = []\u001b[0m\u001b[1;33m\u001b[0m\u001b[1;33m\u001b[0m\u001b[1;33m\u001b[0m\u001b[0m\n\u001b[0;32m    268\u001b[0m             \u001b[1;32mfor\u001b[0m \u001b[0ma\u001b[0m\u001b[1;33m,\u001b[0m \u001b[0mb\u001b[0m\u001b[1;33m,\u001b[0m \u001b[0mc\u001b[0m \u001b[1;32min\u001b[0m \u001b[0mzip\u001b[0m\u001b[1;33m(\u001b[0m\u001b[0msweep_fit\u001b[0m\u001b[1;33m,\u001b[0m \u001b[0msweep_BR\u001b[0m\u001b[1;33m,\u001b[0m \u001b[0msweep_BT\u001b[0m\u001b[1;33m)\u001b[0m\u001b[1;33m:\u001b[0m \u001b[1;31m# iterating over the gaussian-fitted B_sweeps and the raw sweeps of R against B and T against B\u001b[0m\u001b[1;33m\u001b[0m\u001b[1;33m\u001b[0m\u001b[0m\n",
      "\u001b[1;32m<ipython-input-153-4d1b7524aa3a>\u001b[0m in \u001b[0;36mfit_cdf_over_range\u001b[1;34m(self, xy_data)\u001b[0m\n\u001b[0;32m    182\u001b[0m             \u001b[1;31m#print(\"Y: \", Y)\u001b[0m\u001b[1;33m\u001b[0m\u001b[1;33m\u001b[0m\u001b[1;33m\u001b[0m\u001b[0m\n\u001b[0;32m    183\u001b[0m             \u001b[1;31m#print(R)\u001b[0m\u001b[1;33m\u001b[0m\u001b[1;33m\u001b[0m\u001b[1;33m\u001b[0m\u001b[0m\n\u001b[1;32m--> 184\u001b[1;33m             \u001b[1;32mreturn\u001b[0m \u001b[0mself\u001b[0m\u001b[1;33m.\u001b[0m\u001b[0mgauss_cdf_fit\u001b[0m\u001b[1;33m(\u001b[0m\u001b[0mX\u001b[0m\u001b[1;33m,\u001b[0m \u001b[0mY\u001b[0m\u001b[1;33m,\u001b[0m \u001b[0mself\u001b[0m\u001b[1;33m.\u001b[0m\u001b[0mx_array\u001b[0m\u001b[1;33m)\u001b[0m\u001b[1;33m\u001b[0m\u001b[1;33m\u001b[0m\u001b[0m\n\u001b[0m\u001b[0;32m    185\u001b[0m         \u001b[1;32melse\u001b[0m\u001b[1;33m:\u001b[0m\u001b[1;33m\u001b[0m\u001b[1;33m\u001b[0m\u001b[0m\n\u001b[0;32m    186\u001b[0m             \u001b[1;32mreturn\u001b[0m \u001b[1;33m-\u001b[0m\u001b[1;36m1\u001b[0m\u001b[1;33m\u001b[0m\u001b[1;33m\u001b[0m\u001b[0m\n",
      "\u001b[1;32m<ipython-input-153-4d1b7524aa3a>\u001b[0m in \u001b[0;36mgauss_cdf_fit\u001b[1;34m(self, T, R, x_data)\u001b[0m\n\u001b[0;32m    191\u001b[0m             \u001b[1;32mreturn\u001b[0m \u001b[0ma\u001b[0m\u001b[1;33m*\u001b[0m\u001b[0mnorm\u001b[0m\u001b[1;33m.\u001b[0m\u001b[0mcdf\u001b[0m\u001b[1;33m(\u001b[0m\u001b[0mx\u001b[0m\u001b[1;33m,\u001b[0m\u001b[0mx0\u001b[0m\u001b[1;33m,\u001b[0m\u001b[0msigma\u001b[0m\u001b[1;33m)\u001b[0m\u001b[1;33m\u001b[0m\u001b[1;33m\u001b[0m\u001b[0m\n\u001b[0;32m    192\u001b[0m         \u001b[0mmean\u001b[0m \u001b[1;33m=\u001b[0m \u001b[0mT\u001b[0m\u001b[1;33m[\u001b[0m\u001b[0mbisect_left\u001b[0m\u001b[1;33m(\u001b[0m\u001b[0mR\u001b[0m\u001b[1;33m,\u001b[0m \u001b[0mnp\u001b[0m\u001b[1;33m.\u001b[0m\u001b[0mmax\u001b[0m\u001b[1;33m(\u001b[0m\u001b[0mR\u001b[0m\u001b[1;33m)\u001b[0m\u001b[1;33m/\u001b[0m\u001b[1;36m2\u001b[0m\u001b[1;33m)\u001b[0m\u001b[1;33m]\u001b[0m\u001b[1;33m\u001b[0m\u001b[1;33m\u001b[0m\u001b[0m\n\u001b[1;32m--> 193\u001b[1;33m         \u001b[0msigma\u001b[0m \u001b[1;33m=\u001b[0m \u001b[0mT\u001b[0m\u001b[1;33m[\u001b[0m\u001b[0mbisect_left\u001b[0m\u001b[1;33m(\u001b[0m\u001b[0mR\u001b[0m\u001b[1;33m,\u001b[0m \u001b[1;36m0.9\u001b[0m\u001b[1;33m*\u001b[0m\u001b[0mnp\u001b[0m\u001b[1;33m.\u001b[0m\u001b[0mmax\u001b[0m\u001b[1;33m(\u001b[0m\u001b[0mR\u001b[0m\u001b[1;33m)\u001b[0m\u001b[1;33m)\u001b[0m\u001b[1;33m]\u001b[0m\u001b[1;33m-\u001b[0m\u001b[0mT\u001b[0m\u001b[1;33m[\u001b[0m\u001b[0mbisect_left\u001b[0m\u001b[1;33m(\u001b[0m\u001b[0mR\u001b[0m\u001b[1;33m,\u001b[0m \u001b[1;36m0.1\u001b[0m\u001b[1;33m*\u001b[0m\u001b[0mnp\u001b[0m\u001b[1;33m.\u001b[0m\u001b[0mmax\u001b[0m\u001b[1;33m(\u001b[0m\u001b[0mR\u001b[0m\u001b[1;33m)\u001b[0m\u001b[1;33m)\u001b[0m\u001b[1;33m]\u001b[0m\u001b[1;33m\u001b[0m\u001b[1;33m\u001b[0m\u001b[0m\n\u001b[0m\u001b[0;32m    194\u001b[0m         \u001b[1;32mif\u001b[0m \u001b[0msigma\u001b[0m \u001b[1;33m<\u001b[0m \u001b[1;36m0.01\u001b[0m\u001b[1;33m:\u001b[0m\u001b[1;33m\u001b[0m\u001b[1;33m\u001b[0m\u001b[0m\n\u001b[0;32m    195\u001b[0m             \u001b[0msigma\u001b[0m \u001b[1;33m=\u001b[0m \u001b[1;36m0.1\u001b[0m\u001b[1;33m\u001b[0m\u001b[1;33m\u001b[0m\u001b[0m\n",
      "\u001b[1;31mIndexError\u001b[0m: index 1270 is out of bounds for axis 0 with size 1270"
     ]
    }
   ],
   "source": [
    "R_B_fitting=B_sweep(data, 'r_b_sweeps')\n",
    "R_B_fitting.fit_all_sweeps(R_B_fitting.B_values_dict)\n",
    "R_B_fitting.get_Bc2_from_B_sweeps()\n",
    "R_B_fitting.get_Diffusivity()\n",
    "\n",
    "fig=plt.figure()\n",
    "ax=fig.add_subplot(111)\n",
    "\n",
    "for i in R_B_fitting.B_sweeps_split:\n",
    "    plt.plot(i[0][1][0], i[0][1][1], '-', label=f'cdf for Bc2={i[0][0][\"mu\"]}T')\n",
    "    plt.plot(i[1][0], i[1][1], '.', label = f'raw data for {i[0][0][\"mu\"]}')\n",
    "    print(f'{i[0][0][\"mu\"]}: scalar    mu     sigma')\n",
    "    print(np.sqrt(np.diag(i[0][0][\"cov\"])))\n",
    "plt.xlabel('Magnetic field (T)')\n",
    "plt.ylabel('Resistance (Ω)')\n",
    "#ax.legend()"
   ]
  },
  {
   "cell_type": "markdown",
   "metadata": {},
   "source": [
    "## Plotting of basic functionment"
   ]
  },
  {
   "cell_type": "code",
   "execution_count": 19,
   "metadata": {},
   "outputs": [
    {
     "name": "stdout",
     "output_type": "stream",
     "text": [
      "59.63673057517659\n",
      "Len raw data:  20\n"
     ]
    },
    {
     "name": "stderr",
     "output_type": "stream",
     "text": [
      "C:\\Users\\Noah.Ploch\\Program\\Anaconda\\lib\\site-packages\\ipywidgets\\widgets\\widget.py:412: DeprecationWarning: Passing unrecoginized arguments to super(Canvas).__init__().\n",
      "__init__() missing 1 required positional argument: 'figure'\n",
      "This is deprecated in traitlets 4.2.This error will be raised in a future release of traitlets.\n",
      "  super(Widget, self).__init__(**kwargs)\n",
      "C:\\Users\\Noah.Ploch\\Program\\Anaconda\\lib\\site-packages\\ipywidgets\\widgets\\widget.py:412: DeprecationWarning: Passing unrecoginized arguments to super(Toolbar).__init__().\n",
      "__init__() missing 1 required positional argument: 'canvas'\n",
      "This is deprecated in traitlets 4.2.This error will be raised in a future release of traitlets.\n",
      "  super(Widget, self).__init__(**kwargs)\n"
     ]
    },
    {
     "data": {
      "application/vnd.jupyter.widget-view+json": {
       "model_id": "",
       "version_major": 2,
       "version_minor": 0
      },
      "text/plain": [
       "Canvas(toolbar=Toolbar(toolitems=[('Home', 'Reset original view', 'home', 'home'), ('Back', 'Back to previous …"
      ]
     },
     "metadata": {},
     "output_type": "display_data"
    },
    {
     "name": "stderr",
     "output_type": "stream",
     "text": [
      "No handles with labels found to put in legend.\n"
     ]
    }
   ],
   "source": [
    "%matplotlib widget\n",
    "\n",
    "test_fitting2 = B_sweep(data, 'r_t_sweeps')\n",
    "\n",
    "# plot pdf\n",
    "pdfname = 'C:\\\\Users\\\\Noah.Ploch\\\\OneDrive - Walter Schottky Institut\\\\Documents_Noah_OD\\\\BA\\\\Schreiben\\\\Thesis_BA_Noah_Ploch\\\\Thesis\\\\figures\\\\Setup\\\\mg_sweep.pdf'\n",
    "pdfname = 'C:\\\\Users\\\\Noah.Ploch\\\\OneDrive - Walter Schottky Institut\\\\Plots\\\\use\\\\mg_sweep5.pdf'\n",
    "#pdfname = 'C:\\\\Users\\\\Noah.Ploch\\\\OneDrive - Walter Schottky Institut\\\\Documents_Noah_OD\\\\BA\\\\Schreiben\\\\Thesis_BA_Noah_Ploch\\\\Thesis\\\\figures\\\\Setup\\\\b_r_sweep.pdf'\n",
    "# pdfname = 'H:\\\\Documents_H\\\\BA\\\\Schreiben\\\\Thesis_BA_Noah_Ploch\\\\Thesis\\\\figures\\\\Setup\\\\temperature_change.pdf'\n",
    "\n",
    "pdf = PdfPages(pdfname)\n",
    "\n",
    "# fig=plt.figure()\n",
    "# ax1=fig.add_subplot(111)\n",
    "# x1 =[3716.782 + 0, 3716.782 + 193.641, 3716.782 + 193.641*2]\n",
    "# y1 = [0,4,0]\n",
    "# ax1.plot(x1,y1, '-')\n",
    "# ax1.set_xlabel(r'Time / $\\si{\\second}$')\n",
    "# ax1.set_ylabel(r'Magnetic field strength / $\\si{\\tesla}$')\n",
    "\n",
    "\n",
    "#plots B-R sweep\n",
    "fig=plt.figure()\n",
    "ax2=fig.add_subplot(111)\n",
    "#idx1=9\n",
    "idx1=13\n",
    "ax2.plot(test_fitting2.B_sweeps[idx1], test_fitting2.R_sweeps[idx1], '-')\n",
    "# ax2.plot(test_fitting2.time_sweeps[idx1], test_fitting2.B_sweeps[idx1], '-')\n",
    "#ax2.plot(test_fitting2.B_sweeps[1], test_fitting2.R_sweeps[1], '.-')\n",
    "#ax2.plot(test_fitting2.B_sweeps[5], test_fitting2.R_sweeps[5], 'x-')\n",
    "#ax2.plot(test_fitting2.B_sweeps[6], test_fitting2.R_sweeps[6], '*-')\n",
    "# ax2.set_xlabel(r'Magnetic field / $\\si{\\tesla}$')\n",
    "ax2.set_ylabel(r'Resistance / $\\si{\\ohm}$')\n",
    "# ax2.set_xlabel(r'Time / $\\si{\\second}$')\n",
    "ax2.set_xlabel(r'Magnetic field / $\\si{\\tesla}$')\n",
    "#ax2.set_xlim(3650,4150)\n",
    "\n",
    "\n",
    "# fig=plt.figure()\n",
    "# ax3=fig.add_subplot(111)\n",
    "# print(test_fitting2.time_sweeps[idx1][0])\n",
    "# y2=[test_fitting2.Temp_at_timestamp[idx1][2], test_fitting2.Temp_at_timestamp[idx1][3]]\n",
    "# y3 = [test_fitting2.Temp_at_timestamp[idx1][0], test_fitting2.Temp_at_timestamp[idx1][1]]\n",
    "# x2 = [test_fitting2.time_sweeps[idx1][0], test_fitting2.time_sweeps[idx1][-1]]\n",
    "# ax3.plot(x2, y3, '-', label=r'PCB diode')\n",
    "# ax3.plot(x2, y2, '-', label=r'Sample diode')\n",
    "# ax3.set_xlabel(r'Time / $\\si{\\second}$')\n",
    "# ax3.set_ylabel(r'Temperature / $\\si{\\tesla}$')\n",
    "# legend = ax3.legend(loc='best', handlelength=2.5)\n",
    "# legend.get_frame().set_linewidth(0.0)\n",
    "\n",
    "ax2.tick_params(direction='in', bottom=True, top=True, left=True, right=True)\n",
    "legend = ax2.legend(loc='best', markerscale=3, handletextpad=0.1, handlelength=1.1, labelspacing=0.5, frameon=False, columnspacing=1)\n",
    "\n",
    "\n",
    "# plot PDF\n",
    "plt.tight_layout()\n",
    "pdf.savefig(bbox_inches='tight')\n",
    "pdf.close()"
   ]
  },
  {
   "cell_type": "markdown",
   "metadata": {
    "incorrectly_encoded_metadata": "toc-hr-collapsed=false"
   },
   "source": [
    "# Tc Data Analysis"
   ]
  },
  {
   "cell_type": "markdown",
   "metadata": {},
   "source": [
    "### Search file"
   ]
  },
  {
   "cell_type": "code",
   "execution_count": 26,
   "metadata": {},
   "outputs": [
    {
     "name": "stdout",
     "output_type": "stream",
     "text": [
      "//file/e24/Projects/FinleyLab/_IQPGroup/_SSPDs/Data/Diffusivity/Data_measured/200306_A_Tc-Messung-100nm-NbTiN-SC-LT_R_vs_T_WMI.txt\n"
     ]
    }
   ],
   "source": [
    "%gui qt5\n",
    "default_path = '\\\\\\\\file\\\\e24\\\\Projects\\\\FinleyLab\\\\_IQPGroup\\\\_SSPDs\\\\Data\\\\Diffusivity\\\\'\n",
    "filename_Tc = PureWindowsPath(default_path)\n",
    "default_path = Path(filename_Tc)\n",
    "filename_Tc = QFileDialog.getOpenFileName(None, 'Import file', str(default_path),\"Text files (*.csv *.dat *.txt)\")\n",
    "print(filename_Tc[0])\n",
    "file_to_import_Tc = Path(filename_Tc[0])\n",
    "#filename_to_import = Path('testdata.dat')"
   ]
  },
  {
   "cell_type": "markdown",
   "metadata": {},
   "source": [
    "### Search multiple files"
   ]
  },
  {
   "cell_type": "code",
   "execution_count": 46,
   "metadata": {},
   "outputs": [
    {
     "name": "stdout",
     "output_type": "stream",
     "text": [
      "//file/e24/Projects/FinleyLab/_IQPGroup/_SSPDs/Data/Diffusivity/100nm_check/200306_200306A_100nmRvsT0T_100nm_20C_105ArN.txt\n",
      "//file/e24/Projects/FinleyLab/_IQPGroup/_SSPDs/Data/Diffusivity/100nm_check/200306_200306A_film_vs_temp_cooldown_100nmTcTest.txt\n",
      "//file/e24/Projects/FinleyLab/_IQPGroup/_SSPDs/Data/Diffusivity/100nm_check/200306_200306A_film_vs_temp_Tc_sweep_100nmTcTest.txt\n"
     ]
    }
   ],
   "source": [
    "%gui qt5\n",
    "default_path = '\\\\\\\\file\\\\e24\\\\Projects\\\\FinleyLab\\\\_IQPGroup\\\\_SSPDs\\\\Data\\\\Diffusivity\\\\Data_evaluated'\n",
    "filename = PureWindowsPath(default_path)\n",
    "default_path = Path(filename)\n",
    "filename = QFileDialog.getOpenFileNames(None, 'Import file', str(default_path),\"Text files (*.csv *.dat *.txt)\")\n",
    "filename = filename[0]\n",
    "#print(filename)\n",
    "quick_data = []\n",
    "for i in filename:\n",
    "    print(i)\n",
    "    data_m = pd.read_csv(Path(i), sep=r'\\t+\\s*', engine='python')\n",
    "    data_m.replace(['nan', 'None', 'NaN'], '', inplace=True)\n",
    "    data_m = data_m.apply(pd.to_numeric)\n",
    "    #data = [data[['raw_T']], data[['raw_R']]]\n",
    "    data_m = data_m.to_numpy()\n",
    "    #data = data.transpose()\n",
    "    quick_data.append(data_m)\n",
    "    \n",
    "#print(quick_data)\n",
    "    #print('Select from these columns: ', list(data)) # prints column names to be used in cell 'Plot'"
   ]
  },
  {
   "cell_type": "markdown",
   "metadata": {
    "incorrectly_encoded_metadata": "toc-hr-collapsed=false"
   },
   "source": [
    "### import Tc txt file from 0T sweep"
   ]
  },
  {
   "cell_type": "code",
   "execution_count": 168,
   "metadata": {},
   "outputs": [
    {
     "name": "stdout",
     "output_type": "stream",
     "text": [
      "[[4.047934267276137, 0.0], [4.046058160675951, -0.10080645161290322], [4.046055793894941, -0.10075566750629722], [4.046055793894941, 0.0], [4.048648947837012, 0.0], [4.04865244691855, 0.0], [4.04865244691855, 0.0], [4.0515975662303365, -0.1008318628686665], [4.0515975662303365, 0.0], [4.0859987995964895, 0.0], [4.086041382794956, 0.0], [4.086041382794956, -0.1008318628686665], [4.136519377574083, 0.0], [4.136582038683735, 0.0], [4.136582038683735, 0.0], [4.191358197458351, 0.0], [4.191435163846407, 0.0], [4.191435163846407, 0.0], [4.221847832757623, 0.0], [4.2218862552851135, 0.0], [4.2218862552851135, 0.0], [4.251266898800711, -0.10078105316200554], [4.251304348693981, -0.10080645161290322], [4.251304348693981, 0.0], [4.283908112657305, 0.0], [4.283949582088468, 0.0], [4.283949582088468, 0.0], [4.318519521649376, -0.10078105316200554], [4.318569636503407, -0.10075566750629722], [4.318569636503407, 0.0], [4.367443653251828, 0.0], [4.367509484568472, 0.0], [4.367509484568472, -0.10078105316200554], [4.430764969742136, 0.0], [4.430845334023881, 0.0], [4.430845334023881, -0.1008318628686665], [4.505346423208106, 0.0], [4.5054617095429625, 0.0], [4.5054617095429625, 0.0], [4.590974692254598, 0.0], [4.590974692254598, -0.10080645161290322], [4.696991765152574, -0.10085728693898134], [4.697142758027818, 0.0], [4.697142758027818, -0.1008318628686665], [4.826168975017368, 0.0], [4.826336677019093, 0.0], [4.826336677019093, 0.0], [4.9770828620082685, 0.0], [4.9770828620082685, -0.1008318628686665], [5.145703437836146, 0.0], [5.145926859521015, 0.0], [5.145926859521015, -0.10080645161290322], [5.330828477857626, 0.0], [5.331130276324416, 0.0], [5.331130276324416, 0.0], [5.531501357401872, -0.1007302946361118], [5.531775293612667, -0.10075566750629722], [5.531775293612667, -0.10080645161290322], [5.74421149086046, -0.1008318628686665], [5.7445039740082215, 0.0], [5.7445039740082215, -0.1008318628686665], [5.970362515280937, -0.10078105316200554], [5.970704982494147, 0.0], [5.970704982494147, -0.1008318628686665], [6.207627761695876, -0.10080645161290322], [6.207962109663106, -0.10075566750629722], [6.207962109663106, -0.1008318628686665], [6.452494086268916, 0.0], [6.452817048102323, 0.0], [6.452817048102323, 0.0], [6.701628273689772, 0.0], [6.701987407381224, -0.10085728693898134], [6.701987407381224, 0.1008318628686665], [6.956009490449612, 0.0], [6.956341080642773, -0.10078105316200554], [6.956341080642773, 0.0], [7.208059970134862, 0.0], [7.208447130948888, 0.0], [7.208447130948888, 0.0], [7.4591351472550915, 0.0], [7.4595043332132995, 0.0], [7.4595043332132995, -0.1008318628686665], [7.705850733222324, 0.0], [7.705850733222324, 0.0], [7.94691417564178, 0.0], [7.947275651203437, 0.0], [7.947275651203437, -0.10085728693898134], [8.186360709130152, 0.0], [8.186360709130152, -0.10080645161290322], [8.423507960668989, 0.0], [8.423874126891828, 0.0], [8.423874126891828, 0.0], [8.657892278350348, -0.1008318628686665], [8.658187737597848, -0.1008318628686665], [8.658187737597848, 0.0], [8.891918891211695, -0.10075566750629722], [8.892238178838586, -0.10075566750629722], [8.892238178838586, 0.0], [9.126816021865993, -0.1008318628686665], [9.126816021865993, -0.1008318628686665], [9.357519273728801, 0.0], [9.357856576964362, 0.0], [9.357856576964362, 0.0], [9.585317588572336, 0.0], [9.585645995103237, 0.1008318628686665], [9.585645995103237, -0.1008318628686665], [9.811833290051473, -0.10085728693898134], [9.812201832796552, -0.10070493454179257], [9.812201832796552, -0.10085728693898134], [10.035895674614256, -0.1008318628686665], [10.036188413503265, 0.0], [10.036188413503265, -0.10080645161290322], [10.257776598532006, 0.0], [10.258069326935402, -0.10085728693898134], [10.258069326935402, 0.0], [10.476461516430037, 0.0], [10.476461516430037, -0.1008318628686665], [10.69072856244334, 0.1008827238335435], [10.691058900111466, 0.0], [10.691058900111466, 0.0], [10.900031563444342, 19.158053945046635], [10.90032910870472, 19.15322580645161], [10.90032910870472, 19.35971767078397], [11.105050909448769, 23.89112903225807], [11.105050909448769, 23.796319637005297], [11.308078791135635, 24.62159434914228], [11.308078791135635, 24.70380640282329], [11.509000808745508, 25.13247539742619], [11.509000808745508, 25.00630199142929], [11.63153702652555, 25.107133854297963], [11.631796983505525, 25.113464447806354], [11.631796983505525, 25.107133854297963], [11.734273401042268, 25.201612903225808]]\n"
     ]
    }
   ],
   "source": [
    "# import Tc data\n",
    "if 'Data_evaluated/Tc_sweeps' in filename_Tc[0]:\n",
    "    full_data = pd.read_csv(file_to_import_Tc, sep='\\t', usecols = ['raw_T', 'raw_R'])\n",
    "    data_Tc = full_data.to_numpy()\n",
    "    # get rid of nans\n",
    "    temp_data_Tc = []\n",
    "    for i in data_Tc:\n",
    "        if np.isnan(np.sum(i))==False:\n",
    "            temp_data_Tc.append(i)\n",
    "            #print(i)\n",
    "        else: pass\n",
    "    #print(temp_data_Tc)\n",
    "    data_Tc = np.array(temp_data_Tc)\n",
    "else: data_Tc = np.loadtxt(file_to_import_Tc)\n",
    "    \n",
    "print(data_Tc.tolist())"
   ]
  },
  {
   "cell_type": "markdown",
   "metadata": {},
   "source": [
    "#### Execute for Tc curves from diffusivity (0T)"
   ]
  },
  {
   "cell_type": "code",
   "execution_count": 457,
   "metadata": {},
   "outputs": [
    {
     "name": "stdout",
     "output_type": "stream",
     "text": [
      "4.334677419354839\n",
      "Len raw data:  37\n",
      "Moving average to separate sweeps:  0\n",
      "Moving average to smooth sweeps:  1\n"
     ]
    },
    {
     "name": "stderr",
     "output_type": "stream",
     "text": [
      "C:\\Users\\Noah.Ploch\\Program\\Anaconda\\lib\\site-packages\\ipywidgets\\widgets\\widget.py:412: DeprecationWarning: Passing unrecoginized arguments to super(Canvas).__init__().\n",
      "__init__() missing 1 required positional argument: 'figure'\n",
      "This is deprecated in traitlets 4.2.This error will be raised in a future release of traitlets.\n",
      "  super(Widget, self).__init__(**kwargs)\n",
      "C:\\Users\\Noah.Ploch\\Program\\Anaconda\\lib\\site-packages\\ipywidgets\\widgets\\widget.py:412: DeprecationWarning: Passing unrecoginized arguments to super(Toolbar).__init__().\n",
      "__init__() missing 1 required positional argument: 'canvas'\n",
      "This is deprecated in traitlets 4.2.This error will be raised in a future release of traitlets.\n",
      "  super(Widget, self).__init__(**kwargs)\n"
     ]
    },
    {
     "data": {
      "application/vnd.jupyter.widget-view+json": {
       "model_id": "",
       "version_major": 2,
       "version_minor": 0
      },
      "text/plain": [
       "Canvas(toolbar=Toolbar(toolitems=[('Home', 'Reset original view', 'home', 'home'), ('Back', 'Back to previous …"
      ]
     },
     "metadata": {},
     "output_type": "display_data"
    },
    {
     "name": "stdout",
     "output_type": "stream",
     "text": [
      "12.786787932834942 0.7574520540177261 0.8307140021815052\n"
     ]
    }
   ],
   "source": [
    "%matplotlib widget\n",
    "Tc_data = T_sweep(data_Tc) # eingeben nur T und R colummn\n",
    "Tc_data.sweep_fit = [Tc_data.gauss_cdf_fit(data_Tc[:,0], data_Tc[:,1], np.arange(4,16,0.01))]\n",
    "#print(Tc_data.sweep_fit)\n",
    "Tc_data.get_Tc()\n",
    "fig = plt.figure()\n",
    "ax=fig.add_subplot(111)\n",
    "ax.plot(data_Tc[:,0], data_Tc[:,1], '.')\n",
    "ax.plot(Tc_data._raw_fit[0][1][0], Tc_data._raw_fit[0][1][1], '-', label = r'$Tc = \\SI{'+str(np.round(Tc_data.Tc[0], 3))+r'}{\\kelvin}$')\n",
    "#ax.text(0.5,0.2,r'$Tc = \\SI{'+str(np.round(Tc_data.Tc[0], 3))+r'}{\\kelvin}$', ha='right', va='top', transform=ax.transAxes)\n",
    "#ax.plot(Tc_data._raw_fit[1][0], Tc_data._raw_fit[1][1], '-', label='Fitting (Gaussian CDF)')\n",
    "#ax.legend()\n",
    "legend = ax.legend(loc='lower right', handlelength=2.5)\n",
    "legend.get_frame().set_linewidth(0.0)\n",
    "#ax.set_title(r'R over T')\n",
    "ax.set_xlabel(r'Temperature (K)')\n",
    "ax.set_ylabel(r'Resistance (Ohm)')\n",
    "# fig.canvas.layout.width = '7in'\n",
    "# fig.canvas.layout.height= '6in'\n",
    "print(Tc_data.Tc[0], Tc_data.Tc[1], Tc_data.Tc[2])"
   ]
  },
  {
   "cell_type": "markdown",
   "metadata": {},
   "source": [
    "### import txt file from cooldown"
   ]
  },
  {
   "cell_type": "code",
   "execution_count": 20,
   "metadata": {},
   "outputs": [],
   "source": [
    "# import Tc data\n",
    "try:\n",
    "    data_Tc = np.loadtxt(file_to_import_Tc, usecols=(2,5))\n",
    "except:\n",
    "    data_Tc = np.loadtxt(file_to_import_Tc, usecols=(2,5), skiprows=1)"
   ]
  },
  {
   "cell_type": "markdown",
   "metadata": {},
   "source": [
    "#### import from WMI"
   ]
  },
  {
   "cell_type": "code",
   "execution_count": 124,
   "metadata": {},
   "outputs": [
    {
     "name": "stdout",
     "output_type": "stream",
     "text": [
      "[[ 4.002300e+00  7.874690e-04]\n",
      " [ 4.002300e+00 -1.230000e-03]\n",
      " [ 4.002200e+00  7.606620e-04]\n",
      " ...\n",
      " [ 1.699900e+01  2.355799e+01]\n",
      " [ 1.703800e+01  2.355944e+01]\n",
      " [ 1.698400e+01  2.356070e+01]]\n"
     ]
    }
   ],
   "source": [
    "data_Tc = pd.read_csv(file_to_import_Tc, sep=r'\\t+\\s*', engine='python')\n",
    "data_Tc = data_Tc.to_numpy()\n",
    "# get rid of nans\n",
    "temp_data_Tc = []\n",
    "for i in data_Tc:\n",
    "    if np.isnan(np.sum(i))==False:\n",
    "        temp_data_Tc.append(i)\n",
    "        #print(i)\n",
    "    else: pass\n",
    "#print(temp_data_Tc)\n",
    "data_Tc = np.array(temp_data_Tc)\n",
    "data_Tc = data_Tc[:,[0,2]]\n",
    "print(data_Tc)\n",
    "#data_Tc = np.loadtxt(file_to_import_Tc, usecols=(0,1), skiprows=1)"
   ]
  },
  {
   "cell_type": "markdown",
   "metadata": {},
   "source": [
    "### import txt file from Tc stick"
   ]
  },
  {
   "cell_type": "code",
   "execution_count": 32,
   "metadata": {},
   "outputs": [],
   "source": [
    "# import Tc data\n",
    "data_Tc = np.loadtxt(file_to_import_Tc)"
   ]
  },
  {
   "cell_type": "markdown",
   "metadata": {},
   "source": [
    "### Execute for measured Tc_curves"
   ]
  },
  {
   "cell_type": "code",
   "execution_count": 12,
   "metadata": {},
   "outputs": [],
   "source": [
    "Tc_data = T_sweep(data_Tc) # eingeben nur T unr R colummn\n",
    "#calib_data = T_sweep(data_calib)"
   ]
  },
  {
   "cell_type": "markdown",
   "metadata": {},
   "source": [
    "### Analysis"
   ]
  },
  {
   "cell_type": "code",
   "execution_count": 36,
   "metadata": {},
   "outputs": [
    {
     "name": "stdout",
     "output_type": "stream",
     "text": [
      "R20:  115.09191277032741\n"
     ]
    }
   ],
   "source": [
    "formatted_data = {'R20': Tc_data.R20K} #, 'Mean Tc': Tc_data.Tc[0], 'sigma Tc': Tc_data.Tc[1], 'Tc_values': Tc_data.Tc[2], 'Mean FWHM': Tc_data.FWHM[0], } \n",
    "#pd.DataFrame(data=formatted_data)\n",
    "print(\"R20: \", Tc_data.R20K)"
   ]
  },
  {
   "cell_type": "markdown",
   "metadata": {},
   "source": [
    "### Plot from B class a tc sweep"
   ]
  },
  {
   "cell_type": "code",
   "execution_count": 125,
   "metadata": {},
   "outputs": [
    {
     "name": "stdout",
     "output_type": "stream",
     "text": [
      "58.930373360242186\n",
      "Len raw data:  60\n"
     ]
    },
    {
     "name": "stderr",
     "output_type": "stream",
     "text": [
      "C:\\Users\\Noah.Ploch\\Program\\Anaconda\\lib\\site-packages\\ipykernel_launcher.py:304: RuntimeWarning: overflow encountered in float_power\n",
      "C:\\Users\\Noah.Ploch\\Program\\Anaconda\\lib\\site-packages\\ipykernel_launcher.py:304: RuntimeWarning: divide by zero encountered in true_divide\n",
      "C:\\Users\\Noah.Ploch\\Program\\Anaconda\\lib\\site-packages\\ipykernel_launcher.py:304: RuntimeWarning: overflow encountered in true_divide\n"
     ]
    },
    {
     "name": "stdout",
     "output_type": "stream",
     "text": [
      "gaussian:  [0.00566966 0.00012968 0.00018823]\n",
      "richards:  [7.60505667e-01 2.22638168e-01 2.49894139e-05 6.86675625e-03]\n"
     ]
    },
    {
     "name": "stderr",
     "output_type": "stream",
     "text": [
      "C:\\Users\\Noah.Ploch\\Program\\Anaconda\\lib\\site-packages\\ipywidgets\\widgets\\widget.py:412: DeprecationWarning: Passing unrecoginized arguments to super(Canvas).__init__().\n",
      "__init__() missing 1 required positional argument: 'figure'\n",
      "This is deprecated in traitlets 4.2.This error will be raised in a future release of traitlets.\n",
      "  super(Widget, self).__init__(**kwargs)\n",
      "C:\\Users\\Noah.Ploch\\Program\\Anaconda\\lib\\site-packages\\ipywidgets\\widgets\\widget.py:412: DeprecationWarning: Passing unrecoginized arguments to super(Toolbar).__init__().\n",
      "__init__() missing 1 required positional argument: 'canvas'\n",
      "This is deprecated in traitlets 4.2.This error will be raised in a future release of traitlets.\n",
      "  super(Widget, self).__init__(**kwargs)\n"
     ]
    },
    {
     "data": {
      "application/vnd.jupyter.widget-view+json": {
       "model_id": "79265649a5db45b2a58866a81c37243a",
       "version_major": 2,
       "version_minor": 0
      },
      "text/plain": [
       "Canvas(toolbar=Toolbar(toolitems=[('Home', 'Reset original view', 'home', 'home'), ('Back', 'Back to previous …"
      ]
     },
     "metadata": {},
     "output_type": "display_data"
    },
    {
     "name": "stdout",
     "output_type": "stream",
     "text": [
      "58.930373360242186\n",
      "Len raw data:  60\n"
     ]
    },
    {
     "name": "stderr",
     "output_type": "stream",
     "text": [
      "C:\\Users\\Noah.Ploch\\Program\\Anaconda\\lib\\site-packages\\scipy\\optimize\\minpack.py:795: OptimizeWarning: Covariance of the parameters could not be estimated\n",
      "  category=OptimizeWarning)\n",
      "C:\\Users\\Noah.Ploch\\Program\\Anaconda\\lib\\site-packages\\ipykernel_launcher.py:304: RuntimeWarning: divide by zero encountered in true_divide\n",
      "C:\\Users\\Noah.Ploch\\Program\\Anaconda\\lib\\site-packages\\ipykernel_launcher.py:304: RuntimeWarning: overflow encountered in true_divide\n",
      "C:\\Users\\Noah.Ploch\\Program\\Anaconda\\lib\\site-packages\\ipykernel_launcher.py:304: RuntimeWarning: overflow encountered in float_power\n"
     ]
    }
   ],
   "source": [
    "%matplotlib widget\n",
    "c=B_sweep(data)\n",
    "c.b_start_rich = 50\n",
    "# data_Tc = data_Tc[data_Tc[:,0]>12,:]\n",
    "# data_Tc = data_Tc[data_Tc[:,0]<13.5,:]\n",
    "# data_Tc = data_Tc[::5,:]\n",
    "# data_Tc = data_Tc[::5,:]\n",
    "#print(data_Tc)\n",
    "\n",
    "fit = c.fit_Tc_sweep(data_Tc)\n",
    "Tc = c.get_Tc(fit)\n",
    "print('gaussian: ', np.sqrt(np.diag(fit['gaussian'][0]['cov'])))\n",
    "print('richards: ', np.sqrt(np.diag(fit['richards'][0]['cov'])))\n",
    "#print(Tc)\n",
    "#pdfname = '\\\\\\\\file\\\\e24\\\\Projects\\\\FinleyLab\\\\_IQPGroup\\\\_SSPDs\\\\Data\\\\Diffusivity\\\\richards_testing_Tc_112-114.pdf'\n",
    "pdfname = 'C:\\\\Users\\\\Noah.Ploch\\\\OneDrive - Walter Schottky Institut\\\\Plots\\\\use\\\\richards_fitting_situations.pdf'\n",
    "pdf = PdfPages(pdfname)\n",
    "fig = plt.figure()\n",
    "ax=fig.add_subplot(111)\n",
    "color = plt.rcParams['axes.prop_cycle'].by_key()['color'][0]\n",
    "# gauss\n",
    "# ax.plot(data_Tc[:,0], data_Tc[:,1], '1', ms=5, alpha=0.9, color=color, label=r'$T_\\text{c}: \\SI{'+format_T_legend.format(np.round(Tc['gaussian'],3))+r'}{\\kelvin}$')\n",
    "# ax.plot(fit['gaussian'][1][0], fit['gaussian'][1][1], '-', alpha=0.9, color=color)\n",
    "# richards\n",
    "ax.plot(data_Tc[:,0], data_Tc[:,1], '1', ms=5, alpha=0.9, color=color, label=r'$T_\\text{c}: \\SI{'+format_T_legend.format(np.round(Tc['richardsHp'],3))+r'}{\\kelvin}$')\n",
    "ax.plot(fit['richards'][1][0], fit['richards'][1][1], '-', alpha=0.9, color=color)\n",
    "\n",
    "# temp_down = data_Tc[data_Tc[:,0]<12.65,:] \n",
    "# temp_up = data_Tc[data_Tc[:,0]>13.35,:] \n",
    "## temp_down = data_Tc[data_Tc[:,0]<11.2,:] # for first 8V measurememtn 200117\n",
    "## temp_up = data_Tc[data_Tc[:,0]>11.9,:] \n",
    "# temp_middle = data_Tc[data_Tc[:,0]>12.4,:]\n",
    "# temp_middle = temp_middle[temp_middle[:,0]<13.4,:]\n",
    "# temp_middle = temp_middle[::6,:]\n",
    "\n",
    "#data_Tc=np.concatenate((temp_down, temp_up))\n",
    "data_Tc = data_Tc[::42,:]\n",
    "\n",
    "c=B_sweep(data)\n",
    "fit = c.fit_Tc_sweep(data_Tc)\n",
    "Tc = c.get_Tc(fit)\n",
    "color = plt.rcParams['axes.prop_cycle'].by_key()['color'][1]\n",
    "# gauss\n",
    "# ax.plot(data_Tc[:,0], data_Tc[:,1], '2', ms=7, alpha=0.9, color=color, label=r'$T_\\text{c}: \\SI{'+format_T_legend.format(np.round(Tc['gaussian'],3))+r'}{\\kelvin}$')\n",
    "# ax.plot(fit['gaussian'][1][0], fit['gaussian'][1][1], '-', alpha=0.9, color=color)\n",
    "# richards\n",
    "ax.plot(data_Tc[:,0], data_Tc[:,1], '2', ms=7, alpha=0.9, color=color, label=r'$T_\\text{c}: \\SI{'+format_T_legend.format(np.round(Tc['richardsHp'],3))+r'}{\\kelvin}$')\n",
    "ax.plot(fit['richards'][1][0], fit['richards'][1][1], '-', alpha=0.9, color=color)\n",
    "\n",
    "#print(fit['richards'][0]['param'])\n",
    "plt.xlabel(r'Temperature / \\si{\\kelvin}')\n",
    "plt.ylabel(r'Resistance / \\si{\\ohm}')\n",
    "#plt.xlim(11,11.6)\n",
    "ax.tick_params(direction='in', bottom=True, top=True, left=True, right=True)\n",
    "legend = ax.legend(markerscale=0.75,handletextpad=0.1, loc='best', handlelength=2.5, labelspacing=0.5, frameon=False, columnspacing=1)\n",
    "#plt.xlim(12.4,13.6)\n",
    "plt.xlim(11,15)\n",
    "plt.tight_layout()\n",
    "pdf.savefig(bbox_inches='tight')\n",
    "pdf.close()\n",
    "#ax.plot(fit['richards'][1][0], fit['richards'][1][1], '-', alpha=0.4)"
   ]
  },
  {
   "cell_type": "markdown",
   "metadata": {},
   "source": [
    "### Plot Methods Tc"
   ]
  },
  {
   "cell_type": "code",
   "execution_count": 52,
   "metadata": {},
   "outputs": [
    {
     "name": "stderr",
     "output_type": "stream",
     "text": [
      "C:\\Users\\Noah.Ploch\\Program\\Anaconda\\lib\\site-packages\\ipywidgets\\widgets\\widget.py:412: DeprecationWarning: Passing unrecoginized arguments to super(Canvas).__init__().\n",
      "__init__() missing 1 required positional argument: 'figure'\n",
      "This is deprecated in traitlets 4.2.This error will be raised in a future release of traitlets.\n",
      "  super(Widget, self).__init__(**kwargs)\n",
      "C:\\Users\\Noah.Ploch\\Program\\Anaconda\\lib\\site-packages\\ipywidgets\\widgets\\widget.py:412: DeprecationWarning: Passing unrecoginized arguments to super(Toolbar).__init__().\n",
      "__init__() missing 1 required positional argument: 'canvas'\n",
      "This is deprecated in traitlets 4.2.This error will be raised in a future release of traitlets.\n",
      "  super(Widget, self).__init__(**kwargs)\n"
     ]
    },
    {
     "data": {
      "application/vnd.jupyter.widget-view+json": {
       "model_id": "",
       "version_major": 2,
       "version_minor": 0
      },
      "text/plain": [
       "Canvas(toolbar=Toolbar(toolitems=[('Home', 'Reset original view', 'home', 'home'), ('Back', 'Back to previous …"
      ]
     },
     "metadata": {},
     "output_type": "display_data"
    },
    {
     "name": "stderr",
     "output_type": "stream",
     "text": [
      "C:\\Users\\Noah.Ploch\\Program\\Anaconda\\lib\\site-packages\\ipykernel_launcher.py:303: RuntimeWarning: overflow encountered in float_power\n"
     ]
    },
    {
     "name": "stdout",
     "output_type": "stream",
     "text": [
      "58.930373360242186\n",
      "Len raw data:  60\n",
      "zero-T\n",
      "[12.447315705467938, array([0.41797983]), array([0.51930708])]\n",
      "58.930373360242186\n",
      "Len raw data:  60\n"
     ]
    },
    {
     "name": "stderr",
     "output_type": "stream",
     "text": [
      "C:\\Users\\Noah.Ploch\\Program\\Anaconda\\lib\\site-packages\\ipykernel_launcher.py:221: RuntimeWarning: invalid value encountered in less\n",
      "C:\\Users\\Noah.Ploch\\Program\\Anaconda\\lib\\site-packages\\ipykernel_launcher.py:389: RuntimeWarning: invalid value encountered in less\n",
      "C:\\Users\\Noah.Ploch\\Program\\Anaconda\\lib\\site-packages\\ipykernel_launcher.py:390: RuntimeWarning: invalid value encountered in greater\n"
     ]
    },
    {
     "name": "stdout",
     "output_type": "stream",
     "text": [
      "cooldown\n",
      "[12.800488760121466, array([0.38302501]), array([0.26891499])]\n",
      "58.930373360242186\n",
      "Len raw data:  60\n"
     ]
    },
    {
     "name": "stderr",
     "output_type": "stream",
     "text": [
      "C:\\Users\\Noah.Ploch\\Program\\Anaconda\\lib\\site-packages\\ipykernel_launcher.py:303: RuntimeWarning: divide by zero encountered in true_divide\n",
      "C:\\Users\\Noah.Ploch\\Program\\Anaconda\\lib\\site-packages\\ipykernel_launcher.py:303: RuntimeWarning: overflow encountered in true_divide\n"
     ]
    },
    {
     "name": "stdout",
     "output_type": "stream",
     "text": [
      "T-sweep\n",
      "[12.299060273728504, array([0.18090777]), array([0.17479098])]\n"
     ]
    }
   ],
   "source": [
    "%matplotlib widget\n",
    "pdfname = 'C:\\\\Users\\\\Noah.Ploch\\\\OneDrive - Walter Schottky Institut\\\\Plots\\\\use\\\\Tc_methods.pdf'\n",
    "pdf = PdfPages(pdfname)\n",
    "scale_1= 0.8\n",
    "fig_width_pt_1 = 432.487                     # Get this from LaTeX using \\showthe\\textwidth\n",
    "inches_per_pt_1 = 1.0/72.27                       # Convert pt to inch\n",
    "#golden_mean_1 = (np.sqrt(5.0)-1.0)/2.0            # Aesthetic ratio\n",
    "fig_width_1 = fig_width_pt_1*inches_per_pt_1*scale_1   # width in inches\n",
    "fig_height_1 = fig_width_pt_1*inches_per_pt_1*scale_1             # height in inches\n",
    "fig_size_1 = [fig_width_1,fig_height_1]\n",
    "\n",
    "params1 = {\n",
    "    'figure.figsize': fig_size_1, # default figsize\n",
    "    }\n",
    "mpl.rcParams.update(params1)\n",
    "fig = plt.figure()\n",
    "M=[r'zero-T', r'cooldown', r'T-sweep']\n",
    "leg = ['lower right', 'best', 'best']\n",
    "Lim = [(11, 15),(12.2, 14.2),(11.8, 13.5)]\n",
    "\n",
    "#print(quick_data)\n",
    "quick_data_Methods = []\n",
    "quick_data_Methods.append(quick_data[0])\n",
    "quick_data_Methods.append(quick_data[1][::-1,[2,5]])\n",
    "quick_data_Methods.append(quick_data[2][:,[2,5]])\n",
    "for i in range(len(quick_data_Methods)):\n",
    "    c=B_sweep(data)\n",
    "    data_Tc=quick_data_Methods[i]\n",
    "    c.B_values_dict = {0.0: data_Tc}\n",
    "    if i==0:\n",
    "        c.b_start_rich =8\n",
    "    if i==1:\n",
    "        c.b_start_rich =10\n",
    "    if i==2:\n",
    "        c.b_start_rich =10\n",
    "    c.B_values_dict_fit[0.0] = c.fit_cdf_over_range(data_Tc, np.max(data_Tc[:,1]))\n",
    "    c.get_Bc2()\n",
    "    fit= c.B_values_dict_fit[0.0]\n",
    "    Tc = c.get_Tc(fit)\n",
    "\n",
    "    ax=fig.add_subplot(2,2,i+1)\n",
    "    color = plt.rcParams['axes.prop_cycle'].by_key()['color'][0]\n",
    "    # gauss\n",
    "    # ax.plot(data_Tc[:,0], data_Tc[:,1], '1', ms=5, alpha=0.9, color=color, label=r'$T_\\text{c}: \\SI{'+format_T_legend.format(np.round(Tc['gaussian'],3))+r'}{\\kelvin}$')\n",
    "    # ax.plot(fit['gaussian'][1][0], fit['gaussian'][1][1], '-', alpha=0.9, color=color)\n",
    "    # richards\n",
    "    ax.plot(data_Tc[:,0], data_Tc[:,1], '1', ms=5, alpha=0.9)\n",
    "    ax.plot(fit['richards'][1][0], fit['richards'][1][1], '-', alpha=0.9, label=r'$T_\\text{c}= \\SI{'+format_T_legend.format(np.round(Tc['richardsHp'],3))+r'}{\\kelvin}$')\n",
    "    print(M[i])\n",
    "    print([Tc['richardsHp'], c.Bc2[:,2], c.Bc2[:,3]])\n",
    "\n",
    "    x_lim =fit['richards'][1][0]\n",
    "    y_lim = fit['richards'][1][1]\n",
    "    #print(fit['richards'][0]['param'])\n",
    "    plt.xlabel(r'Temperature / \\si{\\kelvin}')\n",
    "    plt.ylabel(r'Resistance / \\si{\\ohm}')\n",
    "    plt.title(M[i])\n",
    "    #plt.xlim(11,11.6)\n",
    "    ax.tick_params(direction='in', bottom=True, top=True, left=True, right=True)\n",
    "    legend = ax.legend(markerscale=0.75,handletextpad=0.5, loc=leg[i], handlelength=2.5, labelspacing=0.5, frameon=False, columnspacing=1)\n",
    "    ax.set_xlim(Lim[i])\n",
    "    #plt.xlim(x_lim[bisect_left(y_lim,0.1)]-0.1, x_lim[bisect_left(y_lim, 0.99*np.max(y_lim))]+0.6)\n",
    "plt.tight_layout()\n",
    "pdf.savefig(bbox_inches='tight')\n",
    "pdf.close()\n",
    "#ax.plot(fit['richards'][1][0], fit['richards'][1][1], '-', alpha=0.4)"
   ]
  },
  {
   "cell_type": "markdown",
   "metadata": {},
   "source": [
    "### plot Comparison_numericalchapter results"
   ]
  },
  {
   "cell_type": "code",
   "execution_count": 27,
   "metadata": {},
   "outputs": [
    {
     "name": "stdout",
     "output_type": "stream",
     "text": [
      "107.49243188698286\n",
      "Len raw data:  16\n"
     ]
    },
    {
     "name": "stderr",
     "output_type": "stream",
     "text": [
      "C:\\Users\\Noah.Ploch\\Program\\Anaconda\\lib\\site-packages\\ipykernel_launcher.py:303: RuntimeWarning: divide by zero encountered in true_divide\n",
      "C:\\Users\\Noah.Ploch\\Program\\Anaconda\\lib\\site-packages\\ipykernel_launcher.py:303: RuntimeWarning: overflow encountered in true_divide\n",
      "C:\\Users\\Noah.Ploch\\Program\\Anaconda\\lib\\site-packages\\ipykernel_launcher.py:303: RuntimeWarning: overflow encountered in float_power\n"
     ]
    },
    {
     "name": "stdout",
     "output_type": "stream",
     "text": [
      "gaussian:  [0.00566966 0.00012968 0.00018823]\n",
      "richards:  [6.38803898e-01 3.54896589e-01 1.59119563e-06 4.12019486e-02]\n"
     ]
    },
    {
     "name": "stderr",
     "output_type": "stream",
     "text": [
      "C:\\Users\\Noah.Ploch\\Program\\Anaconda\\lib\\site-packages\\ipywidgets\\widgets\\widget.py:412: DeprecationWarning: Passing unrecoginized arguments to super(Canvas).__init__().\n",
      "__init__() missing 1 required positional argument: 'figure'\n",
      "This is deprecated in traitlets 4.2.This error will be raised in a future release of traitlets.\n",
      "  super(Widget, self).__init__(**kwargs)\n",
      "C:\\Users\\Noah.Ploch\\Program\\Anaconda\\lib\\site-packages\\ipywidgets\\widgets\\widget.py:412: DeprecationWarning: Passing unrecoginized arguments to super(Toolbar).__init__().\n",
      "__init__() missing 1 required positional argument: 'canvas'\n",
      "This is deprecated in traitlets 4.2.This error will be raised in a future release of traitlets.\n",
      "  super(Widget, self).__init__(**kwargs)\n"
     ]
    },
    {
     "data": {
      "application/vnd.jupyter.widget-view+json": {
       "model_id": "",
       "version_major": 2,
       "version_minor": 0
      },
      "text/plain": [
       "Canvas(toolbar=Toolbar(toolitems=[('Home', 'Reset original view', 'home', 'home'), ('Back', 'Back to previous …"
      ]
     },
     "metadata": {},
     "output_type": "display_data"
    },
    {
     "name": "stdout",
     "output_type": "stream",
     "text": [
      "107.49243188698286\n",
      "Len raw data:  16\n"
     ]
    },
    {
     "name": "stderr",
     "output_type": "stream",
     "text": [
      "C:\\Users\\Noah.Ploch\\Program\\Anaconda\\lib\\site-packages\\ipykernel_launcher.py:303: RuntimeWarning: divide by zero encountered in true_divide\n",
      "C:\\Users\\Noah.Ploch\\Program\\Anaconda\\lib\\site-packages\\ipykernel_launcher.py:303: RuntimeWarning: overflow encountered in true_divide\n",
      "C:\\Users\\Noah.Ploch\\Program\\Anaconda\\lib\\site-packages\\ipykernel_launcher.py:303: RuntimeWarning: overflow encountered in float_power\n"
     ]
    },
    {
     "name": "stdout",
     "output_type": "stream",
     "text": [
      "107.49243188698286\n",
      "Len raw data:  16\n"
     ]
    }
   ],
   "source": [
    "%matplotlib widget\n",
    "c=B_sweep(data)\n",
    "\n",
    "# data_Tc = data_Tc[data_Tc[:,0]>12,:]\n",
    "# data_Tc = data_Tc[data_Tc[:,0]<13.5,:]\n",
    "# data_Tc = data_Tc[::5,:]\n",
    "# data_Tc = data_Tc[::5,:]\n",
    "#print(data_Tc)\n",
    "\n",
    "fit = c.fit_Tc_sweep(data_Tc)\n",
    "Tc = c.get_Tc(fit)\n",
    "print('gaussian: ', np.sqrt(np.diag(fit['gaussian'][0]['cov'])))\n",
    "print('richards: ', np.sqrt(np.diag(fit['richards'][0]['cov'])))\n",
    "#print(Tc)\n",
    "#pdfname = '\\\\\\\\file\\\\e24\\\\Projects\\\\FinleyLab\\\\_IQPGroup\\\\_SSPDs\\\\Data\\\\Diffusivity\\\\richards_testing_Tc_112-114.pdf'\n",
    "pdfname = 'C:\\\\Users\\\\Noah.Ploch\\\\OneDrive - Walter Schottky Institut\\\\Plots\\\\use\\\\r_g_fitting_numerical.pdf'\n",
    "pdf = PdfPages(pdfname)\n",
    "fig = plt.figure()\n",
    "ax=fig.add_subplot(111)\n",
    "color = plt.rcParams['axes.prop_cycle'].by_key()['color'][0]\n",
    "# gauss\n",
    "ax.plot(data_Tc[:,0], data_Tc[:,1], '1', ms=5, alpha=0.9, color=color)\n",
    "#ax.plot(fit['gaussian'][1][0], fit['gaussian'][1][1], '-', alpha=0.6, color=color, label=r'Gauss')\n",
    "# richards\n",
    "color = plt.rcParams['axes.prop_cycle'].by_key()['color'][1]\n",
    "ax.plot(fit['richards'][1][0], fit['richards'][1][1], '-', alpha=0.6, color=color, label=r'Richards: b = '+ format_B_legend.format(abs(np.round(c.b_start_rich,3))))\n",
    "\n",
    "c=B_sweep(data)\n",
    "c.b_start_rich = 25\n",
    "fit = c.fit_Tc_sweep(data_Tc)\n",
    "Tc = c.get_Tc(fit)\n",
    "color = plt.rcParams['axes.prop_cycle'].by_key()['color'][2]\n",
    "ax.plot(fit['richards'][1][0], fit['richards'][1][1], '-', alpha=0.6, color=color, label=r'Richards: b = '+ format_B_legend.format(np.round(c.b_start_rich,3)))\n",
    "\n",
    "c=B_sweep(data)\n",
    "c.b_start_rich = 50\n",
    "fit = c.fit_Tc_sweep(data_Tc)\n",
    "Tc = c.get_Tc(fit)\n",
    "color = plt.rcParams['axes.prop_cycle'].by_key()['color'][3]\n",
    "ax.plot(fit['richards'][1][0], fit['richards'][1][1], '-', alpha=0.6, color=color , label=r'Richards: b = '+ format_B_legend.format(np.round(c.b_start_rich,3)))\n",
    "\n",
    "#print(fit['richards'][0]['param'])\n",
    "plt.xlabel(r'Temperature / \\si{\\kelvin}')\n",
    "plt.ylabel(r'Resistance / \\si{\\ohm}')\n",
    "#plt.xlim(11,11.6)\n",
    "ax.tick_params(direction='in', bottom=True, top=True, left=True, right=True)\n",
    "legend = ax.legend(markerscale=0.75,handletextpad=0.5, loc='lower right', handlelength=2.5, labelspacing=0.5, frameon=False, columnspacing=1)\n",
    "plt.xlim(12.6,13.4)\n",
    "plt.tight_layout()\n",
    "pdf.savefig(bbox_inches='tight')\n",
    "pdf.close()\n",
    "#ax.plot(fit['richards'][1][0], fit['richards'][1][1], '-', alpha=0.4)"
   ]
  },
  {
   "cell_type": "markdown",
   "metadata": {},
   "source": [
    "### Raw data"
   ]
  },
  {
   "cell_type": "code",
   "execution_count": 41,
   "metadata": {},
   "outputs": [
    {
     "name": "stderr",
     "output_type": "stream",
     "text": [
      "No handles with labels found to put in legend.\n"
     ]
    },
    {
     "name": "stdout",
     "output_type": "stream",
     "text": [
      "[{'param': array([43.51722211, -6.77839602,  0.98972475, 23.57622196, 33.03266616,\n",
      "       34.27311233,  0.89160216]), 'cov': array([[inf, inf, inf, inf, inf, inf, inf],\n",
      "       [inf, inf, inf, inf, inf, inf, inf],\n",
      "       [inf, inf, inf, inf, inf, inf, inf],\n",
      "       [inf, inf, inf, inf, inf, inf, inf],\n",
      "       [inf, inf, inf, inf, inf, inf, inf],\n",
      "       [inf, inf, inf, inf, inf, inf, inf],\n",
      "       [inf, inf, inf, inf, inf, inf, inf]])}, [array([ 4.  ,  4.01,  4.02, ..., 15.97, 15.98, 15.99]), array([23.3438804, 23.3438804, 23.3438804, ..., 23.3438804, 23.3438804,\n",
      "       23.3438804])], [array([0.08515263, 0.08407175, 0.08362275, ..., 0.2051925 , 0.20524125,\n",
      "       0.2052975 ]), array([-0.0017137,  0.       ,  0.       , ...,  0.4408678,  0.4403119,\n",
      "        0.4402014]), 0.6353925, 0.26771499999999904]]\n"
     ]
    },
    {
     "data": {
      "text/plain": [
       "Text(0, 0.5, 'Resistance / \\\\si{\\\\ohm}')"
      ]
     },
     "execution_count": 41,
     "metadata": {},
     "output_type": "execute_result"
    },
    {
     "data": {
      "image/png": "[encoded data removed]",
      "text/plain": [
       "<Figure size 576x360 with 1 Axes>"
      ]
     },
     "metadata": {
      "needs_background": "light"
     },
     "output_type": "display_data"
    }
   ],
   "source": [
    "%matplotlib inline\n",
    "# path_Tc = '\\\\\\\\file\\\\e24\\\\Projects\\\\FinleyLab\\\\_IQPGroup\\\\_SSPDs\\\\Data\\\\Diffusivity\\\\Data_evaluated\\\\Tc_sweeps\\\\' \n",
    "# pdfname_Tc = path_Tc + '\\\\' + date_sample + 'Tc_sweepPlot_DT670currentWhenReadT' + sample_param + '.pdf'\n",
    "\n",
    "# pdfname = pdfname_Tc\n",
    "# pdf = PdfPages(pdfname)\n",
    "\n",
    "fig = plt.figure(figsize=(8,5))\n",
    "ax=fig.add_subplot(111)\n",
    "ax.plot(Tc_data._raw_data.transpose()[0], Tc_data._raw_data.transpose()[1], 'x', label=r'g:'+format_D_legend.format(np.round(Tc_data.Tc[key]['gaussian'],3))+r', rTp:'+format_D_legend.format(np.round(Tc_data.Tc[key]['richards'],3))+r')\n",
    "#print(Tc_data._raw_fit)\n",
    "ax.plot(Tc_data._raw_fit[1][0], Tc_data._raw_fit[1][1], '-')#laTc_datael=r'$T_c = \\SI{' + format_D_legend.format(np.round(Tc_data.Tc[0], 3)) + r'}{\\kelvin}$'\n",
    "ax.plot(Tc_data._raw_fit[:,0], Tc_data.B_values_dict[key][:,1], 'x', label=r'raw '+ format_D_legend.format(key)+r'T, g:'+format_D_legend.format(np.round(Tc_data.Tc[key]['gaussian'],3))+r', r:'+format_D_legend.format(np.round(b.Tc[key]['richards'],3)), color=color)\n",
    "#ax.plot(fit[key][1][0], fit[key][1][1], '-', label=f'fit {key}T')\n",
    "# print(key)\n",
    "#print(b.B_values_dict_fit[key]['gaussian'][1][1])\n",
    "ax.plot(Tc_data.B_values_dict_fit[key]['gaussian'][1][0], Tc_data.B_values_dict_fit[key]['gaussian'][1][1], '--', color=color)\n",
    "ax.plot(Tc_data.B_values_dict_fit[key]['richards'][1][0], Tc_data.B_values_dict_fit[key]['richards'][1][1], '-', color=color, alpha=0.4)\n",
    "\n",
    "#print(Tc_data.Tc[0], Tc_data.Tc[1], Tc_data.Tc[2])\n",
    "legend = ax.legend(loc='lower right', handlelength=2.5)\n",
    "legend.get_frame().set_linewidth(0.0)\n",
    "#ax.set_title(r'R over Tc')\n",
    "ax.set_xlabel(r'Temperature / \\si{\\kelvin}')\n",
    "ax.set_ylabel(r'Resistance / \\si{\\ohm}')\n",
    "#plt.show()\n",
    "\n",
    "# save pdf\n",
    "# plt.tight_layout()\n",
    "# pdf.savefig(bbox_inches='tight')\n",
    "# pdf.close()\n",
    "\n",
    "#colorway = ['#f2815a', '#000000', '#c1d34e']\n",
    "\n",
    "#fig = go.Figure(data=go.Scatter(x=Tc_data._raw_data.transpose()[0], y=Tc_data._raw_data.transpose()[1], mode=\"markers\", name=\"Raw data\"))\n",
    "#fig.add_trace(go.Scatter(x=Tc_data._raw_fit[0][1][0], y=Tc_data._raw_fit[0][1][1], mode=\"lines\",name=\"Fitting (Gaussian CDF)\"))\n",
    "#fig.add_trace(go.Scatter(x=Tc_data._raw_fit[1][1][0], y=Tc_data._raw_fit[1][1][1], mode=\"lines\",name=\"Fitting (Linear)\"))\n",
    "#fig.update_xaxes(title_text=\"Temperature (K)\", ticks=\"inside\", linecolor= 'black', linewidth= 1, mirror=True)\n",
    "#fig.update_yaxes(title_text=\"Resistance (Ω)\", ticks=\"inside\", linecolor= 'black', linewidth= 1, mirror=True)\n",
    "#layout = go.Layout(\n",
    "#    title_text=\"R over Tc\",\n",
    "#    title_font_size=20,\n",
    "#    #paper_bgcolor='rgba(0,0,0,0)',\n",
    "#    plot_bgcolor='rgba(0,0,0,0)',\n",
    "#    legend_bordercolor='black',\n",
    "#    legend_borderwidth=1,\n",
    "#    colorway=colorway,\n",
    "#    width=800,\n",
    "#    height=500,\n",
    "#)\n",
    "    \n",
    "#fig.update_layout(layout)\n",
    "\n",
    "#fig.show()"
   ]
  },
  {
   "cell_type": "markdown",
   "metadata": {},
   "source": [
    "### multiple"
   ]
  },
  {
   "cell_type": "code",
   "execution_count": 220,
   "metadata": {},
   "outputs": [
    {
     "name": "stderr",
     "output_type": "stream",
     "text": [
      "C:\\Users\\Noah.Ploch\\Program\\Anaconda\\lib\\site-packages\\ipykernel_launcher.py:5: ResourceWarning: unclosed file <_io.BufferedWriter name='C:\\\\Users\\\\Noah.Ploch\\\\OneDrive - Walter Schottky Institut\\\\Plots\\\\use\\\\B_Sweep_meas_comparison.pdf'>\n",
      "  \"\"\"\n",
      "ResourceWarning: Enable tracemalloc to get the object allocation traceback\n",
      "C:\\Users\\Noah.Ploch\\Program\\Anaconda\\lib\\site-packages\\ipywidgets\\widgets\\widget.py:412: DeprecationWarning: Passing unrecoginized arguments to super(Canvas).__init__().\n",
      "__init__() missing 1 required positional argument: 'figure'\n",
      "This is deprecated in traitlets 4.2.This error will be raised in a future release of traitlets.\n",
      "  super(Widget, self).__init__(**kwargs)\n",
      "C:\\Users\\Noah.Ploch\\Program\\Anaconda\\lib\\site-packages\\ipywidgets\\widgets\\widget.py:412: DeprecationWarning: Passing unrecoginized arguments to super(Toolbar).__init__().\n",
      "__init__() missing 1 required positional argument: 'canvas'\n",
      "This is deprecated in traitlets 4.2.This error will be raised in a future release of traitlets.\n",
      "  super(Widget, self).__init__(**kwargs)\n"
     ]
    },
    {
     "data": {
      "application/vnd.jupyter.widget-view+json": {
       "model_id": "",
       "version_major": 2,
       "version_minor": 0
      },
      "text/plain": [
       "Canvas(toolbar=Toolbar(toolitems=[('Home', 'Reset original view', 'home', 'home'), ('Back', 'Back to previous …"
      ]
     },
     "metadata": {},
     "output_type": "display_data"
    },
    {
     "name": "stdout",
     "output_type": "stream",
     "text": [
      "4.4366019662213265\n",
      "Len raw data:  14\n"
     ]
    },
    {
     "name": "stderr",
     "output_type": "stream",
     "text": [
      "C:\\Users\\Noah.Ploch\\Program\\Anaconda\\lib\\site-packages\\ipykernel_launcher.py:303: RuntimeWarning: overflow encountered in float_power\n"
     ]
    },
    {
     "name": "stdout",
     "output_type": "stream",
     "text": [
      "4.4366019662213265\n",
      "Len raw data:  14\n",
      "4.4366019662213265\n",
      "Len raw data:  14\n",
      "4.4366019662213265\n",
      "Len raw data:  14\n",
      "4.4366019662213265\n",
      "Len raw data:  14\n"
     ]
    },
    {
     "name": "stderr",
     "output_type": "stream",
     "text": [
      "C:\\Users\\Noah.Ploch\\Program\\Anaconda\\lib\\site-packages\\ipykernel_launcher.py:303: RuntimeWarning: divide by zero encountered in true_divide\n",
      "C:\\Users\\Noah.Ploch\\Program\\Anaconda\\lib\\site-packages\\ipykernel_launcher.py:303: RuntimeWarning: overflow encountered in true_divide\n"
     ]
    },
    {
     "name": "stdout",
     "output_type": "stream",
     "text": [
      "4.4366019662213265\n",
      "Len raw data:  14\n",
      "4.4366019662213265\n",
      "Len raw data:  14\n",
      "4.4366019662213265\n",
      "Len raw data:  14\n",
      "4.4366019662213265\n",
      "Len raw data:  14\n",
      "4.4366019662213265\n",
      "Len raw data:  14\n",
      "4.4366019662213265\n",
      "Len raw data:  14\n",
      "4.4366019662213265\n",
      "Len raw data:  14\n",
      "4.4366019662213265\n",
      "Len raw data:  14\n",
      "4.4366019662213265\n",
      "Len raw data:  14\n",
      "4.4366019662213265\n",
      "Len raw data:  14\n",
      "4.4366019662213265\n",
      "Len raw data:  14\n"
     ]
    }
   ],
   "source": [
    "%matplotlib widget\n",
    "path_0T = '\\\\\\\\file\\\\e24\\\\Projects\\\\FinleyLab\\\\_IQPGroup\\\\_SSPDs\\\\Data\\\\Diffusivity\\\\Data_evaluated\\\\Tc_sweeps\\\\from_0T_sweeps' + '\\\\test_sweep_comparison_magnetic_field_influence'\n",
    "path_0T = 'C:\\\\Users\\\\Noah.Ploch\\\\OneDrive - Walter Schottky Institut\\\\Plots\\\\use'\n",
    "pdfname = path_0T + '\\\\' + 'B_Sweep_meas_comparison' + '.pdf'\n",
    "pdf = PdfPages(pdfname)\n",
    "\n",
    "scale_1= 0.8\n",
    "fig_width_pt_1 = 432.487                     # Get this from LaTeX using \\showthe\\textwidth\n",
    "inches_per_pt_1 = 1.0/72.27                       # Convert pt to inch\n",
    "#golden_mean_1 = (np.sqrt(5.0)-1.0)/2.0            # Aesthetic ratio\n",
    "fig_width_1 = fig_width_pt_1*inches_per_pt_1*scale_1   # width in inches\n",
    "fig_height_1 = fig_width_pt_1*inches_per_pt_1*scale_1             # height in inches\n",
    "fig_size_1 = [fig_width_1,fig_height_1]\n",
    "\n",
    "params1 = {\n",
    "    'figure.figsize': fig_size_1, # default figsize\n",
    "    }\n",
    "mpl.rcParams.update(params1)\n",
    "\n",
    "# EXECUTE thesis layout AGAIN!!!\n",
    "\n",
    "quick_data_0T = quick_data[::4] \n",
    "quick_data_1T = quick_data[1::4] \n",
    "quick_data_2T = quick_data[2::4] \n",
    "quick_data_3T = quick_data[3::4] \n",
    "quick_data_tot = [quick_data_0T, quick_data_1T, quick_data_2T, quick_data_3T]\n",
    "plots = [221,222,223,224]\n",
    "leg = ['upper left', 'best', 'best', 'best']\n",
    "tit = [r'$B=\\SI{0}{\\tesla}$', r'$B=\\SI{1}{\\tesla}$', r'$B=\\SI{2}{\\tesla}$', r'$B=\\SI{3}{\\tesla}$']\n",
    "fig = plt.figure()\n",
    "for u in range(len(quick_data_tot)):\n",
    "    y1_legend = [r'1: $T_c=\\SI{', r'2: $T_c=\\SI{', r'3: $T_c=\\SI{', r'4: $T_c=\\SI{']\n",
    "    fitting_function = 'richards'\n",
    "    quick_data_B = quick_data_tot[u]\n",
    "    #quick_data_B.append(np.concatenate(quick_data_B))\n",
    "    ax=fig.add_subplot(plots[u])\n",
    "\n",
    "    for i in range(len(quick_data_B)):\n",
    "        color = plt.rcParams['axes.prop_cycle'].by_key()['color'][i]\n",
    "        c=B_sweep(data)\n",
    "        data_Tc_repro = quick_data_B[i]\n",
    "        fit = c.fit_Tc_sweep(data_Tc_repro)\n",
    "        Tc = c.get_Tc(fit)\n",
    "    #     index_5= bisect_left(data_Tc_repro, 5.0)\n",
    "    #     index_11= bisect_left(data_Tc_repro, 11.0)\n",
    "        ax.plot(data_Tc_repro[:, 0], data_Tc_repro[:, 1], '1', color=color, ms=5, label = r'$T_{B_\\text{c2}}=\\SI{'+ format_T_legend.format(np.round(Tc['richardsHp'],3))+r'}{\\kelvin}$')\n",
    "\n",
    "        xy = (data_Tc_repro[0,0]-fit['errorTR'][0,0], data_Tc_repro[0,1]-fit['errorTR'][0,1])\n",
    "        width = 2*fit['errorTR'][0,0]\n",
    "        height = 2*fit['errorTR'][0,1]\n",
    "        ax.add_patch(pat.Rectangle(xy, width, height, alpha=0.1,  linewidth=0.0, facecolor=color)) #label = r'Error in ($T$,$R$)',\n",
    "        for j, k in zip(data_Tc_repro[1:,:], fit['errorTR'][1:,:]):\n",
    "            xy = (j[0]-k[0], j[1]-k[1])\n",
    "            width = 2*k[0]\n",
    "            height = 2*k[1]\n",
    "            ax.add_patch(pat.Rectangle(xy, width, height, alpha=0.1, linewidth=0.0, facecolor=color))\n",
    "        ax.plot(fit[fitting_function][1][0], fit[fitting_function][1][1], '-', color=color, linewidth = 0.9, alpha=0.9)\n",
    "    # legend = ax.legend(loc='lower right', handlelength=2.5)\n",
    "    # legend.get_frame().set_linewidth(0.0)\n",
    "    #ax.set_title(r'R over Tc')\n",
    "    ax.tick_params(direction='in', bottom=True, top=True, left=True, right=True)\n",
    "    legend = ax.legend(markerscale=0.75,handletextpad=0.1, loc=leg[u], handlelength=0.4, labelspacing=0.5, frameon=False, columnspacing=1)\n",
    "    if plots[u] in [223,224]:\n",
    "        ax.set_xlabel(r'Temperature / \\si{\\kelvin}')\n",
    "    if plots[u] in [221,223]:\n",
    "        ax.set_ylabel(r'Resistance / \\si{\\ohm}')\n",
    "    ax.set_xlim(4.5,11)\n",
    "    ax.set_title(tit[u])\n",
    "#plt.show()\n",
    "\n",
    "# save pdf\n",
    "plt.tight_layout()\n",
    "pdf.savefig(bbox_inches='tight')\n",
    "pdf.close()"
   ]
  },
  {
   "cell_type": "code",
   "execution_count": 86,
   "metadata": {},
   "outputs": [
    {
     "name": "stderr",
     "output_type": "stream",
     "text": [
      "K:\\Programs\\anaconda3\\lib\\site-packages\\ipywidgets\\widgets\\widget.py:412: DeprecationWarning: Passing unrecoginized arguments to super(Canvas).__init__().\n",
      "__init__() missing 1 required positional argument: 'figure'\n",
      "This is deprecated in traitlets 4.2.This error will be raised in a future release of traitlets.\n",
      "  super(Widget, self).__init__(**kwargs)\n",
      "K:\\Programs\\anaconda3\\lib\\site-packages\\ipywidgets\\widgets\\widget.py:412: DeprecationWarning: Passing unrecoginized arguments to super(Toolbar).__init__().\n",
      "__init__() missing 1 required positional argument: 'canvas'\n",
      "This is deprecated in traitlets 4.2.This error will be raised in a future release of traitlets.\n",
      "  super(Widget, self).__init__(**kwargs)\n"
     ]
    },
    {
     "data": {
      "application/vnd.jupyter.widget-view+json": {
       "model_id": "a53f945bcaa34b0989499f50c290865e",
       "version_major": 2,
       "version_minor": 0
      },
      "text/plain": [
       "Canvas(toolbar=Toolbar(toolitems=[('Home', 'Reset original view', 'home', 'home'), ('Back', 'Back to previous …"
      ]
     },
     "metadata": {},
     "output_type": "display_data"
    },
    {
     "name": "stdout",
     "output_type": "stream",
     "text": [
      "152.13114754098362\n",
      "Len raw data:  81\n",
      "Moving average to separate sweeps:  1\n",
      "Moving average to smooth sweeps:  1\n",
      "154.6626231993935\n",
      "Len raw data:  71\n",
      "Moving average to separate sweeps:  1\n",
      "Moving average to smooth sweeps:  1\n",
      "154.6006066734075\n",
      "Len raw data:  97\n",
      "Moving average to separate sweeps:  2\n",
      "Moving average to smooth sweeps:  1\n",
      "139.75044563279855\n",
      "Len raw data:  129\n",
      "Moving average to separate sweeps:  3\n",
      "Moving average to smooth sweeps:  1\n"
     ]
    }
   ],
   "source": [
    "%matplotlib widget\n",
    "path_0T = '\\\\\\\\file\\\\e24\\\\Projects\\\\FinleyLab\\\\_IQPGroup\\\\_SSPDs\\\\Data\\\\Diffusivity\\\\Data_evaluated\\\\Tc_sweeps\\\\from_0T_sweeps' + '\\\\test_sweep_comparison_magnetic_field_influence'\n",
    "#path_0T = 'K:\\\\BANP\\\\Diffusivity\\\\Data_evaluated\\\\Tc_sweeps\\\\from_0T_sweeps' + '\\\\test_sweep_comparison_magnetic_field_influence'\n",
    "pdfname = path_0T + '\\\\' + 'Sweep_comparison_3T_fit_little' + '.pdf'\n",
    "pdf = PdfPages(pdfname)\n",
    "\n",
    "\n",
    "y1_legend = [r'1: $T_c=\\SI{', r'2: $T_c=\\SI{', r'3: $T_c=\\SI{', r'4: $T_c=\\SI{']\n",
    "fig = plt.figure()\n",
    "ax=fig.add_subplot(111)\n",
    "\n",
    "for i in range(len(quick_data)):\n",
    "    color = plt.rcParams['axes.prop_cycle'].by_key()['color'][i]\n",
    "    Tc_data = T_sweep(quick_data[i])\n",
    "    index_5= bisect_left(Tc_data._raw_data.transpose()[0], 5.0)\n",
    "    index_11= bisect_left(Tc_data._raw_data.transpose()[0], 11.0)\n",
    "    ax.plot(Tc_data._raw_data[index_5:index_11, 0], Tc_data._raw_data[index_5:index_11, 1], 'x', color=color, ms=3)\n",
    "    xy = (Tc_data._raw_data[index_5,0]-Tc_data._raw_fit[2][0][index_5], Tc_data._raw_data[index_5,1]-Tc_data._raw_fit[2][1][index_5])\n",
    "    width = 2*Tc_data._raw_fit[2][0][0]\n",
    "    height = 2*Tc_data._raw_fit[2][1][0]\n",
    "    ax.add_patch(pat.Rectangle(xy, width, height, alpha=0.3, label = r'Error in ($T$,$R$)', linewidth=0.0, facecolor=color))\n",
    "    for j, k, l in zip(Tc_data._raw_data[index_5+1:index_11], Tc_data._raw_fit[2][0][index_5+1:index_11], Tc_data._raw_fit[2][1][index_5+1:index_11]):\n",
    "        xy = (j[0]-k, j[1]-l)\n",
    "        width = 2*k\n",
    "        height = 2*l\n",
    "        ax.add_patch(pat.Rectangle(xy, width, height, alpha=0.3, linewidth=0.0, facecolor=color))\n",
    "#     print(Tc_data.Tc[0])\n",
    "#     ax.fill_between(Tc_data._raw_data[:,0], Tc_data._raw_data[:,1]-Tc_data._raw_fit[2][1],\n",
    "#             Tc_data._raw_data[:,1]+Tc_data._raw_fit[2][1],\n",
    "#             alpha=0.6, facecolor=color,\n",
    "#             linewidth=0.0, label=r'Error in $R$')\n",
    "#     lower_error_T = Tc_data._raw_data[:,0]-Tc_data._raw_fit[2][0]\n",
    "#     upper_error_T =Tc_data._raw_data[:,0]+Tc_data._raw_fit[2][0]\n",
    "#     ax.fill(np.append(lower_error_T, upper_error_T[::-1]), np.append(Tc_data._raw_data[:,1], Tc_data._raw_data[::-1,1]),\n",
    "#                 alpha=0.2, facecolor=color,\n",
    "#                 linewidth=0.0, label=r'Error in $T$')\n",
    "    #ax.plot(Tc_data._raw_data[:,0], Tc_data._raw_data[:,1], '-', color=color, label=r'$B = \\SI{'+format_B_legend.format(key)+r'}{\\tesla}$', linewidth = 0.7)\n",
    "#     slice_fit_T = Tc_data._raw_fit[1][0][(Tc_data._raw_fit[1][0] <= Tc_data._raw_data[index_11,0]) & (Tc_data._raw_fit[1][0] >= Tc_data._raw_data[index_5,0])]\n",
    "#     slice_fit_R = Tc_data._raw_fit[1][1][(Tc_data._raw_fit[1][0] <= Tc_data._raw_data[index_11,0]) & (Tc_data._raw_fit[1][0] >= Tc_data._raw_data[index_5,0])]\n",
    "    slice_fit_T = Tc_data._raw_fit[1][0][(Tc_data._raw_fit[1][0] <= 11) & (Tc_data._raw_fit[1][0] >= 5)]\n",
    "    slice_fit_R = Tc_data._raw_fit[1][1][(Tc_data._raw_fit[1][0] <= 11) & (Tc_data._raw_fit[1][0] >= 5)]\n",
    "    ax.plot(slice_fit_T, slice_fit_R, '-', label=y1_legend[i] + format_D_legend.format(np.round(Tc_data.Tc[0], 3)) + r'}{\\kelvin}$', color=color, linewidth=0.8)\n",
    "# legend = ax.legend(loc='lower right', handlelength=2.5)\n",
    "# legend.get_frame().set_linewidth(0.0)\n",
    "#ax.set_title(r'R over Tc')\n",
    "ax.tick_params(direction='in', bottom=True, top=True, left=True, right=True)\n",
    "legend = ax.legend(markerscale=0.75,handletextpad=0.5, loc='lower right', handlelength=2.5, labelspacing=0.5, frameon=False, columnspacing=1)\n",
    "ax.set_xlabel(r'Temperature / \\si{\\kelvin}')\n",
    "ax.set_ylabel(r'Resistance / \\si{\\ohm}')\n",
    "#plt.xlim(5,11)\n",
    "#plt.show()\n",
    "\n",
    "# save pdf\n",
    "plt.tight_layout()\n",
    "pdf.savefig(bbox_inches='tight')\n",
    "pdf.close()"
   ]
  },
  {
   "cell_type": "markdown",
   "metadata": {},
   "source": [
    "### 1T 4T Sweep comparison"
   ]
  },
  {
   "cell_type": "code",
   "execution_count": 62,
   "metadata": {},
   "outputs": [
    {
     "name": "stdout",
     "output_type": "stream",
     "text": [
      "//file/e24/Projects/FinleyLab/_IQPGroup/_SSPDs/Data/Diffusivity/Data_evaluated/Bc2_vs_T/200303_200116A_Bc2vsT_10nm_400C_105ArN.txt\n"
     ]
    }
   ],
   "source": [
    "%gui qt5\n",
    "default_path = '\\\\\\\\file\\\\e24\\\\Projects\\\\FinleyLab\\\\_IQPGroup\\\\_SSPDs\\\\Data\\\\Diffusivity\\\\Data_evaluated'\n",
    "filename = PureWindowsPath(default_path)\n",
    "default_path = Path(filename)\n",
    "filename = QFileDialog.getOpenFileNames(None, 'Import file', str(default_path),\"Text files (*.csv *.dat *.txt)\")\n",
    "filename = filename[0]\n",
    "#print(filename)\n",
    "quick_data = []\n",
    "for i in filename:\n",
    "    print(i)\n",
    "    data_q = pd.read_csv(Path(i), sep=r'\\t+\\s*', engine='python')\n",
    "    data_q.replace(['nan', 'None', 'NaN'], '', inplace=True)\n",
    "    data_q = data_q.apply(pd.to_numeric)\n",
    "    #data = [data[['raw_T']], data[['raw_R']]]\n",
    "    data_q = data_q.to_numpy()\n",
    "    #data = data.transpose()\n",
    "    quick_data.append(data_q)"
   ]
  },
  {
   "cell_type": "code",
   "execution_count": 63,
   "metadata": {},
   "outputs": [
    {
     "name": "stderr",
     "output_type": "stream",
     "text": [
      "C:\\Users\\Noah.Ploch\\Program\\Anaconda\\lib\\site-packages\\ipywidgets\\widgets\\widget.py:412: DeprecationWarning: Passing unrecoginized arguments to super(Canvas).__init__().\n",
      "__init__() missing 1 required positional argument: 'figure'\n",
      "This is deprecated in traitlets 4.2.This error will be raised in a future release of traitlets.\n",
      "  super(Widget, self).__init__(**kwargs)\n",
      "C:\\Users\\Noah.Ploch\\Program\\Anaconda\\lib\\site-packages\\ipywidgets\\widgets\\widget.py:412: DeprecationWarning: Passing unrecoginized arguments to super(Toolbar).__init__().\n",
      "__init__() missing 1 required positional argument: 'canvas'\n",
      "This is deprecated in traitlets 4.2.This error will be raised in a future release of traitlets.\n",
      "  super(Widget, self).__init__(**kwargs)\n"
     ]
    },
    {
     "data": {
      "application/vnd.jupyter.widget-view+json": {
       "model_id": "",
       "version_major": 2,
       "version_minor": 0
      },
      "text/plain": [
       "Canvas(toolbar=Toolbar(toolitems=[('Home', 'Reset original view', 'home', 'home'), ('Back', 'Back to previous …"
      ]
     },
     "metadata": {},
     "output_type": "display_data"
    },
    {
     "name": "stdout",
     "output_type": "stream",
     "text": [
      "58.930373360242186\n",
      "Len raw data:  60\n",
      "[0.7135165618792735, 0.0003415168089167624]\n"
     ]
    }
   ],
   "source": [
    "%matplotlib widget\n",
    "decimal.getcontext().rounding = decimal.ROUND_CEILING\n",
    "\n",
    "float(round(decimal.Decimal(str(0.1111)), ndigits=2))\n",
    "\n",
    "fig=plt.figure()\n",
    "ax=fig.add_subplot(111)\n",
    "\n",
    "# plot PDF\n",
    "#pdfname = 'H:\\\\Documents_H\\\\BA\\\\Schreiben\\\\Thesis_BA_Noah_Ploch\\\\Thesis\\\\figures\\\\Setup\\\\resistance_clean.pdf'\n",
    "#path_0T = '\\\\\\\\file\\\\e24\\\\Projects\\\\FinleyLab\\\\_IQPGroup\\\\_SSPDs\\\\Data\\\\Diffusivity\\\\Data_evaluated\\\\Tc_sweeps\\\\from_0T_sweeps' + '\\\\test_sweep_comparison_magnetic_field_influence'\n",
    "path_0T = '\\\\\\\\file\\\\e24\\\\Projects\\\\FinleyLab\\\\_IQPGroup\\\\_SSPDs\\\\Data\\\\Diffusivity\\\\Data_evaluated'\n",
    "path_0T = 'C:\\\\Users\\\\Noah.Ploch\\\\OneDrive - Walter Schottky Institut\\\\Plots\\\\use'\n",
    "pdfname = path_0T + '\\\\' + 'comparison_4T_1T_red' + '.pdf'\n",
    "pdf = PdfPages(pdfname)\n",
    "\n",
    "x_header = 'raw_T' #'t[s]'\n",
    "y1_header = 'raw_B' #'TS_diode[K]'#'T_diode [K]' # U_diode [V]\n",
    "#y2_header = 'TS_sample[K]'#'T_sample [K]' # U_sample [V] \n",
    "\n",
    "#y1_legend = [r'1 (First meas)', r'2 (after weekend)', r'3 (directly after 2)', r'4 (after 3 with removal)']\n",
    "y1_legend = [r'4T Sweep', r'1T Sweep']\n",
    "y2_legend = '' #'sample temperature'\n",
    "title = 'Longterm sample temperature stability'\n",
    "x_label = r'Temperature / \\si{\\kelvin}'\n",
    "y_label =  r'$B_{c2}$ / \\si{\\tesla}'\n",
    "marker = 's'\n",
    "\n",
    "quick_data = quick_data[::-1]\n",
    "test_fitting = B_sweep(data, 'r_t_sweeps')\n",
    "j=0\n",
    "\n",
    "for i in range(len(quick_data)):\n",
    "    color = plt.rcParams['axes.prop_cycle'].by_key()['color'][i]\n",
    "    test_fitting.Bc2 = quick_data[i]\n",
    "    test_fitting.get_Diffusivity()\n",
    "    plt.plot(test_fitting.Bc2[:,0], test_fitting.Bc2[:,1], marker,ms=4, mew=0, label=y1_legend[i], color=color)\n",
    "\n",
    "for i in range(len(quick_data)):\n",
    "    color = plt.rcParams['axes.prop_cycle'].by_key()['color'][i+2]\n",
    "    test_fitting.Bc2 = quick_data[i]\n",
    "    if i==0:\n",
    "        test_fitting.Bc2 = quick_data[i][100:-1,:]\n",
    "    test_fitting.get_Diffusivity()\n",
    "    #plt.plot(test_fitting.Bc2[:,0], test_fitting.Bc2[:,1], marker, label=y1_legend[j])\n",
    "    #plt.plot(i[[x_header]].to_numpy(), i[[y1_header]].to_numpy(), marker)\n",
    "    ax.plot(test_fitting.Bc2_fit[1][0], test_fitting.Bc2_fit[1][1], color=color, ls='-', label=r'$D = \\SI[multi-part-units=single]{'+ format_D_legend.format(np.round(test_fitting.D[0], 3)) + r'\\pm' + format_D_legend.format(float(round(decimal.Decimal(str(test_fitting.D[1])), ndigits=3))) + r'}{cm^2/s}$') #np.round(test_fitting.D[1], 3)\n",
    "    #plt.plot(i[[x_header]].to_numpy(), i[[y2_header]].to_numpy(), marker, label=y2_legend + f' heating at {voltage}V')\n",
    "    print(test_fitting.D)\n",
    "    j+=1\n",
    "ax.tick_params(direction='in', bottom=True, top=True, left=True, right=True)\n",
    "legend = ax.legend(markerscale=1,handletextpad=1, loc='best', handlelength=2.5, labelspacing=0.5, frameon=False, columnspacing=1)\n",
    "#plt.title(title)\n",
    "plt.xlabel(x_label)\n",
    "plt.ylabel(y_label)\n",
    "#plt.xlim(5, 9)\n",
    "\n",
    "# plot widget\n",
    "# fig.canvas.layout.width = '7in'\n",
    "# fig.canvas.layout.height= '6in'\n",
    "\n",
    "#plot PDF\n",
    "plt.tight_layout()\n",
    "pdf.savefig(bbox_inches='tight')\n",
    "pdf.close()"
   ]
  },
  {
   "cell_type": "markdown",
   "metadata": {},
   "source": [
    "### Sweeps"
   ]
  },
  {
   "cell_type": "code",
   "execution_count": null,
   "metadata": {},
   "outputs": [],
   "source": [
    "%matplotlib widget\n",
    "\n",
    "fig,ax = plt.subplots(nrows=1, ncols=len(Tc_data._sweep_raw))\n",
    "\n",
    "for i in range(len(Tc_data._sweep_raw)):\n",
    "    ax[i].plot(Tc_data._sweep_raw[i][0], Tc_data._sweep_raw[i][1], 'o', label='Raw data')\n",
    "    ax[i].plot(Tc_data.sweep_fit[i][1][0], Tc_data.sweep_fit[i][1][1], '-', label='Fitting (Gaussian CDF)')\n",
    "    ax[i].legend()\n",
    "    ax[i].set_title(f'Temperature Sweep {i+1}')\n",
    "    ax[i].set_xlabel('Temperature (K)')\n",
    "    ax[i].set_ylabel('Resistance (Ω)')\n",
    "\n",
    "plt.show()\n",
    "\n",
    "\n",
    "# Du kannst auch die Ableitung der funktion bilden und da durch dann den Gauß peak legen (das kann man auch sehr schön plotten)"
   ]
  },
  {
   "cell_type": "markdown",
   "metadata": {},
   "source": [
    "## Calibration "
   ]
  },
  {
   "cell_type": "code",
   "execution_count": null,
   "metadata": {
    "lines_to_next_cell": 0
   },
   "outputs": [],
   "source": [
    "calibrate = Tc_data.map_calibration(Tc_data._sweep_raw[0], calib_data._sweep_raw[0])\n",
    "colorway = ['#f2815a', '#000000', '#01215a']\n",
    "\n",
    "print(calib_data._sweep_raw[1])\n",
    "#print(calibrate[0][:,0])\n",
    "#print(calibrate[1].tolist())\n",
    "error = calibrate[1][:,1] - calibrate[1][:,0]\n",
    "fig = go.Figure()\n",
    "#fig.add_trace(go.Scatter(x=calibrate[1][:,0], y=error, mode=\"markers\", name=\"cali_T\"))\n",
    "#fig.add_trace(go.Scatter(x=calibrate[0][:,0], y=calibrate[0][:,1], mode=\"markers\",name=\"calibrated\"))\n",
    "fig.add_trace(go.Scatter(x=calibrate[2][:,0], y=calibrate[2][:,1], mode=\"markers\",name=\"Tc Measurement coupled\"))\n",
    "fig.add_trace(go.Scatter(x=calibrate[3][:,0], y=calibrate[3][:,1], mode=\"markers\",name=\"Tc Measurement free\"))\n",
    "fig.update_xaxes(title_text=\"Temperature\", ticks=\"inside\", linecolor= 'black', linewidth= 1, mirror=True)\n",
    "#fig.update_yaxes(title_text=\"Error (Calib_T-Raw_T)\", ticks=\"inside\", linecolor= 'black', linewidth= 1, mirror=True)\n",
    "fig.update_yaxes(title_text=\"Resistance (Ω)\", ticks=\"inside\", linecolor= 'black', linewidth= 1, mirror=True)\n",
    "layout = go.Layout(\n",
    "\n",
    "    title_text=\"R over Tc\",\n",
    "    title_font_size=20,\n",
    "    #paper_bgcolor='rgba(0,0,0,0)',\n",
    "    plot_bgcolor='rgba(0,0,0,0)',\n",
    "    legend_bordercolor='black',\n",
    "    legend_borderwidth=1,\n",
    "    colorway=colorway,\n",
    "    width=800,\n",
    "    height=500,\n",
    ")\n",
    "    \n",
    "fig.update_layout(layout)\n",
    "\n",
    "#fig.show()"
   ]
  },
  {
   "cell_type": "code",
   "execution_count": null,
   "metadata": {
    "lines_to_next_cell": 2
   },
   "outputs": [],
   "source": []
  }
 ],
 "metadata": {
  "jupytext": {
   "encoding": "# -*- coding: utf-8 -*-",
   "formats": "ipynb,py"
  },
  "kernelspec": {
   "display_name": "Python 3",
   "language": "python",
   "name": "python3"
  },
  "language_info": {
   "codemirror_mode": {
    "name": "ipython",
    "version": 3
   },
   "file_extension": ".py",
   "mimetype": "text/x-python",
   "name": "python",
   "nbconvert_exporter": "python",
   "pygments_lexer": "ipython3",
   "version": "3.8.3"
  },
  "toc-autonumbering": false,
  "toc-showmarkdowntxt": false,
  "toc-showtags": false
 },
 "nbformat": 4,
 "nbformat_minor": 4
}

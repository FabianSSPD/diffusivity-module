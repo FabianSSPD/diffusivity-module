{
 "cells": [
  {
   "cell_type": "markdown",
   "metadata": {},
   "source": [
    "## Import libraries"
   ]
  },
  {
   "cell_type": "code",
   "execution_count": 2,
   "metadata": {},
   "outputs": [],
   "source": [
    "from PyQt5.QtWidgets import QFileDialog  \n",
    "import json as js\n",
    "import numpy as np\n",
    "import pandas as pd\n",
    "from pathlib import Path, PureWindowsPath\n",
    "from scipy import io\n",
    "from scipy.ndimage import gaussian_filter\n",
    "from scipy.optimize import curve_fit\n",
    "from scipy.stats import norm\n",
    "from scipy.special import erf\n",
    "from scipy.constants import elementary_charge, Boltzmann \n",
    "from math import pi\n",
    "from math import *\n",
    "import matplotlib as mpl\n",
    "import matplotlib.pyplot as plt\n",
    "import matplotlib.patches as pat\n",
    "import matplotlib.cm as cm\n",
    "import matplotlib.mlab as mlab\n",
    "from matplotlib import gridspec\n",
    "from matplotlib.backends.backend_pdf import PdfPages\n",
    "\n",
    "import os\n",
    "import timeit\n",
    "from bisect import bisect_left, bisect_right\n",
    "import re\n",
    "import itertools\n",
    "\n",
    "import ipywidgets as widgets\n",
    "from IPython.display import display"
   ]
  },
  {
   "cell_type": "code",
   "execution_count": 3,
   "metadata": {},
   "outputs": [],
   "source": [
    "import warnings\n",
    "#warnings.filterwarnings(\"error\")\n",
    "#warnings.filterwarnings(\"default\")\n",
    "warnings.filterwarnings(\"ignore\")"
   ]
  },
  {
   "cell_type": "markdown",
   "metadata": {},
   "source": [
    "# Stefans plotting setup"
   ]
  },
  {
   "cell_type": "code",
   "execution_count": 4,
   "metadata": {},
   "outputs": [],
   "source": [
    "def figsize(scale):\n",
    "    fig_width_pt = 432.487                     # Get this from LaTeX using \\showthe\\textwidth\n",
    "    inches_per_pt = 1.0/72.27                       # Convert pt to inch\n",
    "    golden_mean = (np.sqrt(5.0)-1.0)/2.0            # Aesthetic ratio\n",
    "    # one plot\n",
    "    fig_width = fig_width_pt*inches_per_pt*scale    # width in inches\n",
    "    fig_height = fig_width*golden_mean              # height in inches\n",
    "    # splitted plots\n",
    "    #fig_width = fig_width_pt*inches_per_pt*0.4    # width in inches\n",
    "    #fig_height = fig_width*0.9 \n",
    "    fig_size = [fig_width,fig_height]\n",
    "    return fig_size\n",
    "\n",
    "# Use Latex Sans-Serif font and set other plot properties\n",
    "params = {\n",
    "    'text.usetex': True,\n",
    "    #'text.usetex': False,\n",
    "    'text.latex.unicode': True,\n",
    "    'figure.figsize': figsize(0.8), # default figsize\n",
    "    'axes.labelsize': 11, # LaTeX default is 10pt font. 11\n",
    "    'font.size': 11,\n",
    "    'legend.fontsize': 9, # Make the legend/label fonts a little smaller 9\n",
    "    'xtick.labelsize': 9,\n",
    "    'ytick.labelsize': 9,\n",
    "    'text.latex.preamble': [\n",
    "        r'\\usepackage{siunitx}',   # i need upright \\micro symbols, but you need...\n",
    "        r'\\sisetup{detect-all}',   # ...this to force siunitx to actually use your fonts\n",
    "        r'\\usepackage[version=4]{mhchem}',   # i need upright \\micro symbols, but you need...\n",
    "#        r'\\usepackage{helvet}',   # if you want to use helvetica\n",
    "#        r'\\usepackage[helvet]{sfmath}' # if you want to use helvetica\n",
    "        r'\\usepackage{lmodern}',\n",
    "        r'\\renewcommand*\\familydefault{\\sfdefault}' # Only if the base font of the document is to be sans serif\n",
    "        r'\\usepackage{sfmath}'\n",
    "        r'\\newcommand{\\dif}{\\mathop{}\\!\\mathrm{d}}' # differential d\n",
    "        ]\n",
    "    ,\n",
    "    'axes.linewidth': 1.0,\n",
    "    #'lines.linewidth': 1.0,\n",
    "    #'lines.markersize': 5.0,\n",
    "    #'lines.markeredgewidth': 0.1,\n",
    "    #'xtick.major.width': 1.0,\n",
    "    #'ytick.major.width': 1.0,\n",
    "    #'xtick.minor.width': 0.8,\n",
    "    #'ytick.minor.width': 0.8,\n",
    "    }\n",
    "mpl.rcParams.update(params)\n",
    "\n",
    "format_B_legend = '{:1.0f}'\n",
    "format_D_legend = '{:1.3f}'\n",
    "format_T_legend = '{:1.2f}'\n",
    "# Use Latex Sans-Serif font\n",
    "#plt.rcParams['text.latex.preamble'] = [\n",
    "#       r'\\usepackage{siunitx}',   # i need upright \\micro symbols, but you need...\n",
    "#       r'\\sisetup{detect-all}',   # ...this to force siunitx to actually use your fonts\n",
    "#       r'\\usepackage{helvet}',    # set the normal font here\n",
    "#       r'\\usepackage{sansmath}',  # load up the sansmath so that math -> helvet\n",
    "#       r'\\sansmath'               # <- tricky! -- gotta actually tell tex to use!\n",
    "#]\n",
    "#plt.rc('text', usetex=True)\n",
    "# Use non-Latex Sans-Serif font\n",
    "#params = {'text.usetex': False, 'mathtext.fontset': 'stixsans'}\n",
    "#plt.rcParams.update(params)"
   ]
  },
  {
   "cell_type": "markdown",
   "metadata": {
    "incorrectly_encoded_metadata": "toc-hr-collapsed=false"
   },
   "source": [
    "# Live Plotting"
   ]
  },
  {
   "cell_type": "markdown",
   "metadata": {},
   "source": [
    "### Quick Plotting"
   ]
  },
  {
   "cell_type": "markdown",
   "metadata": {},
   "source": [
    "#### Search and import file "
   ]
  },
  {
   "cell_type": "code",
   "execution_count": 69,
   "metadata": {},
   "outputs": [
    {
     "name": "stdout",
     "output_type": "stream",
     "text": [
      "//file/e24/Projects/FinleyLab/_IQPGroup/_SSPDs/Data/Diffusivity/Data_measured/Magnetic_field_tests/200610_B_sweep_1T_equalibration_time_down_02.txt\n",
      "Select from these columns:  ['t [s]', 'B_hall_meas [T]', 'B_curr_meas [T]', 'U_hall [V]']\n"
     ]
    }
   ],
   "source": [
    "%gui qt5\n",
    "default_path = '\\\\\\\\file\\\\e24\\\\Projects\\\\FinleyLab\\\\_IQPGroup\\\\_SSPDs\\\\Data\\\\Diffusivity'\n",
    "filename = PureWindowsPath(default_path)\n",
    "default_path = Path(filename)\n",
    "filename = QFileDialog.getOpenFileName(None, 'Import file', str(default_path),\"Text files (*.csv *.dat *.txt)\")\n",
    "print(filename[0])\n",
    "file_import = Path(filename[0])\n",
    "#quick_data = np.loadtxt(file_import, skiprows=1)\n",
    "quick_data = pd.read_csv(file_import, sep=r'\\t+\\s*', engine='python')\n",
    "quick_data.replace(['nan', 'None', 'NaN'], '', inplace=True)\n",
    "quick_data = quick_data.apply(pd.to_numeric)\n",
    "print('Select from these columns: ', list(quick_data)) # prints column names to be used in cell 'Plot'\n",
    "# a=quick_data.to_numpy()\n",
    "# print(a[a[:,0]>606])"
   ]
  },
  {
   "cell_type": "markdown",
   "metadata": {},
   "source": [
    "### Customizable plot"
   ]
  },
  {
   "cell_type": "code",
   "execution_count": 70,
   "metadata": {},
   "outputs": [
    {
     "data": {
      "application/vnd.jupyter.widget-view+json": {
       "model_id": "00d608730dec4671bf0d4b1938a4c0a3",
       "version_major": 2,
       "version_minor": 0
      },
      "text/plain": [
       "Canvas(toolbar=Toolbar(toolitems=[('Home', 'Reset original view', 'home', 'home'), ('Back', 'Back to previous …"
      ]
     },
     "metadata": {},
     "output_type": "display_data"
    }
   ],
   "source": [
    "%matplotlib widget\n",
    "\n",
    "# plot PDF\n",
    "#pdfname = 'H:\\\\Documents_H\\\\BA\\\\Schreiben\\\\Thesis_BA_Noah_Ploch\\\\Thesis\\\\figures\\\\Setup\\\\plot.pdf'\n",
    "#pdfname = 'C:\\\\Users\\\\Noah.Ploch\\\\OneDrive - Walter Schottky Institut\\\\Plots\\\\use\\\\200610_equalibration_test_up.pdf'\n",
    "pdfname = '\\\\\\\\file\\\\e24\\\\Projects\\\\FinleyLab\\\\_IQPGroup\\\\_SSPDs\\\\Data\\\\Diffusivity\\\\Data_evaluated\\\\Superconducting_magnet_tests\\\\' \\\n",
    "            '200610_holding_zero_tesla__file_1T_down_02.pdf'\n",
    "\n",
    "pdf = PdfPages(pdfname)\n",
    "\n",
    "\n",
    "fig=plt.figure()\n",
    "ax=fig.add_subplot(111)\n",
    "\n",
    "#fig, ax1 = plt.subplots()\n",
    "\n",
    "x_header = 't [s]' #'T_sample [K]'#'T_diode [K]'#'t [s]' # \n",
    "y1_header =  'B_curr_meas [T]'#'T_diode [K]'#'U_diode [V]'#'T_sample [K]'#'T_diode [K]'#'R_film [Ohm]' #\n",
    "y2_header = 'B_hall_meas [T]'#'T_sample [K]'#'R_film [Ohm]' # U_sample [V] \n",
    "\n",
    "y1_legend = r'determined from current'#r'PCB diode'\n",
    "y2_legend = r'determined with hall sonde'#r'sample diode'\n",
    "title = 'Cooldown Sample 200306: 20°C, 10.5%, 100nm'\n",
    "x_label = r'Time / \\si{\\second}'\n",
    "y_label =  r'Resistance / \\si{\\ohm}'\n",
    "\n",
    "#x_label =  r'Temperature / \\si{\\kelvin}'\n",
    "y2_label = r'Temperature / \\si{\\kelvin}'\n",
    "# x_label = r'Time / \\si{\\second}'\n",
    "y_label =  r'Magnetic field / \\si{\\tesla}'\n",
    "# y2_label = r'Error / \\si{\\percent}'\n",
    "\n",
    "# x_label = r'Voltage / \\si{\\volt}'\n",
    "# y_label =  r'Time / \\si{\\second}'\n",
    "marker = '-'\n",
    "# x_header = 't [s]'\n",
    "# y1_header = 'T_diode [K]'#'R_film [Ohm]' # U_diode [V]\n",
    "# y2_header = 'T_sample [K]' # U_sample [V] \n",
    "\n",
    "# y1_legend = r'PCB diode'\n",
    "# y2_legend = r'sample diode'\n",
    "# title = 'Cooldown Sample 200306: 20°C, 10.5%, 100nm'\n",
    "# x_label = r'Time / \\si{\\second}'\n",
    "# y_label =  r'Temperature / \\si{\\kelvin}'\n",
    "# marker = '-'\n",
    "\n",
    "# # quick_data.as_matrix(columns=[x])\n",
    "# #plt.plot(quick_data[[x_header]].to_numpy(), quick_data[[y1_header]].to_numpy(), marker)\n",
    "# color = plt.rcParams['axes.prop_cycle'].by_key()['color']\n",
    "# ax1.set_ylabel(y_label, color=color[0])\n",
    "# ax1.plot(quick_data[[x_header]].to_numpy(), abs(quick_data[[y1_header]].to_numpy()), marker, color=color[0])\n",
    "# #plt.plot(quick_data[[x_header]].to_numpy(), quick_data[[y1_header]].to_numpy(), marker, label=y1_legend)\n",
    "# ax1.tick_params(axis='y', labelcolor=color[0])\n",
    "# #ax1.set_ylim(40,90)\n",
    "# #ax1.set_ylim(-40,125)\n",
    "# ax2 = ax1.twinx()\n",
    "\n",
    "# ax2.set_ylabel(y2_label, color=color[1])\n",
    "# ax2.plot(quick_data[[x_header]].to_numpy(), quick_data[[y2_header]].to_numpy(), marker, color=color[1])\n",
    "# #plt.plot(quick_data[[x_header]].to_numpy(), quick_data[[y2_header]].to_numpy(), marker, label=y2_legend)\n",
    "# ax2.tick_params(axis='y', labelcolor=color[1])\n",
    "# #ax2.set_ylim(8.7,9.7)\n",
    "# #ax2.set_ylim(5,7)\n",
    "# #ax2.set_ylim(7,8)\n",
    "\n",
    "\n",
    "# def linear_fit(x, y):\n",
    "#     def linear(x, m, t):\n",
    "#         return m*x + t\n",
    "#     slope = (y[-1]-y[0])/(x[-1]-x[0])\n",
    "#     y0_value = y[1]-slope*x[1]\n",
    "#     popt, pcov = curve_fit(linear, x, y, p0=[slope, y0_value])\n",
    "#     parameters = {\"slope\":popt[0], \"y0_value\":popt[1], \"cov\":pcov}\n",
    "#     x_dat = np.arange(-1, np.max(x), 1e-4)\n",
    "#     Rlinear = linear(x_dat, *popt)\n",
    "#     #plt.plot(T, Rlinear)\n",
    "#     return [parameters, [x_dat, Rlinear]]\n",
    "# # x=[0, 2, 4, 8]\n",
    "# # y=[8151, 6597, 4560, 2067]\n",
    "# x=[1,2,3,4,5]; y1=[-8,-9,-11,-15, -20]\n",
    "# a=linear_fit(x,y1)\n",
    "# plt.plot(x, y1, marker)\n",
    "# plt.plot(a[1][0], a[1][1], '-')\n",
    "\n",
    "# plot Tc-methods\n",
    "# xlimits = (10.2,12.1)\n",
    "# color = plt.rcParams['axes.prop_cycle'].by_key()['color']\n",
    "# dl = np.array([quick_data[[x_header]].to_numpy(), quick_data[[y1_header]].to_numpy()]).transpose()\n",
    "# #print(dl)\n",
    "# temp_data_Tc = []\n",
    "# for i in dl[0]:\n",
    "#     if np.isnan(np.sum(i))==False:\n",
    "#         temp_data_Tc.append(i)\n",
    "#         #print(i)\n",
    "#     else: pass\n",
    "# #print(temp_data_Tc)\n",
    "# dl = np.array(temp_data_Tc)\n",
    "# x=dl[:,0]\n",
    "# y1=dl[:,1]\n",
    "# plt.plot(x, y1, marker, ms=1.5, mew=0, color=color[0])#label=y1_legend\n",
    "# RNC=np.max(y1)\n",
    "# RSC=np.min(y1)\n",
    "# T1 = x[bisect_left(y1, 0.1*RNC)]\n",
    "# T2 = x[bisect_left(y1, 0.9*RNC)]\n",
    "# R1 = y1[bisect_left(y1, 0.1*RNC)]\n",
    "# R2 = y1[bisect_left(y1, 0.9*RNC)]\n",
    "# T05= x[bisect_left(y1, RNC/2)] \n",
    "# R05= y1[bisect_left(y1, RNC/2)]\n",
    "# print(np.sum(np.isnan(x)))\n",
    "# print(RNC, RSC, T1, T2)\n",
    "# ax.hlines(R05,8,T05, color='black', linewidth=1, ls='dashed', alpha=0.8)\n",
    "# ax.hlines(R1,8,T1, color='black', linewidth=1, ls='dashed', alpha=0.8)\n",
    "# ax.hlines(R2,8,T2, color='black', linewidth=1, ls='dashed', alpha=0.8)\n",
    "# plt.text(10.25, R05+0.1, r'$R = 0.5R_\\text{nc}$')\n",
    "# plt.text(10.25, R1+0.1, r'$R = 0.1R_\\text{nc}$')\n",
    "# plt.text(10.25, R2+0.1, r'$R = 0.9R_\\text{nc}$')\n",
    "\n",
    "# ax.vlines(T1, 0, R1, color=color[2], linewidth=1, ls='dashed', alpha=1)\n",
    "# ax.vlines(T2, 0, R2, color=color[2], linewidth=1, ls='dashed', alpha=1)\n",
    "\n",
    "# ax.vlines(T05, 0, R05, color=color[1], linewidth=1, ls='-', alpha=1, label = r'R50 method')\n",
    "# ax.vlines((T2+T1)/2, 0, 18.2, color=color[2], alpha=1, linewidth=1, ls='-', label = r'R90/10 method')\n",
    "\n",
    "# ax.vlines(T1, R1, 23.3, color='black', linewidth=0.8, ls='dashed', alpha=1)\n",
    "# ax.vlines(T2, R2, 23.3, color='black', linewidth=0.8, ls='dashed', alpha=1)\n",
    "# ax.hlines(22.5,T1,T2, color=color[4], linewidth=1, label = r'$\\Delta T_\\text{c} = \\SI{'+format_T_legend.format(T2-T1)+r'}{\\kelvin}$')\n",
    "\n",
    "# normal plotting of quickdata\n",
    "plt.plot(quick_data[[x_header]].to_numpy(), quick_data[[y1_header]].to_numpy(), marker, ms=1, mew=0, label=y1_legend)\n",
    "plt.plot(quick_data[[x_header]].to_numpy(), quick_data[[y2_header]].to_numpy(), marker, ms=1, mew=0, label=y2_legend)\n",
    "#plt.plot(quick_data[[x_header]].to_numpy(), quick_data[[y1_header]].to_numpy(), marker, ms=2, mew=0)#label=y1_legend\n",
    "#plt.plot(quick_data[[x_header]].to_numpy(), quick_data[[y2_header]].to_numpy(), marker,ms=1, mew=0, label=y2_legend)\n",
    "#plt.plot(quick_data[[y2_header]].to_numpy(), marker, label=y2_legend)\n",
    "#plt.plot(t, abs((Td-Ts)/Ts), '-', label=\"diode-sample error\")\n",
    "ax.tick_params(direction='in', bottom=True, top=True, left=True, right=True)\n",
    "legend = ax.legend(loc='best', markerscale=3, handletextpad=0.8, handlelength=0.9, labelspacing=0.5, frameon=False, columnspacing=1)\n",
    "# legend.get_frame().set_linewidth(0.0)\n",
    "#plt.title(title)\n",
    "#ax1.set_xlabel(x_label)\n",
    "plt.xlabel(x_label)\n",
    "plt.xlim(55,150)\n",
    "plt.ylim(-0.005,0.005)\n",
    "#plt.xlim(130,300)\n",
    "#plt.xlim(610,640)\n",
    "#plt.xlim(2700,3300)\n",
    "#plt.xlim(11.2,11.5)\n",
    "#plt.xlim(xlimits)\n",
    "plt.ylabel(y_label)\n",
    "\n",
    "\n",
    "# plot widget\n",
    "# fig.canvas.layout.width = '7in'\n",
    "# fig.canvas.layout.height= '6in'\n",
    "\n",
    "#plot PDF\n",
    "plt.tight_layout()\n",
    "pdf.savefig(bbox_inches='tight')\n",
    "pdf.close()\n",
    "\n"
   ]
  },
  {
   "cell_type": "markdown",
   "metadata": {},
   "source": [
    "## Plotting with error bar"
   ]
  },
  {
   "cell_type": "markdown",
   "metadata": {},
   "source": [
    "### Search and import file"
   ]
  },
  {
   "cell_type": "code",
   "execution_count": 7,
   "metadata": {},
   "outputs": [
    {
     "name": "stdout",
     "output_type": "stream",
     "text": [
      "C:/Users/Noah.Ploch/OneDrive - Walter Schottky Institut/Documents_Noah_OD/Working_student/Post_evaluation_diffusivity_until0420/Txt/table_cond_res_ox3.115.txt\n",
      "Select from these columns:  ['Date', 'Name', 'Postfix', 'T(R_4W_20K)', 'R_4W_20K', 'R_sheet', 'd (nm)', 'T_s', 'ratio', 'conductivity [1/(Ohm*cm)]', 'resistivity [uOhm*cm]', 'conductivity [1/(Ohm*cm)] oxide', 'resistivity [uOhm*cm] oxide', 'diffusivity [cm^2/s]', 'Error_con', 'Error_res', 'Error_con_ox', 'Error_res_ox', 'Error_diff', 'Error_thick']\n"
     ]
    }
   ],
   "source": [
    "%gui qt5\n",
    "default_path = '\\\\\\\\file\\\\e24\\\\Projects\\\\FinleyLab\\\\_IQPGroup\\\\_SSPDs\\\\Data\\\\Diffusivity'\n",
    "filename = PureWindowsPath(default_path)\n",
    "default_path = Path(filename)\n",
    "filename = QFileDialog.getOpenFileName(None, 'Import file', str(default_path),\"Text files (*.csv *.dat *.txt)\")\n",
    "print(filename[0])\n",
    "file_import = Path(filename[0])\n",
    "#quick_data = np.loadtxt(file_import, skiprows=1)\n",
    "quick_data = pd.read_csv(file_import, sep=r'\\t+\\s*', engine='python', decimal=',')\n",
    "#print(quick_data)\n",
    "quick_data.replace(['nan', 'None', 'NaN'], '', inplace=True)\n",
    "#quick_data = quick_data.apply(pd.to_numeric)\n",
    "print('Select from these columns: ', list(quick_data)) # prints column names to be used in cell 'Plot'"
   ]
  },
  {
   "cell_type": "markdown",
   "metadata": {},
   "source": [
    "### Prepare data"
   ]
  },
  {
   "cell_type": "code",
   "execution_count": 8,
   "metadata": {},
   "outputs": [],
   "source": [
    "x_header = 'diffusivity [cm^2/s]'#'d (nm)'#'conductivity [1/(Ohm*cm)]' \n",
    "y1_header =  'resistivity [uOhm*cm] oxide'# 'resistivity [uOhm*cm]'#     #'resistivity [uOhm*cm] oxide' 'conductivity [1/(Ohm*cm)] oxide'  #'conductivity [1/(Ohm*cm)]'#\n",
    "x_error =  'Error_diff'# 'Error_thick'#'Error_con'\n",
    "y1_error = 'Error_res'#'Error_con', 'Error_res', 'Error_con_ox', 'Error_res_ox'\n",
    "\n",
    "title = 'Cooldown Sample 200306: 20°C, 10.5%, 100nm'\n",
    "# x_label = r'Diffusivity / \\si{\\cm^2\\per\\second}'#r'Thickness / \\si{\\nano\\meter}'\n",
    "# y_label =  r'Conductivity / \\si{\\per\\ohm\\per\\cm}' #\n",
    "\n",
    "x_label = r'$\\log_{10}(\\text{Diffusivity / \\si{\\cm^2\\per\\second}})$'\n",
    "y_label = r'$\\log_{10}(\\text{Resistivity / \\si{\\micro\\ohm\\cm}})$'\n",
    "\n",
    "\n",
    "# x_label = r'Thickness / \\si{\\nano\\meter}'\n",
    "# y_label = r'Conductivity / \\si{\\per\\ohm\\per\\cm}'\n",
    "\n",
    "marker = 's'\n",
    "\n",
    "#quick_data = quick_data[quick_data.ratio.isin([0.105])]\n",
    "#quick_data = quick_data[quick_data['d (nm)'].isin([~100])]\n",
    "\n",
    "# wahl der richtigen Columns\n",
    "plot_data = quick_data[['T_s', 'd (nm)', x_header, y1_header, x_error, y1_error]].apply(pd.to_numeric)\n",
    "T=[20,100,400]\n",
    "\n",
    "# Wahl der xrd_datenpunkte\n",
    "data_filter_XRD = quick_data[quick_data['Name'].isin(['200215_A', '200117_A', '200206_A'])]\n",
    "data_filter_XRD = data_filter_XRD[[x_header, y1_header, x_error, y1_error]].apply(pd.to_numeric)\n",
    "\n",
    "# wahl der 4nm datenpunkte\n",
    "data_filter_4nm = quick_data[quick_data['d (nm)'].isin([4])]\n",
    "data_filter_4nm = data_filter_4nm[[x_header, y1_header, x_error, y1_error]].apply(pd.to_numeric)\n",
    "\n",
    "data_plotting = [plot_data, data_filter_XRD, data_filter_4nm]\n",
    "#data_plotting= [plot_data[plot_data['T_s'].isin([t])] for t in T]\n",
    "#print(data_plotting)\n",
    "\n",
    "legend_plotting = [r'Film not XRD-measured', r'Film XRD-measured', r'derived from film with $d=\\SI{4}{\\nano\\meter}$', r'slope of fit: ']\n",
    "#legend_plotting = [r'$T_\\text{s} = \\SI{20}{\\celsius}$', r'$T_\\text{s} = \\SI{100}{\\celsius}$', r'$T_\\text{s} = \\SI{400}{\\celsius}$']"
   ]
  },
  {
   "cell_type": "markdown",
   "metadata": {},
   "source": [
    "### Plotting"
   ]
  },
  {
   "cell_type": "code",
   "execution_count": 15,
   "metadata": {},
   "outputs": [
    {
     "data": {
      "application/vnd.jupyter.widget-view+json": {
       "model_id": "c3210cab8bd14ae9ae78781c064c5e74",
       "version_major": 2,
       "version_minor": 0
      },
      "text/plain": [
       "Canvas(toolbar=Toolbar(toolitems=[('Home', 'Reset original view', 'home', 'home'), ('Back', 'Back to previous …"
      ]
     },
     "metadata": {},
     "output_type": "display_data"
    }
   ],
   "source": [
    "%matplotlib widget\n",
    "\n",
    "# plot PDF\n",
    "pdfname = 'H:\\\\Documents_H\\\\BA\\\\Schreiben\\\\Thesis_BA_Noah_Ploch\\\\Thesis\\\\figures\\\\Setup\\\\plot.pdf'\n",
    "pdfname = 'C:\\\\Users\\\\Noah.Ploch\\\\OneDrive - Walter Schottky Institut\\\\Documents_Noah_OD\\\\Working_student\\\\Post_evaluation_diffusivity_until0420\\\\'\\\n",
    "            'Resistivity_vs_diff_log_ox_3.115nm_success_scaled_4nm_and_all.pdf'\n",
    "\n",
    "pdf = PdfPages(pdfname)\n",
    "\n",
    "fig=plt.figure()\n",
    "ax=fig.add_subplot(111)\n",
    "\n",
    "for i,j in zip(data_plotting, legend_plotting):\n",
    "    x_val = i[[x_header]].to_numpy()\n",
    "    y_val = i[[y1_header]].to_numpy()\n",
    "    x_er = i[[x_error]].to_numpy()\n",
    "    y_er = i[[y1_error]].to_numpy()\n",
    "    \n",
    "#     y_val = 1/i[[x_header]].to_numpy()\n",
    "#     x_val = i[[y1_header]].to_numpy()\n",
    "#     plt.plot(x_val, y_val, 'o', ms=2, label=j)\n",
    "#     ax.errorbar(x_val, y_val, xerr=x_er, yerr=y_er,\\\n",
    "#     fmt='o', elinewidth=0.6, capsize=1.5, capthick=0.6, ms=2, label=j) #ms=2, mew=0\n",
    "\n",
    "    \n",
    "plot_data_no_4nm = plot_data.loc[plot_data['d (nm)'] != 4]\n",
    "\n",
    "# Berechne Geraden für alle DP und DP ohne 4nm\n",
    "# p,V = np.polyfit(plot_data[[x_header]].to_numpy().ravel(), plot_data[[y1_header]].to_numpy().ravel(), 1, cov=True)\n",
    "# p2,V2 = np.polyfit(plot_data_no_4nm[[x_header]].to_numpy().ravel(), plot_data_no_4nm[[y1_header]].to_numpy().ravel(), 1, cov=True)\n",
    "\n",
    "# Berechne Geraden aus logarithmierten Daten für alle DP und DP ohne 4nm\n",
    "p_log_res,V = np.polyfit(np.log10(plot_data[[x_header]].to_numpy().ravel()), np.log10(plot_data[[y1_header]].to_numpy().ravel()), 1, cov=True)\n",
    "p2_log_res,V2 = np.polyfit(np.log10(plot_data_no_4nm[[x_header]].to_numpy().ravel()), np.log10(plot_data_no_4nm[[y1_header]].to_numpy().ravel()), 1, cov=True)\n",
    "\n",
    "# Für die Legende\n",
    "slope = p_log_res[0]\n",
    "slope_red = p2_log_res[0]\n",
    "\n",
    "# Plotting von logarithmierten Daten und passendes Geraden-fitting\n",
    "ax.plot(np.log10(plot_data[[x_header]].to_numpy().ravel()),  np.log10(plot_data[[y1_header]].to_numpy().ravel()), 'o', label=r'derived from film with $d=\\SI{4}{\\nano\\meter}$')\n",
    "ax.plot(np.log10(plot_data[[x_header]].to_numpy().ravel()), np.polyval(p_log_res, np.log10(plot_data[[x_header]].to_numpy().ravel())), '-', label=legend_plotting[-1]+format_T_legend.format(np.round(slope, 2)))\n",
    "\n",
    "ax.plot(np.log10(plot_data_no_4nm[[x_header]].to_numpy().ravel()),  np.log10(plot_data_no_4nm[[y1_header]].to_numpy().ravel()), 'o')\n",
    "ax.plot(np.log10(plot_data_no_4nm[[x_header]].to_numpy().ravel()), np.polyval(p2_log_res, np.log10(plot_data_no_4nm[[x_header]].to_numpy().ravel())), '-', label=legend_plotting[-1]+format_T_legend.format(np.round(slope_red, 2)))\n",
    "\n",
    "# plotting for conductivity\n",
    "# ax.plot(plot_data[[x_header]].to_numpy(), np.polyval(p, plot_data[[x_header]].to_numpy()), '-', label=legend_plotting[-1]+format_T_legend.format(np.round(slope, 2)))\n",
    "# ax.plot(plot_data_no_4nm[[x_header]].to_numpy(), np.polyval(p2, plot_data_no_4nm[[x_header]].to_numpy()), '-', label=legend_plotting[-1]+format_T_legend.format(np.round(slope_red, 2)))\n",
    "\n",
    "# plotting for resisitivity mit log_scale (nicht funktionasfähig, bugs)\n",
    "# ax.plot(plot_data[[x_header]].to_numpy(), np.polyval(p_log_res, plot_data[[x_header]].to_numpy()), '-', label=legend_plotting[-1]+format_T_legend.format(np.round(slope, 2)))\n",
    "# ax.plot(plot_data_no_4nm[[x_header]].to_numpy(), np.polyval(p2_log_res, plot_data_no_4nm[[x_header]].to_numpy()), '-', label=legend_plotting[-1]+format_T_legend.format(np.round(slope_red, 2)))\n",
    "\n",
    "handles, labels = plt.gca().get_legend_handles_labels()\n",
    "order = [2,3,0,1]\n",
    "order=[0,1,2]\n",
    "ax.tick_params(direction='in', bottom=True, top=True, left=True, right=True)\n",
    "legend = ax.legend([handles[idx] for idx in order],[labels[idx] for idx in order], loc='lower left', markerscale=1, handletextpad=0.8, handlelength=0.9, labelspacing=0.5, frameon=False, columnspacing=1)\n",
    "# legend.get_frame().set_linewidth(0.0)\n",
    "#plt.title(title)\n",
    "#ax1.set_xlabel(x_label)\n",
    "# ax.set_yscale('log')\n",
    "# ax.set_xscale('log')\n",
    "plt.xlabel(x_label)\n",
    "plt.ylabel(y_label)\n",
    "\n",
    "# plt.xlim(0.27,0.78)\n",
    "# plt.ylim(-30, 6500)\n",
    "\n",
    "# plt.xlim(0.27,0.78)\n",
    "plt.ylim(1.9,2.45)\n",
    "\n",
    "#plot PDF\n",
    "plt.tight_layout()\n",
    "pdf.savefig(bbox_inches='tight')\n",
    "pdf.close()"
   ]
  },
  {
   "cell_type": "markdown",
   "metadata": {},
   "source": [
    "## Multiple Traces"
   ]
  },
  {
   "cell_type": "markdown",
   "metadata": {},
   "source": [
    "#### Search and import files"
   ]
  },
  {
   "cell_type": "code",
   "execution_count": 5,
   "metadata": {},
   "outputs": [
    {
     "name": "stdout",
     "output_type": "stream",
     "text": [
      "//file/e24/Projects/FinleyLab/_IQPGroup/_SSPDs/Data/Diffusivity/Data_measured/Film resistance vs temperature/200318_200302A_film_vs_temp_Tc_sweep_0T.txt\n",
      "Select from these columns:  ['t [s]', 'T_diode [K]', 'T_sample [K]', 'U_diode [V]', 'U_sample [V]', 'R_film [Ohm]']\n",
      "//file/e24/Projects/FinleyLab/_IQPGroup/_SSPDs/Data/Diffusivity/Data_measured/Film resistance vs temperature/200318_200302A_film_vs_temp_Tc_sweep_constant0.66mT.txt\n",
      "Select from these columns:  ['t [s]', 'T_diode [K]', 'T_sample [K]', 'U_diode [V]', 'U_sample [V]', 'R_film [Ohm]']\n",
      "//file/e24/Projects/FinleyLab/_IQPGroup/_SSPDs/Data/Diffusivity/Data_measured/Film resistance vs temperature/200318_200302A_film_vs_temp_Tc_sweep_constant1.17mT.txt\n",
      "Select from these columns:  ['t [s]', 'T_diode [K]', 'T_sample [K]', 'U_diode [V]', 'U_sample [V]', 'R_film [Ohm]']\n",
      "//file/e24/Projects/FinleyLab/_IQPGroup/_SSPDs/Data/Diffusivity/Data_measured/Film resistance vs temperature/200318_200302A_film_vs_temp_Tc_sweep_constant10.2mT.txt\n",
      "Select from these columns:  ['t [s]', 'T_diode [K]', 'T_sample [K]', 'U_diode [V]', 'U_sample [V]', 'R_film [Ohm]']\n",
      "//file/e24/Projects/FinleyLab/_IQPGroup/_SSPDs/Data/Diffusivity/Data_measured/Film resistance vs temperature/200318_200302A_film_vs_temp_Tc_sweep_constant100.3mT.txt\n",
      "Select from these columns:  ['t [s]', 'T_diode [K]', 'T_sample [K]', 'U_diode [V]', 'U_sample [V]', 'R_film [Ohm]']\n"
     ]
    }
   ],
   "source": [
    "%gui qt5\n",
    "default_path = '\\\\\\\\file\\\\e24\\\\Projects\\\\FinleyLab\\\\_IQPGroup\\\\_SSPDs\\\\Data\\\\Diffusivity\\\\Data_evaluated'\n",
    "filename = PureWindowsPath(default_path)\n",
    "default_path = Path(filename)\n",
    "filename = QFileDialog.getOpenFileNames(None, 'Import file', str(default_path),\"Text files (*.csv *.dat *.txt)\")\n",
    "filename = filename[0]\n",
    "#print(filename)\n",
    "quick_data = []\n",
    "for i in filename:\n",
    "    print(i)\n",
    "    data = pd.read_csv(Path(i), sep=r'\\t+\\s*', engine='python')\n",
    "    data.replace(['nan', 'None', 'NaN'], '', inplace=True)\n",
    "    data = data.apply(pd.to_numeric)\n",
    "    quick_data.append(data)\n",
    "    print('Select from these columns: ', list(data)) # prints column names to be used in cell 'Plot'"
   ]
  },
  {
   "cell_type": "markdown",
   "metadata": {},
   "source": [
    "#### Plot"
   ]
  },
  {
   "cell_type": "code",
   "execution_count": 10,
   "metadata": {
    "lines_to_next_cell": 2
   },
   "outputs": [
    {
     "data": {
      "application/vnd.jupyter.widget-view+json": {
       "model_id": "93fa232a0188430ea3ba99a7f94daae0",
       "version_major": 2,
       "version_minor": 0
      },
      "text/plain": [
       "Canvas(toolbar=Toolbar(toolitems=[('Home', 'Reset original view', 'home', 'home'), ('Back', 'Back to previous …"
      ]
     },
     "metadata": {},
     "output_type": "display_data"
    }
   ],
   "source": [
    "%matplotlib widget\n",
    "\n",
    "fig=plt.figure()\n",
    "ax=fig.add_subplot(111)\n",
    "\n",
    "# plot PDF\n",
    "pdfname = 'C:\\\\Users\\\\Noah.Ploch\\\\OneDrive - Walter Schottky Institut\\Documents_Noah_OD\\\\BA\\\\Schreiben\\\\'\\\n",
    "          'Thesis_BA_Noah_Ploch\\\\Thesis\\\\figures\\\\Results_Properties\\\\Heating_comparison_0V_to_8V_2.pdf'\n",
    "#path_0T = '\\\\\\\\file\\\\e24\\\\Projects\\\\FinleyLab\\\\_IQPGroup\\\\_SSPDs\\\\Data\\\\Diffusivity\\\\Data_evaluated\\\\Tc_sweeps\\\\from_0T_sweeps' + '\\\\test_sweep_comparison_magnetic_field_influence'\n",
    "#path_0T = '\\\\\\\\file\\\\e24\\\\Projects\\\\FinleyLab\\\\_IQPGroup\\\\_SSPDs\\\\Data\\\\Diffusivity\\\\Data_evaluated'\n",
    "#pdfname = path_0T + '\\\\' + '200318_temperatureovertime_diode' + '.pdf'\n",
    "pdfname = 'C:\\\\Users\\\\Noah.Ploch\\\\OneDrive - Walter Schottky Institut\\\\Plots\\\\use\\\\remanesc_field.pdf'\n",
    "pdf = PdfPages(pdfname)\n",
    "\n",
    "x_header = 'T_sample [K]'# 't [s]'#'raw_T' #\n",
    "y1_header = 'R_film [Ohm]'#'T_sample [K]'#'raw_B' #'TS_diode[K]'#'T_diode [K]'\n",
    "y2_header = 'T_diode [K]'# 'T_sample [K]'#\n",
    "\n",
    "#y1_legend = [r'1 (First meas)', r'2 (after weekend)', r'3 (directly after 2)', r'4 (after 3 with removal)']\n",
    "#y1_legend = ['4T Sweep','1T Sweep']\n",
    "y1_legend = [r'$\\SI{0}{\\milli\\tesla}$', r'$\\SI{0.66}{\\milli\\tesla}$', r'$\\SI{1.17}{\\milli\\tesla}$', r'$\\SI{10.2}{\\milli\\tesla}$', r'$\\SI{100.3}{\\milli\\tesla}$', r'$\\SI{0}{\\tesla}$ r1', r'$\\SI{0}{\\tesla}$ r2', r'$\\SI{0}{\\tesla}$ r3']\n",
    "y2_legend = 'sample temperature'\n",
    "y2_legend = [r'$\\SI{0}{\\volt}$', r'$\\SI{2}{\\volt}$', r'$\\SI{4}{\\volt}$', r'$\\SI{8}{\\volt}$']\n",
    "title = 'Longterm sample temperature stability'\n",
    "#x_label = r'Temperature / \\si{\\kelvin}'\n",
    "#y_label =  r'critical magnetic field / \\si{\\tesla}'\n",
    "x_label = r'Temperature / \\si{\\kelvin}'\n",
    "y_label =  r'Resistance / \\si{\\ohm}'\n",
    "\n",
    "#y_label = r'Resistance / \\si{\\ohm}'\n",
    "marker = '-'\n",
    "\n",
    "x_offset = [940, 108, 100, 780]\n",
    "x_offset = [940, 100, 100, 780]\n",
    "\n",
    "# j=0\n",
    "# for i in range(len(quick_data)):\n",
    "#  #   plt.plot(quick_data[i][[x_header]].to_numpy()-x_offset[i], quick_data[i][[y1_header]].to_numpy(), marker, label=y1_legend)\n",
    "#     x=quick_data[i][[x_header]].to_numpy()\n",
    "#     y=quick_data[i][[y2_header]].to_numpy()\n",
    "#     plt.plot(x[x>=x_offset[i]]-x_offset[i], y[x>=x_offset[i]], marker, label=y2_legend[j])\n",
    "#     #plt.plot(x, y, marker, label=y2_legend[j])\n",
    "#     j+=1\n",
    "j=0\n",
    "for i in quick_data:\n",
    "    if j==70:\n",
    "        plt.plot(i[[x_header]].to_numpy()-x_offset[3], i[[y2_header]].to_numpy(), marker, label = y1_legend[j])\n",
    "    else:   \n",
    "        #plt.plot(i[[x_header]].to_numpy(), i[[y1_header]].to_numpy(), marker, label=y1_legend[j])\n",
    "        color = plt.rcParams['axes.prop_cycle'].by_key()['color'][j]\n",
    "        #plt.plot(i[[x_header]].to_numpy(), i[[y1_header]].to_numpy(), marker, label = y1_legend[j], color=color)\n",
    "        plt.plot(i[[x_header]].to_numpy(), i[[y1_header]].to_numpy(), marker, color=color, label = y1_legend[j])\n",
    "    j+=1\n",
    "ax.tick_params(direction='in', bottom=True, top=True, left=True, right=True)\n",
    "legend = ax.legend(loc='lower right', handlelength=2.5, labelspacing=0.5, frameon=False, columnspacing=1)\n",
    "legend.get_frame().set_linewidth(0.0)\n",
    "#plt.title(title)\n",
    "plt.xlabel(x_label)\n",
    "plt.ylabel(y_label)\n",
    "plt.xlim(8.5, 9.8)\n",
    "# plt.ylim(6,15)\n",
    "# plot widget\n",
    "# fig.canvas.layout.width = '7in'\n",
    "# fig.canvas.layout.height= '6in'\n",
    "\n",
    "#plot PDF\n",
    "plt.tight_layout()\n",
    "pdf.savefig(bbox_inches='tight')\n",
    "pdf.close()"
   ]
  },
  {
   "cell_type": "markdown",
   "metadata": {},
   "source": [
    "### Calculate Temperature flucutations"
   ]
  },
  {
   "cell_type": "code",
   "execution_count": 70,
   "metadata": {
    "lines_to_next_cell": 2
   },
   "outputs": [
    {
     "data": {
      "application/vnd.jupyter.widget-view+json": {
       "model_id": "",
       "version_major": 2,
       "version_minor": 0
      },
      "text/plain": [
       "Canvas(toolbar=Toolbar(toolitems=[('Home', 'Reset original view', 'home', 'home'), ('Back', 'Back to previous …"
      ]
     },
     "metadata": {},
     "output_type": "display_data"
    }
   ],
   "source": [
    "%matplotlib widget\n",
    "\n",
    "fig=plt.figure()\n",
    "ax=fig.add_subplot(111)\n",
    "\n",
    "# plot PDF\n",
    "pdfname = 'C:\\\\Users\\\\Noah.Ploch\\\\OneDrive - Walter Schottky Institut\\Documents_Noah_OD\\\\BA\\\\Schreiben\\\\'\\\n",
    "          'Thesis_BA_Noah_Ploch\\\\Thesis\\\\figures\\\\Results_Properties\\\\heat_fluct.pdf'\n",
    "#path_0T = '\\\\\\\\file\\\\e24\\\\Projects\\\\FinleyLab\\\\_IQPGroup\\\\_SSPDs\\\\Data\\\\Diffusivity\\\\Data_evaluated\\\\Tc_sweeps\\\\from_0T_sweeps' + '\\\\test_sweep_comparison_magnetic_field_influence'\n",
    "#path_0T = '\\\\\\\\file\\\\e24\\\\Projects\\\\FinleyLab\\\\_IQPGroup\\\\_SSPDs\\\\Data\\\\Diffusivity\\\\Data_evaluated'\n",
    "#pdfname = path_0T + '\\\\' + '200318_temperatureovertime_diode' + '.pdf'\n",
    "pdf = PdfPages(pdfname)\n",
    "\n",
    "x_header = 't [s]'#'raw_T' #\n",
    "y1_header = 'T_sample [K]'#'T_diode [K]'#'R_film [Ohm]'#'T_sample [K]'#'raw_B' #'TS_diode[K]'#\n",
    "#y2_header = 'T_sample [K]'#'T_diode [K]'#\n",
    "\n",
    "#y1_legend = [r'1 (First meas)', r'2 (after weekend)', r'3 (directly after 2)', r'4 (after 3 with removal)']\n",
    "#y1_legend = ['4T Sweep','1T Sweep']\n",
    "#y1_legend = [r'$\\SI{0}{\\tesla}$', r'$\\SI{0.66}{\\tesla}$', r'$\\SI{1.17}{\\tesla}$', r'$\\SI{10.2}{\\tesla}$', r'$\\SI{100.3}{\\tesla}$', r'$\\SI{0}{\\tesla}$ r1', r'$\\SI{0}{\\tesla}$ r2', r'$\\SI{0}{\\tesla}$ r3']\n",
    "#y2_legend = 'sample temperature'\n",
    "y1_legend = [r'$\\SI{0}{\\volt}$', r'$\\SI{8}{\\volt}$', r'$\\SI{4}{\\volt}$', r'$\\SI{8}{\\volt}$']\n",
    "title = 'Longterm sample temperature stability'\n",
    "#x_label = r'Temperature / \\si{\\kelvin}'\n",
    "#y_label =  r'critical magnetic field / \\si{\\tesla}'\n",
    "x_label = r'Time / \\si{\\second}'\n",
    "y_label =  r'Temperature / \\si{\\kelvin}'\n",
    "\n",
    "#y_label = r'Resistance / \\si{\\ohm}'\n",
    "marker = '-'\n",
    "\n",
    "\n",
    "x_offset = [940, 0]\n",
    "x_2_off = [1747, 257]\n",
    "\n",
    "j=0\n",
    "for i in range(len(quick_data)):\n",
    " #   plt.plot(quick_data[i][[x_header]].to_numpy()-x_offset[i], quick_data[i][[y1_header]].to_numpy(), marker, label=y1_legend)\n",
    "    x=quick_data[i][[x_header]].to_numpy()\n",
    "    y=quick_data[i][[y1_header]].to_numpy()\n",
    "    x_2=x[x>=x_offset[i]]-x_offset[i]\n",
    "    y_2=y[x>=x_offset[i]]\n",
    "    x=x_2[y_2>=6.5]\n",
    "    y=y_2[y_2>=6.5] \n",
    "    x_f=x[x>=x_2_off[j]]-x_2_off[j]\n",
    "    y_f=y[x>=x_2_off[j]]\n",
    "    plt.plot(x_f, y_f, marker, label=y1_legend[j])\n",
    "    #plt.plot(x, y, marker, label=y2_legend[j])\n",
    "    j+=1\n",
    "\n",
    "ax.tick_params(direction='in', bottom=True, top=True, left=True, right=True)\n",
    "legend = ax.legend(loc='best', handlelength=2.5, labelspacing=0.5, frameon=False, columnspacing=1)\n",
    "legend.get_frame().set_linewidth(0.0)\n",
    "#plt.title(title)\n",
    "plt.xlabel(x_label)\n",
    "plt.ylabel(y_label)\n",
    "plt.xlim(-1, 60)\n",
    "plt.ylim(6.45,7)\n",
    "# plot widget\n",
    "# fig.canvas.layout.width = '7in'\n",
    "# fig.canvas.layout.height= '6in'\n",
    "\n",
    "#plot PDF\n",
    "plt.tight_layout()\n",
    "pdf.savefig(bbox_inches='tight')\n",
    "pdf.close()"
   ]
  },
  {
   "cell_type": "markdown",
   "metadata": {},
   "source": [
    "## Calculate temperature error"
   ]
  },
  {
   "cell_type": "code",
   "execution_count": 7,
   "metadata": {},
   "outputs": [],
   "source": [
    "%gui qt5\n",
    "default_path = '\\\\\\\\file\\\\e24\\\\Projects\\\\FinleyLab\\\\_IQPGroup\\\\_SSPDs\\\\Data\\\\Diffusivity\\\\Data_evaluated'\n",
    "filename = PureWindowsPath(default_path)\n",
    "default_path = Path(filename)\n",
    "filename = QFileDialog.getOpenFileNames(None, 'Import file', str(default_path),\"Text files (*.csv *.dat *.txt)\")\n",
    "filename = filename[0]\n",
    "#print(filename)\n",
    "quick_data = []\n",
    "for i in filename:\n",
    "    #print(i)\n",
    "    data = pd.read_csv(Path(i), sep=r'\\t+\\s*', engine='python')\n",
    "    data.replace(['nan', 'None', 'NaN'], '', inplace=True)\n",
    "    data = data.apply(pd.to_numeric)\n",
    "    data = data.to_numpy()\n",
    "    data = data[:,5]\n",
    "    #print(data)\n",
    "    quick_data.append(data)\n",
    "    #print('Select from these columns: ', list(data)) # prints column names to be used in cell 'Plot'"
   ]
  },
  {
   "cell_type": "code",
   "execution_count": 9,
   "metadata": {},
   "outputs": [
    {
     "data": {
      "text/plain": [
       "(0.0, 30.0)"
      ]
     },
     "execution_count": 9,
     "metadata": {},
     "output_type": "execute_result"
    },
    {
     "data": {
      "image/png": "[encoded data removed]",
      "text/plain": [
       "<Figure size 432x288 with 1 Axes>"
      ]
     },
     "metadata": {
      "needs_background": "light"
     },
     "output_type": "display_data"
    }
   ],
   "source": [
    "%matplotlib inline\n",
    "# %matplotlib widget\n",
    "# data_meas = np.array([])\n",
    "# for i in quick_data:\n",
    "#     data_meas = np.append(data_meas, i[i < 1.0])\n",
    "\n",
    "# print(any(data_meas[data_meas>=1.0]))\n",
    "# print(len(data_meas))\n",
    "# mean = np.mean(data_meas)\n",
    "# std = np.std(data_meas)\n",
    "# print(mean, std)\n",
    "x=[1.3, 1.32, 1.33, 1.34, 1.36, 1.37, 1.38, 1.4, 1.41, 1.42, 1.43, 1.44, 1.45, 1.46, 1.48, 1.49, 1.5, 1.51, 1.52, 1.53, 1.54, 1.55, 1.56, 1.57, 1.58, 1.59, 1.6, 1.61, 1.62, 1.63, 1.64, 1.65, 1.66, 1.67, 1.68, 1.69, 1.7, 1.71, 1.72, 1.73, 1.74, 1.75, 1.76, 1.77, 1.78, 1.79, 1.8, 1.81, 1.82, 1.83, 1.84, 1.85, 1.86, 1.87, 1.88, 1.89, 1.91, 1.92, 1.93, 1.94, 1.95, 1.96, 1.97, 1.98, 2.01, 2.02, 2.03, 2.05, 2.06, 2.08, 2.09, 2.12, 2.13, 2.17, 2.2, 2.21, 2.29, 2.3, 2.33, 2.36, 2.37, 2.39, 2.43, 2.44, 2.45, 2.46, 2.47, 2.48, 2.49, 2.5, 2.51, 2.52, 2.53, 2.55, 2.56, 2.57, 2.61, 2.79, 2.87, 2.9, 2.91, 2.92, 2.94, 2.96, 2.97]\n",
    "x=[1.37, 1.41, 1.42, 1.43, 1.45, 1.46, 1.47, 1.48, 1.49, 1.5, 1.51, 1.52, 1.53, 1.54, 1.55, 1.56, 1.57, 1.58, 1.59, 1.61, 1.66, 1.69, 1.96, 2.07, 2.11, 2.27, 3.01]\n",
    "\n",
    "n, bins, patches = plt.hist(x=x, bins=10, range=(0,4.11), color='#0504aa',\n",
    "                            alpha=0.7, rwidth=0.85)\n",
    "plt.grid(axis='y', alpha=0.75)\n",
    "plt.xlabel(r'Temperature / \\si{\\kelvin}')\n",
    "plt.ylabel('Frequency / counts')\n",
    "#plt.title('My Very Own Histogram')\n",
    "#plt.text(0.8, 0.8, r'$mean=' + '{:1.3f}'.format(np.round(mean, 3)) + ', std = ' + '{:1.3f}'.format(np.round(std, 3)), ha='right', va='top', transform=ax.transAxes)\n",
    "maxfreq = n.max()\n",
    "# Set a clean upper y-axis limit.\n",
    "plt.ylim(ymax=np.ceil(maxfreq / 10) * 10 if maxfreq % 10 else maxfreq + 10)"
   ]
  },
  {
   "cell_type": "markdown",
   "metadata": {},
   "source": [
    "## Calculate Calibration breakpoints for Cernox bare-chip\n",
    "The Cernox sensors are calibrated through breakpoint pairs of sensor value and temperature value. The sensor values must be expressed in log(Ohm). Here we take the temperature values of a calibrated sensor and compare them to the sensor values of an uncalibrated bare-chip. "
   ]
  },
  {
   "cell_type": "code",
   "execution_count": 22,
   "metadata": {},
   "outputs": [
    {
     "name": "stdout",
     "output_type": "stream",
     "text": [
      "//file/e24/Projects/FinleyLab/_IQPGroup/_SSPDs/Data/Calibration data/Temperature sensors/Cernox sensors/self_calibrated/calib_barechip_raw_data.txt\n",
      "Select from these columns:  ['T [K]', 'R [Ohm]']\n"
     ]
    }
   ],
   "source": [
    "%gui qt5\n",
    "default_path = '\\\\\\\\file\\\\e24\\\\Projects\\\\FinleyLab\\\\_IQPGroup\\\\_SSPDs\\\\Data\\\\Calibration data\\\\Temperature sensors\\\\Cernox sensors\\\\self_calibrated'\n",
    "filename = PureWindowsPath(default_path)\n",
    "default_path = Path(filename)\n",
    "filename = QFileDialog.getOpenFileName(None, 'Import file', str(default_path),\"Text files (*.csv *.dat *.txt)\")\n",
    "print(filename[0])\n",
    "file_import = Path(filename[0])\n",
    "#quick_data = np.loadtxt(file_import, skiprows=1)\n",
    "calib_data = pd.read_csv(file_import, sep=r'\\t\\s*', engine='python', decimal='.')\n",
    "#print(quick_data)\n",
    "#quick_data.replace(['nan', 'None', 'NaN'], '', inplace=True)\n",
    "#calib_data = calib_data.apply(pd.to_numeric)\n",
    "print('Select from these columns: ', list(calib_data)) # prints column names to be used in cell 'Plot'"
   ]
  },
  {
   "cell_type": "code",
   "execution_count": 29,
   "metadata": {},
   "outputs": [
    {
     "name": "stdout",
     "output_type": "stream",
     "text": [
      "2.475613084841581\n",
      "1.4558798371847255\n",
      "72011\n",
      "Value spacing:  0.005098666238284278\n",
      "191 191\n"
     ]
    }
   ],
   "source": [
    "#print(calib_data)\n",
    "Temperature_values = calib_data['T [K]']\n",
    "sensor_R_values = np.log10(calib_data['R [Ohm]'])\n",
    "#print(Temperature_values, sensor_R_values)\n",
    "\n",
    "T_list = [float(Temperature_values[0])]\n",
    "R_list = [sensor_R_values[0]]\n",
    "print(np.max(sensor_R_values))\n",
    "print(np.min(sensor_R_values))\n",
    "value_spacing = (np.max(sensor_R_values)-np.min(sensor_R_values))/200\n",
    "\n",
    "r_bef = sensor_R_values[0]\n",
    "#print(r_bef)\n",
    "i=0\n",
    "for t,r in zip(Temperature_values, sensor_R_values):\n",
    "    if (r_bef - r >= value_spacing) and r <= np.max(sensor_R_values):\n",
    "        T_list.append(float(t))\n",
    "        R_list.append(r)\n",
    "        r_bef=r\n",
    "    else: i+=1\n",
    "        \n",
    "print(i)\n",
    "    \n",
    "print(\"Value spacing: \", value_spacing)\n",
    "# plt.plot(Temperature_values, sensor_R_values)\n",
    "#print(T_list, R_list)\n",
    "print(len(T_list), len(R_list))\n",
    "\n",
    "path_calib = '\\\\\\\\file\\\\e24\\\\Projects\\\\FinleyLab\\\\_IQPGroup\\\\_SSPDs\\\\Data\\\\Calibration data\\\\Temperature sensors\\\\Cernox sensors\\\\self_calibrated\\\\Calibration_X000001.txt'\n",
    "Calib_dict = {'Units': ['%.5f' % round(i,5) for i in R_list[::-1]], 'Temperature (K)': ['%.3f' % round(i,5) for i in T_list[::-1]]} # change Tc, only raw data\n",
    "df = pd.DataFrame(Calib_dict)\n",
    "df.to_csv(Path(path_calib), sep=' ')"
   ]
  },
  {
   "cell_type": "markdown",
   "metadata": {},
   "source": [
    "### Plot calibration curves from xls file"
   ]
  },
  {
   "cell_type": "code",
   "execution_count": 22,
   "metadata": {},
   "outputs": [
    {
     "name": "stdout",
     "output_type": "stream",
     "text": [
      "//file/e24/Projects/FinleyLab/_IQPGroup/_SSPDs/Data/Diffusivity/Data_measured/Cernox sensor calibration/constant_warmup_0Vheat_1.4K_to_RT.xls\n",
      "Select from these columns:  ['Time', 'Input A', 'Input B']\n",
      "//file/e24/Projects/FinleyLab/_IQPGroup/_SSPDs/Data/Diffusivity/Data_measured/Cernox sensor calibration/constant_warmup_0Vheat_4.15K_to_20K_first_test.xls\n",
      "Select from these columns:  ['Time', 'Input A', 'Input B']\n",
      "//file/e24/Projects/FinleyLab/_IQPGroup/_SSPDs/Data/Diffusivity/Data_measured/Cernox sensor calibration/warmup_SD+BR_from_LT_constant pumping.xls\n",
      "Select from these columns:  ['Time', 'Input A', 'Input B']\n",
      "//file/e24/Projects/FinleyLab/_IQPGroup/_SSPDs/Data/Diffusivity/Data_measured/Cernox sensor calibration/warmup_SD+BR_from_LT_onlyShortHeFlooding.xls\n",
      "Select from these columns:  ['Time', 'Input A', 'Input B']\n"
     ]
    }
   ],
   "source": [
    "%gui qt5\n",
    "default_path = '\\\\\\\\file\\\\e24\\\\Projects\\\\FinleyLab\\\\_IQPGroup\\\\_SSPDs\\\\Data\\\\Diffusivity\\\\Data_measured\\\\Cernox sensor calibration\\\\'\n",
    "filename = PureWindowsPath(default_path)\n",
    "default_path = Path(filename)\n",
    "filename = QFileDialog.getOpenFileNames(None, 'Import file', str(default_path),\"XLS files (*.xlsx *.xls)\")\n",
    "filename = filename[0]\n",
    "#print(filename)\n",
    "calib_data2 = []\n",
    "for i in filename:\n",
    "    print(i)\n",
    "    calib_data_buf = pd.read_excel(i, header=3, usecols=(0,1,2))\n",
    "#     calib_data2.replace(['nan', 'None', 'NaN'], '', inplace=True)\n",
    "#     calib_data2 = data.apply(pd.to_numeric)\n",
    "    calib_data2.append(calib_data_buf)\n",
    "    print('Select from these columns: ', list(calib_data_buf)) # prints column names to be used in cell 'Plot'"
   ]
  },
  {
   "cell_type": "code",
   "execution_count": 24,
   "metadata": {},
   "outputs": [
    {
     "data": {
      "application/vnd.jupyter.widget-view+json": {
       "model_id": "dc2f0432f09f4f81a87ef2ecc220c9b1",
       "version_major": 2,
       "version_minor": 0
      },
      "text/plain": [
       "Canvas(toolbar=Toolbar(toolitems=[('Home', 'Reset original view', 'home', 'home'), ('Back', 'Back to previous …"
      ]
     },
     "metadata": {},
     "output_type": "display_data"
    }
   ],
   "source": [
    "%matplotlib widget\n",
    "\n",
    "fig=plt.figure()\n",
    "ax=fig.add_subplot(111)\n",
    "\n",
    "# plot PDF\n",
    "pdfname = '\\\\\\\\file\\\\e24\\\\Projects\\\\FinleyLab\\\\_IQPGroup\\\\_SSPDs\\\\Data\\\\Diffusivity\\\\Data_measured\\\\Cernox sensor calibration\\\\' \\\n",
    "          '\\\\plots\\\\plot_all_4_calib_curves.pdf'\n",
    "pdf = PdfPages(pdfname)\n",
    "\n",
    "x_header = 'Time'# 't [s]'#'raw_T' #\n",
    "y1_header = 'Input A'#'T_sample [K]'#'raw_B' #'TS_diode[K]'#'T_diode [K]'\n",
    "y1_legend = [r'$\\SI{0}{\\milli\\tesla}$', r'$\\SI{0.66}{\\milli\\tesla}$', r'$\\SI{1.17}{\\milli\\tesla}$', r'$\\SI{10.2}{\\milli\\tesla}$', r'$\\SI{100.3}{\\milli\\tesla}$', r'$\\SI{0}{\\tesla}$ r1', r'$\\SI{0}{\\tesla}$ r2', r'$\\SI{0}{\\tesla}$ r3']\n",
    "\n",
    "x_label = r'Time / \\si{\\second}'\n",
    "y_label =  r'Temperature / \\si{\\kelvin}'\n",
    "marker = '-'\n",
    "\n",
    "\n",
    "\n",
    "j=0\n",
    "for i in calib_data2:\n",
    "    if j==70:\n",
    "        plt.plot(i[[x_header]].to_numpy()-x_offset[3], i[[y2_header]].to_numpy(), marker, label = y1_legend[j])\n",
    "    else:   \n",
    "        #plt.plot(i[[x_header]].to_numpy(), i[[y1_header]].to_numpy(), marker, label=y1_legend[j])\n",
    "        color = plt.rcParams['axes.prop_cycle'].by_key()['color'][j]\n",
    "        #plt.plot(i[[x_header]].to_numpy(), i[[y1_header]].to_numpy(), marker, label = y1_legend[j], color=color)\n",
    "        x = i[[x_header]].to_numpy()\n",
    "        y = i[[y1_header]].to_numpy()\n",
    "        x = x[y<=20]\n",
    "        y = y[y<=20]\n",
    "        plt.plot(x, y, marker, color=color, label = j)\n",
    "    j+=1\n",
    "ax.tick_params(direction='in', bottom=True, top=True, left=True, right=True)\n",
    "legend = ax.legend(loc='lower right', handlelength=2.5, labelspacing=0.5, frameon=False, columnspacing=1)\n",
    "legend.get_frame().set_linewidth(0.0)\n",
    "#plt.title(title)\n",
    "plt.xlabel(x_label)\n",
    "plt.ylabel(y_label)\n",
    "#plt.xlim(0, )\n",
    "#plt.ylim(1,20)\n",
    "# plot widget\n",
    "# fig.canvas.layout.width = '7in'\n",
    "# fig.canvas.layout.height= '6in'\n",
    "\n",
    "#plot PDF\n",
    "plt.tight_layout()\n",
    "pdf.savefig(bbox_inches='tight')\n",
    "pdf.close()"
   ]
  },
  {
   "cell_type": "code",
   "execution_count": null,
   "metadata": {},
   "outputs": [],
   "source": []
  }
 ],
 "metadata": {
  "jupytext": {
   "encoding": "# -*- coding: utf-8 -*-",
   "formats": "ipynb,py:hydrogen"
  },
  "kernelspec": {
   "display_name": "jupyterenv",
   "language": "python",
   "name": "jupyterenv"
  },
  "language_info": {
   "codemirror_mode": {
    "name": "ipython",
    "version": 3
   },
   "file_extension": ".py",
   "mimetype": "text/x-python",
   "name": "python",
   "nbconvert_exporter": "python",
   "pygments_lexer": "ipython3",
   "version": "3.7.7"
  }
 },
 "nbformat": 4,
 "nbformat_minor": 4
}

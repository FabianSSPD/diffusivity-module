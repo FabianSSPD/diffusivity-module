{
 "cells": [
  {
   "cell_type": "markdown",
   "metadata": {},
   "source": [
    "# Diffusivity Package"
   ]
  },
  {
   "cell_type": "markdown",
   "metadata": {},
   "source": [
    "In the following code cells, the newly developed diffusivity package will be tested."
   ]
  },
  {
   "cell_type": "code",
   "execution_count": 2,
   "metadata": {},
   "outputs": [],
   "source": [
    "from PyQt5.QtWidgets import QFileDialog\n",
    "import json as js\n",
    "import numpy as np\n",
    "import pandas as pd\n",
    "from pathlib import Path, PureWindowsPath\n",
    "from scipy import io\n",
    "from scipy.ndimage import gaussian_filter\n",
    "from scipy.optimize import curve_fit\n",
    "from scipy.stats import norm\n",
    "from scipy.special import erf\n",
    "from scipy.constants import elementary_charge, Boltzmann\n",
    "from math import pi\n",
    "import matplotlib as mpl\n",
    "from scipy.stats import linregress\n",
    "import matplotlib.pyplot as plt\n",
    "import matplotlib.patches as pat\n",
    "import matplotlib.cm as cm\n",
    "import matplotlib.mlab as mlab\n",
    "from matplotlib import gridspec\n",
    "from matplotlib.backends.backend_pdf import PdfPages\n",
    "\n",
    "import os\n",
    "from bisect import bisect_left, bisect_right\n",
    "import re\n",
    "import itertools\n",
    "\n",
    "\n",
    "from diffusivity import DiffusivityMeasurement"
   ]
  },
  {
   "cell_type": "markdown",
   "metadata": {},
   "source": [
    "### Testing the difusivity package"
   ]
  },
  {
   "cell_type": "markdown",
   "metadata": {},
   "source": [
    "searching a file"
   ]
  },
  {
   "cell_type": "code",
   "execution_count": 3,
   "metadata": {},
   "outputs": [
    {
     "name": "stdout",
     "output_type": "stream",
     "text": [
      "//file/e24/Projects/FinleyLab/_IQPGroup/_SSPDs/Data/Diffusivity/Data_measured/Diffusivity sweeps/200722_S1_CL2_diffusweep_2007272nd_meas.json\n"
     ]
    }
   ],
   "source": [
    "%gui qt5\n",
    "default_path = '\\\\\\\\file\\\\e24\\\\Projects\\\\FinleyLab\\\\_IQPGroup\\\\_SSPDs\\\\Data\\\\Diffusivity\\\\Data_measured\\\\Diffusivity sweeps'\n",
    "filename = PureWindowsPath(default_path)\n",
    "default_path = Path(filename)\n",
    "filename_probe = QFileDialog.getOpenFileName(None, 'Import file', str(default_path),\"JSON/MAT files (*.json *.txt *.mat)\")\n",
    "print(filename_probe[0])\n",
    "file_to_import = filename_probe[0]\n",
    "#filename_to_import = Path('testdata.dat')"
   ]
  },
  {
   "cell_type": "markdown",
   "metadata": {},
   "source": [
    "importing a mat file"
   ]
  },
  {
   "cell_type": "code",
   "execution_count": 2,
   "metadata": {},
   "outputs": [],
   "source": [
    "T2=DiffusivityMeasurement(file_to_import)"
   ]
  },
  {
   "cell_type": "markdown",
   "metadata": {},
   "source": [
    "importing a json file"
   ]
  },
  {
   "cell_type": "code",
   "execution_count": 4,
   "metadata": {},
   "outputs": [],
   "source": [
    "T2=DiffusivityMeasurement(file_to_import)"
   ]
  },
  {
   "cell_type": "markdown",
   "metadata": {},
   "source": [
    "defining the fit function type"
   ]
  },
  {
   "cell_type": "code",
   "execution_count": 5,
   "metadata": {},
   "outputs": [],
   "source": [
    "T2.RTfit.fit_function_type = 'richards'\n",
    "#T2.RTfit.fit_function_type = 'gauss_cdf'"
   ]
  },
  {
   "cell_type": "markdown",
   "metadata": {},
   "source": [
    "Determination of diffusivity and "
   ]
  },
  {
   "cell_type": "code",
   "execution_count": 6,
   "metadata": {},
   "outputs": [
    {
     "name": "stderr",
     "output_type": "stream",
     "text": [
      "C:\\Users\\Noah.Ploch\\Documents_C\\Python-diffusivity-module\\diffusivity-module\\diffusivity.py:495: RuntimeWarning: overflow encountered in float_power\n",
      "  return a + (k-a)/np.float_power((c+q*np.exp(-b*(t-m))),1/nu)\n",
      "C:\\Users\\Noah.Ploch\\Documents_C\\Python-diffusivity-module\\diffusivity-module\\diffusivity.py:495: RuntimeWarning: divide by zero encountered in true_divide\n",
      "  return a + (k-a)/np.float_power((c+q*np.exp(-b*(t-m))),1/nu)\n",
      "C:\\Users\\Noah.Ploch\\Documents_C\\Python-diffusivity-module\\diffusivity-module\\diffusivity.py:495: RuntimeWarning: overflow encountered in true_divide\n",
      "  return a + (k-a)/np.float_power((c+q*np.exp(-b*(t-m))),1/nu)\n"
     ]
    },
    {
     "name": "stdout",
     "output_type": "stream",
     "text": [
      "(0.4891794870010161, -2.242925096223855, 15.333599437013884, 5.131987060641677e-07, 0.02353055039649568, 0.9883605141889723)\n",
      "D:  0.4891794870010161\n",
      "dBc2dT:  -2.242925096223855\n",
      "B_0:  15.333599437013884\n",
      "err_D:  5.131987060641677e-07\n",
      "err_dBc2dT:  0.02353055039649568\n",
      "r_squared:  0.9883605141889723\n",
      "\n",
      "\n",
      "Diffusivity 0.4891794870010161\n",
      "Err diffusivity 5.131987060641677e-07\n",
      "Film Tc:  6.836429563710903\n"
     ]
    }
   ],
   "source": [
    "T2.calc_RT_fits()\n",
    "#print(T2.calc_diffusivity(fit_low_lim=7, fit_upp_lim=8))\n",
    "T2.calc_diffusivity()\n",
    "d_values=T2.get_Dfit_properties()\n",
    "D, dBc2dT, B_0, err_D, err_dBc2dT, r_squared = d_values\n",
    "print(d_values)\n",
    "print('D: ', D)\n",
    "print('dBc2dT: ', dBc2dT)\n",
    "print('B_0: ', B_0)\n",
    "print('err_D: ', err_D)\n",
    "print('err_dBc2dT: ', err_dBc2dT)\n",
    "print('r_squared: ', r_squared)\n",
    "print('\\n')\n",
    "print('Diffusivity', T2.diffusivity)\n",
    "print('Err diffusivity', T2.diffusivity_err)\n",
    "print('Film Tc: ', T2.Tc_0T)\n"
   ]
  },
  {
   "cell_type": "markdown",
   "metadata": {},
   "source": [
    "get Bc2vsT"
   ]
  },
  {
   "cell_type": "code",
   "execution_count": 28,
   "metadata": {},
   "outputs": [
    {
     "data": {
      "text/plain": [
       "[<matplotlib.lines.Line2D at 0x1cf24760248>]"
      ]
     },
     "execution_count": 28,
     "metadata": {},
     "output_type": "execute_result"
    },
    {
     "data": {
      "image/png": "[encoded data removed]",
      "text/plain": [
       "<Figure size 432x288 with 1 Axes>"
      ]
     },
     "metadata": {
      "needs_background": "light"
     },
     "output_type": "display_data"
    }
   ],
   "source": [
    "%matplotlib inline\n",
    "T, Bc2 = T2.Bc2_vs_T()\n",
    "plt.plot(T, Bc2)\n",
    "T_fit, Bc2_fit = T2.get_Bc2vsT_fit()\n",
    "plt.plot(T_fit, Bc2_fit)\n",
    "# print(T2.Bc2_vs_T())\n",
    "# print(T_fit, Bc2_fit)\n",
    "#print(T2.Bc2_vs_T(err=True))"
   ]
  },
  {
   "cell_type": "markdown",
   "metadata": {},
   "source": [
    "get RvsT"
   ]
  },
  {
   "cell_type": "code",
   "execution_count": 31,
   "metadata": {},
   "outputs": [
    {
     "data": {
      "text/plain": [
       "(4, 9)"
      ]
     },
     "execution_count": 31,
     "metadata": {},
     "output_type": "execute_result"
    },
    {
     "data": {
      "image/png": "[encoded data removed]",
      "text/plain": [
       "<Figure size 432x288 with 1 Axes>"
      ]
     },
     "metadata": {
      "needs_background": "light"
     },
     "output_type": "display_data"
    }
   ],
   "source": [
    "%matplotlib inline\n",
    "# using default B\n",
    "T, R = T2.R_vs_T()\n",
    "for key, t, r in zip(T.keys(), T.values(), R.values()):\n",
    "    plt.plot(t,r, label='B= '+ str(key))\n",
    "plt.legend()\n",
    "plt.xlim(4,9)\n",
    "\n",
    "# B as scalar\n",
    "# plt.plot(*T2.R_vs_T(B=0.1))\n",
    "\n",
    "# B as list\n",
    "# B=[1,2,3,4]\n",
    "# T, R = T2.R_vs_T(B)\n",
    "# for key, t, r in zip(T.keys(), T.values(), R.values()):\n",
    "#     plt.plot(t,r, label='B= '+ str(key))\n",
    "# plt.legend()\n",
    "\n",
    "# Returning errors as well\n",
    "# T, R, T_err, R_err = T2.R_vs_T(B=1, err=True)\n",
    "# fig = plt.figure()\n",
    "# ax=fig.add_subplot(111)\n",
    "# ax.errorbar(T, R, yerr=R_err, xerr=T_err)\n",
    "\n",
    "# print(T,R)\n",
    "# print(T,R,T_err, R_err)"
   ]
  },
  {
   "cell_type": "markdown",
   "metadata": {},
   "source": [
    "get R vs B"
   ]
  },
  {
   "cell_type": "code",
   "execution_count": 32,
   "metadata": {},
   "outputs": [
    {
     "data": {
      "text/plain": [
       "[<matplotlib.lines.Line2D at 0x1cf28543d88>]"
      ]
     },
     "execution_count": 32,
     "metadata": {},
     "output_type": "execute_result"
    },
    {
     "data": {
      "image/png": "[encoded data removed]",
      "text/plain": [
       "<Figure size 432x288 with 1 Axes>"
      ]
     },
     "metadata": {
      "needs_background": "light"
     },
     "output_type": "display_data"
    }
   ],
   "source": [
    "# print(T2.R_vs_B(9))\n",
    "#print(T2.R_vs_B(9, err=True))\n",
    "plt.plot(*T2.R_vs_B(10))"
   ]
  },
  {
   "cell_type": "markdown",
   "metadata": {},
   "source": [
    "get Parameters"
   ]
  },
  {
   "cell_type": "code",
   "execution_count": 33,
   "metadata": {},
   "outputs": [
    {
     "name": "stdout",
     "output_type": "stream",
     "text": [
      "{'b': 5.0, 'm': 75.62642369020502, 'nu': 1.0, 'k': 151.25284738041003}\n"
     ]
    },
    {
     "name": "stderr",
     "output_type": "stream",
     "text": [
      "C:\\Users\\Noah.Ploch\\Anaconda3\\lib\\site-packages\\scipy\\optimize\\minpack.py:789: RuntimeWarning: overflow encountered in true_divide\n",
      "  pcov = np.dot(VT.T / s**2, VT)\n"
     ]
    }
   ],
   "source": [
    "# take into account that you get back all the fitted b fields, not only the ones you asked for, since the function only adds parameters to the \n",
    "#print(T2.fit_function_parameters())\n",
    "#print(T2.parameters_RTfit)\n",
    "T2.RTfit.set_fit_parameters(b=5)\n",
    "print(T2.fit_function_parameters(B=0.1))\n",
    "#print(T2.fit_function_parameters(B='all'))\n",
    "\n",
    "# T2.parameters_RTfit={}\n",
    "# # shows dict_param is updated continuously\n",
    "# T2.fit_function_parameters(B=[1,2,3,4])\n",
    "# print(T2.parameters_RTfit)\n",
    "# T2.fit_function_parameters(B=[2.5,3.5])\n",
    "# print(T2.parameters_RTfit)\n",
    "# print(T2.fit_function_parameters(B=2.3))\n",
    "# print(T2.parameters_RTfit)\n",
    "\n",
    "# T2.parameters_RTfit={}\n",
    "# print(T2.fit_function_parameters(B=[2.3,2.7]))\n",
    "# print(T2.parameters_RTfit)"
   ]
  },
  {
   "cell_type": "markdown",
   "metadata": {},
   "source": [
    "show changing fit area for RvsT fits works"
   ]
  },
  {
   "cell_type": "code",
   "execution_count": 34,
   "metadata": {},
   "outputs": [
    {
     "name": "stdout",
     "output_type": "stream",
     "text": [
      "{0.5: {'b': 5.0, 'm': 75.62642369020502, 'nu': 1.0, 'k': 151.25284738041003}}\n"
     ]
    },
    {
     "ename": "AttributeError",
     "evalue": "'DiffusivityMeasurement' object has no attribute 'set_RT_fit_limits'",
     "output_type": "error",
     "traceback": [
      "\u001b[1;31m---------------------------------------------------------------------------\u001b[0m",
      "\u001b[1;31mAttributeError\u001b[0m                            Traceback (most recent call last)",
      "\u001b[1;32m<ipython-input-34-f1c5e7159ecb>\u001b[0m in \u001b[0;36m<module>\u001b[1;34m\u001b[0m\n\u001b[0;32m      3\u001b[0m \u001b[0mT2\u001b[0m\u001b[1;33m.\u001b[0m\u001b[0mfit_function_parameters\u001b[0m\u001b[1;33m(\u001b[0m\u001b[0mB\u001b[0m\u001b[1;33m)\u001b[0m\u001b[1;33m\u001b[0m\u001b[1;33m\u001b[0m\u001b[0m\n\u001b[0;32m      4\u001b[0m \u001b[0mprint\u001b[0m\u001b[1;33m(\u001b[0m\u001b[0mT2\u001b[0m\u001b[1;33m.\u001b[0m\u001b[0mparameters_RTfit\u001b[0m\u001b[1;33m)\u001b[0m\u001b[1;33m\u001b[0m\u001b[1;33m\u001b[0m\u001b[0m\n\u001b[1;32m----> 5\u001b[1;33m \u001b[0mT2\u001b[0m\u001b[1;33m.\u001b[0m\u001b[0mset_RT_fit_limits\u001b[0m\u001b[1;33m(\u001b[0m\u001b[1;36m6\u001b[0m\u001b[1;33m,\u001b[0m\u001b[1;36m9\u001b[0m\u001b[1;33m)\u001b[0m\u001b[1;33m\u001b[0m\u001b[1;33m\u001b[0m\u001b[0m\n\u001b[0m\u001b[0;32m      6\u001b[0m \u001b[0mT2\u001b[0m\u001b[1;33m.\u001b[0m\u001b[0mfit_function_parameters\u001b[0m\u001b[1;33m(\u001b[0m\u001b[0mB\u001b[0m\u001b[1;33m)\u001b[0m\u001b[1;33m\u001b[0m\u001b[1;33m\u001b[0m\u001b[0m\n\u001b[0;32m      7\u001b[0m \u001b[0mprint\u001b[0m\u001b[1;33m(\u001b[0m\u001b[0mT2\u001b[0m\u001b[1;33m.\u001b[0m\u001b[0mparameters_RTfit\u001b[0m\u001b[1;33m)\u001b[0m\u001b[1;33m\u001b[0m\u001b[1;33m\u001b[0m\u001b[0m\n",
      "\u001b[1;31mAttributeError\u001b[0m: 'DiffusivityMeasurement' object has no attribute 'set_RT_fit_limits'"
     ]
    }
   ],
   "source": [
    "T2.parameters_RTfit={}\n",
    "B=0.5\n",
    "T2.fit_function_parameters(B)\n",
    "print(T2.parameters_RTfit)\n",
    "T2.set_RT_fit_limits(6,9)\n",
    "T2.fit_function_parameters(B)\n",
    "print(T2.parameters_RTfit)\n",
    "T2.fit_function_parameters(B)\n",
    "print(T2.parameters_RTfit)\n",
    "T2.set_RT_fit_limits(7,8)\n",
    "T2.fit_function_parameters(B)\n",
    "print(T2.parameters_RTfit)\n",
    "\n",
    "# check why always the same values"
   ]
  },
  {
   "cell_type": "markdown",
   "metadata": {},
   "source": [
    "get Tc"
   ]
  },
  {
   "cell_type": "code",
   "execution_count": 40,
   "metadata": {},
   "outputs": [
    {
     "name": "stdout",
     "output_type": "stream",
     "text": [
      "[6.80164454 6.8672006  6.82260844 6.76427284 6.68831944 6.66612887]\n",
      "6.616170213687243\n",
      "(array([6.80164454, 6.8672006 , 6.82260844, 6.76427284, 6.68831944,\n",
      "       6.66612887]), array([0.50120829, 0.56676435, 0.52217219, 0.46383659, 0.38788319,\n",
      "       0.36569262]), array([1.10512296, 1.0395669 , 1.08415906, 1.14249466, 1.21844806,\n",
      "       1.24063863]))\n",
      "(6.666128873742632, 0.365692623742632, 1.2406386262573674)\n"
     ]
    }
   ],
   "source": [
    "print(T2.get_Tc())\n",
    "print(T2.get_Tc(B=1.1))\n",
    "print(T2.get_Tc(err=True))\n",
    "print(T2.get_Tc(B=1, err=True))"
   ]
  },
  {
   "cell_type": "markdown",
   "metadata": {},
   "source": [
    "fitting R vs T sweeps"
   ]
  },
  {
   "cell_type": "code",
   "execution_count": 41,
   "metadata": {},
   "outputs": [
    {
     "data": {
      "text/plain": [
       "[<matplotlib.lines.Line2D at 0x1cf2464c788>,\n",
       " <matplotlib.lines.Line2D at 0x1cf245d55c8>]"
      ]
     },
     "execution_count": 41,
     "metadata": {},
     "output_type": "execute_result"
    },
    {
     "data": {
      "image/png": "[encoded data removed]",
      "text/plain": [
       "<Figure size 432x288 with 1 Axes>"
      ]
     },
     "metadata": {
      "needs_background": "light"
     },
     "output_type": "display_data"
    }
   ],
   "source": [
    "%matplotlib inline\n",
    "# B=1\n",
    "# T, R = T2.R_vs_T()\n",
    "# T_fit, R_fit = T2.fit_function()\n",
    "# for t,r,tf,rf in zip(T.values(), R.values(), T_fit.values(), R_fit.values()):\n",
    "#     plt.plot(t,r,'x')\n",
    "#     plt.plot(tf, rf)\n",
    "# plt.xlim(7,9.5)\n",
    "#print(T_fit, R_fit)\n",
    "\n",
    "plt.plot(*T2.R_vs_T(B=0), *T2.fit_function(B=0))"
   ]
  },
  {
   "cell_type": "markdown",
   "metadata": {},
   "source": [
    "Testing the fit area limits"
   ]
  },
  {
   "cell_type": "code",
   "execution_count": 46,
   "metadata": {},
   "outputs": [
    {
     "name": "stdout",
     "output_type": "stream",
     "text": [
      "(0.6318081011472605, -1.7365920854135404, 15.083871310545124, 1.915667468574908e-07, 0.0052654167589345135, 0.9962631634356204)\n",
      "(0.6320200970877418, -1.7360095873662855, 15.079990965457917, 1.9288851784274937e-07, 0.005298190956440401, 0.9962141461627022)\n",
      "(0.6318345880475809, -1.7365192863893437, 15.083386819689945, 1.9168775251304882e-07, 0.005268300999983711, 0.9962587712848283)\n",
      "(0.631844704118941, -1.736491484062435, 15.083194344798237, 1.9168108943635406e-07, 0.005267949185807867, 0.9962591497375546)\n",
      "(0.6317062196730558, -1.7368721626966888, 15.085693877548053, 1.9064103045450673e-07, 0.005241662794385933, 0.9962978687446974)\n",
      "(0.655323985335244, -1.674275583536286, 14.666428922197973, 6.319566814891942e-08, 0.001614574874943268, 0.9998465807687579)\n"
     ]
    }
   ],
   "source": [
    "T2.fit_function_parameters(B='all')\n",
    "T2.calc_diffusivity()\n",
    "d_values=T2.get_Dfit_properties()\n",
    "print(d_values)\n",
    "\n",
    "T2.fit_function_parameters(B='all')\n",
    "T2.calc_diffusivity()\n",
    "d_values=T2.get_Dfit_properties()\n",
    "print(d_values)\n",
    "\n",
    "# reducing fit area RvsT\n",
    "T2.set_RT_fit_limits(6,9)\n",
    "T2.fit_function_parameters(B='all')\n",
    "T2.calc_diffusivity()\n",
    "d_values=T2.get_Dfit_properties()\n",
    "print(d_values)\n",
    "\n",
    "T2.set_RT_fit_limits(0,np.inf)\n",
    "T2.fit_function_parameters(B='all')\n",
    "T2.calc_diffusivity()\n",
    "d_values=T2.get_Dfit_properties()\n",
    "print(d_values)\n",
    "\n",
    "T2.set_RT_fit_limits(0,np.inf)\n",
    "T2.fit_function_parameters(B='all')\n",
    "T2.calc_diffusivity()\n",
    "d_values=T2.get_Dfit_properties()\n",
    "print(d_values)\n",
    "\n",
    "#changing fit area Bc2vsT\n",
    "T2.calc_diffusivity(fit_low_lim=7, fit_upp_lim=8)\n",
    "d_values=T2.get_Dfit_properties()\n",
    "print(d_values)"
   ]
  }
 ],
 "metadata": {
  "kernelspec": {
   "display_name": "Python 3",
   "language": "python",
   "name": "python3"
  },
  "language_info": {
   "codemirror_mode": {
    "name": "ipython",
    "version": 3
   },
   "file_extension": ".py",
   "mimetype": "text/x-python",
   "name": "python",
   "nbconvert_exporter": "python",
   "pygments_lexer": "ipython3",
   "version": "3.7.6"
  }
 },
 "nbformat": 4,
 "nbformat_minor": 4
}
